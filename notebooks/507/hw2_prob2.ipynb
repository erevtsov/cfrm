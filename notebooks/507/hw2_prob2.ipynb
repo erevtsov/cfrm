{
 "cells": [
  {
   "cell_type": "markdown",
   "id": "4f3050d0-a430-4482-ad21-d3b7d24b5cef",
   "metadata": {},
   "source": [
    "### Problem 2"
   ]
  },
  {
   "cell_type": "markdown",
   "id": "ed8a9839-36fb-4857-9b78-23a3ec5a94c0",
   "metadata": {},
   "source": [
    "#### Imports"
   ]
  },
  {
   "cell_type": "code",
   "execution_count": 1,
   "id": "450b1779-ecd6-43b9-a4d9-7df081677da1",
   "metadata": {},
   "outputs": [],
   "source": [
    "import numpy as np\n",
    "import cvxpy as cp\n",
    "import pandas as pd"
   ]
  },
  {
   "cell_type": "markdown",
   "id": "cc522576-6cb0-4d80-8401-658611ca980d",
   "metadata": {},
   "source": [
    "#### Inputs"
   ]
  },
  {
   "cell_type": "code",
   "execution_count": 2,
   "id": "6af7b8cf-bd09-4612-8420-9026782896b0",
   "metadata": {},
   "outputs": [],
   "source": [
    "# number of polynomials\n",
    "max_j = 4\n",
    "\n",
    "# initialize arrays for x and j values\n",
    "x = np.array([-10,-8,-6,-4,-2, 0, 1, 3, 5, 7, 9])\n",
    "j = np.array(range(max_j+1))"
   ]
  },
  {
   "cell_type": "markdown",
   "id": "8a38cbc3-5754-4395-bbb7-aca4f2cd4613",
   "metadata": {},
   "source": [
    "#### Calculate the known params"
   ]
  },
  {
   "cell_type": "code",
   "execution_count": 3,
   "id": "6acf5eee-cf24-440b-be7b-e96423163229",
   "metadata": {},
   "outputs": [],
   "source": [
    "# functions to calculate f(x) and g(x)\n",
    "def f_x(x):\n",
    "    # numpy sin() function is expecting radians\n",
    "    return np.exp(x/10) + np.sin(x)\n",
    "\n",
    "def g_j_x(j, x):\n",
    "    return x**j\n",
    "\n",
    "f_vals = np.zeros(x.shape[0])\n",
    "g_vals = np.zeros((x.shape[0], j.shape[0]))\n",
    "\n",
    "# calculate the exlicit values at given x\n",
    "for ix, x_val in enumerate(x, 0):\n",
    "    f_vals[ix] = f_x(x_val)\n",
    "    for j_val in j:\n",
    "        g_vals[ix, j_val] = g_j_x(j_val, x_val)"
   ]
  },
  {
   "cell_type": "markdown",
   "id": "d129753d-caf0-4ab0-949e-0288132e94c5",
   "metadata": {},
   "source": [
    "#### Build Problem and Solve"
   ]
  },
  {
   "cell_type": "code",
   "execution_count": 4,
   "id": "50bbaa3c-a4aa-402d-bf0a-60845df0f759",
   "metadata": {},
   "outputs": [
    {
     "data": {
      "text/plain": [
       "0.8574224634560808"
      ]
     },
     "execution_count": 4,
     "metadata": {},
     "output_type": "execute_result"
    }
   ],
   "source": [
    "# \n",
    "t = cp.Variable(g_vals.shape[1])\n",
    "# calculate the approximation\n",
    "approx = t @ g_vals.T - f_vals\n",
    "# initialize new variable to be used in constraints and objective\n",
    "z = cp.Variable(1)\n",
    "\n",
    "# create constraints for the prime variable\n",
    "constraints = [\n",
    "    approx <= z,\n",
    "    -approx <= z,\n",
    "]\n",
    "\n",
    "# build problem\n",
    "prob = cp.Problem(\n",
    "    objective=cp.Minimize(z),\n",
    "    constraints=constraints,\n",
    ")\n",
    "\n",
    "# solve\n",
    "prob.solve()"
   ]
  },
  {
   "cell_type": "code",
   "execution_count": 5,
   "id": "3ad8d349-53df-46c7-a16b-384b0571cd13",
   "metadata": {},
   "outputs": [
    {
     "data": {
      "text/plain": [
       "np.float64(0.8574224649997236)"
      ]
     },
     "execution_count": 5,
     "metadata": {},
     "output_type": "execute_result"
    }
   ],
   "source": [
    "np.max(np.abs(approx.value))"
   ]
  },
  {
   "cell_type": "markdown",
   "id": "08721382-1fbc-4faa-9fb5-badaee9c69f5",
   "metadata": {},
   "source": [
    "### Print values of t"
   ]
  },
  {
   "cell_type": "code",
   "execution_count": 6,
   "id": "f652df04-ba23-4983-bc3f-17d92468f170",
   "metadata": {},
   "outputs": [
    {
     "data": {
      "text/plain": [
       "0    0.9801\n",
       "1    0.1085\n",
       "2    0.0007\n",
       "3   -0.0001\n",
       "4    0.0000\n",
       "dtype: float64"
      ]
     },
     "execution_count": 6,
     "metadata": {},
     "output_type": "execute_result"
    }
   ],
   "source": [
    "pd.Series(t.value).round(4)"
   ]
  },
  {
   "cell_type": "code",
   "execution_count": null,
   "id": "7a957202-661f-4589-a381-2d75e2d7b516",
   "metadata": {},
   "outputs": [],
   "source": []
  },
  {
   "cell_type": "code",
   "execution_count": null,
   "id": "586450c4-5ab0-47ca-9ae1-9967037f8293",
   "metadata": {},
   "outputs": [],
   "source": []
  }
 ],
 "metadata": {
  "kernelspec": {
   "display_name": "Python 3 (ipykernel)",
   "language": "python",
   "name": "python3"
  },
  "language_info": {
   "codemirror_mode": {
    "name": "ipython",
    "version": 3
   },
   "file_extension": ".py",
   "mimetype": "text/x-python",
   "name": "python",
   "nbconvert_exporter": "python",
   "pygments_lexer": "ipython3",
   "version": "3.12.3"
  }
 },
 "nbformat": 4,
 "nbformat_minor": 5
}
