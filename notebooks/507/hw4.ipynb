{
 "cells": [
  {
   "cell_type": "code",
   "execution_count": 1,
   "id": "a1a0f163-78b5-4ba5-b100-9ea4ccb396a2",
   "metadata": {},
   "outputs": [],
   "source": [
    "import numpy as np\n",
    "import pandas as pd\n",
    "import cvxpy as cp"
   ]
  },
  {
   "cell_type": "markdown",
   "id": "5c659e1a-2f4a-430a-9044-9bb78b39a59a",
   "metadata": {},
   "source": [
    "### Problem 1"
   ]
  },
  {
   "cell_type": "code",
   "execution_count": 2,
   "id": "9d86669b-12f8-4515-afd7-6e3d7a9a5d03",
   "metadata": {},
   "outputs": [],
   "source": [
    "file_name = '2024_HW4.1Data.xlsx'\n",
    "\n",
    "rts_fund = pd.read_excel(file_name, 'Funds').set_index('Index')\n",
    "rts_bm = pd.read_excel(file_name, 'Benchmarks').set_index('Index')"
   ]
  },
  {
   "cell_type": "code",
   "execution_count": 3,
   "id": "f1b8de95-0a49-41ae-babb-ffa216c6bfca",
   "metadata": {},
   "outputs": [
    {
     "data": {
      "text/html": [
       "<div>\n",
       "<style scoped>\n",
       "    .dataframe tbody tr th:only-of-type {\n",
       "        vertical-align: middle;\n",
       "    }\n",
       "\n",
       "    .dataframe tbody tr th {\n",
       "        vertical-align: top;\n",
       "    }\n",
       "\n",
       "    .dataframe thead th {\n",
       "        text-align: right;\n",
       "    }\n",
       "</style>\n",
       "<table border=\"1\" class=\"dataframe\">\n",
       "  <thead>\n",
       "    <tr style=\"text-align: right;\">\n",
       "      <th></th>\n",
       "      <th>Fund A</th>\n",
       "      <th>Fund B</th>\n",
       "      <th>Fund C</th>\n",
       "      <th>Fund D</th>\n",
       "    </tr>\n",
       "  </thead>\n",
       "  <tbody>\n",
       "    <tr>\n",
       "      <th>XLB</th>\n",
       "      <td>-0.0</td>\n",
       "      <td>0.137008</td>\n",
       "      <td>0.0</td>\n",
       "      <td>0.0</td>\n",
       "    </tr>\n",
       "    <tr>\n",
       "      <th>XLY</th>\n",
       "      <td>-0.0</td>\n",
       "      <td>0.130248</td>\n",
       "      <td>0.3597</td>\n",
       "      <td>0.056174</td>\n",
       "    </tr>\n",
       "    <tr>\n",
       "      <th>XLP</th>\n",
       "      <td>-0.0</td>\n",
       "      <td>-0.0</td>\n",
       "      <td>0.0</td>\n",
       "      <td>0.05733</td>\n",
       "    </tr>\n",
       "    <tr>\n",
       "      <th>XLE</th>\n",
       "      <td>1.0</td>\n",
       "      <td>0.199424</td>\n",
       "      <td>0.0</td>\n",
       "      <td>0.112449</td>\n",
       "    </tr>\n",
       "    <tr>\n",
       "      <th>XLF</th>\n",
       "      <td>-0.0</td>\n",
       "      <td>0.367483</td>\n",
       "      <td>0.0</td>\n",
       "      <td>0.621596</td>\n",
       "    </tr>\n",
       "    <tr>\n",
       "      <th>XLV</th>\n",
       "      <td>-0.0</td>\n",
       "      <td>-0.0</td>\n",
       "      <td>0.0</td>\n",
       "      <td>-0.0</td>\n",
       "    </tr>\n",
       "    <tr>\n",
       "      <th>XLI</th>\n",
       "      <td>-0.0</td>\n",
       "      <td>0.165838</td>\n",
       "      <td>-0.0</td>\n",
       "      <td>0.037589</td>\n",
       "    </tr>\n",
       "    <tr>\n",
       "      <th>XLK</th>\n",
       "      <td>-0.0</td>\n",
       "      <td>0.0</td>\n",
       "      <td>0.6403</td>\n",
       "      <td>-0.0</td>\n",
       "    </tr>\n",
       "    <tr>\n",
       "      <th>XLU</th>\n",
       "      <td>-0.0</td>\n",
       "      <td>-0.0</td>\n",
       "      <td>-0.0</td>\n",
       "      <td>0.114862</td>\n",
       "    </tr>\n",
       "    <tr>\n",
       "      <th>Alpha</th>\n",
       "      <td>-0.00089616</td>\n",
       "      <td>-8.501e-05</td>\n",
       "      <td>0.00018476</td>\n",
       "      <td>-0.000557</td>\n",
       "    </tr>\n",
       "  </tbody>\n",
       "</table>\n",
       "</div>"
      ],
      "text/plain": [
       "            Fund A      Fund B      Fund C     Fund D\n",
       "XLB           -0.0    0.137008         0.0        0.0\n",
       "XLY           -0.0    0.130248      0.3597   0.056174\n",
       "XLP           -0.0        -0.0         0.0    0.05733\n",
       "XLE            1.0    0.199424         0.0   0.112449\n",
       "XLF           -0.0    0.367483         0.0   0.621596\n",
       "XLV           -0.0        -0.0         0.0       -0.0\n",
       "XLI           -0.0    0.165838        -0.0   0.037589\n",
       "XLK           -0.0         0.0      0.6403       -0.0\n",
       "XLU           -0.0        -0.0        -0.0   0.114862\n",
       "Alpha  -0.00089616  -8.501e-05  0.00018476  -0.000557"
      ]
     },
     "execution_count": 3,
     "metadata": {},
     "output_type": "execute_result"
    }
   ],
   "source": [
    "res = pd.DataFrame(index=rts_bm.columns, columns=rts_fund.columns)\n",
    "res.loc['Alpha', :] = np.NaN\n",
    "\n",
    "for fund in rts_fund.columns:\n",
    "    alpha = cp.Variable(shape=(1,), name='alpha')\n",
    "    beta = cp.Variable(shape=rts_bm.shape[1], name='beta')\n",
    "    epsilon = cp.Variable(shape=rts_bm.shape[0], name='epsilon')\n",
    "    \n",
    "    constraints = list()\n",
    "    constraints.append(\n",
    "        rts_bm.values @ beta + alpha + epsilon == rts_fund[fund].values\n",
    "    )\n",
    "    constraints.append(\n",
    "        cp.sum(beta) == 1\n",
    "    )\n",
    "    constraints.append(\n",
    "        beta >= 0\n",
    "    )\n",
    "    \n",
    "    obj = cp.Minimize(cp.sum(epsilon**2))\n",
    "    prob = cp.Problem(objective=obj, constraints=constraints)\n",
    "    prob.solve()\n",
    "    \n",
    "    res.loc[rts_bm.columns, fund] = np.round(beta.value, 8)\n",
    "    res.loc['Alpha', fund] = np.round(alpha.value, 8)\n",
    "res"
   ]
  },
  {
   "cell_type": "markdown",
   "id": "900d4ff5-d8a7-404f-ae97-9e0074463a79",
   "metadata": {},
   "source": [
    "### Problem 2"
   ]
  },
  {
   "cell_type": "code",
   "execution_count": 4,
   "id": "09d207f1-04df-4d50-b10e-df9661d9cb53",
   "metadata": {},
   "outputs": [
    {
     "name": "stdout",
     "output_type": "stream",
     "text": [
      "Chairs: [290.91], Tables: [63.64]\n"
     ]
    }
   ],
   "source": [
    "c = cp.Variable(shape=(1,), name='chairs', nonneg=True)\n",
    "t = cp.Variable(shape=(1,), name='tables', nonneg=True)\n",
    "constraints = list()\n",
    "constraints.append(\n",
    "    5*c + 40*t <= 4000\n",
    ")\n",
    "constraints.append(\n",
    "    4*c + 10*t <= 1800\n",
    ")\n",
    "constraints.append(\n",
    "    c - 17 >= 4*(t-10)\n",
    ")\n",
    "\n",
    "obj = cp.Maximize(2*cp.log(c) + 148*c + 20*cp.log(t) + 900*t)\n",
    "prob = cp.Problem(objective=obj, constraints=constraints)\n",
    "prob.solve(solver=cp.CLARABEL)\n",
    "print(f'Chairs: {np.round(c.value, 2)}, Tables: {np.round(t.value, 2)}')"
   ]
  }
 ],
 "metadata": {
  "kernelspec": {
   "display_name": "Python 3 (ipykernel)",
   "language": "python",
   "name": "python3"
  },
  "language_info": {
   "codemirror_mode": {
    "name": "ipython",
    "version": 3
   },
   "file_extension": ".py",
   "mimetype": "text/x-python",
   "name": "python",
   "nbconvert_exporter": "python",
   "pygments_lexer": "ipython3",
   "version": "3.12.4"
  }
 },
 "nbformat": 4,
 "nbformat_minor": 5
}
