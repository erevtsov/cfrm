{
 "cells": [
  {
   "cell_type": "code",
   "execution_count": 1,
   "id": "3070c948-bab1-4c37-852c-752511a51995",
   "metadata": {},
   "outputs": [
    {
     "ename": "ERROR",
     "evalue": "Error in library(glpk): there is no package called 'glpk'\n",
     "output_type": "error",
     "traceback": [
      "Error in library(glpk): there is no package called 'glpk'\nTraceback:\n",
      "1. stop(packageNotFoundError(package, lib.loc, sys.call()))"
     ]
    }
   ],
   "source": [
    "library(glpk)"
   ]
  },
  {
   "cell_type": "code",
   "execution_count": null,
   "id": "e14aaf47-d17e-431c-a957-93685cf88787",
   "metadata": {},
   "outputs": [],
   "source": [
    "# load package\n",
    "library(glpkAPI)\n",
    "# preparing the model\n",
    "lp <- initProbGLPK()\n",
    "# model data\n",
    "nrows <- 5\n",
    "ncols <- 8\n",
    "# constraint matrix\n",
    "ne <- 14\n",
    "ia <- c(1, 5, 1, 2, 2, 3, 1, 4, 1, 5, 3, 4, 1, 5)\n",
    "ja <- c(1, 1, 2, 2, 3, 3, 4, 4, 5, 5, 6, 7, 8, 8)\n",
    "ar <- c(3.0, 5.6, 1.0, 2.0, 1.1, 1.0, -2.0, 2.8,\n",
    "-1.0, 1.0, 1.0, -1.2, -1.0, 1.9)\n",
    "# objective function\n",
    "obj <- c(1, 0, 0, 0, 2, 0, 0, -1)"
   ]
  },
  {
   "cell_type": "code",
   "execution_count": null,
   "id": "46f96f47-58db-4fa2-ba00-5177e1b6ffb4",
   "metadata": {},
   "outputs": [],
   "source": [
    "install.packages('glpkAPI')"
   ]
  },
  {
   "cell_type": "code",
   "execution_count": null,
   "id": "fd03ce04-fe1a-4837-b961-dc08f48ce100",
   "metadata": {},
   "outputs": [],
   "source": [
    "options(repos=\"https://CRAN.R-project.org\")"
   ]
  },
  {
   "cell_type": "code",
   "execution_count": null,
   "id": "068f5d75-5021-4209-8a6a-cf5951990fcb",
   "metadata": {},
   "outputs": [],
   "source": [
    "install.packages(\"devtools\", repos=\"https://cran.rstudio.com/\")"
   ]
  },
  {
   "cell_type": "code",
   "execution_count": null,
   "id": "497ec9fc-4c65-4028-9eb6-1e632fb1ebb4",
   "metadata": {},
   "outputs": [],
   "source": []
  }
 ],
 "metadata": {
  "kernelspec": {
   "display_name": "R",
   "language": "R",
   "name": "ir"
  },
  "language_info": {
   "codemirror_mode": "r",
   "file_extension": ".r",
   "mimetype": "text/x-r-source",
   "name": "R",
   "pygments_lexer": "r",
   "version": "3.6.1"
  }
 },
 "nbformat": 4,
 "nbformat_minor": 5
}
