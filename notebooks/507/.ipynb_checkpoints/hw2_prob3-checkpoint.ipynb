{
 "cells": [
  {
   "cell_type": "markdown",
   "id": "3b225eb0-843d-429f-8d57-36c436bef1b4",
   "metadata": {},
   "source": [
    "### Problem 3"
   ]
  },
  {
   "cell_type": "markdown",
   "id": "59744127-04eb-48c4-8c9b-464d5d0a399f",
   "metadata": {},
   "source": [
    "#### Imports"
   ]
  },
  {
   "cell_type": "code",
   "execution_count": 1,
   "id": "24372a37-0924-4406-b57a-32f077df3d8f",
   "metadata": {},
   "outputs": [],
   "source": [
    "import numpy as np\n",
    "import cvxpy as cp\n",
    "import pandas as pd"
   ]
  },
  {
   "cell_type": "markdown",
   "id": "c297cd22-f315-46bc-ad11-5944e71fcffa",
   "metadata": {},
   "source": [
    "#### Construct and Solve Kamala's Problem"
   ]
  },
  {
   "cell_type": "code",
   "execution_count": 2,
   "id": "0875ef09-1c28-4470-b96b-78d5703d26ac",
   "metadata": {},
   "outputs": [],
   "source": [
    "x = cp.Variable(3, nonneg=True)\n",
    "v = cp.Variable(1)\n",
    "ones = cp.Constant([1, 1, 1])\n",
    "payoffs = np.array([\n",
    "    [2, -5, 5],\n",
    "    [3, -15, 10],\n",
    "    [-8, 5, -6],\n",
    "])\n",
    "\n",
    "constraints = [\n",
    "    (payoffs @ x) >= v,\n",
    "    x @ ones == 1,\n",
    "]\n",
    "\n",
    "prob = cp.Problem(\n",
    "    objective=cp.Maximize(v),\n",
    "    constraints=constraints,\n",
    ")"
   ]
  },
  {
   "cell_type": "markdown",
   "id": "395b5cf4-4a00-4b0c-89c1-edf44ebb394e",
   "metadata": {},
   "source": [
    "##### Expected change in votes (from Kamala's view)"
   ]
  },
  {
   "cell_type": "code",
   "execution_count": 3,
   "id": "a3fdc880-26f5-4d52-a673-1c66be7cb755",
   "metadata": {},
   "outputs": [
    {
     "data": {
      "text/plain": [
       "-1.111111108197962"
      ]
     },
     "execution_count": 3,
     "metadata": {},
     "output_type": "execute_result"
    }
   ],
   "source": [
    "prob.solve()"
   ]
  },
  {
   "cell_type": "markdown",
   "id": "a4a13708-3221-480e-ad76-bca452928c32",
   "metadata": {},
   "source": [
    "##### Strategy for Kamala"
   ]
  },
  {
   "cell_type": "code",
   "execution_count": 4,
   "id": "075704ff-a014-4715-a2b6-ecc697b10cb5",
   "metadata": {},
   "outputs": [
    {
     "data": {
      "text/plain": [
       "0    0.0000\n",
       "1    0.4444\n",
       "2    0.5556\n",
       "dtype: float64"
      ]
     },
     "execution_count": 4,
     "metadata": {},
     "output_type": "execute_result"
    }
   ],
   "source": [
    "pd.Series(x.value).round(4)"
   ]
  },
  {
   "cell_type": "markdown",
   "id": "973fee7e-9e2c-487a-9702-127685d7022c",
   "metadata": {},
   "source": [
    "#### Construct and solve Donald's Problem"
   ]
  },
  {
   "cell_type": "code",
   "execution_count": 5,
   "id": "8f613fe4-90b8-4c1c-aa44-0a0e569b2ec5",
   "metadata": {},
   "outputs": [],
   "source": [
    "y = cp.Variable(3, nonneg=True)\n",
    "w = cp.Variable(1)\n",
    "ones = cp.Constant([1, 1, 1])\n",
    "# payoffs are the same\n",
    "payoffs = np.array([\n",
    "    [2, -5, 5],\n",
    "    [3, -15, 10],\n",
    "    [-8, 5, -6],\n",
    "])\n",
    "\n",
    "\n",
    "constraints = [\n",
    "     (y @ payoffs) <= w,\n",
    "    y @ ones == 1,\n",
    "]\n",
    "\n",
    "prob = cp.Problem(\n",
    "    objective=cp.Minimize(w),\n",
    "    constraints=constraints,\n",
    ")"
   ]
  },
  {
   "cell_type": "markdown",
   "id": "f6e991a7-91f0-4414-b14a-5a117d3f2a1b",
   "metadata": {},
   "source": [
    "##### Expected change in votes (from Kamala's view)"
   ]
  },
  {
   "cell_type": "code",
   "execution_count": 6,
   "id": "17036183-3b10-43d5-9f39-80345890aedd",
   "metadata": {},
   "outputs": [
    {
     "data": {
      "text/plain": [
       "-1.1111111122602404"
      ]
     },
     "execution_count": 6,
     "metadata": {},
     "output_type": "execute_result"
    }
   ],
   "source": [
    "prob.solve()"
   ]
  },
  {
   "cell_type": "markdown",
   "id": "98cffe93-1c36-4b7c-84e2-abb695e485a3",
   "metadata": {},
   "source": [
    "##### Strategy for Donald"
   ]
  },
  {
   "cell_type": "code",
   "execution_count": 7,
   "id": "76575a20-c0af-4e68-b2af-a881146de91f",
   "metadata": {},
   "outputs": [
    {
     "data": {
      "text/plain": [
       "0    0.0000\n",
       "1    0.3056\n",
       "2    0.6944\n",
       "dtype: float64"
      ]
     },
     "execution_count": 7,
     "metadata": {},
     "output_type": "execute_result"
    }
   ],
   "source": [
    "pd.Series(y.value).round(4)"
   ]
  },
  {
   "cell_type": "code",
   "execution_count": null,
   "id": "ea22bcde-d479-406c-ab7e-b1782227f284",
   "metadata": {},
   "outputs": [],
   "source": []
  }
 ],
 "metadata": {
  "kernelspec": {
   "display_name": "Python 3 (ipykernel)",
   "language": "python",
   "name": "python3"
  },
  "language_info": {
   "codemirror_mode": {
    "name": "ipython",
    "version": 3
   },
   "file_extension": ".py",
   "mimetype": "text/x-python",
   "name": "python",
   "nbconvert_exporter": "python",
   "pygments_lexer": "ipython3",
   "version": "3.12.3"
  }
 },
 "nbformat": 4,
 "nbformat_minor": 5
}
