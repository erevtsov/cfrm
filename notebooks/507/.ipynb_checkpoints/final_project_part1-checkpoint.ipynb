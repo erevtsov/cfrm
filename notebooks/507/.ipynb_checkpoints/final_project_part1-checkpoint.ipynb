{
 "cells": [
  {
   "cell_type": "markdown",
   "id": "73330642-2f84-4cdd-9fb0-504724b231ac",
   "metadata": {},
   "source": [
    "### Problem Formulation\n",
    "This is a dynamic programming problem. The target of this problem is to maximize the client's utility for their retirement day. It can be broken up into smaller problems.\n",
    "\n",
    "**Notation:**\n",
    "- $t$ = time periods (years), where $t=0$ is present time and $t=T$ is day of retirement\n",
    "- $W_t$ = wealth at time $t$\n",
    "- $R_{f, t+1}$ = gross return of funds over  period $[t, t+1]$\n",
    "- $R_{p, t+1}$ = gross portfolio return over period $[t, t+1]$\n",
    "- $CF_t$ = savings deposited into portfolio at beginning of period $t$\n",
    "- $x_t$ = vector allocations to fund\n",
    "\n",
    "**Stages**: these are $t=0,...,T-1$, each year before retirement\n",
    "\n",
    "**State at stage t**: $(W_t, x_t)$\n",
    "\n",
    "**Decision Variables**: $x_t$ = allocation to each fund at time $t$\n",
    "\n",
    "**Constraints**:\n",
    "\n",
    "Wealth at $t+1$ depends on initial wealth, cash flow in that time period, and return of portfolio\n",
    "\n",
    "$W_{t+1} = (W_t+CF_t) \\cdot R_{p, t+1}$ \n",
    "\n",
    "Can only hold one fund at each time period\n",
    "\n",
    "$\\sum{x_t}=1$\n",
    "\n",
    "$x_t \\in \\{0, 1\\}$\n",
    "\n",
    "Portfolio return depends on fund returns\n",
    "\n",
    "$R_{p, t+1}=R_{f, t+1}^Tx_t$\n",
    "\n",
    "**Objective**: \n",
    "\n",
    "$max\\text{ }\\mathbb{E}[U(W_T)]$\n",
    "\n",
    "During earlier stages the Bellman equation would be\n",
    "\n",
    "$J_t(W_t, x_t) = max_{x_t}\\text{ } \\mathbb{E}_t[J_{t+1}(W_{t+1}, x_{t+1})]$\n",
    "\n",
    "$J_t(W_t, x_t) = max_{x_t}\\text{ } \\mathbb{E}_t[J_{t+1}((W_t+CF_t) \\cdot R_{p, t+1}, x_{t+1})]$"
   ]
  },
  {
   "cell_type": "markdown",
   "id": "90dfec15-c296-4bc8-9a8b-5af18291d025",
   "metadata": {},
   "source": [
    "#### Notes\n",
    "- starting in current time, propagate forward. proparating forward and not backward because the first time period is easier to solve as we know the inputs.\n",
    "- calculate the maximum expected utility at each period.\n",
    "- use the fund w/ maximum expected utility as input into next step."
   ]
  },
  {
   "cell_type": "markdown",
   "id": "fb938ecb-b18a-4943-ae67-a1abac3ce8c5",
   "metadata": {},
   "source": [
    "### Constant Rate of Return\n",
    "Constant rate of return required is displayed below, in percent."
   ]
  },
  {
   "cell_type": "code",
   "execution_count": 31,
   "id": "6293f757-bbf0-43c5-828d-8e5492f2ad14",
   "metadata": {},
   "outputs": [
    {
     "data": {
      "text/html": [
       "<div>\n",
       "<style scoped>\n",
       "    .dataframe tbody tr th:only-of-type {\n",
       "        vertical-align: middle;\n",
       "    }\n",
       "\n",
       "    .dataframe tbody tr th {\n",
       "        vertical-align: top;\n",
       "    }\n",
       "\n",
       "    .dataframe thead th {\n",
       "        text-align: right;\n",
       "    }\n",
       "</style>\n",
       "<table border=\"1\" class=\"dataframe\">\n",
       "  <thead>\n",
       "    <tr style=\"text-align: right;\">\n",
       "      <th></th>\n",
       "      <th>ConstantReturn_Retirement67</th>\n",
       "      <th>ConstantReturn_Retirement68</th>\n",
       "    </tr>\n",
       "  </thead>\n",
       "  <tbody>\n",
       "    <tr>\n",
       "      <th>Amy</th>\n",
       "      <td>5.25</td>\n",
       "      <td>4.79</td>\n",
       "    </tr>\n",
       "    <tr>\n",
       "      <th>Bob</th>\n",
       "      <td>8.75</td>\n",
       "      <td>7.88</td>\n",
       "    </tr>\n",
       "    <tr>\n",
       "      <th>Carla</th>\n",
       "      <td>3.21</td>\n",
       "      <td>2.78</td>\n",
       "    </tr>\n",
       "    <tr>\n",
       "      <th>Darrin</th>\n",
       "      <td>8.85</td>\n",
       "      <td>7.83</td>\n",
       "    </tr>\n",
       "    <tr>\n",
       "      <th>Eric</th>\n",
       "      <td>3.83</td>\n",
       "      <td>2.96</td>\n",
       "    </tr>\n",
       "    <tr>\n",
       "      <th>Francine</th>\n",
       "      <td>20.20</td>\n",
       "      <td>12.53</td>\n",
       "    </tr>\n",
       "  </tbody>\n",
       "</table>\n",
       "</div>"
      ],
      "text/plain": [
       "         ConstantReturn_Retirement67 ConstantReturn_Retirement68\n",
       "Amy                             5.25                        4.79\n",
       "Bob                             8.75                        7.88\n",
       "Carla                           3.21                        2.78\n",
       "Darrin                          8.85                        7.83\n",
       "Eric                            3.83                        2.96\n",
       "Francine                       20.20                       12.53"
      ]
     },
     "execution_count": 31,
     "metadata": {},
     "output_type": "execute_result"
    }
   ],
   "source": [
    "clients_fmt"
   ]
  },
  {
   "cell_type": "markdown",
   "id": "c1326ba7-9f74-4fb1-90a6-c0ec95584eb4",
   "metadata": {},
   "source": [
    "### Appendix\n",
    "Code used to generate Constant Rate of Return"
   ]
  },
  {
   "cell_type": "markdown",
   "id": "2d5e39be-2b9b-4707-bd9e-078f4fb6d880",
   "metadata": {},
   "source": [
    "#### Inputs"
   ]
  },
  {
   "cell_type": "code",
   "execution_count": 7,
   "id": "bc3026ec-757a-4fb2-8942-6da38225e077",
   "metadata": {},
   "outputs": [],
   "source": [
    "import numpy as np\n",
    "import pandas as pd"
   ]
  },
  {
   "cell_type": "code",
   "execution_count": 8,
   "id": "450d4349-77da-4a07-8a3a-9a46a245ab31",
   "metadata": {},
   "outputs": [],
   "source": [
    "clients = pd.DataFrame(\n",
    "    index=['Amy', 'Bob', 'Carla', 'Darrin', 'Eric', 'Francine'],\n",
    "    columns=['Age', 'CurrentValue'],\n",
    "    data=[\n",
    "        [52, 500],\n",
    "        [55, 400],\n",
    "        [57, 900],\n",
    "        [57, 500],\n",
    "        [62, 1100],\n",
    "        [65, 950],\n",
    "    ],\n",
    ")"
   ]
  },
  {
   "cell_type": "markdown",
   "id": "9ca84a88-883c-493e-a61b-d6d750b1fac2",
   "metadata": {},
   "source": [
    "#### Calculations"
   ]
  },
  {
   "cell_type": "code",
   "execution_count": 34,
   "id": "cebdcc09-dd98-4cbd-9535-5ba978d3800f",
   "metadata": {},
   "outputs": [],
   "source": [
    "def calc_salary(age):\n",
    "    return 60 + (age - 27)\n",
    "\n",
    "def calc_irr(cf, horizon, tgt, min_bound, max_bound, guess=None, tol=1e-2):\n",
    "    if guess is None:\n",
    "        guess = (tgt / cf[0]) ** (1/horizon[0]) - 1\n",
    "    # print(guess)\n",
    "    proposed = np.sum(cf * ((1+guess) ** horizon))\n",
    "    diff = proposed - tgt\n",
    "    if diff > 0 and abs(diff) > tol:\n",
    "        # if proposed is larger than target, guess is the new max bound\n",
    "        return calc_irr(cf, horizon, tgt=tgt, min_bound=min_bound, max_bound=guess, guess=(guess+min_bound)/2, tol=tol)\n",
    "    elif diff < 0 and abs(diff) > tol:\n",
    "        # if proposed is smaller than target, guess is the new min bound\n",
    "        return calc_irr(cf, horizon, tgt=tgt, min_bound=guess, max_bound=max_bound, guess=(guess+max_bound)/2, tol=tol)\n",
    "    else:\n",
    "        return guess"
   ]
  },
  {
   "cell_type": "markdown",
   "id": "2e759260-a93d-434f-88ec-9e18ae66dd03",
   "metadata": {},
   "source": [
    "#### Cash Flows"
   ]
  },
  {
   "cell_type": "code",
   "execution_count": 29,
   "id": "e20cc589-ec2f-4589-a3e9-f50bf503e99f",
   "metadata": {},
   "outputs": [],
   "source": [
    "retirement_age = 67\n",
    "# the salary right before retirement is the same salary as the previous year\n",
    "# as discussed in class, since the employee is about to retire they do not receive a raise\n",
    "pre_retirement_salary = calc_salary(retirement_age-1)\n",
    "\n",
    "# since the post-retirement annual spend will be 80% of the pre-retirement income and Social Security\n",
    "# covers 30% of that (30% of the pre-retirement income not of post-retirement spend)\n",
    "# the portfolio withdrawals will be 50% of pre-retirement income\n",
    "retirement_annual_spend = pre_retirement_salary * post_retirement_annual_spend\n",
    "target_wealth = retirement_annual_spend / distribution_ratio\n",
    "\n",
    "savings_rate = 0.16\n",
    "post_retirement_annual_spend = 0.5\n",
    "distribution_ratio = 0.035\n",
    "\n",
    "cf = dict()\n",
    "for rtr_age in [67, 68]:\n",
    "    for name in clients.index:\n",
    "        age = clients.loc[name, 'Age']\n",
    "        cv = clients.loc[name, 'CurrentValue']\n",
    "    \n",
    "        age_vector = np.array(range(age, rtr_age))\n",
    "        inv_amount = calc_salary(age_vector) * savings_rate\n",
    "        inv_amount[0] += cv\n",
    "        inv_horizon = rtr_age - np.array(range(age, rtr_age))\n",
    "        cf[name] = dict()\n",
    "        cf_t = pd.DataFrame(\n",
    "            index=age_vector,\n",
    "            columns=['amount', 'horizon'],\n",
    "            data=np.array([inv_amount, inv_horizon]).T,\n",
    "          )\n",
    "        cf[name] = cf_t\n",
    "        \n",
    "        max_bound = (target_wealth / inv_amount[0]) ** (1/inv_horizon[0]) - 1\n",
    "        irr = calc_irr(inv_amount, inv_horizon, target_wealth, min_bound=0, max_bound=max_bound)\n",
    "        clients.loc[name, f'TargetWealth_Retirement{rtr_age}'] = target_wealth\n",
    "        clients.loc[name, f'ConstantReturn_Retirement{rtr_age}'] = irr\n",
    "\n",
    "clients_fmt = pd.DataFrame(index=clients.index)\n",
    "col_mask = clients.columns.str.contains('ConstantReturn_Retirement')\n",
    "clients_fmt.loc[:, clients.columns[col_mask]] = clients.loc[:, col_mask].mul(100).map('{:,.2f}'.format).astype(str)"
   ]
  }
 ],
 "metadata": {
  "kernelspec": {
   "display_name": "Python 3 (ipykernel)",
   "language": "python",
   "name": "python3"
  },
  "language_info": {
   "codemirror_mode": {
    "name": "ipython",
    "version": 3
   },
   "file_extension": ".py",
   "mimetype": "text/x-python",
   "name": "python",
   "nbconvert_exporter": "python",
   "pygments_lexer": "ipython3",
   "version": "3.12.3"
  }
 },
 "nbformat": 4,
 "nbformat_minor": 5
}
