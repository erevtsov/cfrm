{
 "cells": [
  {
   "cell_type": "markdown",
   "id": "87839231-250d-4057-bbc7-c6de58180b1a",
   "metadata": {},
   "source": [
    "### Problem 1"
   ]
  },
  {
   "cell_type": "markdown",
   "id": "f7486e4a-7fe3-432b-b854-aac19d4b196b",
   "metadata": {},
   "source": [
    "#### Imports"
   ]
  },
  {
   "cell_type": "code",
   "execution_count": 1,
   "id": "e14f40e7-74cc-4fb1-be7c-721824745db7",
   "metadata": {},
   "outputs": [],
   "source": [
    "import numpy as np\n",
    "import cvxpy as cp\n",
    "import pandas as pd"
   ]
  },
  {
   "cell_type": "markdown",
   "id": "006fcdcd-6086-4142-9af1-576ff441a3d6",
   "metadata": {},
   "source": [
    "#### Inputs\n",
    "I added a \"cashflows\" variable cf, which is non-zero only for the initial period. This setup can be used to model additional flows coming in/out of the portfolio throughout the investment period"
   ]
  },
  {
   "cell_type": "code",
   "execution_count": 2,
   "id": "2ff8a623-f031-4176-a4bb-02314e823323",
   "metadata": {},
   "outputs": [],
   "source": [
    "var_len = 13\n",
    "cf = np.zeros(var_len)\n",
    "cf[0] = 10\n",
    "r_equity = 0.06\n",
    "r_second_pe = 0.12\n",
    "r_prim_pe = 0.16"
   ]
  },
  {
   "cell_type": "markdown",
   "id": "2893d404-8125-4c9d-84ce-9dfed8ac359c",
   "metadata": {},
   "source": [
    "#### Define Variables"
   ]
  },
  {
   "cell_type": "code",
   "execution_count": 3,
   "id": "c5d94149-5396-4e43-9881-5591b817ea54",
   "metadata": {},
   "outputs": [],
   "source": [
    "# equities\n",
    "x = cp.Variable(shape=var_len, nonneg=True, name='equity')\n",
    "# secondary PE\n",
    "y = cp.Variable(shape=var_len, nonneg=True, name='pe_secondary')\n",
    "# primary PE\n",
    "z = cp.Variable(shape=var_len, nonneg=True, name='pe_primary')\n",
    "# wealth\n",
    "w = cp.Variable(shape=var_len, nonneg=True, name='wealth')"
   ]
  },
  {
   "cell_type": "markdown",
   "id": "56da2b77-30fc-4f7f-b888-d11f1779105b",
   "metadata": {},
   "source": [
    "#### Create Constraints\n",
    "This creates 2 constraints for each period in the analysis\n",
    "- budgeting constraint, which determines how much capital can be deployed to the investment vehicles\n",
    "- liquidity constraint, which drives the maximum avg remaining holding period"
   ]
  },
  {
   "cell_type": "code",
   "execution_count": 4,
   "id": "81a804ab-fa20-4433-a8b6-b19f54c592f5",
   "metadata": {},
   "outputs": [],
   "source": [
    "constraints = list()\n",
    "constraint_values = dict()\n",
    "\n",
    "for t in range(0, var_len):\n",
    "    # new investments\n",
    "    con_wealth_t = - x[t] - y[t] - z[t]\n",
    "\n",
    "    con_liq_t = -x[t] + y[t] + 3*z[t]\n",
    "    \n",
    "    # add existing equity value\n",
    "    if t - 1 >= 0:\n",
    "        con_wealth_t = con_wealth_t + (1+r_equity) * x[t-1]\n",
    "        con_liq_t = con_liq_t - (1+r_equity) * x[t-1]\n",
    "    # add secondary PE\n",
    "    if t - 3 >= 0:\n",
    "        con_wealth_t = con_wealth_t + (1+r_second_pe)**3 * y[t-3]\n",
    "        con_liq_t = con_liq_t + (1+r_second_pe)**3 * y[t-3]\n",
    "    # add primary PE\n",
    "    if t - 5 >= 0:\n",
    "        con_wealth_t = con_wealth_t + (1+r_prim_pe)**5 * z[t-5]\n",
    "        con_liq_t = con_liq_t + 3 * (1+r_prim_pe)**5 * z[t-5]\n",
    "\n",
    "    # value of today's investments (neg sign!) plus previous period's investments is equal to total wealth\n",
    "    constraint_values[f'budget_{t}'] = {\n",
    "        'lhs': con_wealth_t + cf[t],\n",
    "        'rhs': w[t],\n",
    "    }\n",
    "    constraints.append(con_wealth_t + cf[t] == w[t])\n",
    "\n",
    "    # liquidity constraint\n",
    "    constraint_values[f'liquidity_{t}'] = {\n",
    "        'lhs': con_liq_t,\n",
    "        'rhs': 0,\n",
    "    }    \n",
    "    constraints.append(con_liq_t <= 0)"
   ]
  },
  {
   "cell_type": "markdown",
   "id": "2f36e908-4bee-4316-8075-a610d9e7000e",
   "metadata": {},
   "source": [
    "#### Objective\n",
    "Maximixing the final wealth. This also takes care of the question of all assets being liquidated by end of year 12"
   ]
  },
  {
   "cell_type": "code",
   "execution_count": 5,
   "id": "ae7b3e4b-649f-4b3b-93b5-e91dd5da7891",
   "metadata": {},
   "outputs": [],
   "source": [
    "obj = cp.Maximize(w[-1])"
   ]
  },
  {
   "cell_type": "markdown",
   "id": "98ce2595-e196-4c2b-b923-512ac709568c",
   "metadata": {},
   "source": [
    "#### Problem setup and solve"
   ]
  },
  {
   "cell_type": "code",
   "execution_count": 6,
   "id": "f2d8a462-1ac1-47f5-91a3-98f24b04bc3f",
   "metadata": {},
   "outputs": [],
   "source": [
    "prob = cp.Problem(objective=obj, constraints=constraints)"
   ]
  },
  {
   "cell_type": "code",
   "execution_count": 7,
   "id": "f7af1c8b-10c7-43ca-8d1d-84b31bdc2871",
   "metadata": {
    "scrolled": true
   },
   "outputs": [
    {
     "data": {
      "text/plain": [
       "np.float64(37.64337052935727)"
      ]
     },
     "execution_count": 7,
     "metadata": {},
     "output_type": "execute_result"
    }
   ],
   "source": [
    "prob.solve(verbose=False)"
   ]
  },
  {
   "cell_type": "markdown",
   "id": "73d10139-3b7c-4b7f-89c1-69a41afb7676",
   "metadata": {},
   "source": [
    "#### Values of all variables"
   ]
  },
  {
   "cell_type": "code",
   "execution_count": 8,
   "id": "fc9e2a5b-05cb-4c68-9345-b993f8af5c9b",
   "metadata": {},
   "outputs": [
    {
     "data": {
      "text/html": [
       "<div>\n",
       "<style scoped>\n",
       "    .dataframe tbody tr th:only-of-type {\n",
       "        vertical-align: middle;\n",
       "    }\n",
       "\n",
       "    .dataframe tbody tr th {\n",
       "        vertical-align: top;\n",
       "    }\n",
       "\n",
       "    .dataframe thead th {\n",
       "        text-align: right;\n",
       "    }\n",
       "</style>\n",
       "<table border=\"1\" class=\"dataframe\">\n",
       "  <thead>\n",
       "    <tr style=\"text-align: right;\">\n",
       "      <th></th>\n",
       "      <th>equity</th>\n",
       "      <th>secondary pe</th>\n",
       "      <th>primary pe</th>\n",
       "      <th>wealth</th>\n",
       "    </tr>\n",
       "    <tr>\n",
       "      <th>period</th>\n",
       "      <th></th>\n",
       "      <th></th>\n",
       "      <th></th>\n",
       "      <th></th>\n",
       "    </tr>\n",
       "  </thead>\n",
       "  <tbody>\n",
       "    <tr>\n",
       "      <th>0</th>\n",
       "      <td>7.04</td>\n",
       "      <td>0.92</td>\n",
       "      <td>2.04</td>\n",
       "      <td>0.00</td>\n",
       "    </tr>\n",
       "    <tr>\n",
       "      <th>1</th>\n",
       "      <td>1.32</td>\n",
       "      <td>4.83</td>\n",
       "      <td>1.32</td>\n",
       "      <td>0.00</td>\n",
       "    </tr>\n",
       "    <tr>\n",
       "      <th>2</th>\n",
       "      <td>0.81</td>\n",
       "      <td>0.00</td>\n",
       "      <td>0.58</td>\n",
       "      <td>0.00</td>\n",
       "    </tr>\n",
       "    <tr>\n",
       "      <th>3</th>\n",
       "      <td>1.72</td>\n",
       "      <td>0.00</td>\n",
       "      <td>0.43</td>\n",
       "      <td>0.00</td>\n",
       "    </tr>\n",
       "    <tr>\n",
       "      <th>4</th>\n",
       "      <td>7.69</td>\n",
       "      <td>0.00</td>\n",
       "      <td>0.91</td>\n",
       "      <td>0.00</td>\n",
       "    </tr>\n",
       "    <tr>\n",
       "      <th>5</th>\n",
       "      <td>10.51</td>\n",
       "      <td>0.00</td>\n",
       "      <td>1.94</td>\n",
       "      <td>0.00</td>\n",
       "    </tr>\n",
       "    <tr>\n",
       "      <th>6</th>\n",
       "      <td>9.72</td>\n",
       "      <td>0.00</td>\n",
       "      <td>4.18</td>\n",
       "      <td>0.00</td>\n",
       "    </tr>\n",
       "    <tr>\n",
       "      <th>7</th>\n",
       "      <td>6.94</td>\n",
       "      <td>0.11</td>\n",
       "      <td>4.48</td>\n",
       "      <td>0.00</td>\n",
       "    </tr>\n",
       "    <tr>\n",
       "      <th>8</th>\n",
       "      <td>1.81</td>\n",
       "      <td>6.45</td>\n",
       "      <td>0.00</td>\n",
       "      <td>0.00</td>\n",
       "    </tr>\n",
       "    <tr>\n",
       "      <th>9</th>\n",
       "      <td>3.83</td>\n",
       "      <td>0.00</td>\n",
       "      <td>0.00</td>\n",
       "      <td>0.00</td>\n",
       "    </tr>\n",
       "    <tr>\n",
       "      <th>10</th>\n",
       "      <td>8.29</td>\n",
       "      <td>0.00</td>\n",
       "      <td>0.00</td>\n",
       "      <td>0.00</td>\n",
       "    </tr>\n",
       "    <tr>\n",
       "      <th>11</th>\n",
       "      <td>26.63</td>\n",
       "      <td>0.00</td>\n",
       "      <td>0.00</td>\n",
       "      <td>0.00</td>\n",
       "    </tr>\n",
       "    <tr>\n",
       "      <th>12</th>\n",
       "      <td>0.00</td>\n",
       "      <td>0.00</td>\n",
       "      <td>0.00</td>\n",
       "      <td>37.64</td>\n",
       "    </tr>\n",
       "  </tbody>\n",
       "</table>\n",
       "</div>"
      ],
      "text/plain": [
       "        equity  secondary pe  primary pe  wealth\n",
       "period                                          \n",
       "0         7.04          0.92        2.04    0.00\n",
       "1         1.32          4.83        1.32    0.00\n",
       "2         0.81          0.00        0.58    0.00\n",
       "3         1.72          0.00        0.43    0.00\n",
       "4         7.69          0.00        0.91    0.00\n",
       "5        10.51          0.00        1.94    0.00\n",
       "6         9.72          0.00        4.18    0.00\n",
       "7         6.94          0.11        4.48    0.00\n",
       "8         1.81          6.45        0.00    0.00\n",
       "9         3.83          0.00        0.00    0.00\n",
       "10        8.29          0.00        0.00    0.00\n",
       "11       26.63          0.00        0.00    0.00\n",
       "12        0.00          0.00        0.00   37.64"
      ]
     },
     "execution_count": 8,
     "metadata": {},
     "output_type": "execute_result"
    }
   ],
   "source": [
    "df = pd.DataFrame({\n",
    "    'equity': x.value,\n",
    "    'secondary pe': y.value,\n",
    "    'primary pe': z.value,\n",
    "    'wealth': w.value\n",
    "}).round(2)\n",
    "df.index.name = 'period'\n",
    "df"
   ]
  },
  {
   "cell_type": "markdown",
   "id": "a3ae5ecd-0ea0-48b8-aa85-9221f54894a0",
   "metadata": {},
   "source": [
    "#### Constraint Review\n",
    "Check which are active and which are inactive"
   ]
  },
  {
   "cell_type": "code",
   "execution_count": 9,
   "id": "3ca1ace6-fc18-481d-a2fe-3d72a5f7a2d2",
   "metadata": {},
   "outputs": [],
   "source": [
    "active_cons = list()\n",
    "inactive_cons = list()\n",
    "for name, value in constraint_values.items():\n",
    "    rhs = value['rhs']\n",
    "    if isinstance(rhs, cp.Expression):\n",
    "        rhs = rhs.value\n",
    "    if value['lhs'].value <= rhs:\n",
    "        active_cons.append(name)\n",
    "    else:\n",
    "        inactive_cons.append(name)"
   ]
  },
  {
   "cell_type": "markdown",
   "id": "3091dad3-e549-455d-bba3-d6691ab86878",
   "metadata": {},
   "source": [
    "#### Active constraints\n",
    "The naming convention is either by budget or liquidity, and the index signifies at the end of which period the constraint is defined."
   ]
  },
  {
   "cell_type": "code",
   "execution_count": 10,
   "id": "62c8363b-c8d8-4ae1-90b6-1d7209d6464b",
   "metadata": {},
   "outputs": [
    {
     "data": {
      "text/plain": [
       "['budget_0',\n",
       " 'liquidity_0',\n",
       " 'budget_1',\n",
       " 'liquidity_1',\n",
       " 'budget_2',\n",
       " 'liquidity_2',\n",
       " 'liquidity_3',\n",
       " 'budget_4',\n",
       " 'liquidity_4',\n",
       " 'liquidity_5',\n",
       " 'liquidity_6',\n",
       " 'liquidity_7',\n",
       " 'liquidity_8',\n",
       " 'budget_9',\n",
       " 'liquidity_9',\n",
       " 'budget_10',\n",
       " 'liquidity_10',\n",
       " 'liquidity_11',\n",
       " 'budget_12',\n",
       " 'liquidity_12']"
      ]
     },
     "execution_count": 10,
     "metadata": {},
     "output_type": "execute_result"
    }
   ],
   "source": [
    "active_cons"
   ]
  },
  {
   "cell_type": "markdown",
   "id": "c6825464-bf50-4d7b-b3b9-dbcbd8f29dea",
   "metadata": {},
   "source": [
    "#### Inactive constraints\n",
    "The naming convention is either by budget or liquidity, and the index signifies at the end of which period the constraint is defined."
   ]
  },
  {
   "cell_type": "code",
   "execution_count": 11,
   "id": "2adbd00c-033c-4c3d-9099-306b2e2fca63",
   "metadata": {},
   "outputs": [
    {
     "data": {
      "text/plain": [
       "['budget_3', 'budget_5', 'budget_6', 'budget_7', 'budget_8', 'budget_11']"
      ]
     },
     "execution_count": 11,
     "metadata": {},
     "output_type": "execute_result"
    }
   ],
   "source": [
    "inactive_cons"
   ]
  }
 ],
 "metadata": {
  "kernelspec": {
   "display_name": "Python 3 (ipykernel)",
   "language": "python",
   "name": "python3"
  },
  "language_info": {
   "codemirror_mode": {
    "name": "ipython",
    "version": 3
   },
   "file_extension": ".py",
   "mimetype": "text/x-python",
   "name": "python",
   "nbconvert_exporter": "python",
   "pygments_lexer": "ipython3",
   "version": "3.12.7"
  }
 },
 "nbformat": 4,
 "nbformat_minor": 5
}
