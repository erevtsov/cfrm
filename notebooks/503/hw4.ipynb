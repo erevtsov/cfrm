{
 "cells": [
  {
   "cell_type": "markdown",
   "id": "e06cabb7-5644-47db-b584-32f3ab37ecac",
   "metadata": {},
   "source": [
    "## Revtsov HW4"
   ]
  },
  {
   "cell_type": "code",
   "execution_count": 1,
   "id": "d441efa6-8f0d-4fb1-871d-9bb0ae8f4f57",
   "metadata": {
    "tags": []
   },
   "outputs": [],
   "source": [
    "import numpy as np\n",
    "import pandas as pd\n",
    "import yfinance as yf\n",
    "\n",
    "idx = pd.IndexSlice\n",
    "\n",
    "from sklearn.linear_model import LinearRegression"
   ]
  },
  {
   "cell_type": "markdown",
   "id": "2194d43b-86dd-4d8e-9326-7b85a7aa2593",
   "metadata": {},
   "source": [
    "### Problem 1"
   ]
  },
  {
   "cell_type": "code",
   "execution_count": 2,
   "id": "5e3fd25d-ffb1-4a6f-96ce-be16dd5803ef",
   "metadata": {
    "tags": []
   },
   "outputs": [],
   "source": [
    "# set start/end dates\n",
    "sd = '2008-11-01'\n",
    "ed = '2020-04-01'\n",
    "\n",
    "# create frame of portfolio wts\n",
    "wts = pd.DataFrame(\n",
    "    index=['XLF', 'XLB', 'XLI', 'XLY', 'XLK', 'XLE', 'XLV', 'XLP', 'XLU'],\n",
    "    data=[\n",
    "        [0.12, 0.05, 0.16], \n",
    "        [0.11, 0.1, 0.14], \n",
    "        [0.11, 0.1, 0.13], \n",
    "        [0.11, 0.15, 0.12], \n",
    "        [0.11, 0.2, 0.11], \n",
    "        [0.11, 0.15, 0.1], \n",
    "        [0.11, 0.10, 0.09], \n",
    "        [0.11, 0.1, 0.08], \n",
    "        [0.11, 0.05, 0.07]],\n",
    "    columns=['Port1', 'Port2', 'Port3'],\n",
    ")\n",
    "wts.index.name = 'Ticker'\n",
    "\n",
    "# create frame of scenarios\n",
    "scenarios = pd.DataFrame(\n",
    "    index=['GFC', 'Mkt Sell Off', 'Covid Lockdown'],\n",
    "    data=[['2008-09-16', '2009-03-09'], ['2015-08-18', '2015-08-21'], ['2020-02-19', '2020-03-23']],\n",
    "    columns=['Start', 'End']\n",
    ")\n",
    "scenarios.index.name = 'Name'\n",
    "scenarios.Start = pd.to_datetime(scenarios.Start)\n",
    "scenarios.End = pd.to_datetime(scenarios.End)"
   ]
  },
  {
   "cell_type": "code",
   "execution_count": 3,
   "id": "60b5378a-6aef-40b2-aafa-8e77eafef2e5",
   "metadata": {
    "tags": []
   },
   "outputs": [
    {
     "name": "stdout",
     "output_type": "stream",
     "text": [
      "[*********************100%%**********************]  9 of 9 completed\n"
     ]
    }
   ],
   "source": [
    "# retrieve data, calculate the daily returns\n",
    "df = yf.download(wts.index.tolist(), start=sd, end=ed)\n",
    "px = df.loc[:, idx['Adj Close']]\n",
    "rts = px.pct_change().dropna(axis=0)"
   ]
  },
  {
   "cell_type": "code",
   "execution_count": 4,
   "id": "5beba47e-8642-459f-9054-77e2f136c811",
   "metadata": {
    "tags": []
   },
   "outputs": [],
   "source": [
    "# calculate the returns for portfolios\n",
    "# this is assuming daily rebalancing\n",
    "rts_p = np.matmul(rts, wts.values)\n",
    "rts_p.columns = wts.columns"
   ]
  },
  {
   "cell_type": "code",
   "execution_count": 5,
   "id": "aa927ff8-a07c-4873-810d-e8a5c8be4d91",
   "metadata": {
    "tags": []
   },
   "outputs": [],
   "source": [
    "# for each scenario, calculate the cumulative performance of the portfolios\n",
    "# join onto the original scenarios frame\n",
    "scenarios = scenarios.join(scenarios.apply(lambda x: rts_p.loc[x.Start:x.End].add(1).prod().add(-1), axis=1))"
   ]
  },
  {
   "cell_type": "markdown",
   "id": "af80e70b-4678-431c-a0a7-755e7ce700eb",
   "metadata": {},
   "source": [
    "#### Returns of portfolios for each scenario are below "
   ]
  },
  {
   "cell_type": "code",
   "execution_count": 6,
   "id": "a70037c0-1177-4f92-8d7c-9f30e5e46a20",
   "metadata": {
    "tags": []
   },
   "outputs": [
    {
     "data": {
      "text/html": [
       "<div>\n",
       "<style scoped>\n",
       "    .dataframe tbody tr th:only-of-type {\n",
       "        vertical-align: middle;\n",
       "    }\n",
       "\n",
       "    .dataframe tbody tr th {\n",
       "        vertical-align: top;\n",
       "    }\n",
       "\n",
       "    .dataframe thead th {\n",
       "        text-align: right;\n",
       "    }\n",
       "</style>\n",
       "<table border=\"1\" class=\"dataframe\">\n",
       "  <thead>\n",
       "    <tr style=\"text-align: right;\">\n",
       "      <th></th>\n",
       "      <th>Start</th>\n",
       "      <th>End</th>\n",
       "      <th>Port1</th>\n",
       "      <th>Port2</th>\n",
       "      <th>Port3</th>\n",
       "    </tr>\n",
       "    <tr>\n",
       "      <th>Name</th>\n",
       "      <th></th>\n",
       "      <th></th>\n",
       "      <th></th>\n",
       "      <th></th>\n",
       "      <th></th>\n",
       "    </tr>\n",
       "  </thead>\n",
       "  <tbody>\n",
       "    <tr>\n",
       "      <th>GFC</th>\n",
       "      <td>2008-09-16</td>\n",
       "      <td>2009-03-09</td>\n",
       "      <td>-0.284804</td>\n",
       "      <td>-0.277786</td>\n",
       "      <td>-0.296779</td>\n",
       "    </tr>\n",
       "    <tr>\n",
       "      <th>Mkt Sell Off</th>\n",
       "      <td>2015-08-18</td>\n",
       "      <td>2015-08-21</td>\n",
       "      <td>-0.058752</td>\n",
       "      <td>-0.059507</td>\n",
       "      <td>-0.060684</td>\n",
       "    </tr>\n",
       "    <tr>\n",
       "      <th>Covid Lockdown</th>\n",
       "      <td>2020-02-19</td>\n",
       "      <td>2020-03-23</td>\n",
       "      <td>-0.366746</td>\n",
       "      <td>-0.359385</td>\n",
       "      <td>-0.379775</td>\n",
       "    </tr>\n",
       "  </tbody>\n",
       "</table>\n",
       "</div>"
      ],
      "text/plain": [
       "                    Start        End     Port1     Port2     Port3\n",
       "Name                                                              \n",
       "GFC            2008-09-16 2009-03-09 -0.284804 -0.277786 -0.296779\n",
       "Mkt Sell Off   2015-08-18 2015-08-21 -0.058752 -0.059507 -0.060684\n",
       "Covid Lockdown 2020-02-19 2020-03-23 -0.366746 -0.359385 -0.379775"
      ]
     },
     "execution_count": 6,
     "metadata": {},
     "output_type": "execute_result"
    }
   ],
   "source": [
    "scenarios"
   ]
  },
  {
   "cell_type": "markdown",
   "id": "b4a42439-c376-4a06-95e0-aa86c76b0b8a",
   "metadata": {},
   "source": [
    "### Problem 2"
   ]
  },
  {
   "cell_type": "code",
   "execution_count": 7,
   "id": "963ac60d-66a0-46f0-ad2d-a240840172c3",
   "metadata": {
    "tags": []
   },
   "outputs": [],
   "source": [
    "import matplotlib.pyplot as plt\n",
    "import pandas as pd\n",
    "from fredapi import Fred\n",
    "\n",
    "# FRED API Key\n",
    "fred_api_key = \"a4223ad593cd95d79d4699851ddfe0b4\"\n",
    "\n",
    "# Define FRED objects\n",
    "fred = Fred(api_key=fred_api_key)\n",
    "\n",
    "# Download data\n",
    "cpi = fred.get_series(\"FPCPITOTLZGUSA\")  # CPI Inflation\n",
    "recessions = fred.get_series(\"JHDUSRGDPBR\")  # US Recessions (indicator)"
   ]
  },
  {
   "cell_type": "code",
   "execution_count": 8,
   "id": "c7c37fbf-02b7-4e37-817c-6a068b44f597",
   "metadata": {
    "tags": []
   },
   "outputs": [],
   "source": [
    "# Combine data into DataFrame\n",
    "data = cpi.rename('CPI').to_frame().join(recessions.rename('Recession'))\n",
    "data.index.name = 'Year'"
   ]
  },
  {
   "cell_type": "code",
   "execution_count": 9,
   "id": "30a179b0-1b3d-4d02-a5c4-88da9e29a988",
   "metadata": {
    "tags": []
   },
   "outputs": [
    {
     "data": {
      "image/png": "[encoded data removed]",
      "text/plain": [
       "<Figure size 640x480 with 1 Axes>"
      ]
     },
     "metadata": {},
     "output_type": "display_data"
    }
   ],
   "source": [
    "# Define recession periods (assuming value of 1 indicates recession)\n",
    "recession_periods = data[data['Recession'] == 1].index\n",
    "\n",
    "# Create plot\n",
    "fig, ax = plt.subplots()\n",
    "ax.plot(data['CPI'], label='CPI Inflation')\n",
    "\n",
    "# Shade recession areas\n",
    "for recession in recession_periods:\n",
    "    # Shade a year after recession start\n",
    "    ax.axvspan(recession, recession + pd.Timedelta(days=365), color='lightcoral', alpha=0.2, zorder=0)  \n",
    "\n",
    "ax.set_xlabel('Date')\n",
    "ax.set_ylabel('CPI Inflation')\n",
    "ax.set_title('CPI Inflation with US Recessions')\n",
    "ax.legend()\n",
    "plt.xticks(rotation=45)\n",
    "plt.tight_layout()\n",
    "plt.show()"
   ]
  },
  {
   "cell_type": "markdown",
   "id": "0bb2e241-4829-4832-a28a-8bef4742b9b7",
   "metadata": {},
   "source": [
    "### Problem 3"
   ]
  },
  {
   "cell_type": "code",
   "execution_count": 10,
   "id": "d8df4890-8c1c-4d3b-ae2e-47afd529b361",
   "metadata": {
    "tags": []
   },
   "outputs": [],
   "source": [
    "def jensen_alpha(mu, rfr, beta, mu_mkt):\n",
    "    return mu - (beta * mu_mkt + (1+beta) * rfr)"
   ]
  },
  {
   "cell_type": "code",
   "execution_count": 11,
   "id": "866fb519-cbf8-4437-914b-a735b2efa643",
   "metadata": {
    "tags": []
   },
   "outputs": [],
   "source": [
    "fund_rts = pd.read_csv('HW43DATA.csv')\n",
    "fund_rts.date = pd.to_datetime(fund_rts.date).dt.date\n",
    "fund_rts = fund_rts.rename(columns={'date': 'Date'}).set_index('Date')"
   ]
  },
  {
   "cell_type": "code",
   "execution_count": 12,
   "id": "3d710bed-5361-4d0a-9ff6-27b926233e0f",
   "metadata": {
    "tags": []
   },
   "outputs": [],
   "source": [
    "factor_rts = pd.read_csv('F-F_Research_Data_5_Factors_2x3.csv')\n",
    "factor_rts.Date = pd.to_datetime(factor_rts.Date, format='%Y%m').dt.date\n",
    "factor_rts = factor_rts.set_index('Date')\n",
    "factor_rts = factor_rts.loc[fund_rts.index.min():fund_rts.index.max()]\n",
    "factor_rts /= 100"
   ]
  },
  {
   "cell_type": "code",
   "execution_count": 13,
   "id": "e7332195-3077-4b89-a89a-74f5a64b6c7a",
   "metadata": {
    "tags": []
   },
   "outputs": [],
   "source": [
    "regr_res = pd.DataFrame(index=fund_rts.columns, columns=factor_rts.drop(columns=['RF']).columns)\n",
    "\n",
    "for etf in regr_res.index:\n",
    "    # dependent variables are the factor returns\n",
    "    X = factor_rts.drop(columns=['RF'])\n",
    "    # independent variable is the excess etf return (excess of risk free rate)\n",
    "    y = fund_rts[etf] - factor_rts.RF\n",
    "\n",
    "    # Create and fit the linear regression model\n",
    "    model = LinearRegression()\n",
    "    model.fit(X, y)\n",
    "\n",
    "    # Get coefficients\n",
    "    regr_res.loc[etf, :] = model.coef_"
   ]
  },
  {
   "cell_type": "markdown",
   "id": "10f20bb4-2621-4fb0-8aed-78e887965be5",
   "metadata": {
    "tags": []
   },
   "source": [
    "#### Coefficients"
   ]
  },
  {
   "cell_type": "code",
   "execution_count": 14,
   "id": "ca7c3bd7-61d5-4b1d-bc36-1ddc533a6949",
   "metadata": {
    "tags": []
   },
   "outputs": [
    {
     "data": {
      "text/html": [
       "<div>\n",
       "<style scoped>\n",
       "    .dataframe tbody tr th:only-of-type {\n",
       "        vertical-align: middle;\n",
       "    }\n",
       "\n",
       "    .dataframe tbody tr th {\n",
       "        vertical-align: top;\n",
       "    }\n",
       "\n",
       "    .dataframe thead th {\n",
       "        text-align: right;\n",
       "    }\n",
       "</style>\n",
       "<table border=\"1\" class=\"dataframe\">\n",
       "  <thead>\n",
       "    <tr style=\"text-align: right;\">\n",
       "      <th></th>\n",
       "      <th>Mkt-RF</th>\n",
       "      <th>SMB</th>\n",
       "      <th>HML</th>\n",
       "      <th>RMW</th>\n",
       "      <th>CMA</th>\n",
       "    </tr>\n",
       "  </thead>\n",
       "  <tbody>\n",
       "    <tr>\n",
       "      <th>Fund 1</th>\n",
       "      <td>1.02633</td>\n",
       "      <td>0.815425</td>\n",
       "      <td>-0.160409</td>\n",
       "      <td>-0.217254</td>\n",
       "      <td>-0.109885</td>\n",
       "    </tr>\n",
       "    <tr>\n",
       "      <th>Fund 2</th>\n",
       "      <td>1.006263</td>\n",
       "      <td>0.227612</td>\n",
       "      <td>0.131227</td>\n",
       "      <td>0.023022</td>\n",
       "      <td>-0.068062</td>\n",
       "    </tr>\n",
       "    <tr>\n",
       "      <th>Fund 3</th>\n",
       "      <td>0.982413</td>\n",
       "      <td>-0.122338</td>\n",
       "      <td>0.02974</td>\n",
       "      <td>0.063997</td>\n",
       "      <td>0.016008</td>\n",
       "    </tr>\n",
       "    <tr>\n",
       "      <th>Fund 4</th>\n",
       "      <td>0.941388</td>\n",
       "      <td>1.064754</td>\n",
       "      <td>0.118316</td>\n",
       "      <td>-0.2654</td>\n",
       "      <td>0.004922</td>\n",
       "    </tr>\n",
       "  </tbody>\n",
       "</table>\n",
       "</div>"
      ],
      "text/plain": [
       "          Mkt-RF       SMB       HML       RMW       CMA\n",
       "Fund 1   1.02633  0.815425 -0.160409 -0.217254 -0.109885\n",
       "Fund 2  1.006263  0.227612  0.131227  0.023022 -0.068062\n",
       "Fund 3  0.982413 -0.122338   0.02974  0.063997  0.016008\n",
       "Fund 4  0.941388  1.064754  0.118316   -0.2654  0.004922"
      ]
     },
     "execution_count": 14,
     "metadata": {},
     "output_type": "execute_result"
    }
   ],
   "source": [
    "# SMB: small minus big (size)\n",
    "# HML: high minus low (value)\n",
    "# RMW: robust minus weak (profitability)\n",
    "# CMA: cons minus agg\n",
    "regr_res.round(2)"
   ]
  },
  {
   "cell_type": "markdown",
   "id": "8388bfdf-6868-4e69-833f-9083075cbafc",
   "metadata": {},
   "source": [
    "#### Fund Types"
   ]
  },
  {
   "cell_type": "markdown",
   "id": "9efd8456-08b1-4bdf-b02e-2522959b8d2a",
   "metadata": {},
   "source": [
    "- fund 1: small cap\n",
    "- fund 2: mid cap value\n",
    "- fund 3: large cap\n",
    "- fund 4: small cap, maybe value due to loadings on HML"
   ]
  },
  {
   "cell_type": "markdown",
   "id": "821e2bfd-2cf6-45e4-957f-a42288e714fd",
   "metadata": {},
   "source": [
    "#### Jensen Alpha"
   ]
  },
  {
   "cell_type": "code",
   "execution_count": 15,
   "id": "a70ebb81-494b-4bfd-adf3-04224e694da3",
   "metadata": {
    "tags": []
   },
   "outputs": [],
   "source": [
    "mu_mkt = (factor_rts['Mkt-RF'] + factor_rts['RF']).mean()\n",
    "rfr = factor_rts['RF'].mean()"
   ]
  },
  {
   "cell_type": "code",
   "execution_count": 16,
   "id": "09c0120f-8264-43d6-804f-bdef80aba514",
   "metadata": {
    "tags": []
   },
   "outputs": [
    {
     "data": {
      "text/plain": [
       "Fund 1   -0.005283\n",
       "Fund 2   -0.004028\n",
       "Fund 3   -0.002121\n",
       "Fund 4   -0.005337\n",
       "Name: Jensen Alpha, dtype: float64"
      ]
     },
     "execution_count": 16,
     "metadata": {},
     "output_type": "execute_result"
    }
   ],
   "source": [
    "fund_ja = pd.Series(index=fund_rts.columns, name='Jensen Alpha', dtype=float)\n",
    "for fund in fund_ja.index:\n",
    "    mu = fund_rts[fund].mean()\n",
    "    beta = regr_res.loc[fund, 'Mkt-RF']\n",
    "    fund_ja.loc[fund] = jensen_alpha(mu, rfr, beta, mu_mkt)\n",
    "fund_ja"
   ]
  },
  {
   "cell_type": "code",
   "execution_count": null,
   "id": "3dc93f54-0b7c-495b-a808-e278c86293a6",
   "metadata": {},
   "outputs": [],
   "source": []
  }
 ],
 "metadata": {
  "kernelspec": {
   "display_name": "Python 3 (ipykernel)",
   "language": "python",
   "name": "python3"
  },
  "language_info": {
   "codemirror_mode": {
    "name": "ipython",
    "version": 3
   },
   "file_extension": ".py",
   "mimetype": "text/x-python",
   "name": "python",
   "nbconvert_exporter": "python",
   "pygments_lexer": "ipython3",
   "version": "3.11.4"
  }
 },
 "nbformat": 4,
 "nbformat_minor": 5
}
