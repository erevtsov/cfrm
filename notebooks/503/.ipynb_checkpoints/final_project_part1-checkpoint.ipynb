{
 "cells": [
  {
   "cell_type": "code",
   "execution_count": 1,
   "id": "357acbbb-a4fe-4576-8672-ec0389752937",
   "metadata": {
    "tags": []
   },
   "outputs": [],
   "source": [
    "import pandas as pd"
   ]
  },
  {
   "cell_type": "markdown",
   "id": "0d8c6925-c14e-403d-981c-e6f063d99a44",
   "metadata": {},
   "source": [
    "# Revtsov Final Project Part 1\n",
    "NOTE: All Results are in basis points"
   ]
  },
  {
   "cell_type": "markdown",
   "id": "82e0f8e8-f86b-45c1-afea-6ec80217f92b",
   "metadata": {},
   "source": [
    "## Setup"
   ]
  },
  {
   "cell_type": "markdown",
   "id": "dc244a0b-6b1e-4423-9bb8-89fd4b70da9e",
   "metadata": {},
   "source": [
    "#### Read in Data"
   ]
  },
  {
   "cell_type": "code",
   "execution_count": 2,
   "id": "541c2265-4a9a-45ba-8c63-8ac7d91a8302",
   "metadata": {
    "tags": []
   },
   "outputs": [],
   "source": [
    "bm_rts = pd.read_excel('FinalProjectData.xlsx', sheet_name='Benchmark Returns')\n",
    "bm_rts.date = pd.to_datetime(bm_rts.date).dt.date\n",
    "bm_rts.set_index('date', inplace=True)\n",
    "\n",
    "act_rts = pd.read_excel('FinalProjectData.xlsx', sheet_name='Active Returns')\n",
    "act_rts.date = pd.to_datetime(act_rts.date).dt.date\n",
    "act_rts.set_index('date', inplace=True)\n",
    "last_obs = act_rts.index[-1]"
   ]
  },
  {
   "cell_type": "markdown",
   "id": "4a919e6c-ebb6-466f-b1c1-e35a5531fda1",
   "metadata": {},
   "source": [
    "#### Table of Asset Level Data"
   ]
  },
  {
   "cell_type": "code",
   "execution_count": 3,
   "id": "6d3073c8-15a5-4691-b02f-1c9de71f7c16",
   "metadata": {
    "tags": []
   },
   "outputs": [
    {
     "data": {
      "text/html": [
       "<div>\n",
       "<style scoped>\n",
       "    .dataframe tbody tr th:only-of-type {\n",
       "        vertical-align: middle;\n",
       "    }\n",
       "\n",
       "    .dataframe tbody tr th {\n",
       "        vertical-align: top;\n",
       "    }\n",
       "\n",
       "    .dataframe thead th {\n",
       "        text-align: right;\n",
       "    }\n",
       "</style>\n",
       "<table border=\"1\" class=\"dataframe\">\n",
       "  <thead>\n",
       "    <tr style=\"text-align: right;\">\n",
       "      <th></th>\n",
       "      <th>Category</th>\n",
       "      <th>AssetClass</th>\n",
       "      <th>BMTicker</th>\n",
       "      <th>ActTicker</th>\n",
       "      <th>BMWeight</th>\n",
       "      <th>ActWeight</th>\n",
       "    </tr>\n",
       "  </thead>\n",
       "  <tbody>\n",
       "    <tr>\n",
       "      <th>0</th>\n",
       "      <td>Stocks</td>\n",
       "      <td>U.S. Large Cap</td>\n",
       "      <td>IWB</td>\n",
       "      <td>AF_IWB</td>\n",
       "      <td>0.55</td>\n",
       "      <td>0.58</td>\n",
       "    </tr>\n",
       "    <tr>\n",
       "      <th>1</th>\n",
       "      <td>Stocks</td>\n",
       "      <td>U.S. Small Cap</td>\n",
       "      <td>IWM</td>\n",
       "      <td>AF_IWM</td>\n",
       "      <td>0.06</td>\n",
       "      <td>0.07</td>\n",
       "    </tr>\n",
       "    <tr>\n",
       "      <th>2</th>\n",
       "      <td>Stocks</td>\n",
       "      <td>Non-U.S. Markets</td>\n",
       "      <td>IXUS</td>\n",
       "      <td>AF_IXUS</td>\n",
       "      <td>0.39</td>\n",
       "      <td>0.35</td>\n",
       "    </tr>\n",
       "    <tr>\n",
       "      <th>3</th>\n",
       "      <td>Bonds</td>\n",
       "      <td>Short Treasuries</td>\n",
       "      <td>SHV</td>\n",
       "      <td>AF_SHV</td>\n",
       "      <td>0.20</td>\n",
       "      <td>0.18</td>\n",
       "    </tr>\n",
       "    <tr>\n",
       "      <th>4</th>\n",
       "      <td>Bonds</td>\n",
       "      <td>Long Treasuries</td>\n",
       "      <td>TLT</td>\n",
       "      <td>AF_TLT</td>\n",
       "      <td>0.30</td>\n",
       "      <td>0.33</td>\n",
       "    </tr>\n",
       "    <tr>\n",
       "      <th>5</th>\n",
       "      <td>Bonds</td>\n",
       "      <td>Investment Grade Corporate Bonds</td>\n",
       "      <td>IGSB</td>\n",
       "      <td>AF_IGSB</td>\n",
       "      <td>0.50</td>\n",
       "      <td>0.49</td>\n",
       "    </tr>\n",
       "    <tr>\n",
       "      <th>6</th>\n",
       "      <td>Alternatives</td>\n",
       "      <td>Listed Real Estate</td>\n",
       "      <td>XLRE</td>\n",
       "      <td>AF_XLRE</td>\n",
       "      <td>0.34</td>\n",
       "      <td>0.40</td>\n",
       "    </tr>\n",
       "    <tr>\n",
       "      <th>7</th>\n",
       "      <td>Alternatives</td>\n",
       "      <td>Commodities</td>\n",
       "      <td>GSG</td>\n",
       "      <td>AF_GSG</td>\n",
       "      <td>0.33</td>\n",
       "      <td>0.30</td>\n",
       "    </tr>\n",
       "    <tr>\n",
       "      <th>8</th>\n",
       "      <td>Alternatives</td>\n",
       "      <td>Listed Infrastructure</td>\n",
       "      <td>IGF</td>\n",
       "      <td>AF_IGF</td>\n",
       "      <td>0.33</td>\n",
       "      <td>0.30</td>\n",
       "    </tr>\n",
       "  </tbody>\n",
       "</table>\n",
       "</div>"
      ],
      "text/plain": [
       "       Category                        AssetClass BMTicker ActTicker  \\\n",
       "0        Stocks                    U.S. Large Cap      IWB    AF_IWB   \n",
       "1        Stocks                    U.S. Small Cap      IWM    AF_IWM   \n",
       "2        Stocks                  Non-U.S. Markets     IXUS   AF_IXUS   \n",
       "3         Bonds                  Short Treasuries      SHV    AF_SHV   \n",
       "4         Bonds                   Long Treasuries      TLT    AF_TLT   \n",
       "5         Bonds  Investment Grade Corporate Bonds     IGSB   AF_IGSB   \n",
       "6  Alternatives                Listed Real Estate     XLRE   AF_XLRE   \n",
       "7  Alternatives                       Commodities      GSG    AF_GSG   \n",
       "8  Alternatives             Listed Infrastructure      IGF    AF_IGF   \n",
       "\n",
       "   BMWeight  ActWeight  \n",
       "0      0.55       0.58  \n",
       "1      0.06       0.07  \n",
       "2      0.39       0.35  \n",
       "3      0.20       0.18  \n",
       "4      0.30       0.33  \n",
       "5      0.50       0.49  \n",
       "6      0.34       0.40  \n",
       "7      0.33       0.30  \n",
       "8      0.33       0.30  "
      ]
     },
     "execution_count": 3,
     "metadata": {},
     "output_type": "execute_result"
    }
   ],
   "source": [
    "asset_data = pd.DataFrame(\n",
    "    \n",
    "    data=[\n",
    "        ['Stocks', 'U.S. Large Cap', 'IWB', 'AF_IWB', 0.55, 0.58],\n",
    "        ['Stocks', 'U.S. Small Cap', 'IWM', 'AF_IWM', 0.06, 0.07],\n",
    "        ['Stocks', 'Non-U.S. Markets', 'IXUS', 'AF_IXUS', 0.39, 0.35],\n",
    "        ['Bonds', 'Short Treasuries', 'SHV', 'AF_SHV', 0.2, 0.18],\n",
    "        ['Bonds', 'Long Treasuries', 'TLT', 'AF_TLT', 0.3, 0.33],\n",
    "        ['Bonds', 'Investment Grade Corporate Bonds', 'IGSB', 'AF_IGSB', 0.5, 0.49],\n",
    "        ['Alternatives', 'Listed Real Estate', 'XLRE', 'AF_XLRE', 0.34, 0.4],\n",
    "        ['Alternatives', 'Commodities', 'GSG', 'AF_GSG', 0.33, 0.3],\n",
    "        ['Alternatives', 'Listed Infrastructure', 'IGF', 'AF_IGF', 0.33, 0.3],\n",
    "    ],\n",
    "    columns=[\n",
    "        'Category', 'AssetClass', 'BMTicker', 'ActTicker', 'BMWeight', 'ActWeight',\n",
    "    ]\n",
    ")\n",
    "asset_data"
   ]
  },
  {
   "cell_type": "markdown",
   "id": "bda4192c-8f44-421d-a272-1c905294d218",
   "metadata": {},
   "source": [
    "#### Function to Calculate Attribution\n",
    "Used throughout the project."
   ]
  },
  {
   "cell_type": "code",
   "execution_count": 4,
   "id": "afeea7c4-a33b-4bbe-bff6-ed2ecacfc2e0",
   "metadata": {
    "tags": []
   },
   "outputs": [],
   "source": [
    "def calc_attribution(subset, scale=1e4):\n",
    "    # if either of the BM or Actual weight vectors don't add up to 1, rescale them.\n",
    "    subset.loc[:, 'BMWeight'] = subset.BMWeight / subset.BMWeight.sum()\n",
    "    subset.loc[:, 'ActWeight'] = subset.ActWeight / subset.ActWeight.sum()\n",
    "    \n",
    "    # calculate the 3 quadrants\n",
    "    q1 = subset.BMWeight * subset.BMReturn\n",
    "    q2 = subset.ActWeight * subset.BMReturn\n",
    "    q3 = subset.BMWeight * subset.ActReturn\n",
    "    q4 = subset.ActWeight * subset.ActReturn\n",
    "    \n",
    "    # calculate attribution and return\n",
    "    attribution = (q2 - q1).rename('Allocation').to_frame().join(\n",
    "        (q3 - q1).rename('Implementation')\n",
    "    ).join(\n",
    "        (q4 - q2 - q3 + q1).rename('Other')\n",
    "    )\n",
    "    return attribution.mul(scale)"
   ]
  },
  {
   "cell_type": "markdown",
   "id": "28cc0074-d96c-4ffa-bcee-0631fbe4215b",
   "metadata": {},
   "source": [
    "#### Merge in Returns\n",
    "Also calculate contribution."
   ]
  },
  {
   "cell_type": "code",
   "execution_count": 5,
   "id": "cba89fcc-c9a7-490b-bc1a-36d88dd65b9a",
   "metadata": {
    "tags": []
   },
   "outputs": [],
   "source": [
    "all_data = asset_data.merge(\n",
    "    bm_rts.loc[last_obs].rename('BMReturn'), how='left', left_on='BMTicker', right_index=True\n",
    ").merge(\n",
    "    act_rts.loc[last_obs].rename('ActReturn'), how='left', left_on='ActTicker', right_index=True\n",
    ").set_index('AssetClass')\n",
    "\n",
    "all_data.loc[:, 'BMCtr'] = all_data.BMWeight * all_data.BMReturn\n",
    "all_data.loc[:, 'ActCtr'] = all_data.ActWeight * all_data.ActReturn"
   ]
  },
  {
   "cell_type": "markdown",
   "id": "29430a3e-c9d9-4c29-a30d-9b40f7d7b7ef",
   "metadata": {},
   "source": [
    "## Multi-Asset Analysis"
   ]
  },
  {
   "cell_type": "code",
   "execution_count": 6,
   "id": "f4577553-4326-42a5-95dc-1fa78fbe2489",
   "metadata": {
    "tags": []
   },
   "outputs": [],
   "source": [
    "multi_asset_rts = all_data.groupby('Category')[['BMCtr', 'ActCtr']].sum()\n",
    "multi_asset_rts.columns = ['BMReturn', 'ActReturn']"
   ]
  },
  {
   "cell_type": "markdown",
   "id": "1e96ee8b-95fa-4456-9356-1b31e3441ec9",
   "metadata": {},
   "source": [
    "#### 60/30/10 Fund"
   ]
  },
  {
   "cell_type": "code",
   "execution_count": 7,
   "id": "9cca1895-2299-470a-896e-1b60f31d0050",
   "metadata": {
    "tags": []
   },
   "outputs": [],
   "source": [
    "multi_asset_fund1 = pd.DataFrame(\n",
    "    data=[\n",
    "        ['Stocks', .6, .59],\n",
    "        ['Bonds', .3, .26],\n",
    "        ['Alternatives', .1, .15]\n",
    "    ],\n",
    "    columns=['Category', 'BMWeight', 'ActWeight'],\n",
    ").set_index('Category')\n",
    "multi_asset_fund1 = multi_asset_fund1.join(multi_asset_rts)"
   ]
  },
  {
   "cell_type": "code",
   "execution_count": 8,
   "id": "d0ea658b-306c-44a9-907b-c5bcf4fc8540",
   "metadata": {
    "tags": []
   },
   "outputs": [
    {
     "data": {
      "text/html": [
       "<div>\n",
       "<style scoped>\n",
       "    .dataframe tbody tr th:only-of-type {\n",
       "        vertical-align: middle;\n",
       "    }\n",
       "\n",
       "    .dataframe tbody tr th {\n",
       "        vertical-align: top;\n",
       "    }\n",
       "\n",
       "    .dataframe thead th {\n",
       "        text-align: right;\n",
       "    }\n",
       "</style>\n",
       "<table border=\"1\" class=\"dataframe\">\n",
       "  <thead>\n",
       "    <tr style=\"text-align: right;\">\n",
       "      <th></th>\n",
       "      <th>Allocation</th>\n",
       "      <th>Implementation</th>\n",
       "      <th>Other</th>\n",
       "    </tr>\n",
       "    <tr>\n",
       "      <th>Category</th>\n",
       "      <th></th>\n",
       "      <th></th>\n",
       "      <th></th>\n",
       "    </tr>\n",
       "  </thead>\n",
       "  <tbody>\n",
       "    <tr>\n",
       "      <th>Stocks</th>\n",
       "      <td>-0.627142</td>\n",
       "      <td>-2.086244</td>\n",
       "      <td>0.034771</td>\n",
       "    </tr>\n",
       "    <tr>\n",
       "      <th>Bonds</th>\n",
       "      <td>-1.120395</td>\n",
       "      <td>0.555211</td>\n",
       "      <td>-0.074028</td>\n",
       "    </tr>\n",
       "    <tr>\n",
       "      <th>Alternatives</th>\n",
       "      <td>-0.413608</td>\n",
       "      <td>0.891008</td>\n",
       "      <td>0.445504</td>\n",
       "    </tr>\n",
       "  </tbody>\n",
       "</table>\n",
       "</div>"
      ],
      "text/plain": [
       "              Allocation  Implementation     Other\n",
       "Category                                          \n",
       "Stocks         -0.627142       -2.086244  0.034771\n",
       "Bonds          -1.120395        0.555211 -0.074028\n",
       "Alternatives   -0.413608        0.891008  0.445504"
      ]
     },
     "execution_count": 8,
     "metadata": {},
     "output_type": "execute_result"
    }
   ],
   "source": [
    "calc_attribution(multi_asset_fund1)"
   ]
  },
  {
   "cell_type": "markdown",
   "id": "21190e07-43e1-4202-afd5-7c78e62f61e6",
   "metadata": {},
   "source": [
    "#### 50/45/5 Fund"
   ]
  },
  {
   "cell_type": "code",
   "execution_count": 9,
   "id": "1524321d-074b-4f38-9b5c-cb6319db8945",
   "metadata": {
    "tags": []
   },
   "outputs": [],
   "source": [
    "multi_asset_fund2 = pd.DataFrame(\n",
    "    data=[\n",
    "        ['Stocks', .5, .51],\n",
    "        ['Bonds', .45, .42],\n",
    "        ['Alternatives', .05, .07]\n",
    "    ],\n",
    "    columns=['Category', 'BMWeight', 'ActWeight'],\n",
    ").set_index('Category')\n",
    "multi_asset_fund2 = multi_asset_fund2.join(multi_asset_rts)"
   ]
  },
  {
   "cell_type": "code",
   "execution_count": 10,
   "id": "5dc67afb-bc77-40e9-b2aa-d64229d659d3",
   "metadata": {
    "tags": []
   },
   "outputs": [
    {
     "data": {
      "text/html": [
       "<div>\n",
       "<style scoped>\n",
       "    .dataframe tbody tr th:only-of-type {\n",
       "        vertical-align: middle;\n",
       "    }\n",
       "\n",
       "    .dataframe tbody tr th {\n",
       "        vertical-align: top;\n",
       "    }\n",
       "\n",
       "    .dataframe thead th {\n",
       "        text-align: right;\n",
       "    }\n",
       "</style>\n",
       "<table border=\"1\" class=\"dataframe\">\n",
       "  <thead>\n",
       "    <tr style=\"text-align: right;\">\n",
       "      <th></th>\n",
       "      <th>Allocation</th>\n",
       "      <th>Implementation</th>\n",
       "      <th>Other</th>\n",
       "    </tr>\n",
       "    <tr>\n",
       "      <th>Category</th>\n",
       "      <th></th>\n",
       "      <th></th>\n",
       "      <th></th>\n",
       "    </tr>\n",
       "  </thead>\n",
       "  <tbody>\n",
       "    <tr>\n",
       "      <th>Stocks</th>\n",
       "      <td>0.627142</td>\n",
       "      <td>-1.738537</td>\n",
       "      <td>-0.034771</td>\n",
       "    </tr>\n",
       "    <tr>\n",
       "      <th>Bonds</th>\n",
       "      <td>-0.840296</td>\n",
       "      <td>0.832817</td>\n",
       "      <td>-0.055521</td>\n",
       "    </tr>\n",
       "    <tr>\n",
       "      <th>Alternatives</th>\n",
       "      <td>-0.165443</td>\n",
       "      <td>0.445504</td>\n",
       "      <td>0.178202</td>\n",
       "    </tr>\n",
       "  </tbody>\n",
       "</table>\n",
       "</div>"
      ],
      "text/plain": [
       "              Allocation  Implementation     Other\n",
       "Category                                          \n",
       "Stocks          0.627142       -1.738537 -0.034771\n",
       "Bonds          -0.840296        0.832817 -0.055521\n",
       "Alternatives   -0.165443        0.445504  0.178202"
      ]
     },
     "execution_count": 10,
     "metadata": {},
     "output_type": "execute_result"
    }
   ],
   "source": [
    "calc_attribution(multi_asset_fund2)"
   ]
  },
  {
   "cell_type": "markdown",
   "id": "bea423c2-3d98-4e33-acfb-294ef0cc9a87",
   "metadata": {},
   "source": [
    "## Asset Class Analysis"
   ]
  },
  {
   "cell_type": "markdown",
   "id": "b1b99774-a80d-431b-b227-a8d0fd22fe42",
   "metadata": {},
   "source": [
    "### Stocks"
   ]
  },
  {
   "cell_type": "markdown",
   "id": "b21c3450-6c75-4e24-b02f-a259252a2194",
   "metadata": {},
   "source": [
    "#### Allocation"
   ]
  },
  {
   "cell_type": "code",
   "execution_count": 11,
   "id": "b709d264-e03f-4c19-8b12-63671c72e9ee",
   "metadata": {
    "tags": []
   },
   "outputs": [
    {
     "data": {
      "text/html": [
       "<div>\n",
       "<style scoped>\n",
       "    .dataframe tbody tr th:only-of-type {\n",
       "        vertical-align: middle;\n",
       "    }\n",
       "\n",
       "    .dataframe tbody tr th {\n",
       "        vertical-align: top;\n",
       "    }\n",
       "\n",
       "    .dataframe thead th {\n",
       "        text-align: right;\n",
       "    }\n",
       "</style>\n",
       "<table border=\"1\" class=\"dataframe\">\n",
       "  <thead>\n",
       "    <tr style=\"text-align: right;\">\n",
       "      <th></th>\n",
       "      <th>Allocation</th>\n",
       "      <th>Implementation</th>\n",
       "      <th>Other</th>\n",
       "    </tr>\n",
       "    <tr>\n",
       "      <th>AssetClass</th>\n",
       "      <th></th>\n",
       "      <th></th>\n",
       "      <th></th>\n",
       "    </tr>\n",
       "  </thead>\n",
       "  <tbody>\n",
       "    <tr>\n",
       "      <th>U.S. Large Cap</th>\n",
       "      <td>1.008307</td>\n",
       "      <td>0.144734</td>\n",
       "      <td>0.007895</td>\n",
       "    </tr>\n",
       "    <tr>\n",
       "      <th>U.S. Small Cap</th>\n",
       "      <td>-0.382905</td>\n",
       "      <td>-0.037353</td>\n",
       "      <td>-0.006225</td>\n",
       "    </tr>\n",
       "    <tr>\n",
       "      <th>Non-U.S. Markets</th>\n",
       "      <td>-4.771900</td>\n",
       "      <td>0.624418</td>\n",
       "      <td>-0.064043</td>\n",
       "    </tr>\n",
       "  </tbody>\n",
       "</table>\n",
       "</div>"
      ],
      "text/plain": [
       "                  Allocation  Implementation     Other\n",
       "AssetClass                                            \n",
       "U.S. Large Cap      1.008307        0.144734  0.007895\n",
       "U.S. Small Cap     -0.382905       -0.037353 -0.006225\n",
       "Non-U.S. Markets   -4.771900        0.624418 -0.064043"
      ]
     },
     "execution_count": 11,
     "metadata": {},
     "output_type": "execute_result"
    }
   ],
   "source": [
    "predicate = 'Category == \"Stocks\"'\n",
    "subset = all_data.query(predicate).copy()\n",
    "calc_attribution(subset)"
   ]
  },
  {
   "cell_type": "markdown",
   "id": "ea452a0e-ea10-43fc-86ca-1f921849b7c4",
   "metadata": {},
   "source": [
    "#### Capitalization"
   ]
  },
  {
   "cell_type": "code",
   "execution_count": 12,
   "id": "3ee0d664-04b8-4371-b048-5e693978dc2c",
   "metadata": {
    "tags": []
   },
   "outputs": [
    {
     "data": {
      "text/html": [
       "<div>\n",
       "<style scoped>\n",
       "    .dataframe tbody tr th:only-of-type {\n",
       "        vertical-align: middle;\n",
       "    }\n",
       "\n",
       "    .dataframe tbody tr th {\n",
       "        vertical-align: top;\n",
       "    }\n",
       "\n",
       "    .dataframe thead th {\n",
       "        text-align: right;\n",
       "    }\n",
       "</style>\n",
       "<table border=\"1\" class=\"dataframe\">\n",
       "  <thead>\n",
       "    <tr style=\"text-align: right;\">\n",
       "      <th></th>\n",
       "      <th>Allocation</th>\n",
       "      <th>Implementation</th>\n",
       "      <th>Other</th>\n",
       "    </tr>\n",
       "    <tr>\n",
       "      <th>Cap</th>\n",
       "      <th></th>\n",
       "      <th></th>\n",
       "      <th></th>\n",
       "    </tr>\n",
       "  </thead>\n",
       "  <tbody>\n",
       "    <tr>\n",
       "      <th>Large</th>\n",
       "      <td>-0.313639</td>\n",
       "      <td>0.237268</td>\n",
       "      <td>-0.002456</td>\n",
       "    </tr>\n",
       "    <tr>\n",
       "      <th>Small</th>\n",
       "      <td>-0.357313</td>\n",
       "      <td>-0.061234</td>\n",
       "      <td>-0.005809</td>\n",
       "    </tr>\n",
       "  </tbody>\n",
       "</table>\n",
       "</div>"
      ],
      "text/plain": [
       "       Allocation  Implementation     Other\n",
       "Cap                                        \n",
       "Large   -0.313639        0.237268 -0.002456\n",
       "Small   -0.357313       -0.061234 -0.005809"
      ]
     },
     "execution_count": 12,
     "metadata": {},
     "output_type": "execute_result"
    }
   ],
   "source": [
    "predicate = '(Category == \"Stocks\") & (AssetClass != \"Non-U.S. Markets\")'\n",
    "subset = all_data.query(predicate).copy()\n",
    "subset['Cap'] = ['Large', 'Small']\n",
    "subset = subset.reset_index().set_index('Cap')\n",
    "calc_attribution(subset)"
   ]
  },
  {
   "cell_type": "markdown",
   "id": "b06a2cbd-f54c-40d3-817e-b52c8ca83721",
   "metadata": {},
   "source": [
    "#### Country"
   ]
  },
  {
   "cell_type": "code",
   "execution_count": 13,
   "id": "216564f7-10f9-431a-8365-d4ac0590b5e7",
   "metadata": {
    "tags": []
   },
   "outputs": [
    {
     "data": {
      "text/html": [
       "<div>\n",
       "<style scoped>\n",
       "    .dataframe tbody tr th:only-of-type {\n",
       "        vertical-align: middle;\n",
       "    }\n",
       "\n",
       "    .dataframe tbody tr th {\n",
       "        vertical-align: top;\n",
       "    }\n",
       "\n",
       "    .dataframe thead th {\n",
       "        text-align: right;\n",
       "    }\n",
       "</style>\n",
       "<table border=\"1\" class=\"dataframe\">\n",
       "  <thead>\n",
       "    <tr style=\"text-align: right;\">\n",
       "      <th></th>\n",
       "      <th>Allocation</th>\n",
       "      <th>Implementation</th>\n",
       "      <th>Other</th>\n",
       "    </tr>\n",
       "    <tr>\n",
       "      <th>Country</th>\n",
       "      <th></th>\n",
       "      <th></th>\n",
       "      <th></th>\n",
       "    </tr>\n",
       "  </thead>\n",
       "  <tbody>\n",
       "    <tr>\n",
       "      <th>Non-US</th>\n",
       "      <td>-1.861041</td>\n",
       "      <td>-1.642495</td>\n",
       "      <td>0.168461</td>\n",
       "    </tr>\n",
       "    <tr>\n",
       "      <th>US</th>\n",
       "      <td>0.647528</td>\n",
       "      <td>0.448016</td>\n",
       "      <td>0.029378</td>\n",
       "    </tr>\n",
       "  </tbody>\n",
       "</table>\n",
       "</div>"
      ],
      "text/plain": [
       "         Allocation  Implementation     Other\n",
       "Country                                      \n",
       "Non-US    -1.861041       -1.642495  0.168461\n",
       "US         0.647528        0.448016  0.029378"
      ]
     },
     "execution_count": 13,
     "metadata": {},
     "output_type": "execute_result"
    }
   ],
   "source": [
    "predicate = 'Category == \"Stocks\"'\n",
    "subset = all_data.query(predicate).copy()\n",
    "\n",
    "subset['Country'] = ['US', 'US', 'Non-US']\n",
    "\n",
    "subset = subset.groupby('Country')[['BMWeight', 'ActWeight', 'BMCtr', 'ActCtr']].sum().rename(columns={'BMCtr': 'BMReturn', 'ActCtr': 'ActReturn'})\n",
    "calc_attribution(subset)"
   ]
  },
  {
   "cell_type": "markdown",
   "id": "f708532f-6564-45aa-99c1-cf33a08fd9af",
   "metadata": {},
   "source": [
    "### Bonds"
   ]
  },
  {
   "cell_type": "markdown",
   "id": "49d89a56-0cb6-413a-a6ee-2763cef5a528",
   "metadata": {},
   "source": [
    "#### Allocation"
   ]
  },
  {
   "cell_type": "code",
   "execution_count": 14,
   "id": "ad60f9b4-ead6-40b7-ae63-6eb2405879b0",
   "metadata": {
    "tags": []
   },
   "outputs": [
    {
     "data": {
      "text/html": [
       "<div>\n",
       "<style scoped>\n",
       "    .dataframe tbody tr th:only-of-type {\n",
       "        vertical-align: middle;\n",
       "    }\n",
       "\n",
       "    .dataframe tbody tr th {\n",
       "        vertical-align: top;\n",
       "    }\n",
       "\n",
       "    .dataframe thead th {\n",
       "        text-align: right;\n",
       "    }\n",
       "</style>\n",
       "<table border=\"1\" class=\"dataframe\">\n",
       "  <thead>\n",
       "    <tr style=\"text-align: right;\">\n",
       "      <th></th>\n",
       "      <th>Allocation</th>\n",
       "      <th>Implementation</th>\n",
       "      <th>Other</th>\n",
       "    </tr>\n",
       "    <tr>\n",
       "      <th>AssetClass</th>\n",
       "      <th></th>\n",
       "      <th></th>\n",
       "      <th></th>\n",
       "    </tr>\n",
       "  </thead>\n",
       "  <tbody>\n",
       "    <tr>\n",
       "      <th>Short Treasuries</th>\n",
       "      <td>-0.218034</td>\n",
       "      <td>0.120938</td>\n",
       "      <td>-0.012094</td>\n",
       "    </tr>\n",
       "    <tr>\n",
       "      <th>Long Treasuries</th>\n",
       "      <td>1.216080</td>\n",
       "      <td>1.258667</td>\n",
       "      <td>0.125867</td>\n",
       "    </tr>\n",
       "    <tr>\n",
       "      <th>Investment Grade Corporate Bonds</th>\n",
       "      <td>-0.273375</td>\n",
       "      <td>-0.374841</td>\n",
       "      <td>0.007497</td>\n",
       "    </tr>\n",
       "  </tbody>\n",
       "</table>\n",
       "</div>"
      ],
      "text/plain": [
       "                                  Allocation  Implementation     Other\n",
       "AssetClass                                                            \n",
       "Short Treasuries                   -0.218034        0.120938 -0.012094\n",
       "Long Treasuries                     1.216080        1.258667  0.125867\n",
       "Investment Grade Corporate Bonds   -0.273375       -0.374841  0.007497"
      ]
     },
     "execution_count": 14,
     "metadata": {},
     "output_type": "execute_result"
    }
   ],
   "source": [
    "predicate = 'Category == \"Bonds\"'\n",
    "subset = all_data.query(predicate).copy()\n",
    "calc_attribution(subset)"
   ]
  },
  {
   "cell_type": "markdown",
   "id": "1eb1f670-d0a3-4315-84e9-c40d7c76672d",
   "metadata": {},
   "source": [
    "#### Duration"
   ]
  },
  {
   "cell_type": "code",
   "execution_count": 15,
   "id": "5efe809f-3131-437f-b531-503447bcb337",
   "metadata": {
    "tags": []
   },
   "outputs": [
    {
     "data": {
      "text/html": [
       "<div>\n",
       "<style scoped>\n",
       "    .dataframe tbody tr th:only-of-type {\n",
       "        vertical-align: middle;\n",
       "    }\n",
       "\n",
       "    .dataframe tbody tr th {\n",
       "        vertical-align: top;\n",
       "    }\n",
       "\n",
       "    .dataframe thead th {\n",
       "        text-align: right;\n",
       "    }\n",
       "</style>\n",
       "<table border=\"1\" class=\"dataframe\">\n",
       "  <thead>\n",
       "    <tr style=\"text-align: right;\">\n",
       "      <th></th>\n",
       "      <th>Allocation</th>\n",
       "      <th>Implementation</th>\n",
       "      <th>Other</th>\n",
       "    </tr>\n",
       "    <tr>\n",
       "      <th>Duration</th>\n",
       "      <th></th>\n",
       "      <th></th>\n",
       "      <th></th>\n",
       "    </tr>\n",
       "  </thead>\n",
       "  <tbody>\n",
       "    <tr>\n",
       "      <th>Short</th>\n",
       "      <td>-0.513022</td>\n",
       "      <td>0.241875</td>\n",
       "      <td>-0.028456</td>\n",
       "    </tr>\n",
       "    <tr>\n",
       "      <th>Long</th>\n",
       "      <td>1.907576</td>\n",
       "      <td>2.517334</td>\n",
       "      <td>0.197438</td>\n",
       "    </tr>\n",
       "  </tbody>\n",
       "</table>\n",
       "</div>"
      ],
      "text/plain": [
       "          Allocation  Implementation     Other\n",
       "Duration                                      \n",
       "Short      -0.513022        0.241875 -0.028456\n",
       "Long        1.907576        2.517334  0.197438"
      ]
     },
     "execution_count": 15,
     "metadata": {},
     "output_type": "execute_result"
    }
   ],
   "source": [
    "predicate = '(Category == \"Bonds\") & (AssetClass != \"Investment Grade Corporate Bonds\")'\n",
    "subset = all_data.query(predicate).copy()\n",
    "subset['Duration'] = ['Short', 'Long']\n",
    "\n",
    "subset = subset.reset_index().set_index('Duration')\n",
    "calc_attribution(subset)"
   ]
  },
  {
   "cell_type": "markdown",
   "id": "52bdae3a-2477-4899-8ac4-22b1060b0368",
   "metadata": {},
   "source": [
    "#### Credit Quality"
   ]
  },
  {
   "cell_type": "code",
   "execution_count": 16,
   "id": "c437a447-adfb-4e38-9523-cb31ce12089f",
   "metadata": {
    "tags": []
   },
   "outputs": [
    {
     "data": {
      "text/html": [
       "<div>\n",
       "<style scoped>\n",
       "    .dataframe tbody tr th:only-of-type {\n",
       "        vertical-align: middle;\n",
       "    }\n",
       "\n",
       "    .dataframe tbody tr th {\n",
       "        vertical-align: top;\n",
       "    }\n",
       "\n",
       "    .dataframe thead th {\n",
       "        text-align: right;\n",
       "    }\n",
       "</style>\n",
       "<table border=\"1\" class=\"dataframe\">\n",
       "  <thead>\n",
       "    <tr style=\"text-align: right;\">\n",
       "      <th></th>\n",
       "      <th>Allocation</th>\n",
       "      <th>Implementation</th>\n",
       "      <th>Other</th>\n",
       "    </tr>\n",
       "    <tr>\n",
       "      <th>Credit Quality</th>\n",
       "      <th></th>\n",
       "      <th></th>\n",
       "      <th></th>\n",
       "    </tr>\n",
       "  </thead>\n",
       "  <tbody>\n",
       "    <tr>\n",
       "      <th>IG</th>\n",
       "      <td>-0.136687</td>\n",
       "      <td>-0.320360</td>\n",
       "      <td>0.006407</td>\n",
       "    </tr>\n",
       "    <tr>\n",
       "      <th>Treasury</th>\n",
       "      <td>0.143411</td>\n",
       "      <td>1.245712</td>\n",
       "      <td>0.024914</td>\n",
       "    </tr>\n",
       "  </tbody>\n",
       "</table>\n",
       "</div>"
      ],
      "text/plain": [
       "                Allocation  Implementation     Other\n",
       "Credit Quality                                      \n",
       "IG               -0.136687       -0.320360  0.006407\n",
       "Treasury          0.143411        1.245712  0.024914"
      ]
     },
     "execution_count": 16,
     "metadata": {},
     "output_type": "execute_result"
    }
   ],
   "source": [
    "predicate = 'Category == \"Bonds\"'\n",
    "subset = all_data.query(predicate).copy()\n",
    "\n",
    "subset['Credit Quality'] = ['Treasury', 'Treasury', 'IG']\n",
    "\n",
    "subset = subset.groupby('Credit Quality')[['BMWeight', 'ActWeight', 'BMCtr', 'ActCtr']].sum().rename(columns={'BMCtr': 'BMReturn', 'ActCtr': 'ActReturn'})\n",
    "calc_attribution(subset)"
   ]
  },
  {
   "cell_type": "markdown",
   "id": "ee8d5c8f-9cf9-4e4e-a1a4-a645fe5421e7",
   "metadata": {},
   "source": [
    "### Alternatives"
   ]
  },
  {
   "cell_type": "markdown",
   "id": "27352f0d-8c1b-4c5a-8f9a-6f2c955fc14b",
   "metadata": {},
   "source": [
    "#### Allocation"
   ]
  },
  {
   "cell_type": "code",
   "execution_count": 17,
   "id": "9a741c4b-fbce-4949-9e1c-e2b506dbf1a1",
   "metadata": {
    "tags": []
   },
   "outputs": [
    {
     "data": {
      "text/html": [
       "<div>\n",
       "<style scoped>\n",
       "    .dataframe tbody tr th:only-of-type {\n",
       "        vertical-align: middle;\n",
       "    }\n",
       "\n",
       "    .dataframe tbody tr th {\n",
       "        vertical-align: top;\n",
       "    }\n",
       "\n",
       "    .dataframe thead th {\n",
       "        text-align: right;\n",
       "    }\n",
       "</style>\n",
       "<table border=\"1\" class=\"dataframe\">\n",
       "  <thead>\n",
       "    <tr style=\"text-align: right;\">\n",
       "      <th></th>\n",
       "      <th>Allocation</th>\n",
       "      <th>Implementation</th>\n",
       "      <th>Other</th>\n",
       "    </tr>\n",
       "    <tr>\n",
       "      <th>AssetClass</th>\n",
       "      <th></th>\n",
       "      <th></th>\n",
       "      <th></th>\n",
       "    </tr>\n",
       "  </thead>\n",
       "  <tbody>\n",
       "    <tr>\n",
       "      <th>Listed Real Estate</th>\n",
       "      <td>4.963083</td>\n",
       "      <td>0.936629</td>\n",
       "      <td>0.165287</td>\n",
       "    </tr>\n",
       "    <tr>\n",
       "      <th>Commodities</th>\n",
       "      <td>4.010960</td>\n",
       "      <td>-0.245712</td>\n",
       "      <td>0.022337</td>\n",
       "    </tr>\n",
       "    <tr>\n",
       "      <th>Listed Infrastructure</th>\n",
       "      <td>-0.702207</td>\n",
       "      <td>-0.264326</td>\n",
       "      <td>0.024030</td>\n",
       "    </tr>\n",
       "  </tbody>\n",
       "</table>\n",
       "</div>"
      ],
      "text/plain": [
       "                       Allocation  Implementation     Other\n",
       "AssetClass                                                 \n",
       "Listed Real Estate       4.963083        0.936629  0.165287\n",
       "Commodities              4.010960       -0.245712  0.022337\n",
       "Listed Infrastructure   -0.702207       -0.264326  0.024030"
      ]
     },
     "execution_count": 17,
     "metadata": {},
     "output_type": "execute_result"
    }
   ],
   "source": [
    "predicate = 'Category == \"Alternatives\"'\n",
    "subset = all_data.query(predicate).copy()\n",
    "calc_attribution(subset)"
   ]
  },
  {
   "cell_type": "code",
   "execution_count": null,
   "id": "e361a271-430c-4fc5-a235-32500f894bcc",
   "metadata": {},
   "outputs": [],
   "source": []
  }
 ],
 "metadata": {
  "kernelspec": {
   "display_name": "Python 3 (ipykernel)",
   "language": "python",
   "name": "python3"
  },
  "language_info": {
   "codemirror_mode": {
    "name": "ipython",
    "version": 3
   },
   "file_extension": ".py",
   "mimetype": "text/x-python",
   "name": "python",
   "nbconvert_exporter": "python",
   "pygments_lexer": "ipython3",
   "version": "3.11.4"
  }
 },
 "nbformat": 4,
 "nbformat_minor": 5
}
