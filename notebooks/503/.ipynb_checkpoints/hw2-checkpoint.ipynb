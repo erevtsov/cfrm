{
 "cells": [
  {
   "cell_type": "markdown",
   "id": "a02b4b21-1aba-4fee-8686-d9fa408dddaa",
   "metadata": {},
   "source": [
    "# Revtsov HW2"
   ]
  },
  {
   "cell_type": "code",
   "execution_count": 1,
   "id": "a68bc62d-f757-41be-95d5-5c66440a25c5",
   "metadata": {},
   "outputs": [
    {
     "name": "stdout",
     "output_type": "stream",
     "text": [
      "(CVXPY) Apr 21 07:54:41 PM: Encountered unexpected exception importing solver OSQP:\n",
      "ImportError('DLL load failed while importing qdldl: The specified module could not be found.')\n"
     ]
    }
   ],
   "source": [
    "from datetime import date\n",
    "\n",
    "import numpy as np\n",
    "import pandas as pd\n",
    "import cvxpy as cp\n",
    "\n",
    "from scipy.optimize import minimize"
   ]
  },
  {
   "cell_type": "code",
   "execution_count": 2,
   "id": "8451f406-e2b6-4189-a817-24d14b6fe1f3",
   "metadata": {},
   "outputs": [],
   "source": [
    "data = pd.read_csv('IWM.csv').set_index('Date')['Adj Close'].rename('IWM').to_frame().join(\n",
    "    pd.read_csv('VNQ.csv').set_index('Date')['Adj Close'].rename('VNQ')\n",
    ").join(\n",
    "    pd.read_csv('AGG.csv').set_index('Date')['Adj Close'].rename('AGG')\n",
    ")\n",
    "\n",
    "data = data.pct_change().dropna()"
   ]
  },
  {
   "cell_type": "markdown",
   "id": "de9acba5-71c4-4c5a-954c-9e55fdde315b",
   "metadata": {},
   "source": [
    "## Problem 1"
   ]
  },
  {
   "cell_type": "code",
   "execution_count": 3,
   "id": "b639bfa9-a5f7-4435-9f64-5ceb676040a9",
   "metadata": {},
   "outputs": [],
   "source": [
    "alpha = 5 # in percent"
   ]
  },
  {
   "cell_type": "code",
   "execution_count": 4,
   "id": "f215b352-0372-4dbe-863c-cc526dc40ced",
   "metadata": {},
   "outputs": [],
   "source": [
    "def var(xs, alpha):\n",
    "    return np.percentile(xs, alpha, method='inverted_cdf')\n",
    "    # var_index = int(np.floor(len(xs) * alpha))\n",
    "    # return xs.sort_values(ascending=True).iloc[var_index-1]\n",
    "\n",
    "def cvar(xs, alpha):\n",
    "    return xs[xs < var(xs, alpha)].mean()\n",
    "    # var_index = int(np.floor(len(xs) * alpha))\n",
    "    # return xs.sort_values(ascending=True).iloc[:var_index-1].mean()"
   ]
  },
  {
   "cell_type": "code",
   "execution_count": 5,
   "id": "505e04cb-e2ec-4e6c-b810-999c588e6a92",
   "metadata": {},
   "outputs": [],
   "source": [
    "etf_var = data.apply(var, axis=0, alpha=alpha)\n",
    "\n",
    "etf_cvar = data.apply(cvar, axis=0, alpha=alpha)\n",
    "\n",
    "# first create the returns for 40/30/30 portfolio for each period (assuming we're rebalacing at each period)\n",
    "wts = pd.Series(index=data.columns, data=[0.4, 0.3, 0.3])\n",
    "port = data @ wts\n",
    "\n",
    "port_var = var(port, alpha=alpha)\n",
    "\n",
    "port_cvar = cvar(port, alpha=alpha)\n",
    "\n",
    "wted_var = etf_var @ wts\n",
    "\n",
    "wted_cvar = etf_cvar @ wts"
   ]
  },
  {
   "cell_type": "markdown",
   "id": "e98eeb07-8be5-48db-89e0-c1117486a395",
   "metadata": {},
   "source": [
    "##### 95% VaR of each ETF standalone\n",
    "To calculate VaR I am calculating the 95% percentile return"
   ]
  },
  {
   "cell_type": "code",
   "execution_count": 6,
   "id": "625d1668-fed7-4a0b-9b76-c8d479d78873",
   "metadata": {},
   "outputs": [
    {
     "data": {
      "text/plain": [
       "IWM   -0.092599\n",
       "VNQ   -0.076778\n",
       "AGG   -0.025870\n",
       "dtype: float64"
      ]
     },
     "execution_count": 6,
     "metadata": {},
     "output_type": "execute_result"
    }
   ],
   "source": [
    "etf_var"
   ]
  },
  {
   "cell_type": "markdown",
   "id": "034d4b45-57e6-4639-bb3c-f35adfe3923b",
   "metadata": {},
   "source": [
    "##### 95% CVaR of each ETF standalone\n",
    "CVaR is a tail risk calculation that represents the expected return of the portfolio given that the return is less than VaR. CVaR can be calculated by taking the mean (since the each return is equally likely to happen) of the 5 observations that are worse than VaR."
   ]
  },
  {
   "cell_type": "code",
   "execution_count": 7,
   "id": "03b37773-fbbd-42ff-a155-af1dd235e8f3",
   "metadata": {},
   "outputs": [
    {
     "data": {
      "text/plain": [
       "IWM   -0.129289\n",
       "VNQ   -0.118104\n",
       "AGG   -0.033466\n",
       "dtype: float64"
      ]
     },
     "execution_count": 7,
     "metadata": {},
     "output_type": "execute_result"
    }
   ],
   "source": [
    "etf_cvar"
   ]
  },
  {
   "cell_type": "markdown",
   "id": "faf000c0-e05a-4e62-b4e3-4279ef41887d",
   "metadata": {},
   "source": [
    "##### Portfolio Statistics "
   ]
  },
  {
   "cell_type": "code",
   "execution_count": 8,
   "id": "2ee48a25-a4e3-482c-b64f-f350defdf81e",
   "metadata": {},
   "outputs": [
    {
     "data": {
      "text/plain": [
       "'Portfolio VaR is -0.0610049950338353 and CVar is -0.08827752203344778'"
      ]
     },
     "execution_count": 8,
     "metadata": {},
     "output_type": "execute_result"
    }
   ],
   "source": [
    "f'Portfolio VaR is {port_var} and CVar is {port_cvar}'"
   ]
  },
  {
   "cell_type": "markdown",
   "id": "4b6bd56e-6f2e-48fa-9add-33e15ce60b9a",
   "metadata": {},
   "source": [
    "##### Weighted Component Statistics "
   ]
  },
  {
   "cell_type": "code",
   "execution_count": 9,
   "id": "19e822e2-977a-4eb9-a426-5257379a2d61",
   "metadata": {},
   "outputs": [
    {
     "data": {
      "text/plain": [
       "'Weighted component VaR is -0.06783391340626091 and CVar is -0.09718645913269104'"
      ]
     },
     "execution_count": 9,
     "metadata": {},
     "output_type": "execute_result"
    }
   ],
   "source": [
    "f'Weighted component VaR is {wted_var} and CVar is {wted_cvar}'"
   ]
  },
  {
   "cell_type": "markdown",
   "id": "9a9dd758-f556-4997-a6b8-81fb1966bb8b",
   "metadata": {},
   "source": [
    "The VaR and CVaR of portfolio is lower (in absolute terms) that the respective weighted VaR and CVaR of the components. "
   ]
  },
  {
   "cell_type": "markdown",
   "id": "f5c65962-12c4-40df-b428-19ca6df35236",
   "metadata": {},
   "source": [
    "## Problem 2"
   ]
  },
  {
   "cell_type": "markdown",
   "id": "e597d72f-de4a-4c9a-af38-35440e8d0c49",
   "metadata": {},
   "source": [
    "$$\n",
    "    U(W_{ce}) = \\mathbb{E}[U(W)]\n",
    "$$\n",
    "$$\n",
    "    U(W) = \\frac{W^{\\beta}-1}{\\beta}\n",
    "$$\n",
    "$$\n",
    "    W = ({\\beta}U(W)+1)^{1/\\beta}\n",
    "$$"
   ]
  },
  {
   "cell_type": "markdown",
   "id": "4a70f381-021a-458e-822a-57651e0e454b",
   "metadata": {},
   "source": [
    "Since the each of the outcomes is equally likely, utility of the certainty equivalent is the mean of the utilities of the possible outcomes. After we have the utility of the certainty equivalent, we can find CE itself by the formula in line 3 above"
   ]
  },
  {
   "cell_type": "code",
   "execution_count": 10,
   "id": "0ff2753a-c54a-4faa-af48-32e5832cb62d",
   "metadata": {},
   "outputs": [],
   "source": [
    "def power_utility(w, beta):\n",
    "    return (w**beta-1)/beta"
   ]
  },
  {
   "cell_type": "code",
   "execution_count": 11,
   "id": "55ca5c27-b884-43d5-870c-29a1e1d6ebe6",
   "metadata": {},
   "outputs": [
    {
     "data": {
      "text/plain": [
       "'The certainty equivalent is 1004.77.'"
      ]
     },
     "execution_count": 11,
     "metadata": {},
     "output_type": "execute_result"
    }
   ],
   "source": [
    "beta = 0.2\n",
    "\n",
    "utility = power_utility(w=1000*(1+port.values), beta=beta)\n",
    "\n",
    "ce = (beta*utility.mean()+1)**(1/beta)\n",
    "\n",
    "f'The certainty equivalent is {round(ce, 2)}.'"
   ]
  },
  {
   "cell_type": "markdown",
   "id": "f592eb25-782d-41ff-8eb7-3abefde6b0d4",
   "metadata": {},
   "source": [
    "## Problem 3"
   ]
  },
  {
   "cell_type": "markdown",
   "id": "e54a5902-abc1-4d48-b36a-d5d369fe6b53",
   "metadata": {},
   "source": [
    "Calculate means/covar and annualize"
   ]
  },
  {
   "cell_type": "code",
   "execution_count": 12,
   "id": "0ec240d1-8337-4010-9d82-480a2c27ed9a",
   "metadata": {},
   "outputs": [],
   "source": [
    "mu_m = data.mean()\n",
    "Sigma_m = data.cov()\n",
    "mu = mu_m * 12\n",
    "Sigma = Sigma_m * 12\n",
    "stdev = pd.Series(index=data.columns, data=np.diag(np.sqrt(Sigma_m)))\n",
    "\n",
    "n_assets = len(mu)"
   ]
  },
  {
   "cell_type": "markdown",
   "id": "f407d1a5-18d1-4ec8-8778-e8180d311af5",
   "metadata": {},
   "source": [
    "### Part a"
   ]
  },
  {
   "cell_type": "code",
   "execution_count": 13,
   "id": "aa9e2d4c-3535-4b08-9433-17eab38ae900",
   "metadata": {},
   "outputs": [],
   "source": [
    "tau = 0.03"
   ]
  },
  {
   "cell_type": "code",
   "execution_count": 14,
   "id": "32c750f7-22a8-4e1e-a0db-e0c80efb12d4",
   "metadata": {},
   "outputs": [],
   "source": [
    "P = np.array([[0, 1, 0], [1, 0, -1]])"
   ]
  },
  {
   "cell_type": "code",
   "execution_count": 15,
   "id": "078837d7-9cbd-414e-88a4-76ff8fef6164",
   "metadata": {},
   "outputs": [],
   "source": [
    "Q = np.array([0.1, 0.07])"
   ]
  },
  {
   "cell_type": "code",
   "execution_count": 16,
   "id": "4eb76901-038f-4691-8dea-84d388d61b36",
   "metadata": {},
   "outputs": [],
   "source": [
    "Omega = np.diag([0.0002, 0.0005])"
   ]
  },
  {
   "cell_type": "code",
   "execution_count": 17,
   "id": "33c2e1f7-72b0-4cfd-814c-4e1a4be326ce",
   "metadata": {},
   "outputs": [],
   "source": [
    "mu_bl = np.linalg.inv(np.linalg.inv(tau * Sigma) + P.T @ np.linalg.inv(Omega) @ P) \\\n",
    "    @ (np.linalg.inv(tau * Sigma) @ mu + P.T @ np.linalg.inv(Omega) @ Q)\n",
    "\n",
    "mu_bl = pd.Series(index=mu.index, data=mu_bl)"
   ]
  },
  {
   "cell_type": "code",
   "execution_count": 18,
   "id": "5234c428-e7d6-4bfc-a5f3-6dfcc8346b77",
   "metadata": {},
   "outputs": [],
   "source": [
    "Sigma_bl = Sigma + np.linalg.inv(np.linalg.inv(tau * Sigma) + P.T @ np.linalg.inv(Omega) @ P)"
   ]
  },
  {
   "cell_type": "markdown",
   "id": "719d1a9e-4821-44eb-bcb2-4d7e9e84ef9e",
   "metadata": {},
   "source": [
    "Black-Litterman return expectations are below"
   ]
  },
  {
   "cell_type": "code",
   "execution_count": 19,
   "id": "b9f19852-f8b9-4fec-95c0-a8a04eb43aed",
   "metadata": {},
   "outputs": [
    {
     "data": {
      "text/plain": [
       "IWM    0.095293\n",
       "VNQ    0.095498\n",
       "AGG    0.020519\n",
       "dtype: float64"
      ]
     },
     "execution_count": 19,
     "metadata": {},
     "output_type": "execute_result"
    }
   ],
   "source": [
    "mu_bl"
   ]
  },
  {
   "cell_type": "markdown",
   "id": "301fae09-ac2f-45f4-b9ee-6be025e59bb7",
   "metadata": {},
   "source": [
    "Black-Litterman covariance matrix is below"
   ]
  },
  {
   "cell_type": "code",
   "execution_count": 20,
   "id": "d6789832-579d-48ea-b5b0-a1af1e3c4f21",
   "metadata": {},
   "outputs": [
    {
     "data": {
      "text/html": [
       "<div>\n",
       "<style scoped>\n",
       "    .dataframe tbody tr th:only-of-type {\n",
       "        vertical-align: middle;\n",
       "    }\n",
       "\n",
       "    .dataframe tbody tr th {\n",
       "        vertical-align: top;\n",
       "    }\n",
       "\n",
       "    .dataframe thead th {\n",
       "        text-align: right;\n",
       "    }\n",
       "</style>\n",
       "<table border=\"1\" class=\"dataframe\">\n",
       "  <thead>\n",
       "    <tr style=\"text-align: right;\">\n",
       "      <th></th>\n",
       "      <th>IWM</th>\n",
       "      <th>VNQ</th>\n",
       "      <th>AGG</th>\n",
       "    </tr>\n",
       "  </thead>\n",
       "  <tbody>\n",
       "    <tr>\n",
       "      <th>IWM</th>\n",
       "      <td>0.041963</td>\n",
       "      <td>0.026502</td>\n",
       "      <td>0.002445</td>\n",
       "    </tr>\n",
       "    <tr>\n",
       "      <th>VNQ</th>\n",
       "      <td>0.026502</td>\n",
       "      <td>0.033850</td>\n",
       "      <td>0.005008</td>\n",
       "    </tr>\n",
       "    <tr>\n",
       "      <th>AGG</th>\n",
       "      <td>0.002445</td>\n",
       "      <td>0.005008</td>\n",
       "      <td>0.002488</td>\n",
       "    </tr>\n",
       "  </tbody>\n",
       "</table>\n",
       "</div>"
      ],
      "text/plain": [
       "          IWM       VNQ       AGG\n",
       "IWM  0.041963  0.026502  0.002445\n",
       "VNQ  0.026502  0.033850  0.005008\n",
       "AGG  0.002445  0.005008  0.002488"
      ]
     },
     "execution_count": 20,
     "metadata": {},
     "output_type": "execute_result"
    }
   ],
   "source": [
    "Sigma_bl"
   ]
  },
  {
   "cell_type": "markdown",
   "id": "90b32ce2-1816-4a1f-80d3-53a56a55d291",
   "metadata": {},
   "source": [
    "### Part b\n",
    "Here we will solve for a minimum-variance portfolio using means/covariances from historical data as well as inputs with Black-Litterman views applied."
   ]
  },
  {
   "cell_type": "code",
   "execution_count": 21,
   "id": "00edc65a-a4f6-4701-87cc-4c9314195dce",
   "metadata": {},
   "outputs": [],
   "source": [
    "def solve_min_var(mean, cov, w, constraints, labels):\n",
    "    \"\"\"\n",
    "    Helper function that will be used throughout the homework\n",
    "    \"\"\"\n",
    "    # minimize variance of portfolio\n",
    "    obj = cp.Minimize(cp.quad_form(w, cov))\n",
    "    \n",
    "    prob = cp.Problem(\n",
    "        objective=obj,\n",
    "        constraints=constraints,\n",
    "    )\n",
    "    \n",
    "    prob.solve(solver=cp.ECOS)\n",
    "    assert prob.status == 'optimal'\n",
    "\n",
    "    p_var = w.value @ cov @ w.value.T\n",
    "    p_risk = np.sqrt(p_var)\n",
    "    p_ret = w.value @ mean\n",
    "    print('\\nPortfolio Weights:\\n')\n",
    "    print(pd.Series(index=labels, data=np.round(w.value * 1e2, 2), name='Weight'))\n",
    "    print(f'\\nPortfolio risk: {round(p_risk * 1e2, 2)}%')\n",
    "    print(f'Portfolio return: {round(p_ret * 1e2, 2)}%')"
   ]
  },
  {
   "cell_type": "markdown",
   "id": "f5587684-df43-4693-9cd8-e424965839fc",
   "metadata": {},
   "source": [
    "#### Black-Litterman"
   ]
  },
  {
   "cell_type": "code",
   "execution_count": 22,
   "id": "15efe2dd-e493-431e-a738-cd01f8827bfc",
   "metadata": {},
   "outputs": [
    {
     "name": "stdout",
     "output_type": "stream",
     "text": [
      "\n",
      "Portfolio Weights:\n",
      "\n",
      "IWM    22.11\n",
      "VNQ    30.60\n",
      "AGG    47.28\n",
      "Name: Weight, dtype: float64\n",
      "\n",
      "Portfolio risk: 10.64%\n",
      "Portfolio return: 6.0%\n"
     ]
    }
   ],
   "source": [
    "# define the vector we're solving\n",
    "w = cp.Variable(n_assets)\n",
    "\n",
    "constraints = [\n",
    "    # sum of all weights is one\n",
    "    cp.sum(w) == 1,\n",
    "    # all weights non-negative\n",
    "    # w >= 0,\n",
    "    # set the expected return\n",
    "    w @ mu_bl >= 0.06,\n",
    "]\n",
    "\n",
    "solve_min_var(mean=mu_bl, cov=Sigma_bl, w=w, constraints=constraints, labels=list(mu.index))"
   ]
  },
  {
   "cell_type": "code",
   "execution_count": 23,
   "id": "0b6e6f5c-385a-42af-a453-10a9a489e47a",
   "metadata": {},
   "outputs": [
    {
     "data": {
      "text/plain": [
       "IWM    0.095293\n",
       "VNQ    0.095498\n",
       "AGG    0.020519\n",
       "dtype: float64"
      ]
     },
     "execution_count": 23,
     "metadata": {},
     "output_type": "execute_result"
    }
   ],
   "source": [
    "mu_bl"
   ]
  },
  {
   "cell_type": "code",
   "execution_count": 24,
   "id": "47755783-110e-4d0b-9050-52b31df58c56",
   "metadata": {},
   "outputs": [
    {
     "data": {
      "text/html": [
       "<div>\n",
       "<style scoped>\n",
       "    .dataframe tbody tr th:only-of-type {\n",
       "        vertical-align: middle;\n",
       "    }\n",
       "\n",
       "    .dataframe tbody tr th {\n",
       "        vertical-align: top;\n",
       "    }\n",
       "\n",
       "    .dataframe thead th {\n",
       "        text-align: right;\n",
       "    }\n",
       "</style>\n",
       "<table border=\"1\" class=\"dataframe\">\n",
       "  <thead>\n",
       "    <tr style=\"text-align: right;\">\n",
       "      <th></th>\n",
       "      <th>IWM</th>\n",
       "      <th>VNQ</th>\n",
       "      <th>AGG</th>\n",
       "    </tr>\n",
       "  </thead>\n",
       "  <tbody>\n",
       "    <tr>\n",
       "      <th>IWM</th>\n",
       "      <td>0.041963</td>\n",
       "      <td>0.026502</td>\n",
       "      <td>0.002445</td>\n",
       "    </tr>\n",
       "    <tr>\n",
       "      <th>VNQ</th>\n",
       "      <td>0.026502</td>\n",
       "      <td>0.033850</td>\n",
       "      <td>0.005008</td>\n",
       "    </tr>\n",
       "    <tr>\n",
       "      <th>AGG</th>\n",
       "      <td>0.002445</td>\n",
       "      <td>0.005008</td>\n",
       "      <td>0.002488</td>\n",
       "    </tr>\n",
       "  </tbody>\n",
       "</table>\n",
       "</div>"
      ],
      "text/plain": [
       "          IWM       VNQ       AGG\n",
       "IWM  0.041963  0.026502  0.002445\n",
       "VNQ  0.026502  0.033850  0.005008\n",
       "AGG  0.002445  0.005008  0.002488"
      ]
     },
     "execution_count": 24,
     "metadata": {},
     "output_type": "execute_result"
    }
   ],
   "source": [
    "Sigma_bl"
   ]
  },
  {
   "cell_type": "markdown",
   "id": "ae9a9dad-e700-4bbd-8bc4-1c9c0c0e9b51",
   "metadata": {},
   "source": [
    "#### Purely Historical Data"
   ]
  },
  {
   "cell_type": "code",
   "execution_count": 25,
   "id": "95c82148-1a57-440a-adba-6cf8a88032e2",
   "metadata": {},
   "outputs": [
    {
     "name": "stdout",
     "output_type": "stream",
     "text": [
      "\n",
      "Portfolio Weights:\n",
      "\n",
      "IWM    36.95\n",
      "VNQ    26.59\n",
      "AGG    36.46\n",
      "Name: Weight, dtype: float64\n",
      "\n",
      "Portfolio risk: 12.33%\n",
      "Portfolio return: 6.0%\n"
     ]
    }
   ],
   "source": [
    "# define the vector we're solving\n",
    "w = cp.Variable(n_assets)\n",
    "\n",
    "constraints = [\n",
    "    # sum of all weights is one\n",
    "    cp.sum(w) == 1,\n",
    "    # all weights non-negative\n",
    "    # w >= 0,\n",
    "    # set the expected return\n",
    "    w @ mu >= 0.06,\n",
    "]\n",
    "\n",
    "solve_min_var(mean=mu, cov=Sigma, w=w, constraints=constraints, labels=list(mu.index))"
   ]
  },
  {
   "cell_type": "code",
   "execution_count": 26,
   "id": "d290a6f2-1474-4210-87c4-8b673c5d0921",
   "metadata": {},
   "outputs": [
    {
     "data": {
      "text/plain": [
       "IWM    0.088686\n",
       "VNQ    0.078893\n",
       "AGG    0.017154\n",
       "dtype: float64"
      ]
     },
     "execution_count": 26,
     "metadata": {},
     "output_type": "execute_result"
    }
   ],
   "source": [
    "mu"
   ]
  },
  {
   "cell_type": "code",
   "execution_count": 27,
   "id": "30ea3c08-9136-4b95-97d5-a0db8b0802ea",
   "metadata": {},
   "outputs": [
    {
     "data": {
      "text/html": [
       "<div>\n",
       "<style scoped>\n",
       "    .dataframe tbody tr th:only-of-type {\n",
       "        vertical-align: middle;\n",
       "    }\n",
       "\n",
       "    .dataframe tbody tr th {\n",
       "        vertical-align: top;\n",
       "    }\n",
       "\n",
       "    .dataframe thead th {\n",
       "        text-align: right;\n",
       "    }\n",
       "</style>\n",
       "<table border=\"1\" class=\"dataframe\">\n",
       "  <thead>\n",
       "    <tr style=\"text-align: right;\">\n",
       "      <th></th>\n",
       "      <th>IWM</th>\n",
       "      <th>VNQ</th>\n",
       "      <th>AGG</th>\n",
       "    </tr>\n",
       "  </thead>\n",
       "  <tbody>\n",
       "    <tr>\n",
       "      <th>IWM</th>\n",
       "      <td>0.041660</td>\n",
       "      <td>0.026431</td>\n",
       "      <td>0.002425</td>\n",
       "    </tr>\n",
       "    <tr>\n",
       "      <th>VNQ</th>\n",
       "      <td>0.026431</td>\n",
       "      <td>0.033692</td>\n",
       "      <td>0.004977</td>\n",
       "    </tr>\n",
       "    <tr>\n",
       "      <th>AGG</th>\n",
       "      <td>0.002425</td>\n",
       "      <td>0.004977</td>\n",
       "      <td>0.002438</td>\n",
       "    </tr>\n",
       "  </tbody>\n",
       "</table>\n",
       "</div>"
      ],
      "text/plain": [
       "          IWM       VNQ       AGG\n",
       "IWM  0.041660  0.026431  0.002425\n",
       "VNQ  0.026431  0.033692  0.004977\n",
       "AGG  0.002425  0.004977  0.002438"
      ]
     },
     "execution_count": 27,
     "metadata": {},
     "output_type": "execute_result"
    }
   ],
   "source": [
    "Sigma"
   ]
  },
  {
   "cell_type": "markdown",
   "id": "b0310a3b-582d-4896-aef5-ed7801454d0d",
   "metadata": {},
   "source": [
    "The status quo portfolio has higher overall risk than BL.\n",
    "* VNQ weights are lower in BL, which is suprirising because from our view on VNQ, which predicts a higher return than historical means. This must be because the IWM expected return is also increased through covariance interaction\n",
    "* AGG weight is lower in BL, which is intuitive since we're predicting a larger underperformance as compared to IWM as compared to historical means."
   ]
  },
  {
   "cell_type": "markdown",
   "id": "6f2c9c19-1867-4a9d-9426-2ad15e7c92a0",
   "metadata": {},
   "source": [
    "### Part c\n",
    "Calculate the percentage contribution to absolute variance of 40/30/30 portfolio"
   ]
  },
  {
   "cell_type": "code",
   "execution_count": 28,
   "id": "fe7b53ae-6733-4fa6-91b2-6b51c9b97305",
   "metadata": {},
   "outputs": [
    {
     "data": {
      "text/plain": [
       "IWM    0.4\n",
       "VNQ    0.3\n",
       "AGG    0.3\n",
       "dtype: float64"
      ]
     },
     "execution_count": 28,
     "metadata": {},
     "output_type": "execute_result"
    }
   ],
   "source": [
    "w_3c = pd.Series(index=mu.index, data=[0.4, 0.3, 0.3])\n",
    "w_3c"
   ]
  },
  {
   "cell_type": "code",
   "execution_count": 29,
   "id": "f1c3b544-eb82-41f7-87eb-1b37eddfb746",
   "metadata": {},
   "outputs": [
    {
     "data": {
      "text/plain": [
       "IWM    0.570976\n",
       "VNQ    0.374997\n",
       "AGG    0.054027\n",
       "dtype: float64"
      ]
     },
     "execution_count": 29,
     "metadata": {},
     "output_type": "execute_result"
    }
   ],
   "source": [
    "(w_3c * (w_3c @ Sigma)) / (w_3c @ Sigma @ w_3c)"
   ]
  },
  {
   "cell_type": "markdown",
   "id": "d96adf41-cb06-490f-9e0e-2a76f916dfd2",
   "metadata": {},
   "source": [
    "### Part d\n",
    "Create a min-variance portfolio for given marginal risk contribution budget. We will need to create constraints that dictate the 2/3/5 ratio of marginal risk contributions between the assets."
   ]
  },
  {
   "cell_type": "code",
   "execution_count": 30,
   "id": "33ba4f23-e2b9-4b95-a2b0-33b2510cb707",
   "metadata": {},
   "outputs": [],
   "source": [
    "# define the vector we're solving\n",
    "w = cp.Variable(n_assets)\n",
    "# create variable for marginal contribution\n",
    "mctr = Sigma.values @ w\n",
    "\n",
    "constraints = [\n",
    "    # sum of all weights is one\n",
    "    cp.sum(w) == 1,\n",
    "    # set up constraints to result in the correct ratios\n",
    "    # of MCTR\n",
    "    mctr[0] == 2/3 * mctr[1],\n",
    "    mctr[0] == 2/5 * mctr[2],\n",
    "    mctr[1] == 3/5 * mctr[2],   \n",
    "]"
   ]
  },
  {
   "cell_type": "code",
   "execution_count": 31,
   "id": "79db5405-a8a3-406e-be6e-4ddc087f6e38",
   "metadata": {},
   "outputs": [
    {
     "name": "stdout",
     "output_type": "stream",
     "text": [
      "\n",
      "Portfolio Weights:\n",
      "\n",
      "IWM      7.21\n",
      "VNQ    -18.62\n",
      "AGG    111.40\n",
      "Name: Weight, dtype: float64\n",
      "\n",
      "Portfolio risk: 4.5%\n",
      "Portfolio return: 1.08%\n"
     ]
    }
   ],
   "source": [
    "solve_min_var(mean=mu, cov=Sigma, w=w, constraints=constraints, labels=list(mu.index))"
   ]
  },
  {
   "cell_type": "markdown",
   "id": "f5610a85-46ff-439f-8ec6-a1dc3c43d136",
   "metadata": {},
   "source": [
    "The weights of the portfolio are shown above, but this is the calculation for MCTR. You can see that the ratios are 2/3/5."
   ]
  },
  {
   "cell_type": "code",
   "execution_count": 32,
   "id": "6f7c849b-6b44-4b8f-b4d7-45988fd07f97",
   "metadata": {},
   "outputs": [
    {
     "data": {
      "text/plain": [
       "IWM    0.387902\n",
       "VNQ    0.581853\n",
       "AGG    0.969756\n",
       "dtype: float64"
      ]
     },
     "execution_count": 32,
     "metadata": {},
     "output_type": "execute_result"
    }
   ],
   "source": [
    "w.value @ Sigma / (w.value @ Sigma @ w.value)"
   ]
  },
  {
   "cell_type": "markdown",
   "id": "c27c3f3a-b2be-47d7-8ea8-bbf92c1be8eb",
   "metadata": {},
   "source": [
    "### Part d (extra credit)\n",
    "\n",
    "We can't construct a problem that targets equal risk or some risk budget constraint directly. Since solvers usually minimize/maximize function, we can instead construct the problem to minimize the difference between the target risk contribution and the portfolio in each iteration of the solver. The typical approach to minimizing distance to something is minimizing the square of the differences. I tried solving this with CVX, but because this ends up being a non-convex problem I was getting DCP Errors. Using scipy.minimize instead."
   ]
  },
  {
   "cell_type": "code",
   "execution_count": 33,
   "id": "9a26bc0b-2288-4f25-bedf-ca668ef334b4",
   "metadata": {},
   "outputs": [],
   "source": [
    "# function to be used for total weight constraint\n",
    "def total_constraint(x, total_weight):\n",
    "    return np.sum(x) - total_weight\n",
    "\n",
    "\n",
    "# Create function to minimize. We will minimize the difference between the % risk contribution between given set of weights and the target % risk contribution.\n",
    "def rb_objective(x, pars):\n",
    "    V = pars[0]  # covariance \n",
    "    x_t = pars[1]  # risk target in percent of total portfolio variance\n",
    "    risk_target = x_t / np.sum(x_t)\n",
    "    asset_RC = (x * (x @ Sigma)) / (x @ Sigma @ x)\n",
    "\n",
    "    # minimize the difference of risk contrib and target\n",
    "    J = np.sum(np.square(asset_RC - risk_target))\n",
    "    return J"
   ]
  },
  {
   "cell_type": "code",
   "execution_count": 34,
   "id": "dbeff5bd-5e86-4630-99d3-8a268642f20d",
   "metadata": {},
   "outputs": [],
   "source": [
    "# initial guess is equally weighted portfolio (don't think it matters too much with so few assets/constraints)\n",
    "w0 = np.repeat(1/n_assets, n_assets)\n",
    "\n",
    "# create the risk budget constraint\n",
    "rb_target = [0.2, 0.3, 0.5]\n",
    "\n",
    "# create constraint to sum weights to 1\n",
    "cons = (\n",
    "    {'type': 'eq', 'fun': total_constraint, 'args': [1]},\n",
    ")"
   ]
  },
  {
   "cell_type": "code",
   "execution_count": 35,
   "id": "46cbcafd-7010-4f94-8a4f-815f11a1ac73",
   "metadata": {},
   "outputs": [
    {
     "name": "stdout",
     "output_type": "stream",
     "text": [
      "Optimization terminated successfully    (Exit mode 0)\n",
      "            Current function value: 1.804280428538472e-13\n",
      "            Iterations: 14\n",
      "            Function evaluations: 63\n",
      "            Gradient evaluations: 14\n"
     ]
    }
   ],
   "source": [
    "res = minimize(\n",
    "    rb_objective,\n",
    "    w0,\n",
    "    args=[Sigma.values, rb_target],\n",
    "    method='SLSQP',\n",
    "    constraints=cons,\n",
    "    options={'disp': True, 'ftol': 1e-12},\n",
    ")\n",
    "rb_wts = pd.Series(index=mu.index, data=res.x)"
   ]
  },
  {
   "cell_type": "markdown",
   "id": "c8dc4bbd-ea28-42a7-99ca-68d346af22b0",
   "metadata": {},
   "source": [
    "The weights of the equal abosulute risk contribution portfolio are below. I'm also showing that the ratio of the risk contributions is correct in the subsequent cell"
   ]
  },
  {
   "cell_type": "code",
   "execution_count": 36,
   "id": "167d68e9-c4ed-4782-ad1d-226347ce1969",
   "metadata": {},
   "outputs": [
    {
     "data": {
      "text/plain": [
       "IWM   -0.3510\n",
       "VNQ    0.3132\n",
       "AGG    1.0379\n",
       "dtype: float64"
      ]
     },
     "execution_count": 36,
     "metadata": {},
     "output_type": "execute_result"
    }
   ],
   "source": [
    "rb_wts.round(4)"
   ]
  },
  {
   "cell_type": "code",
   "execution_count": 37,
   "id": "b72dd5b8-0ba8-4b36-9ac5-f9f7cd278ada",
   "metadata": {},
   "outputs": [
    {
     "data": {
      "text/plain": [
       "IWM    0.2\n",
       "VNQ    0.3\n",
       "AGG    0.5\n",
       "dtype: float64"
      ]
     },
     "execution_count": 37,
     "metadata": {},
     "output_type": "execute_result"
    }
   ],
   "source": [
    "(rb_wts * (rb_wts @ Sigma)) / (rb_wts @ Sigma @ rb_wts)"
   ]
  }
 ],
 "metadata": {
  "kernelspec": {
   "display_name": "Python 3 (ipykernel)",
   "language": "python",
   "name": "python3"
  },
  "language_info": {
   "codemirror_mode": {
    "name": "ipython",
    "version": 3
   },
   "file_extension": ".py",
   "mimetype": "text/x-python",
   "name": "python",
   "nbconvert_exporter": "python",
   "pygments_lexer": "ipython3",
   "version": "3.11.7"
  }
 },
 "nbformat": 4,
 "nbformat_minor": 5
}
