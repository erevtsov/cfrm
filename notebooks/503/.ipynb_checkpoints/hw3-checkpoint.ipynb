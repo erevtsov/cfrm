{
 "cells": [
  {
   "cell_type": "markdown",
   "id": "82b1ee94-d031-48ec-b60b-4d9471a4c565",
   "metadata": {},
   "source": [
    "## Revtsov HW3"
   ]
  },
  {
   "cell_type": "markdown",
   "id": "fa495fa0-2e47-4bea-b310-e8104202299e",
   "metadata": {},
   "source": [
    "### Problem 1"
   ]
  },
  {
   "cell_type": "markdown",
   "id": "984c319b-180f-4bed-9985-ee0d45d57de2",
   "metadata": {},
   "source": [
    "$$\n",
    "    \\mathbb{E}(R_i) = R_f  + \\beta_i(\\mathbb{E}(R_m) - R_f)\n",
    "$$\n",
    "$$\n",
    "    R_f = \\frac{\\mathbb{E}(R_i) - \\beta_i\\mathbb{E}(R_m)}{1-\\beta_i}\n",
    "$$"
   ]
  },
  {
   "cell_type": "code",
   "execution_count": 1,
   "id": "cfa7a7f6-7a80-4295-a2c6-f2d21e8d2bd3",
   "metadata": {},
   "outputs": [],
   "source": [
    "rfr = (0.12 - 1.2*0.10) / (1-1.2)"
   ]
  },
  {
   "cell_type": "code",
   "execution_count": 2,
   "id": "ce9ff104-e776-4ada-8df3-41637a4d3487",
   "metadata": {},
   "outputs": [
    {
     "data": {
      "text/plain": [
       "'Risk Free Rate is -0.0'"
      ]
     },
     "execution_count": 2,
     "metadata": {},
     "output_type": "execute_result"
    }
   ],
   "source": [
    "f'Risk Free Rate is {rfr*1e2}'"
   ]
  },
  {
   "cell_type": "markdown",
   "id": "dab45b9f-329e-4920-b9a4-55a91aa5feca",
   "metadata": {},
   "source": [
    "### Problem 2"
   ]
  },
  {
   "cell_type": "markdown",
   "id": "e786b66e-cbeb-4048-b0e1-3be5b7a83e92",
   "metadata": {},
   "source": [
    "$$\n",
    "    \\mathbb{E}(R_i) = R_f  + \\beta_i(\\mathbb{E}(R_m) - R_f)\n",
    "$$"
   ]
  },
  {
   "cell_type": "markdown",
   "id": "263d2623-a46d-4b9c-9f7c-589f2d749c80",
   "metadata": {},
   "source": [
    "$$\n",
    "    \\mathbb{E}(R_i) = R_f  + \\beta_i(\\mathbb{E}(R_m) - R_f) * \\sigma_m * (1/\\sigma_m)\n",
    "$$"
   ]
  },
  {
   "cell_type": "markdown",
   "id": "824c3cbf-29e5-4901-ba23-23975e7206de",
   "metadata": {},
   "source": [
    "$$\n",
    "    \\mathbb{E}(R_i) = R_f  + \\beta_i\\sigma_m\\frac{(\\mathbb{E}(R_m) - R_f)}{\\sigma_m}\n",
    "$$"
   ]
  },
  {
   "cell_type": "markdown",
   "id": "bad83cf9-edf0-4941-bea2-2ed1abf6a33b",
   "metadata": {},
   "source": [
    "$$\n",
    "    \\mathbb{E}(R_i) = 0.04  + 1.3*0.6\\sigma_m\n",
    "$$"
   ]
  },
  {
   "cell_type": "markdown",
   "id": "8917e275-e283-451e-a25a-927448c800b7",
   "metadata": {},
   "source": [
    "$$\n",
    "    \\mathbb{E}(R_i) = 0.04  + 0.78\\sigma_m\n",
    "$$"
   ]
  },
  {
   "cell_type": "markdown",
   "id": "0bb0c6e4-241a-41cd-8c41-43041b30b9c7",
   "metadata": {},
   "source": [
    "### Problem 3\n",
    "The expected return of a security with CAPM beta of 0 is the risk free rate"
   ]
  },
  {
   "cell_type": "markdown",
   "id": "c69fb3b7-d74c-41e5-b40f-eb92703a4626",
   "metadata": {},
   "source": [
    "### Problem 4"
   ]
  },
  {
   "cell_type": "code",
   "execution_count": 3,
   "id": "f1b0056a-30b1-47c6-886a-bf48c2813f8a",
   "metadata": {
    "tags": []
   },
   "outputs": [],
   "source": [
    "import numpy as np\n",
    "import pandas as pd\n",
    "import yfinance as yf\n",
    "from sklearn.decomposition import PCA\n",
    "\n",
    "idx = pd.IndexSlice"
   ]
  },
  {
   "cell_type": "code",
   "execution_count": 4,
   "id": "abe210cd-8f08-4223-8b77-5d5077dc9380",
   "metadata": {
    "tags": []
   },
   "outputs": [],
   "source": [
    "etfs = pd.read_csv('Commodity ETF Short List.csv')"
   ]
  },
  {
   "cell_type": "code",
   "execution_count": 5,
   "id": "3255f4e2-5845-4c3b-be65-ee0d76c64f16",
   "metadata": {
    "tags": []
   },
   "outputs": [
    {
     "name": "stdout",
     "output_type": "stream",
     "text": [
      "[*********************100%%**********************]  31 of 31 completed\n"
     ]
    }
   ],
   "source": [
    "sd = '2011-12-30'\n",
    "ed = '2023-12-31'\n",
    "df = yf.download(etfs.Symbol.tolist() + ['SHY'], start=sd, end=ed)\n",
    "px = df.loc[:, idx['Adj Close']]\n",
    "\n",
    "month_end = px.index.month != (px.index + pd.tseries.offsets.BDay(1)).month\n",
    "\n",
    "rts_m = px[month_end].pct_change().dropna(axis=0)\n",
    "rfr = rts_m['SHY']\n",
    "rts_m = rts_m.loc[:, rts_m.columns != 'SHY']"
   ]
  },
  {
   "cell_type": "code",
   "execution_count": 6,
   "id": "7c032e26-2805-428b-bb13-ecbda8f37751",
   "metadata": {
    "tags": []
   },
   "outputs": [],
   "source": [
    "cov = rts_m.cov()"
   ]
  },
  {
   "cell_type": "markdown",
   "id": "77e11053-a822-4c3b-9d8f-272547dd89ed",
   "metadata": {
    "tags": []
   },
   "source": [
    "### Part a"
   ]
  },
  {
   "cell_type": "markdown",
   "id": "d1f91241-f739-4c03-b974-a9c70bb42384",
   "metadata": {},
   "source": [
    "$$\n",
    "    \\beta_i = \\frac{\\sigma_i \\sigma_m}{\\sigma_m^2} = \\frac{\\mathbb{C}[R_i, R_m]}{\\mathbb{V}[R_m]}\n",
    "$$"
   ]
  },
  {
   "cell_type": "code",
   "execution_count": 7,
   "id": "bf7b3a9b-9547-4ed3-801f-fc35fff189dd",
   "metadata": {
    "tags": []
   },
   "outputs": [
    {
     "data": {
      "text/plain": [
       "UCO     3.003808\n",
       "USO     1.639629\n",
       "UGA     1.435821\n",
       "USL     1.304010\n",
       "DBO     1.275936\n",
       "DBE     1.171556\n",
       "GSG     1.000000\n",
       "AGQ     0.816996\n",
       "DBC     0.764419\n",
       "DJP     0.644003\n",
       "GCC     0.471541\n",
       "UNG     0.454346\n",
       "DBB     0.421109\n",
       "PPLT    0.403836\n",
       "SIVR    0.401451\n",
       "SLV     0.400936\n",
       "PALL    0.318384\n",
       "UNL     0.311023\n",
       "DBA     0.277453\n",
       "DGP     0.149856\n",
       "DBP     0.127113\n",
       "UGL     0.118422\n",
       "IAU     0.063319\n",
       "GLD     0.062995\n",
       "SGOL    0.062378\n",
       "DGZ    -0.065183\n",
       "GLL    -0.088157\n",
       "DZZ    -0.138403\n",
       "ZSL    -0.753925\n",
       "SCO    -3.185392\n",
       "Name: beta, dtype: float64"
      ]
     },
     "execution_count": 7,
     "metadata": {},
     "output_type": "execute_result"
    }
   ],
   "source": [
    "(cov['GSG'] / cov.loc['GSG', 'GSG']).sort_values(ascending=False).rename('beta')"
   ]
  },
  {
   "cell_type": "markdown",
   "id": "b0bf0687-c295-4fc7-8361-f3b440c33d5a",
   "metadata": {
    "tags": []
   },
   "source": [
    "### Part b\n",
    "The first 4 principal components explain 90% of the variance"
   ]
  },
  {
   "cell_type": "code",
   "execution_count": 8,
   "id": "2058fe33-782e-435f-8bcd-e1a79e6224dc",
   "metadata": {
    "tags": []
   },
   "outputs": [],
   "source": [
    "pca = PCA(n_components=4)\n",
    "\n",
    "res = pca.fit(rts_m.values)"
   ]
  },
  {
   "cell_type": "code",
   "execution_count": 9,
   "id": "676b32b5-fd3c-46ef-84d7-d426f12d92c6",
   "metadata": {
    "tags": []
   },
   "outputs": [
    {
     "data": {
      "text/plain": [
       "array([49.4 , 78.92, 88.89, 92.14])"
      ]
     },
     "execution_count": 9,
     "metadata": {},
     "output_type": "execute_result"
    }
   ],
   "source": [
    "np.round(res.explained_variance_ratio_ * 1e2, 2).cumsum()"
   ]
  },
  {
   "cell_type": "markdown",
   "id": "6a9da677-c996-49a5-9642-8a65b76e1ab7",
   "metadata": {},
   "source": [
    "##### The weights of each ETF for the first 4 principal components are below"
   ]
  },
  {
   "cell_type": "code",
   "execution_count": 10,
   "id": "8afd514b-d262-4c22-bcca-25ee3a0bad03",
   "metadata": {
    "tags": []
   },
   "outputs": [
    {
     "data": {
      "text/html": [
       "<div>\n",
       "<style scoped>\n",
       "    .dataframe tbody tr th:only-of-type {\n",
       "        vertical-align: middle;\n",
       "    }\n",
       "\n",
       "    .dataframe tbody tr th {\n",
       "        vertical-align: top;\n",
       "    }\n",
       "\n",
       "    .dataframe thead th {\n",
       "        text-align: right;\n",
       "    }\n",
       "</style>\n",
       "<table border=\"1\" class=\"dataframe\">\n",
       "  <thead>\n",
       "    <tr style=\"text-align: right;\">\n",
       "      <th></th>\n",
       "      <th>1</th>\n",
       "      <th>2</th>\n",
       "      <th>3</th>\n",
       "      <th>4</th>\n",
       "    </tr>\n",
       "  </thead>\n",
       "  <tbody>\n",
       "    <tr>\n",
       "      <th>AGQ</th>\n",
       "      <td>-0.256990</td>\n",
       "      <td>0.445083</td>\n",
       "      <td>0.027820</td>\n",
       "      <td>-0.385716</td>\n",
       "    </tr>\n",
       "    <tr>\n",
       "      <th>DBA</th>\n",
       "      <td>-0.041265</td>\n",
       "      <td>-0.002710</td>\n",
       "      <td>0.037752</td>\n",
       "      <td>0.033659</td>\n",
       "    </tr>\n",
       "    <tr>\n",
       "      <th>DBB</th>\n",
       "      <td>-0.076947</td>\n",
       "      <td>0.037085</td>\n",
       "      <td>0.030485</td>\n",
       "      <td>-0.004628</td>\n",
       "    </tr>\n",
       "    <tr>\n",
       "      <th>DBC</th>\n",
       "      <td>-0.122030</td>\n",
       "      <td>-0.031497</td>\n",
       "      <td>0.031751</td>\n",
       "      <td>0.041033</td>\n",
       "    </tr>\n",
       "    <tr>\n",
       "      <th>DBE</th>\n",
       "      <td>-0.180176</td>\n",
       "      <td>-0.097478</td>\n",
       "      <td>0.028875</td>\n",
       "      <td>0.023670</td>\n",
       "    </tr>\n",
       "    <tr>\n",
       "      <th>DBO</th>\n",
       "      <td>-0.198578</td>\n",
       "      <td>-0.112759</td>\n",
       "      <td>-0.005593</td>\n",
       "      <td>0.015134</td>\n",
       "    </tr>\n",
       "    <tr>\n",
       "      <th>DBP</th>\n",
       "      <td>-0.056129</td>\n",
       "      <td>0.143797</td>\n",
       "      <td>0.013960</td>\n",
       "      <td>0.106461</td>\n",
       "    </tr>\n",
       "    <tr>\n",
       "      <th>DGP</th>\n",
       "      <td>-0.083702</td>\n",
       "      <td>0.248907</td>\n",
       "      <td>0.037199</td>\n",
       "      <td>0.335075</td>\n",
       "    </tr>\n",
       "    <tr>\n",
       "      <th>DGZ</th>\n",
       "      <td>0.037661</td>\n",
       "      <td>-0.115824</td>\n",
       "      <td>-0.010595</td>\n",
       "      <td>-0.179587</td>\n",
       "    </tr>\n",
       "    <tr>\n",
       "      <th>DJP</th>\n",
       "      <td>-0.103647</td>\n",
       "      <td>-0.009107</td>\n",
       "      <td>0.108848</td>\n",
       "      <td>0.035280</td>\n",
       "    </tr>\n",
       "    <tr>\n",
       "      <th>DZZ</th>\n",
       "      <td>0.079767</td>\n",
       "      <td>-0.244243</td>\n",
       "      <td>-0.048985</td>\n",
       "      <td>-0.332057</td>\n",
       "    </tr>\n",
       "    <tr>\n",
       "      <th>GCC</th>\n",
       "      <td>-0.079990</td>\n",
       "      <td>0.011267</td>\n",
       "      <td>0.052708</td>\n",
       "      <td>0.026617</td>\n",
       "    </tr>\n",
       "    <tr>\n",
       "      <th>GLD</th>\n",
       "      <td>-0.039443</td>\n",
       "      <td>0.124512</td>\n",
       "      <td>0.011678</td>\n",
       "      <td>0.174477</td>\n",
       "    </tr>\n",
       "    <tr>\n",
       "      <th>GLL</th>\n",
       "      <td>0.069617</td>\n",
       "      <td>-0.240800</td>\n",
       "      <td>-0.033611</td>\n",
       "      <td>-0.346414</td>\n",
       "    </tr>\n",
       "    <tr>\n",
       "      <th>GSG</th>\n",
       "      <td>-0.156723</td>\n",
       "      <td>-0.062866</td>\n",
       "      <td>0.013956</td>\n",
       "      <td>0.019031</td>\n",
       "    </tr>\n",
       "    <tr>\n",
       "      <th>IAU</th>\n",
       "      <td>-0.039372</td>\n",
       "      <td>0.124166</td>\n",
       "      <td>0.011203</td>\n",
       "      <td>0.174044</td>\n",
       "    </tr>\n",
       "    <tr>\n",
       "      <th>PALL</th>\n",
       "      <td>-0.062206</td>\n",
       "      <td>0.050970</td>\n",
       "      <td>0.026807</td>\n",
       "      <td>-0.101696</td>\n",
       "    </tr>\n",
       "    <tr>\n",
       "      <th>PPLT</th>\n",
       "      <td>-0.097085</td>\n",
       "      <td>0.101385</td>\n",
       "      <td>-0.007681</td>\n",
       "      <td>-0.021047</td>\n",
       "    </tr>\n",
       "    <tr>\n",
       "      <th>SCO</th>\n",
       "      <td>0.519638</td>\n",
       "      <td>0.236775</td>\n",
       "      <td>0.070927</td>\n",
       "      <td>-0.196293</td>\n",
       "    </tr>\n",
       "    <tr>\n",
       "      <th>SGOL</th>\n",
       "      <td>-0.039245</td>\n",
       "      <td>0.124279</td>\n",
       "      <td>0.010911</td>\n",
       "      <td>0.172746</td>\n",
       "    </tr>\n",
       "    <tr>\n",
       "      <th>SIVR</th>\n",
       "      <td>-0.125475</td>\n",
       "      <td>0.216906</td>\n",
       "      <td>0.020032</td>\n",
       "      <td>-0.180100</td>\n",
       "    </tr>\n",
       "    <tr>\n",
       "      <th>SLV</th>\n",
       "      <td>-0.125278</td>\n",
       "      <td>0.216680</td>\n",
       "      <td>0.021169</td>\n",
       "      <td>-0.180094</td>\n",
       "    </tr>\n",
       "    <tr>\n",
       "      <th>UCO</th>\n",
       "      <td>-0.476903</td>\n",
       "      <td>-0.254291</td>\n",
       "      <td>-0.090941</td>\n",
       "      <td>-0.036339</td>\n",
       "    </tr>\n",
       "    <tr>\n",
       "      <th>UGA</th>\n",
       "      <td>-0.233164</td>\n",
       "      <td>-0.084509</td>\n",
       "      <td>-0.066642</td>\n",
       "      <td>-0.026011</td>\n",
       "    </tr>\n",
       "    <tr>\n",
       "      <th>UGL</th>\n",
       "      <td>-0.076999</td>\n",
       "      <td>0.247271</td>\n",
       "      <td>0.019981</td>\n",
       "      <td>0.352522</td>\n",
       "    </tr>\n",
       "    <tr>\n",
       "      <th>UNG</th>\n",
       "      <td>-0.040105</td>\n",
       "      <td>-0.120606</td>\n",
       "      <td>0.812298</td>\n",
       "      <td>-0.049159</td>\n",
       "    </tr>\n",
       "    <tr>\n",
       "      <th>UNL</th>\n",
       "      <td>-0.026691</td>\n",
       "      <td>-0.082377</td>\n",
       "      <td>0.535429</td>\n",
       "      <td>0.044974</td>\n",
       "    </tr>\n",
       "    <tr>\n",
       "      <th>USL</th>\n",
       "      <td>-0.208240</td>\n",
       "      <td>-0.100607</td>\n",
       "      <td>-0.025778</td>\n",
       "      <td>0.020113</td>\n",
       "    </tr>\n",
       "    <tr>\n",
       "      <th>USO</th>\n",
       "      <td>-0.259511</td>\n",
       "      <td>-0.143537</td>\n",
       "      <td>-0.062542</td>\n",
       "      <td>-0.033132</td>\n",
       "    </tr>\n",
       "    <tr>\n",
       "      <th>ZSL</th>\n",
       "      <td>0.234291</td>\n",
       "      <td>-0.406390</td>\n",
       "      <td>-0.060997</td>\n",
       "      <td>0.349549</td>\n",
       "    </tr>\n",
       "  </tbody>\n",
       "</table>\n",
       "</div>"
      ],
      "text/plain": [
       "             1         2         3         4\n",
       "AGQ  -0.256990  0.445083  0.027820 -0.385716\n",
       "DBA  -0.041265 -0.002710  0.037752  0.033659\n",
       "DBB  -0.076947  0.037085  0.030485 -0.004628\n",
       "DBC  -0.122030 -0.031497  0.031751  0.041033\n",
       "DBE  -0.180176 -0.097478  0.028875  0.023670\n",
       "DBO  -0.198578 -0.112759 -0.005593  0.015134\n",
       "DBP  -0.056129  0.143797  0.013960  0.106461\n",
       "DGP  -0.083702  0.248907  0.037199  0.335075\n",
       "DGZ   0.037661 -0.115824 -0.010595 -0.179587\n",
       "DJP  -0.103647 -0.009107  0.108848  0.035280\n",
       "DZZ   0.079767 -0.244243 -0.048985 -0.332057\n",
       "GCC  -0.079990  0.011267  0.052708  0.026617\n",
       "GLD  -0.039443  0.124512  0.011678  0.174477\n",
       "GLL   0.069617 -0.240800 -0.033611 -0.346414\n",
       "GSG  -0.156723 -0.062866  0.013956  0.019031\n",
       "IAU  -0.039372  0.124166  0.011203  0.174044\n",
       "PALL -0.062206  0.050970  0.026807 -0.101696\n",
       "PPLT -0.097085  0.101385 -0.007681 -0.021047\n",
       "SCO   0.519638  0.236775  0.070927 -0.196293\n",
       "SGOL -0.039245  0.124279  0.010911  0.172746\n",
       "SIVR -0.125475  0.216906  0.020032 -0.180100\n",
       "SLV  -0.125278  0.216680  0.021169 -0.180094\n",
       "UCO  -0.476903 -0.254291 -0.090941 -0.036339\n",
       "UGA  -0.233164 -0.084509 -0.066642 -0.026011\n",
       "UGL  -0.076999  0.247271  0.019981  0.352522\n",
       "UNG  -0.040105 -0.120606  0.812298 -0.049159\n",
       "UNL  -0.026691 -0.082377  0.535429  0.044974\n",
       "USL  -0.208240 -0.100607 -0.025778  0.020113\n",
       "USO  -0.259511 -0.143537 -0.062542 -0.033132\n",
       "ZSL   0.234291 -0.406390 -0.060997  0.349549"
      ]
     },
     "execution_count": 10,
     "metadata": {},
     "output_type": "execute_result"
    }
   ],
   "source": [
    "eig_vec = pd.DataFrame(res.components_, columns=rts_m.columns, index=[1, 2, 3, 4]).T\n",
    "eig_vec"
   ]
  },
  {
   "cell_type": "markdown",
   "id": "ddfd5d75-6e7e-40c4-a469-6b420716e040",
   "metadata": {
    "tags": []
   },
   "source": [
    "### Part c\n",
    "Run linear regression with the factor returns as dependent variables and the excess ETF return as independent variable. Report loadings."
   ]
  },
  {
   "cell_type": "code",
   "execution_count": 11,
   "id": "26888a13-3f2a-4d9a-800b-6193c7e0e634",
   "metadata": {
    "tags": []
   },
   "outputs": [],
   "source": [
    "from sklearn.linear_model import LinearRegression"
   ]
  },
  {
   "cell_type": "code",
   "execution_count": 12,
   "id": "0f46b3b5-b451-4da1-85f4-acc46fd4de6e",
   "metadata": {
    "tags": []
   },
   "outputs": [],
   "source": [
    "# first calculate the factor returns\n",
    "rts_f = pd.DataFrame(index=rts_m.index, columns=eig_vec.columns, data=rts_m.values @ eig_vec.values)"
   ]
  },
  {
   "cell_type": "code",
   "execution_count": 13,
   "id": "be547a3c-2a6c-413e-aaf1-ed7ce67cadf5",
   "metadata": {
    "tags": []
   },
   "outputs": [],
   "source": [
    "regr_res = pd.DataFrame(index=eig_vec.index, columns=eig_vec.columns)"
   ]
  },
  {
   "cell_type": "code",
   "execution_count": 14,
   "id": "d0a4c32c-3ccf-43fd-8235-68698dd5c2d3",
   "metadata": {
    "tags": []
   },
   "outputs": [],
   "source": [
    "for etf in eig_vec.index:\n",
    "    # dependent variables are the factor returns\n",
    "    X = rts_f\n",
    "    # independent variable is the excess etf return (excess of risk free rate)\n",
    "    y = rts_m[etf] - rfr\n",
    "\n",
    "    # Create and fit the linear regression model\n",
    "    model = LinearRegression()\n",
    "    model.fit(X, y)\n",
    "\n",
    "    # Get coefficients\n",
    "    regr_res.loc[etf, :] = model.coef_"
   ]
  },
  {
   "cell_type": "code",
   "execution_count": 15,
   "id": "8c4db315-dc52-4c2b-ac60-77da62f7ad01",
   "metadata": {
    "tags": []
   },
   "outputs": [
    {
     "data": {
      "text/html": [
       "<div>\n",
       "<style scoped>\n",
       "    .dataframe tbody tr th:only-of-type {\n",
       "        vertical-align: middle;\n",
       "    }\n",
       "\n",
       "    .dataframe tbody tr th {\n",
       "        vertical-align: top;\n",
       "    }\n",
       "\n",
       "    .dataframe thead th {\n",
       "        text-align: right;\n",
       "    }\n",
       "</style>\n",
       "<table border=\"1\" class=\"dataframe\">\n",
       "  <thead>\n",
       "    <tr style=\"text-align: right;\">\n",
       "      <th></th>\n",
       "      <th>1</th>\n",
       "      <th>2</th>\n",
       "      <th>3</th>\n",
       "      <th>4</th>\n",
       "    </tr>\n",
       "  </thead>\n",
       "  <tbody>\n",
       "    <tr>\n",
       "      <th>AGQ</th>\n",
       "      <td>-0.258553</td>\n",
       "      <td>0.439692</td>\n",
       "      <td>0.028316</td>\n",
       "      <td>-0.391673</td>\n",
       "    </tr>\n",
       "    <tr>\n",
       "      <th>DBA</th>\n",
       "      <td>-0.042828</td>\n",
       "      <td>-0.008102</td>\n",
       "      <td>0.038248</td>\n",
       "      <td>0.027703</td>\n",
       "    </tr>\n",
       "    <tr>\n",
       "      <th>DBB</th>\n",
       "      <td>-0.07851</td>\n",
       "      <td>0.031694</td>\n",
       "      <td>0.030982</td>\n",
       "      <td>-0.010585</td>\n",
       "    </tr>\n",
       "    <tr>\n",
       "      <th>DBC</th>\n",
       "      <td>-0.123592</td>\n",
       "      <td>-0.036888</td>\n",
       "      <td>0.032247</td>\n",
       "      <td>0.035076</td>\n",
       "    </tr>\n",
       "    <tr>\n",
       "      <th>DBE</th>\n",
       "      <td>-0.181738</td>\n",
       "      <td>-0.10287</td>\n",
       "      <td>0.029372</td>\n",
       "      <td>0.017713</td>\n",
       "    </tr>\n",
       "    <tr>\n",
       "      <th>DBO</th>\n",
       "      <td>-0.200141</td>\n",
       "      <td>-0.11815</td>\n",
       "      <td>-0.005096</td>\n",
       "      <td>0.009177</td>\n",
       "    </tr>\n",
       "    <tr>\n",
       "      <th>DBP</th>\n",
       "      <td>-0.057692</td>\n",
       "      <td>0.138406</td>\n",
       "      <td>0.014457</td>\n",
       "      <td>0.100504</td>\n",
       "    </tr>\n",
       "    <tr>\n",
       "      <th>DGP</th>\n",
       "      <td>-0.085265</td>\n",
       "      <td>0.243516</td>\n",
       "      <td>0.037695</td>\n",
       "      <td>0.329118</td>\n",
       "    </tr>\n",
       "    <tr>\n",
       "      <th>DGZ</th>\n",
       "      <td>0.036099</td>\n",
       "      <td>-0.121216</td>\n",
       "      <td>-0.010098</td>\n",
       "      <td>-0.185544</td>\n",
       "    </tr>\n",
       "    <tr>\n",
       "      <th>DJP</th>\n",
       "      <td>-0.10521</td>\n",
       "      <td>-0.014499</td>\n",
       "      <td>0.109344</td>\n",
       "      <td>0.029323</td>\n",
       "    </tr>\n",
       "    <tr>\n",
       "      <th>DZZ</th>\n",
       "      <td>0.078204</td>\n",
       "      <td>-0.249635</td>\n",
       "      <td>-0.048489</td>\n",
       "      <td>-0.338014</td>\n",
       "    </tr>\n",
       "    <tr>\n",
       "      <th>GCC</th>\n",
       "      <td>-0.081552</td>\n",
       "      <td>0.005875</td>\n",
       "      <td>0.053204</td>\n",
       "      <td>0.02066</td>\n",
       "    </tr>\n",
       "    <tr>\n",
       "      <th>GLD</th>\n",
       "      <td>-0.041006</td>\n",
       "      <td>0.11912</td>\n",
       "      <td>0.012174</td>\n",
       "      <td>0.16852</td>\n",
       "    </tr>\n",
       "    <tr>\n",
       "      <th>GLL</th>\n",
       "      <td>0.068055</td>\n",
       "      <td>-0.246191</td>\n",
       "      <td>-0.033115</td>\n",
       "      <td>-0.35237</td>\n",
       "    </tr>\n",
       "    <tr>\n",
       "      <th>GSG</th>\n",
       "      <td>-0.158286</td>\n",
       "      <td>-0.068257</td>\n",
       "      <td>0.014452</td>\n",
       "      <td>0.013074</td>\n",
       "    </tr>\n",
       "    <tr>\n",
       "      <th>IAU</th>\n",
       "      <td>-0.040935</td>\n",
       "      <td>0.118774</td>\n",
       "      <td>0.0117</td>\n",
       "      <td>0.168087</td>\n",
       "    </tr>\n",
       "    <tr>\n",
       "      <th>PALL</th>\n",
       "      <td>-0.063769</td>\n",
       "      <td>0.045578</td>\n",
       "      <td>0.027304</td>\n",
       "      <td>-0.107653</td>\n",
       "    </tr>\n",
       "    <tr>\n",
       "      <th>PPLT</th>\n",
       "      <td>-0.098648</td>\n",
       "      <td>0.095993</td>\n",
       "      <td>-0.007184</td>\n",
       "      <td>-0.027004</td>\n",
       "    </tr>\n",
       "    <tr>\n",
       "      <th>SCO</th>\n",
       "      <td>0.518075</td>\n",
       "      <td>0.231384</td>\n",
       "      <td>0.071423</td>\n",
       "      <td>-0.20225</td>\n",
       "    </tr>\n",
       "    <tr>\n",
       "      <th>SGOL</th>\n",
       "      <td>-0.040808</td>\n",
       "      <td>0.118887</td>\n",
       "      <td>0.011407</td>\n",
       "      <td>0.166789</td>\n",
       "    </tr>\n",
       "    <tr>\n",
       "      <th>SIVR</th>\n",
       "      <td>-0.127038</td>\n",
       "      <td>0.211514</td>\n",
       "      <td>0.020528</td>\n",
       "      <td>-0.186057</td>\n",
       "    </tr>\n",
       "    <tr>\n",
       "      <th>SLV</th>\n",
       "      <td>-0.126841</td>\n",
       "      <td>0.211288</td>\n",
       "      <td>0.021665</td>\n",
       "      <td>-0.186051</td>\n",
       "    </tr>\n",
       "    <tr>\n",
       "      <th>UCO</th>\n",
       "      <td>-0.478465</td>\n",
       "      <td>-0.259682</td>\n",
       "      <td>-0.090445</td>\n",
       "      <td>-0.042296</td>\n",
       "    </tr>\n",
       "    <tr>\n",
       "      <th>UGA</th>\n",
       "      <td>-0.234727</td>\n",
       "      <td>-0.0899</td>\n",
       "      <td>-0.066146</td>\n",
       "      <td>-0.031968</td>\n",
       "    </tr>\n",
       "    <tr>\n",
       "      <th>UGL</th>\n",
       "      <td>-0.078562</td>\n",
       "      <td>0.24188</td>\n",
       "      <td>0.020478</td>\n",
       "      <td>0.346565</td>\n",
       "    </tr>\n",
       "    <tr>\n",
       "      <th>UNG</th>\n",
       "      <td>-0.041668</td>\n",
       "      <td>-0.125997</td>\n",
       "      <td>0.812794</td>\n",
       "      <td>-0.055116</td>\n",
       "    </tr>\n",
       "    <tr>\n",
       "      <th>UNL</th>\n",
       "      <td>-0.028253</td>\n",
       "      <td>-0.087768</td>\n",
       "      <td>0.535925</td>\n",
       "      <td>0.039017</td>\n",
       "    </tr>\n",
       "    <tr>\n",
       "      <th>USL</th>\n",
       "      <td>-0.209803</td>\n",
       "      <td>-0.105998</td>\n",
       "      <td>-0.025282</td>\n",
       "      <td>0.014156</td>\n",
       "    </tr>\n",
       "    <tr>\n",
       "      <th>USO</th>\n",
       "      <td>-0.261074</td>\n",
       "      <td>-0.148929</td>\n",
       "      <td>-0.062045</td>\n",
       "      <td>-0.039089</td>\n",
       "    </tr>\n",
       "    <tr>\n",
       "      <th>ZSL</th>\n",
       "      <td>0.232728</td>\n",
       "      <td>-0.411782</td>\n",
       "      <td>-0.060501</td>\n",
       "      <td>0.343592</td>\n",
       "    </tr>\n",
       "  </tbody>\n",
       "</table>\n",
       "</div>"
      ],
      "text/plain": [
       "             1         2         3         4\n",
       "AGQ  -0.258553  0.439692  0.028316 -0.391673\n",
       "DBA  -0.042828 -0.008102  0.038248  0.027703\n",
       "DBB   -0.07851  0.031694  0.030982 -0.010585\n",
       "DBC  -0.123592 -0.036888  0.032247  0.035076\n",
       "DBE  -0.181738  -0.10287  0.029372  0.017713\n",
       "DBO  -0.200141  -0.11815 -0.005096  0.009177\n",
       "DBP  -0.057692  0.138406  0.014457  0.100504\n",
       "DGP  -0.085265  0.243516  0.037695  0.329118\n",
       "DGZ   0.036099 -0.121216 -0.010098 -0.185544\n",
       "DJP   -0.10521 -0.014499  0.109344  0.029323\n",
       "DZZ   0.078204 -0.249635 -0.048489 -0.338014\n",
       "GCC  -0.081552  0.005875  0.053204   0.02066\n",
       "GLD  -0.041006   0.11912  0.012174   0.16852\n",
       "GLL   0.068055 -0.246191 -0.033115  -0.35237\n",
       "GSG  -0.158286 -0.068257  0.014452  0.013074\n",
       "IAU  -0.040935  0.118774    0.0117  0.168087\n",
       "PALL -0.063769  0.045578  0.027304 -0.107653\n",
       "PPLT -0.098648  0.095993 -0.007184 -0.027004\n",
       "SCO   0.518075  0.231384  0.071423  -0.20225\n",
       "SGOL -0.040808  0.118887  0.011407  0.166789\n",
       "SIVR -0.127038  0.211514  0.020528 -0.186057\n",
       "SLV  -0.126841  0.211288  0.021665 -0.186051\n",
       "UCO  -0.478465 -0.259682 -0.090445 -0.042296\n",
       "UGA  -0.234727   -0.0899 -0.066146 -0.031968\n",
       "UGL  -0.078562   0.24188  0.020478  0.346565\n",
       "UNG  -0.041668 -0.125997  0.812794 -0.055116\n",
       "UNL  -0.028253 -0.087768  0.535925  0.039017\n",
       "USL  -0.209803 -0.105998 -0.025282  0.014156\n",
       "USO  -0.261074 -0.148929 -0.062045 -0.039089\n",
       "ZSL   0.232728 -0.411782 -0.060501  0.343592"
      ]
     },
     "execution_count": 15,
     "metadata": {},
     "output_type": "execute_result"
    }
   ],
   "source": [
    "regr_res"
   ]
  },
  {
   "cell_type": "markdown",
   "id": "bb351b35-f26a-42a6-98aa-2783a5166fca",
   "metadata": {
    "tags": []
   },
   "source": [
    "### Part d\n",
    "The largest absolute covariance difference is between UCO and UGA with the value of 0.001258"
   ]
  },
  {
   "cell_type": "code",
   "execution_count": 16,
   "id": "1ca9add3-1d49-4944-94df-fc95576018a7",
   "metadata": {
    "tags": []
   },
   "outputs": [],
   "source": [
    "cov_pca = pd.DataFrame(\n",
    "    index=cov.index, \n",
    "    columns=cov.columns, \n",
    "    data=res.get_covariance())"
   ]
  },
  {
   "cell_type": "code",
   "execution_count": 17,
   "id": "d0d8e386-0540-4f14-8ebe-6772286d4fb3",
   "metadata": {},
   "outputs": [
    {
     "data": {
      "text/plain": [
       "0.0012581787463821006"
      ]
     },
     "execution_count": 17,
     "metadata": {},
     "output_type": "execute_result"
    }
   ],
   "source": [
    "(cov_pca.abs() - cov.abs()).max().max()"
   ]
  },
  {
   "cell_type": "code",
   "execution_count": 18,
   "id": "e2a5edbd-129f-4fc7-9d60-2c4bcfbbd143",
   "metadata": {
    "tags": []
   },
   "outputs": [
    {
     "data": {
      "text/plain": [
       "0.0012581787463821006"
      ]
     },
     "execution_count": 18,
     "metadata": {},
     "output_type": "execute_result"
    }
   ],
   "source": [
    "(cov_pca.abs() - cov.abs()).loc['UCO', 'UGA']"
   ]
  },
  {
   "cell_type": "markdown",
   "id": "f7123ddb-2cac-4ea2-92e7-f51b5dfb2001",
   "metadata": {},
   "source": [
    "### Problem 5"
   ]
  },
  {
   "cell_type": "markdown",
   "id": "a002ef65-5600-49ca-b9eb-dfd2c1252e8c",
   "metadata": {},
   "source": [
    "#### part a"
   ]
  },
  {
   "cell_type": "code",
   "execution_count": 19,
   "id": "a75cf74d-5e90-433a-8d48-7ca7b4cba3d8",
   "metadata": {
    "tags": []
   },
   "outputs": [],
   "source": [
    "# X: maturity\n",
    "x = [0.25, 0.5, 1, 2, 3, 5, 7, 10]\n",
    "# Y: yield\n",
    "y = [5.45, 5.42, 5.12, 4.82, 4.64, 4.48, 4.48, 4.49]"
   ]
  },
  {
   "cell_type": "code",
   "execution_count": 20,
   "id": "a050c5f0-5b79-492c-b53c-e0cdb458b785",
   "metadata": {
    "tags": []
   },
   "outputs": [],
   "source": [
    "def price(FV, r, n):\n",
    "    \"\"\"\n",
    "    Current price of a zero-coupon bond\n",
    "    \"\"\"\n",
    "    return FV * np.exp(-r * n)\n",
    "\n",
    "def ytm(FV, PV, n):\n",
    "    \"\"\"\n",
    "    Yield-to-maturity of a zero-coupon bond\n",
    "    \"\"\"\n",
    "    return (FV/PV) ** (1/n) -1\n",
    "\n",
    "def fw_duration(cash_flows, maturities, discount_rates):\n",
    "    \"\"\"\n",
    "    Calculates the Fisher-Weil duration of a bond. Supports bonds with non-zero coupon rate.\n",
    "\n",
    "    cash_flows: List of cash flows (including face value at maturity).\n",
    "    maturities: List of corresponding maturities (in years) for each cash flow.\n",
    "    discount_rates: List of discount rates for each cash flow's maturity.\n",
    "    \"\"\"\n",
    "    present_values = []\n",
    "    for cash_flow, maturity, discount_rate in zip(cash_flows, maturities, discount_rates):\n",
    "        present_value = cash_flow / (1 + discount_rate)**maturity\n",
    "        present_values.append(present_value)\n",
    "\n",
    "    numer = sum(t * pv for t, pv in zip(maturities, present_values))\n",
    "    denom = sum(present_values)\n",
    "\n",
    "    return numer / denom"
   ]
  },
  {
   "cell_type": "code",
   "execution_count": 21,
   "id": "1af5c0f8-8e97-454e-9b78-489ac9963b57",
   "metadata": {
    "tags": []
   },
   "outputs": [],
   "source": [
    "# assume par=1000\n",
    "par = 1000\n",
    "bond_stats = pd.DataFrame(index=range(1, 11))\n",
    "bond_stats.index.name = 'Maturity'\n",
    "for i in bond_stats.index:\n",
    "    # first interpolate the yield from the input data\n",
    "    interpolated_yield = np.interp(i, x, y) / 100\n",
    "    # calc price\n",
    "    px = price(par, interpolated_yield, i)\n",
    "    bond_stats.loc[i, 'Price'] = px\n",
    "    # calc YTM\n",
    "    bond_stats.loc[i, 'YTM'] = ytm(par, px, i)\n",
    "    # calc fisher-weil duration\n",
    "    bond_stats.loc[i, 'FW Duration'] = fw_duration([par], [i], [interpolated_yield])"
   ]
  },
  {
   "cell_type": "code",
   "execution_count": 22,
   "id": "f3f02cba-7ca7-4a75-9b05-96e5fa700109",
   "metadata": {
    "tags": []
   },
   "outputs": [
    {
     "data": {
      "text/html": [
       "<div>\n",
       "<style scoped>\n",
       "    .dataframe tbody tr th:only-of-type {\n",
       "        vertical-align: middle;\n",
       "    }\n",
       "\n",
       "    .dataframe tbody tr th {\n",
       "        vertical-align: top;\n",
       "    }\n",
       "\n",
       "    .dataframe thead th {\n",
       "        text-align: right;\n",
       "    }\n",
       "</style>\n",
       "<table border=\"1\" class=\"dataframe\">\n",
       "  <thead>\n",
       "    <tr style=\"text-align: right;\">\n",
       "      <th></th>\n",
       "      <th>Price</th>\n",
       "      <th>YTM</th>\n",
       "      <th>FW Duration</th>\n",
       "    </tr>\n",
       "    <tr>\n",
       "      <th>Maturity</th>\n",
       "      <th></th>\n",
       "      <th></th>\n",
       "      <th></th>\n",
       "    </tr>\n",
       "  </thead>\n",
       "  <tbody>\n",
       "    <tr>\n",
       "      <th>1</th>\n",
       "      <td>950.088634</td>\n",
       "      <td>0.052533</td>\n",
       "      <td>1.0</td>\n",
       "    </tr>\n",
       "    <tr>\n",
       "      <th>2</th>\n",
       "      <td>908.100703</td>\n",
       "      <td>0.049381</td>\n",
       "      <td>2.0</td>\n",
       "    </tr>\n",
       "    <tr>\n",
       "      <th>3</th>\n",
       "      <td>870.054000</td>\n",
       "      <td>0.047493</td>\n",
       "      <td>3.0</td>\n",
       "    </tr>\n",
       "    <tr>\n",
       "      <th>4</th>\n",
       "      <td>833.267967</td>\n",
       "      <td>0.046656</td>\n",
       "      <td>4.0</td>\n",
       "    </tr>\n",
       "    <tr>\n",
       "      <th>5</th>\n",
       "      <td>799.315134</td>\n",
       "      <td>0.045819</td>\n",
       "      <td>5.0</td>\n",
       "    </tr>\n",
       "    <tr>\n",
       "      <th>6</th>\n",
       "      <td>764.296100</td>\n",
       "      <td>0.045819</td>\n",
       "      <td>6.0</td>\n",
       "    </tr>\n",
       "    <tr>\n",
       "      <th>7</th>\n",
       "      <td>730.811294</td>\n",
       "      <td>0.045819</td>\n",
       "      <td>7.0</td>\n",
       "    </tr>\n",
       "    <tr>\n",
       "      <th>8</th>\n",
       "      <td>698.607182</td>\n",
       "      <td>0.045854</td>\n",
       "      <td>8.0</td>\n",
       "    </tr>\n",
       "    <tr>\n",
       "      <th>9</th>\n",
       "      <td>667.777663</td>\n",
       "      <td>0.045888</td>\n",
       "      <td>9.0</td>\n",
       "    </tr>\n",
       "    <tr>\n",
       "      <th>10</th>\n",
       "      <td>638.266099</td>\n",
       "      <td>0.045923</td>\n",
       "      <td>10.0</td>\n",
       "    </tr>\n",
       "  </tbody>\n",
       "</table>\n",
       "</div>"
      ],
      "text/plain": [
       "               Price       YTM  FW Duration\n",
       "Maturity                                   \n",
       "1         950.088634  0.052533          1.0\n",
       "2         908.100703  0.049381          2.0\n",
       "3         870.054000  0.047493          3.0\n",
       "4         833.267967  0.046656          4.0\n",
       "5         799.315134  0.045819          5.0\n",
       "6         764.296100  0.045819          6.0\n",
       "7         730.811294  0.045819          7.0\n",
       "8         698.607182  0.045854          8.0\n",
       "9         667.777663  0.045888          9.0\n",
       "10        638.266099  0.045923         10.0"
      ]
     },
     "execution_count": 22,
     "metadata": {},
     "output_type": "execute_result"
    }
   ],
   "source": [
    "bond_stats"
   ]
  },
  {
   "cell_type": "markdown",
   "id": "7a9d04d0-55fa-4bc4-b5bd-ec57a6a94ab7",
   "metadata": {},
   "source": [
    "#### part b"
   ]
  },
  {
   "cell_type": "code",
   "execution_count": 23,
   "id": "3e8a7d83-70f4-4ef2-82c7-f0247906a238",
   "metadata": {
    "tags": []
   },
   "outputs": [],
   "source": [
    "def yield_to_maturity(cash_flows: list, maturities: list, face_value: float | int,tolerance: float=1e-6):\n",
    "    \"\"\"\n",
    "    Calculate the yield to maturity (YTM) of a bond with coupons.\n",
    "\n",
    "    cash_flows: A list of cash flows for each period (including coupons and face value).\n",
    "    maturities: A list of corresponding maturities (in years) for each cash flow.\n",
    "    face_value: The face value of the bond received at maturity.\n",
    "    tolerance: The desired accuracy for the YTM\n",
    "\n",
    "    \"\"\"\n",
    "    def present_value(rate):\n",
    "        \"\"\"\n",
    "        Helper, calculate the PV of the bond's cash flows for a given interest rate.\n",
    "        \"\"\"\n",
    "        present_value = 0\n",
    "        for cash_flow, maturity in zip(cash_flows, maturities):\n",
    "            present_value += cash_flow / (1 + rate)**maturity\n",
    "        return present_value - face_value  # Subtract face value to find the error\n",
    "\n",
    "    low = 0\n",
    "    high = 1.0  # Upper bound (shoud be a high interest rate)\n",
    "    while abs(high - low) > tolerance:\n",
    "        mid = (low + high) / 2\n",
    "        present_value_mid = present_value(mid)\n",
    "        if present_value_mid > 0:\n",
    "            low = mid\n",
    "        else:\n",
    "            high = mid\n",
    "    return mid"
   ]
  },
  {
   "cell_type": "code",
   "execution_count": 24,
   "id": "f9320864-89d9-4f3d-bd28-43fdfd572374",
   "metadata": {
    "tags": []
   },
   "outputs": [],
   "source": [
    "par = 1000\n",
    "coupon = par * (0.06/2)"
   ]
  },
  {
   "cell_type": "code",
   "execution_count": 25,
   "id": "ce392037-4ba5-4656-9a5a-98ac7ae177d9",
   "metadata": {
    "tags": []
   },
   "outputs": [],
   "source": [
    "# calculate the cash flow maturities in terms of years\n",
    "maturities = np.array(range(1, 11, 1)) / 2\n",
    "\n",
    "# cash flows are the coupon payments plus the face value included in the last flow\n",
    "cash_flows = np.array([coupon] * len(maturities))\n",
    "cash_flows[-1] += par"
   ]
  },
  {
   "cell_type": "code",
   "execution_count": 26,
   "id": "bc6b550b-656b-42a0-ab08-ba9a8854853e",
   "metadata": {
    "tags": []
   },
   "outputs": [
    {
     "name": "stdout",
     "output_type": "stream",
     "text": [
      "YTM of the bond is 6.09\n",
      "Macaulay Duration of the bond is 4.39\n"
     ]
    }
   ],
   "source": [
    "# calculate the YTM\n",
    "ytm_5y = yield_to_maturity(cash_flows, maturities, par)\n",
    "print(f'YTM of the bond is {round(ytm_5y * 1e2, 2)}')\n",
    "# calculate Macaulay duration. We can use the Fisher-Weil function but instead\n",
    "# of using the discount rate we just need to pass in the YTM\n",
    "mc_dur_y5 = fw_duration(cash_flows, maturities, [ytm_5y] * len(maturities))\n",
    "print(f'Macaulay Duration of the bond is {round(mc_dur_y5, 2)}')"
   ]
  },
  {
   "cell_type": "markdown",
   "id": "5229d39e-6739-40ce-bfd8-df69285a2cee",
   "metadata": {},
   "source": [
    "### Problem 6"
   ]
  },
  {
   "cell_type": "code",
   "execution_count": 27,
   "id": "8b5b7ece-fb77-453c-b6ca-e7145d0ebee8",
   "metadata": {
    "tags": []
   },
   "outputs": [
    {
     "name": "stdout",
     "output_type": "stream",
     "text": [
      "[*********************100%%**********************]  11 of 11 completed\n"
     ]
    }
   ],
   "source": [
    "sd = '2021-12-30'\n",
    "ed = '2023-12-31'\n",
    "funds = ['AMAGX', 'NOSIX', 'IUSG', 'VUG', 'IWV', 'FDSVX', 'APGAX', 'SWDSX', 'MIGFX']\n",
    "tickers = ['^GSPC', 'SHY'] + funds\n",
    "\n",
    "df = yf.download(tickers, start=sd, end=ed)\n",
    "px = df.loc[:, idx['Adj Close']]\n",
    "\n",
    "month_end = px.index.month != (px.index + pd.tseries.offsets.BDay(1)).month\n",
    "\n",
    "rts_m = px[month_end].pct_change().dropna(axis=0)\n",
    "rfr_m = rts_m['SHY']\n",
    "mkt_m = rts_m['^GSPC']\n",
    "rts_m = rts_m.loc[:, ~rts_m.columns.isin(['SHY', '^GSPC'])]"
   ]
  },
  {
   "cell_type": "code",
   "execution_count": 28,
   "id": "36a90ff7-3b5c-490a-9e6f-9d42347e44dc",
   "metadata": {
    "tags": []
   },
   "outputs": [],
   "source": [
    "def sharpe(mu, rfr, sigma):\n",
    "    return (mu-rfr) / sigma\n",
    "\n",
    "def treynor(mu, rfr, beta):\n",
    "    return (mu-rfr) / beta\n",
    "\n",
    "def sortino(rts, target):\n",
    "    return (rts > target).mean() / (rts < target).std()\n",
    "\n",
    "def modigliani(mu, rfr, sigma_p, sigma_b):\n",
    "    return ((mu - rfr) / sigma_p) * sigma_b + rfr\n",
    "\n",
    "def roys(mu, sigma, target):\n",
    "    return (mu - target) / sigma\n",
    "\n",
    "def jensen_alpha(mu, rfr, beta, mu_mkt):\n",
    "    return mu - (beta * mu_mkt + (1+beta) * rfr)\n",
    "\n",
    "def ar(rts, rfr):\n",
    "    return (rts - rfr).mean() / (rts - rfr).std()\n",
    "\n",
    "def ir(rts, rts_mkt):\n",
    "    return (rts - rts_mkt).mean() / (rts - rts_mkt).std()"
   ]
  },
  {
   "cell_type": "code",
   "execution_count": 29,
   "id": "ffc067d2-7afc-472f-9a4c-ad059cbdd492",
   "metadata": {
    "tags": []
   },
   "outputs": [],
   "source": [
    "# mean historical return of the funds in question\n",
    "mu = rts_m.mean()\n",
    "# standard deviation (vol/risk) of funds\n",
    "sigma = rts_m.std()\n",
    "# mean historical return of risk free rate\n",
    "rfr = rfr_m.mean()\n",
    "# mean historical return of market\n",
    "mkt = mkt_m.mean()\n",
    "mkt_sigma = mkt_m.std()\n",
    "# calculate beta\n",
    "beta = (mu - rfr) / (mkt - rfr)"
   ]
  },
  {
   "cell_type": "code",
   "execution_count": 30,
   "id": "e272a7ba-4668-4a69-8bbb-7026d0381a97",
   "metadata": {
    "tags": []
   },
   "outputs": [],
   "source": [
    "fund_res = pd.DataFrame(index=funds)\n",
    "\n",
    "target = 0.005\n",
    "for fund in funds:\n",
    "    fund_res.loc[fund, 'Sharpe'] = sharpe(mu.loc[fund], rfr, sigma.loc[fund])\n",
    "    fund_res.loc[fund, 'Treynor'] = treynor(mu.loc[fund], rfr, beta.loc[fund])\n",
    "    fund_res.loc[fund, 'Sortino'] = sortino(rts_m.loc[:, fund], target)\n",
    "    fund_res.loc[fund, 'M2'] = modigliani(mu.loc[fund], rfr, sigma.loc[fund], mkt_sigma)\n",
    "    fund_res.loc[fund, 'Roy'] = jensen_alpha(mu.loc[fund], rfr, beta.loc[fund], mkt)\n",
    "    fund_res.loc[fund, 'AR'] = ar(rts_m.loc[:, fund], rfr)    \n",
    "    fund_res.loc[fund, 'IR'] = ir(rts_m.loc[:, fund], mkt_m)"
   ]
  },
  {
   "cell_type": "code",
   "execution_count": 31,
   "id": "ef4c3938-1045-4398-b3cf-1d0b1ffe51be",
   "metadata": {
    "tags": []
   },
   "outputs": [
    {
     "data": {
      "text/html": [
       "<div>\n",
       "<style scoped>\n",
       "    .dataframe tbody tr th:only-of-type {\n",
       "        vertical-align: middle;\n",
       "    }\n",
       "\n",
       "    .dataframe tbody tr th {\n",
       "        vertical-align: top;\n",
       "    }\n",
       "\n",
       "    .dataframe thead th {\n",
       "        text-align: right;\n",
       "    }\n",
       "</style>\n",
       "<table border=\"1\" class=\"dataframe\">\n",
       "  <thead>\n",
       "    <tr style=\"text-align: right;\">\n",
       "      <th></th>\n",
       "      <th>Sharpe</th>\n",
       "      <th>Treynor</th>\n",
       "      <th>Sortino</th>\n",
       "      <th>M2</th>\n",
       "      <th>Roy</th>\n",
       "      <th>AR</th>\n",
       "      <th>IR</th>\n",
       "    </tr>\n",
       "  </thead>\n",
       "  <tbody>\n",
       "    <tr>\n",
       "      <th>AMAGX</th>\n",
       "      <td>0.035032</td>\n",
       "      <td>0.00153</td>\n",
       "      <td>0.900498</td>\n",
       "      <td>0.002086</td>\n",
       "      <td>-0.000212</td>\n",
       "      <td>0.035032</td>\n",
       "      <td>0.040861</td>\n",
       "    </tr>\n",
       "    <tr>\n",
       "      <th>NOSIX</th>\n",
       "      <td>0.051013</td>\n",
       "      <td>0.00153</td>\n",
       "      <td>0.900498</td>\n",
       "      <td>0.003002</td>\n",
       "      <td>-0.000302</td>\n",
       "      <td>0.051013</td>\n",
       "      <td>1.888162</td>\n",
       "    </tr>\n",
       "    <tr>\n",
       "      <th>IUSG</th>\n",
       "      <td>-0.023158</td>\n",
       "      <td>0.00153</td>\n",
       "      <td>0.978945</td>\n",
       "      <td>-0.001248</td>\n",
       "      <td>0.000155</td>\n",
       "      <td>-0.023158</td>\n",
       "      <td>-0.186604</td>\n",
       "    </tr>\n",
       "    <tr>\n",
       "      <th>VUG</th>\n",
       "      <td>0.023374</td>\n",
       "      <td>0.00153</td>\n",
       "      <td>0.978945</td>\n",
       "      <td>0.001418</td>\n",
       "      <td>-0.000176</td>\n",
       "      <td>0.023374</td>\n",
       "      <td>0.006910</td>\n",
       "    </tr>\n",
       "    <tr>\n",
       "      <th>IWV</th>\n",
       "      <td>0.037736</td>\n",
       "      <td>0.00153</td>\n",
       "      <td>0.900498</td>\n",
       "      <td>0.002241</td>\n",
       "      <td>-0.000228</td>\n",
       "      <td>0.037736</td>\n",
       "      <td>0.161495</td>\n",
       "    </tr>\n",
       "    <tr>\n",
       "      <th>FDSVX</th>\n",
       "      <td>0.045014</td>\n",
       "      <td>0.00153</td>\n",
       "      <td>0.900498</td>\n",
       "      <td>0.002658</td>\n",
       "      <td>-0.000285</td>\n",
       "      <td>0.045014</td>\n",
       "      <td>0.076337</td>\n",
       "    </tr>\n",
       "    <tr>\n",
       "      <th>APGAX</th>\n",
       "      <td>0.000310</td>\n",
       "      <td>0.00153</td>\n",
       "      <td>0.978945</td>\n",
       "      <td>0.000097</td>\n",
       "      <td>-0.000002</td>\n",
       "      <td>0.000310</td>\n",
       "      <td>-0.082714</td>\n",
       "    </tr>\n",
       "    <tr>\n",
       "      <th>SWDSX</th>\n",
       "      <td>0.026528</td>\n",
       "      <td>0.00153</td>\n",
       "      <td>0.900498</td>\n",
       "      <td>0.001599</td>\n",
       "      <td>-0.000128</td>\n",
       "      <td>0.026528</td>\n",
       "      <td>-0.011996</td>\n",
       "    </tr>\n",
       "    <tr>\n",
       "      <th>MIGFX</th>\n",
       "      <td>0.028397</td>\n",
       "      <td>0.00153</td>\n",
       "      <td>0.900498</td>\n",
       "      <td>0.001706</td>\n",
       "      <td>-0.000169</td>\n",
       "      <td>0.028397</td>\n",
       "      <td>0.009463</td>\n",
       "    </tr>\n",
       "  </tbody>\n",
       "</table>\n",
       "</div>"
      ],
      "text/plain": [
       "         Sharpe  Treynor   Sortino        M2       Roy        AR        IR\n",
       "AMAGX  0.035032  0.00153  0.900498  0.002086 -0.000212  0.035032  0.040861\n",
       "NOSIX  0.051013  0.00153  0.900498  0.003002 -0.000302  0.051013  1.888162\n",
       "IUSG  -0.023158  0.00153  0.978945 -0.001248  0.000155 -0.023158 -0.186604\n",
       "VUG    0.023374  0.00153  0.978945  0.001418 -0.000176  0.023374  0.006910\n",
       "IWV    0.037736  0.00153  0.900498  0.002241 -0.000228  0.037736  0.161495\n",
       "FDSVX  0.045014  0.00153  0.900498  0.002658 -0.000285  0.045014  0.076337\n",
       "APGAX  0.000310  0.00153  0.978945  0.000097 -0.000002  0.000310 -0.082714\n",
       "SWDSX  0.026528  0.00153  0.900498  0.001599 -0.000128  0.026528 -0.011996\n",
       "MIGFX  0.028397  0.00153  0.900498  0.001706 -0.000169  0.028397  0.009463"
      ]
     },
     "execution_count": 31,
     "metadata": {},
     "output_type": "execute_result"
    }
   ],
   "source": [
    "fund_res"
   ]
  },
  {
   "cell_type": "markdown",
   "id": "8f88871c-70c8-46a2-8c70-be4d1a0abf91",
   "metadata": {},
   "source": [
    "##### As seen by the ranking table below, the funds are not always ranked in the same order"
   ]
  },
  {
   "cell_type": "code",
   "execution_count": 32,
   "id": "a82b656e-d5a0-44ec-a78e-227eebf9aafa",
   "metadata": {
    "tags": []
   },
   "outputs": [
    {
     "data": {
      "text/html": [
       "<div>\n",
       "<style scoped>\n",
       "    .dataframe tbody tr th:only-of-type {\n",
       "        vertical-align: middle;\n",
       "    }\n",
       "\n",
       "    .dataframe tbody tr th {\n",
       "        vertical-align: top;\n",
       "    }\n",
       "\n",
       "    .dataframe thead th {\n",
       "        text-align: right;\n",
       "    }\n",
       "</style>\n",
       "<table border=\"1\" class=\"dataframe\">\n",
       "  <thead>\n",
       "    <tr style=\"text-align: right;\">\n",
       "      <th></th>\n",
       "      <th>Sharpe</th>\n",
       "      <th>Treynor</th>\n",
       "      <th>Sortino</th>\n",
       "      <th>M2</th>\n",
       "      <th>Roy</th>\n",
       "      <th>AR</th>\n",
       "      <th>IR</th>\n",
       "    </tr>\n",
       "  </thead>\n",
       "  <tbody>\n",
       "    <tr>\n",
       "      <th>AMAGX</th>\n",
       "      <td>6.0</td>\n",
       "      <td>5.0</td>\n",
       "      <td>3.5</td>\n",
       "      <td>6.0</td>\n",
       "      <td>4.0</td>\n",
       "      <td>6.0</td>\n",
       "      <td>6.0</td>\n",
       "    </tr>\n",
       "    <tr>\n",
       "      <th>NOSIX</th>\n",
       "      <td>9.0</td>\n",
       "      <td>5.0</td>\n",
       "      <td>3.5</td>\n",
       "      <td>9.0</td>\n",
       "      <td>1.0</td>\n",
       "      <td>9.0</td>\n",
       "      <td>9.0</td>\n",
       "    </tr>\n",
       "    <tr>\n",
       "      <th>IUSG</th>\n",
       "      <td>1.0</td>\n",
       "      <td>5.0</td>\n",
       "      <td>8.0</td>\n",
       "      <td>1.0</td>\n",
       "      <td>9.0</td>\n",
       "      <td>1.0</td>\n",
       "      <td>1.0</td>\n",
       "    </tr>\n",
       "    <tr>\n",
       "      <th>VUG</th>\n",
       "      <td>3.0</td>\n",
       "      <td>5.0</td>\n",
       "      <td>8.0</td>\n",
       "      <td>3.0</td>\n",
       "      <td>5.0</td>\n",
       "      <td>3.0</td>\n",
       "      <td>4.0</td>\n",
       "    </tr>\n",
       "    <tr>\n",
       "      <th>IWV</th>\n",
       "      <td>7.0</td>\n",
       "      <td>5.0</td>\n",
       "      <td>3.5</td>\n",
       "      <td>7.0</td>\n",
       "      <td>3.0</td>\n",
       "      <td>7.0</td>\n",
       "      <td>8.0</td>\n",
       "    </tr>\n",
       "    <tr>\n",
       "      <th>FDSVX</th>\n",
       "      <td>8.0</td>\n",
       "      <td>5.0</td>\n",
       "      <td>3.5</td>\n",
       "      <td>8.0</td>\n",
       "      <td>2.0</td>\n",
       "      <td>8.0</td>\n",
       "      <td>7.0</td>\n",
       "    </tr>\n",
       "    <tr>\n",
       "      <th>APGAX</th>\n",
       "      <td>2.0</td>\n",
       "      <td>5.0</td>\n",
       "      <td>8.0</td>\n",
       "      <td>2.0</td>\n",
       "      <td>8.0</td>\n",
       "      <td>2.0</td>\n",
       "      <td>2.0</td>\n",
       "    </tr>\n",
       "    <tr>\n",
       "      <th>SWDSX</th>\n",
       "      <td>4.0</td>\n",
       "      <td>5.0</td>\n",
       "      <td>3.5</td>\n",
       "      <td>4.0</td>\n",
       "      <td>7.0</td>\n",
       "      <td>4.0</td>\n",
       "      <td>3.0</td>\n",
       "    </tr>\n",
       "    <tr>\n",
       "      <th>MIGFX</th>\n",
       "      <td>5.0</td>\n",
       "      <td>5.0</td>\n",
       "      <td>3.5</td>\n",
       "      <td>5.0</td>\n",
       "      <td>6.0</td>\n",
       "      <td>5.0</td>\n",
       "      <td>5.0</td>\n",
       "    </tr>\n",
       "  </tbody>\n",
       "</table>\n",
       "</div>"
      ],
      "text/plain": [
       "       Sharpe  Treynor  Sortino   M2  Roy   AR   IR\n",
       "AMAGX     6.0      5.0      3.5  6.0  4.0  6.0  6.0\n",
       "NOSIX     9.0      5.0      3.5  9.0  1.0  9.0  9.0\n",
       "IUSG      1.0      5.0      8.0  1.0  9.0  1.0  1.0\n",
       "VUG       3.0      5.0      8.0  3.0  5.0  3.0  4.0\n",
       "IWV       7.0      5.0      3.5  7.0  3.0  7.0  8.0\n",
       "FDSVX     8.0      5.0      3.5  8.0  2.0  8.0  7.0\n",
       "APGAX     2.0      5.0      8.0  2.0  8.0  2.0  2.0\n",
       "SWDSX     4.0      5.0      3.5  4.0  7.0  4.0  3.0\n",
       "MIGFX     5.0      5.0      3.5  5.0  6.0  5.0  5.0"
      ]
     },
     "execution_count": 32,
     "metadata": {},
     "output_type": "execute_result"
    }
   ],
   "source": [
    "fund_res.rank(axis=0)"
   ]
  },
  {
   "cell_type": "code",
   "execution_count": null,
   "id": "7a5e997f-59e8-4b4a-9d79-d5723a0f95e9",
   "metadata": {},
   "outputs": [],
   "source": []
  }
 ],
 "metadata": {
  "kernelspec": {
   "display_name": "Python 3 (ipykernel)",
   "language": "python",
   "name": "python3"
  },
  "language_info": {
   "codemirror_mode": {
    "name": "ipython",
    "version": 3
   },
   "file_extension": ".py",
   "mimetype": "text/x-python",
   "name": "python",
   "nbconvert_exporter": "python",
   "pygments_lexer": "ipython3",
   "version": "3.11.4"
  }
 },
 "nbformat": 4,
 "nbformat_minor": 5
}
