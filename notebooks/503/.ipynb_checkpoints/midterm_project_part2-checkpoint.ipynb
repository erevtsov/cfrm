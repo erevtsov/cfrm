{
 "cells": [
  {
   "cell_type": "markdown",
   "id": "bfd2bce2-0ab8-43fb-961c-8f91db47313f",
   "metadata": {
    "editable": true,
    "slideshow": {
     "slide_type": ""
    },
    "tags": []
   },
   "source": [
    "## Revtsov Midterm Project (Part 2)"
   ]
  },
  {
   "cell_type": "markdown",
   "id": "d86959f2-16f1-4355-b22a-992ac3181466",
   "metadata": {
    "editable": true,
    "slideshow": {
     "slide_type": ""
    },
    "tags": []
   },
   "source": [
    "### Code to Retrieve, Process Data"
   ]
  },
  {
   "cell_type": "code",
   "execution_count": 54,
   "id": "6a822f05-c026-4a44-aef1-bc8ef758878f",
   "metadata": {
    "editable": true,
    "slideshow": {
     "slide_type": ""
    },
    "tags": [
     "hide_code"
    ]
   },
   "outputs": [],
   "source": [
    "import numpy as np\n",
    "import pandas as pd\n",
    "import seaborn as sns\n",
    "import cvxpy as cp\n",
    "import matplotlib.pyplot as plt\n",
    "from scipy.optimize import minimize"
   ]
  },
  {
   "cell_type": "markdown",
   "id": "219facc4-2642-4254-b353-fbfef212778f",
   "metadata": {
    "editable": true,
    "slideshow": {
     "slide_type": ""
    },
    "tags": []
   },
   "source": [
    "<style>\n",
    "    .hide_code {\n",
    "        display: none;\n",
    "    }\n",
    "</style>"
   ]
  },
  {
   "cell_type": "code",
   "execution_count": 14,
   "id": "149f7765-d81a-4b32-a5ba-37390fa5a77f",
   "metadata": {
    "editable": true,
    "slideshow": {
     "slide_type": ""
    },
    "tags": [
     "hide-code",
     "hide_code"
    ]
   },
   "outputs": [],
   "source": [
    "universe = pd.DataFrame(\n",
    "    data=[\n",
    "        ['Large Cap US Equity', 'IWB'],\n",
    "        ['Small Cap US Equity', 'IWM'],\n",
    "        ['Dev Mkts non-US Equity', 'EFA'],\n",
    "        ['Emerg Mkts Equity', 'EEM'],\n",
    "        ['Global REIT', 'VNQ'],\n",
    "        ['Corp Bonds', 'LQD'],\n",
    "        ['Short-Term Treasury', 'SHY'],\n",
    "    ],\n",
    "    columns=['Segment', 'Ticker']\n",
    ")"
   ]
  },
  {
   "cell_type": "code",
   "execution_count": 3,
   "id": "173f16bb-5856-4765-bf23-1e7e9c42f22c",
   "metadata": {
    "editable": true,
    "slideshow": {
     "slide_type": ""
    },
    "tags": []
   },
   "outputs": [],
   "source": [
    "# load the data\n",
    "frames = []\n",
    "for _, row in universe.iterrows():\n",
    "    ticker = row.Ticker\n",
    "    frames.append(pd.read_csv(f'{ticker}_daily.csv').set_index('Date')['Adj Close'].rename(ticker))\n",
    "\n",
    "prices = pd.concat(frames, axis=1)\n",
    "n_obs = prices.shape[0]"
   ]
  },
  {
   "cell_type": "code",
   "execution_count": 4,
   "id": "ae4249a9-9dcf-4aa6-a934-a2004de907df",
   "metadata": {},
   "outputs": [],
   "source": [
    "# define frequencies we want to analyze\n",
    "freqs = {\n",
    "    'daily': 1,\n",
    "    'weekly': 5,\n",
    "    'monthly': 21,\n",
    "    'quarterly': 62,\n",
    "    'yearly': 252\n",
    "}"
   ]
  },
  {
   "cell_type": "code",
   "execution_count": 5,
   "id": "877e17e8-7da2-464d-a881-c06b081b6d41",
   "metadata": {},
   "outputs": [],
   "source": [
    "# calculate the simple price change for each period\n",
    "returns = {k: prices.iloc[0:n_obs:v, :].pct_change().dropna(axis=0, thresh=prices.shape[1]) for k,v in freqs.items()}"
   ]
  },
  {
   "cell_type": "code",
   "execution_count": 6,
   "id": "ab739e74-5fff-465b-8bad-fdca593a649c",
   "metadata": {},
   "outputs": [],
   "source": [
    "# for freq, rts in returns.items():\n",
    "freq = 'monthly'\n",
    "def calc_stats(freq, returns):\n",
    "    rts = returns[freq]\n",
    "    period_stats = pd.DataFrame(index=None, columns=rts.columns)\n",
    "    period_stats.loc['Avg Return', :] = rts.mean()\n",
    "    period_stats.loc['Std Dev', :] = rts.std()\n",
    "    period_stats.loc['Return/Risk', :] = period_stats.loc['Avg Return', :] / period_stats.loc['Std Dev', :]\n",
    "    period_stats.loc['Skewness', :] = rts.skew()\n",
    "    period_stats.loc['Kurtosis', :] = rts.kurt()\n",
    "    period_stats.loc['10th Pct', :] = rts.apply(np.percentile, axis=0, q=10)\n",
    "    period_stats.loc['25th Pct', :] = rts.apply(np.percentile, axis=0, q=25)\n",
    "    period_stats.loc['50th Pct', :] = rts.apply(np.percentile, axis=0, q=50)\n",
    "    period_stats.loc['75th Pct', :] = rts.apply(np.percentile, axis=0, q=75)\n",
    "    period_stats.loc['90th Pct', :] = rts.apply(np.percentile, axis=0, q=90)\n",
    "    \n",
    "    stats_styled = period_stats.T.style.format({\n",
    "        'Avg Return': '{:,.2%}',\n",
    "        'Std Dev': '{:,.2%}',\n",
    "        'Return/Risk': '{:,.2}',\n",
    "        'Skewness': '{:,.2}',\n",
    "        'Kurtosis': '{:,.2}',\n",
    "        '10th Pct': '{:,.2%}',\n",
    "        '25th Pct': '{:,.2%}',\n",
    "        '50th Pct': '{:,.2%}',\n",
    "        '75th Pct': '{:,.2%}',\n",
    "        '90th Pct': '{:,.2%}',\n",
    "    })\n",
    "    return stats_styled\n",
    "\n",
    "\n",
    "def plot_corr(freq, returns, lower_only=True):\n",
    "    rts = returns[freq]\n",
    "    cor = rts.corr()\n",
    "    if lower_only:\n",
    "        # create mask to only show bottom triangle of matrix\n",
    "        mask = np.triu(np.ones_like(cor, dtype=bool))\n",
    "        # exclude diagonal (we want to see it)\n",
    "        mask[np.diag_indices_from(mask)] = False\n",
    "    else:\n",
    "        mask = np.zeros_like(rts.corr())\n",
    "    hm = sns.heatmap(cor, mask=mask, cmap='coolwarm', center=0, annot=True)\n",
    "    _ = hm.set_title(f'{freq.capitalize()} Retun Correlations')\n",
    "\n",
    "def plot_time_series(freq, returns):\n",
    "    rts = returns[freq]\n",
    "    rts.add(1).cumprod().add(-1).plot(kind='line', title=f'{freq.capitalize()} Cumulative Returns')\n",
    "\n",
    "def plot_hist(freq, returns, alpha=0.5):\n",
    "    rts = returns[freq]\n",
    "    fig, ax = plt.subplots()\n",
    "\n",
    "    for col in rts.columns:\n",
    "      ax.hist(rts[col], alpha=alpha, bins=50)  # Adjust alpha as needed\n",
    "\n",
    "    ax.legend(rts.columns, loc='best', prop={'size':10}, handletextpad=0.2)  # Adjust legend options \n",
    "    \n",
    "    # Add labels and title\n",
    "    plt.xlabel(\"Return\")\n",
    "    plt.ylabel(\"Frequency\")\n",
    "    plt.title(f\"{freq.capitalize()} Return Distribution\")\n",
    "    \n",
    "    # Show the plot\n",
    "    plt.show()"
   ]
  },
  {
   "cell_type": "markdown",
   "id": "aac9e7b5-b35c-417b-9bd8-a6c1aff5b02b",
   "metadata": {},
   "source": [
    "### Yearly Stats"
   ]
  },
  {
   "cell_type": "code",
   "execution_count": 7,
   "id": "457799d7-8dad-486a-b834-37416fe77d09",
   "metadata": {},
   "outputs": [
    {
     "data": {
      "text/html": [
       "<style type=\"text/css\">\n",
       "</style>\n",
       "<table id=\"T_1d7cc\">\n",
       "  <thead>\n",
       "    <tr>\n",
       "      <th class=\"blank level0\" >&nbsp;</th>\n",
       "      <th id=\"T_1d7cc_level0_col0\" class=\"col_heading level0 col0\" >Avg Return</th>\n",
       "      <th id=\"T_1d7cc_level0_col1\" class=\"col_heading level0 col1\" >Std Dev</th>\n",
       "      <th id=\"T_1d7cc_level0_col2\" class=\"col_heading level0 col2\" >Return/Risk</th>\n",
       "      <th id=\"T_1d7cc_level0_col3\" class=\"col_heading level0 col3\" >Skewness</th>\n",
       "      <th id=\"T_1d7cc_level0_col4\" class=\"col_heading level0 col4\" >Kurtosis</th>\n",
       "      <th id=\"T_1d7cc_level0_col5\" class=\"col_heading level0 col5\" >10th Pct</th>\n",
       "      <th id=\"T_1d7cc_level0_col6\" class=\"col_heading level0 col6\" >25th Pct</th>\n",
       "      <th id=\"T_1d7cc_level0_col7\" class=\"col_heading level0 col7\" >50th Pct</th>\n",
       "      <th id=\"T_1d7cc_level0_col8\" class=\"col_heading level0 col8\" >75th Pct</th>\n",
       "      <th id=\"T_1d7cc_level0_col9\" class=\"col_heading level0 col9\" >90th Pct</th>\n",
       "    </tr>\n",
       "  </thead>\n",
       "  <tbody>\n",
       "    <tr>\n",
       "      <th id=\"T_1d7cc_level0_row0\" class=\"row_heading level0 row0\" >IWB</th>\n",
       "      <td id=\"T_1d7cc_row0_col0\" class=\"data row0 col0\" >10.95%</td>\n",
       "      <td id=\"T_1d7cc_row0_col1\" class=\"data row0 col1\" >16.46%</td>\n",
       "      <td id=\"T_1d7cc_row0_col2\" class=\"data row0 col2\" >0.67</td>\n",
       "      <td id=\"T_1d7cc_row0_col3\" class=\"data row0 col3\" >-1.4</td>\n",
       "      <td id=\"T_1d7cc_row0_col4\" class=\"data row0 col4\" >2.1</td>\n",
       "      <td id=\"T_1d7cc_row0_col5\" class=\"data row0 col5\" >-6.98%</td>\n",
       "      <td id=\"T_1d7cc_row0_col6\" class=\"data row0 col6\" >2.97%</td>\n",
       "      <td id=\"T_1d7cc_row0_col7\" class=\"data row0 col7\" >15.36%</td>\n",
       "      <td id=\"T_1d7cc_row0_col8\" class=\"data row0 col8\" >22.51%</td>\n",
       "      <td id=\"T_1d7cc_row0_col9\" class=\"data row0 col9\" >26.87%</td>\n",
       "    </tr>\n",
       "    <tr>\n",
       "      <th id=\"T_1d7cc_level0_row1\" class=\"row_heading level0 row1\" >IWM</th>\n",
       "      <td id=\"T_1d7cc_row1_col0\" class=\"data row1 col0\" >8.86%</td>\n",
       "      <td id=\"T_1d7cc_row1_col1\" class=\"data row1 col1\" >17.38%</td>\n",
       "      <td id=\"T_1d7cc_row1_col2\" class=\"data row1 col2\" >0.51</td>\n",
       "      <td id=\"T_1d7cc_row1_col3\" class=\"data row1 col3\" >-0.63</td>\n",
       "      <td id=\"T_1d7cc_row1_col4\" class=\"data row1 col4\" >-0.088</td>\n",
       "      <td id=\"T_1d7cc_row1_col5\" class=\"data row1 col5\" >-9.36%</td>\n",
       "      <td id=\"T_1d7cc_row1_col6\" class=\"data row1 col6\" >-4.23%</td>\n",
       "      <td id=\"T_1d7cc_row1_col7\" class=\"data row1 col7\" >11.30%</td>\n",
       "      <td id=\"T_1d7cc_row1_col8\" class=\"data row1 col8\" >22.40%</td>\n",
       "      <td id=\"T_1d7cc_row1_col9\" class=\"data row1 col9\" >28.00%</td>\n",
       "    </tr>\n",
       "    <tr>\n",
       "      <th id=\"T_1d7cc_level0_row2\" class=\"row_heading level0 row2\" >EFA</th>\n",
       "      <td id=\"T_1d7cc_row2_col0\" class=\"data row2 col0\" >6.21%</td>\n",
       "      <td id=\"T_1d7cc_row2_col1\" class=\"data row2 col1\" >16.95%</td>\n",
       "      <td id=\"T_1d7cc_row2_col2\" class=\"data row2 col2\" >0.37</td>\n",
       "      <td id=\"T_1d7cc_row2_col3\" class=\"data row2 col3\" >-1.1</td>\n",
       "      <td id=\"T_1d7cc_row2_col4\" class=\"data row2 col4\" >1.7</td>\n",
       "      <td id=\"T_1d7cc_row2_col5\" class=\"data row2 col5\" >-11.23%</td>\n",
       "      <td id=\"T_1d7cc_row2_col6\" class=\"data row2 col6\" >-4.30%</td>\n",
       "      <td id=\"T_1d7cc_row2_col7\" class=\"data row2 col7\" >9.31%</td>\n",
       "      <td id=\"T_1d7cc_row2_col8\" class=\"data row2 col8\" >17.43%</td>\n",
       "      <td id=\"T_1d7cc_row2_col9\" class=\"data row2 col9\" >25.58%</td>\n",
       "    </tr>\n",
       "    <tr>\n",
       "      <th id=\"T_1d7cc_level0_row3\" class=\"row_heading level0 row3\" >EEM</th>\n",
       "      <td id=\"T_1d7cc_row3_col0\" class=\"data row3 col0\" >8.21%</td>\n",
       "      <td id=\"T_1d7cc_row3_col1\" class=\"data row3 col1\" >26.43%</td>\n",
       "      <td id=\"T_1d7cc_row3_col2\" class=\"data row3 col2\" >0.31</td>\n",
       "      <td id=\"T_1d7cc_row3_col3\" class=\"data row3 col3\" >0.12</td>\n",
       "      <td id=\"T_1d7cc_row3_col4\" class=\"data row3 col4\" >0.14</td>\n",
       "      <td id=\"T_1d7cc_row3_col5\" class=\"data row3 col5\" >-17.00%</td>\n",
       "      <td id=\"T_1d7cc_row3_col6\" class=\"data row3 col6\" >-12.19%</td>\n",
       "      <td id=\"T_1d7cc_row3_col7\" class=\"data row3 col7\" >14.32%</td>\n",
       "      <td id=\"T_1d7cc_row3_col8\" class=\"data row3 col8\" >25.71%</td>\n",
       "      <td id=\"T_1d7cc_row3_col9\" class=\"data row3 col9\" >33.87%</td>\n",
       "    </tr>\n",
       "    <tr>\n",
       "      <th id=\"T_1d7cc_level0_row4\" class=\"row_heading level0 row4\" >VNQ</th>\n",
       "      <td id=\"T_1d7cc_row4_col0\" class=\"data row4 col0\" >8.96%</td>\n",
       "      <td id=\"T_1d7cc_row4_col1\" class=\"data row4 col1\" >21.18%</td>\n",
       "      <td id=\"T_1d7cc_row4_col2\" class=\"data row4 col2\" >0.42</td>\n",
       "      <td id=\"T_1d7cc_row4_col3\" class=\"data row4 col3\" >-0.4</td>\n",
       "      <td id=\"T_1d7cc_row4_col4\" class=\"data row4 col4\" >-0.32</td>\n",
       "      <td id=\"T_1d7cc_row4_col5\" class=\"data row4 col5\" >-19.93%</td>\n",
       "      <td id=\"T_1d7cc_row4_col6\" class=\"data row4 col6\" >-0.68%</td>\n",
       "      <td id=\"T_1d7cc_row4_col7\" class=\"data row4 col7\" >8.07%</td>\n",
       "      <td id=\"T_1d7cc_row4_col8\" class=\"data row4 col8\" >27.63%</td>\n",
       "      <td id=\"T_1d7cc_row4_col9\" class=\"data row4 col9\" >34.17%</td>\n",
       "    </tr>\n",
       "    <tr>\n",
       "      <th id=\"T_1d7cc_level0_row5\" class=\"row_heading level0 row5\" >LQD</th>\n",
       "      <td id=\"T_1d7cc_row5_col0\" class=\"data row5 col0\" >4.17%</td>\n",
       "      <td id=\"T_1d7cc_row5_col1\" class=\"data row5 col1\" >6.76%</td>\n",
       "      <td id=\"T_1d7cc_row5_col2\" class=\"data row5 col2\" >0.62</td>\n",
       "      <td id=\"T_1d7cc_row5_col3\" class=\"data row5 col3\" >-0.78</td>\n",
       "      <td id=\"T_1d7cc_row5_col4\" class=\"data row5 col4\" >1.5</td>\n",
       "      <td id=\"T_1d7cc_row5_col5\" class=\"data row5 col5\" >-2.16%</td>\n",
       "      <td id=\"T_1d7cc_row5_col6\" class=\"data row5 col6\" >-0.29%</td>\n",
       "      <td id=\"T_1d7cc_row5_col7\" class=\"data row5 col7\" >4.84%</td>\n",
       "      <td id=\"T_1d7cc_row5_col8\" class=\"data row5 col8\" >9.20%</td>\n",
       "      <td id=\"T_1d7cc_row5_col9\" class=\"data row5 col9\" >9.97%</td>\n",
       "    </tr>\n",
       "    <tr>\n",
       "      <th id=\"T_1d7cc_level0_row6\" class=\"row_heading level0 row6\" >SHY</th>\n",
       "      <td id=\"T_1d7cc_row6_col0\" class=\"data row6 col0\" >1.75%</td>\n",
       "      <td id=\"T_1d7cc_row6_col1\" class=\"data row6 col1\" >2.43%</td>\n",
       "      <td id=\"T_1d7cc_row6_col2\" class=\"data row6 col2\" >0.72</td>\n",
       "      <td id=\"T_1d7cc_row6_col3\" class=\"data row6 col3\" >0.6</td>\n",
       "      <td id=\"T_1d7cc_row6_col4\" class=\"data row6 col4\" >1.1</td>\n",
       "      <td id=\"T_1d7cc_row6_col5\" class=\"data row6 col5\" >-0.06%</td>\n",
       "      <td id=\"T_1d7cc_row6_col6\" class=\"data row6 col6\" >0.35%</td>\n",
       "      <td id=\"T_1d7cc_row6_col7\" class=\"data row6 col7\" >1.40%</td>\n",
       "      <td id=\"T_1d7cc_row6_col8\" class=\"data row6 col8\" >3.25%</td>\n",
       "      <td id=\"T_1d7cc_row6_col9\" class=\"data row6 col9\" >4.34%</td>\n",
       "    </tr>\n",
       "  </tbody>\n",
       "</table>\n"
      ],
      "text/plain": [
       "<pandas.io.formats.style.Styler at 0x209f7de6e50>"
      ]
     },
     "execution_count": 7,
     "metadata": {},
     "output_type": "execute_result"
    }
   ],
   "source": [
    "calc_stats('yearly', returns)"
   ]
  },
  {
   "cell_type": "code",
   "execution_count": 8,
   "id": "04ba4128-4483-4d6d-9674-1498d500be35",
   "metadata": {},
   "outputs": [
    {
     "data": {
      "image/png": "[encoded data removed]",
      "text/plain": [
       "<Figure size 640x480 with 2 Axes>"
      ]
     },
     "metadata": {},
     "output_type": "display_data"
    }
   ],
   "source": [
    "plot_corr('yearly', returns, lower_only=False)"
   ]
  },
  {
   "cell_type": "code",
   "execution_count": 9,
   "id": "aab04d28-0aae-43cd-a022-5a65eb697dff",
   "metadata": {},
   "outputs": [],
   "source": [
    "def solve_problem(mean, cov, w, obj, constraints, labels):\n",
    "    prob = cp.Problem(\n",
    "        objective=obj,\n",
    "        constraints=constraints,\n",
    "    )\n",
    "    \n",
    "    prob.solve(solver=cp.ECOS)\n",
    "    assert prob.status == 'optimal'\n",
    "    \n",
    "    p_var = w.value @ cov @ w.value.T\n",
    "    p_risk = np.sqrt(p_var)\n",
    "    p_ret = w.value @ mean\n",
    "    print('\\nPortfolio Weights:\\n')\n",
    "    print(pd.Series(index=labels, data=np.round(w.value * 1e2, 2), name='Weight'))\n",
    "    print(f'\\nPortfolio risk: {round(p_risk * 1e2, 2)}%')\n",
    "    print(f'Portfolio return: {round(p_ret * 1e2, 2)}%')"
   ]
  },
  {
   "cell_type": "markdown",
   "id": "b10edaee-aecf-4280-acba-9d871f4bf773",
   "metadata": {},
   "source": [
    "### MV"
   ]
  },
  {
   "cell_type": "code",
   "execution_count": 10,
   "id": "120b39ca-a649-47dd-bf69-6001a4a6ec1a",
   "metadata": {},
   "outputs": [
    {
     "data": {
      "text/plain": [
       "IWB    0.109531\n",
       "IWM    0.088596\n",
       "EFA    0.062145\n",
       "EEM    0.082127\n",
       "VNQ    0.089558\n",
       "LQD    0.041745\n",
       "SHY    0.017471\n",
       "dtype: float64"
      ]
     },
     "execution_count": 10,
     "metadata": {},
     "output_type": "execute_result"
    }
   ],
   "source": [
    "rts = returns['yearly'].dropna()\n",
    "ann_factor = freqs['yearly']\n",
    "n_assets = rts.shape[1]\n",
    "mean = rts.mean()\n",
    "mean"
   ]
  },
  {
   "cell_type": "code",
   "execution_count": 32,
   "id": "73db7599-2701-4bf3-be56-2b5f6f98ea94",
   "metadata": {},
   "outputs": [
    {
     "name": "stdout",
     "output_type": "stream",
     "text": [
      "\n",
      "Portfolio Weights:\n",
      "\n",
      "IWB    44.85\n",
      "IWM     0.00\n",
      "EFA     0.00\n",
      "EEM     0.00\n",
      "VNQ     0.00\n",
      "LQD     5.10\n",
      "SHY    50.05\n",
      "Name: Weight, dtype: float64\n",
      "\n",
      "Portfolio risk: 7.56%\n",
      "Portfolio return: 6.0%\n"
     ]
    }
   ],
   "source": [
    "# define the vector we're solving\n",
    "w = cp.Variable(n_assets)\n",
    "\n",
    "constraints = [\n",
    "    # sum of all weights is one\n",
    "    cp.sum(w) == 1,\n",
    "    # all weights non-negative\n",
    "    w >= 0,\n",
    "    # set the expected return\n",
    "    w @ mean >= 0.06 * (ann_factor / 252),\n",
    "]\n",
    "\n",
    "solve_min_var(mean=mean, cov=rts.cov(), w=w, constraints=constraints, labels=list(mean.index))"
   ]
  },
  {
   "cell_type": "code",
   "execution_count": 31,
   "id": "8a8ca8b3-1699-4a2b-9458-6a27bc93f863",
   "metadata": {},
   "outputs": [],
   "source": [
    "def solve_min_var(mean, cov, w, constraints, labels):\n",
    "    \"\"\"\n",
    "    Helper function that will be used throughout the homework\n",
    "    \"\"\"\n",
    "    # minimize variance of portfolio\n",
    "    obj = cp.Minimize(cp.quad_form(w, cov))\n",
    "    \n",
    "    prob = cp.Problem(\n",
    "        objective=obj,\n",
    "        constraints=constraints,\n",
    "    )\n",
    "    \n",
    "    prob.solve(solver=cp.ECOS)\n",
    "    assert prob.status == 'optimal'\n",
    "\n",
    "    p_var = w.value @ cov @ w.value.T\n",
    "    p_risk = np.sqrt(p_var)\n",
    "    p_ret = w.value @ mean\n",
    "    print('\\nPortfolio Weights:\\n')\n",
    "    print(pd.Series(index=labels, data=np.round(w.value * 1e2, 2), name='Weight'))\n",
    "    print(f'\\nPortfolio risk: {round(p_risk * 1e2, 2)}%')\n",
    "    print(f'Portfolio return: {round(p_ret * 1e2, 2)}%')"
   ]
  },
  {
   "cell_type": "markdown",
   "id": "a01b659a-7756-45ec-a65c-95e74e7283b7",
   "metadata": {},
   "source": [
    "### Mean-MAD"
   ]
  },
  {
   "cell_type": "code",
   "execution_count": null,
   "id": "3447892a-7036-4fd9-ad56-00bbc5b64a24",
   "metadata": {},
   "outputs": [],
   "source": [
    "w = cp.Variable(n_assets)"
   ]
  },
  {
   "cell_type": "code",
   "execution_count": null,
   "id": "49afed55-56b8-403b-8f52-f25ee8d7a8d9",
   "metadata": {},
   "outputs": [],
   "source": [
    "obj = cp.Minimize(cp.sum(cp.abs((rts.values @ w) - (mean.values @ w))))\n",
    "\n",
    "constraints = [\n",
    "    # sum of all weights is one\n",
    "    cp.sum(w) == 1,\n",
    "    # all weights non-negative\n",
    "    w >= 0,\n",
    "    # set the expected return\n",
    "    w @ mean >= 0.04 * (ann_factor / 252),\n",
    "]\n",
    "\n",
    "solve_problem(mean=mean, cov=rts.cov(), w=w, obj=obj, constraints=constraints, labels=mean.index) "
   ]
  },
  {
   "cell_type": "markdown",
   "id": "612f6be6-0b7b-4775-81ae-594d622acd57",
   "metadata": {},
   "source": [
    "### Mean-CVaR"
   ]
  },
  {
   "cell_type": "code",
   "execution_count": 69,
   "id": "7457c82e-af43-47a6-9a8f-8394a05d1ea4",
   "metadata": {},
   "outputs": [],
   "source": [
    "alpha = 10  # Confidence level for CVaR"
   ]
  },
  {
   "cell_type": "code",
   "execution_count": 72,
   "id": "a75e8b43-b575-49c6-872b-d9e7dffa87c9",
   "metadata": {},
   "outputs": [
    {
     "name": "stdout",
     "output_type": "stream",
     "text": [
      "Optimal portfolio weights: [0.24472026 0.         0.         0.         0.         0.\n",
      " 0.75527974]\n",
      "Minimum CVaR: 0.0642269429791791\n"
     ]
    }
   ],
   "source": [
    "def var(xs, alpha):\n",
    "    return np.percentile(xs, alpha, method='interpolated_inverted_cdf')\n",
    "    # var_index = int(np.floor(len(xs) * alpha))\n",
    "    # return xs.sort_values(ascending=True).iloc[var_index-1]\n",
    "\n",
    "def cvar(xs, alpha):\n",
    "    return xs[xs < var(xs, alpha)].mean()\n",
    "    # var_index = int(np.floor(len(xs) * alpha))\n",
    "    # return xs.sort_values(ascending=True).iloc[:var_index-1].mean()\n",
    "\n",
    "def objective(weights, pars):\n",
    "    alpha = pars[0]\n",
    "    portfolio_rts = (rts @ weights)\n",
    "    return cvar(portfolio_rts, alpha) * -1\n",
    "\n",
    "# function to be used for total weight constraint\n",
    "def total_constraint(x, total_weight):\n",
    "    return np.sum(x) - total_weight\n",
    "\n",
    "def target_return_constraint(x, mean, target_return):\n",
    "    return (x @ mean) - target_return\n",
    "\n",
    "# Initial guess for the weights\n",
    "w0 = np.ones(n_assets) / n_assets\n",
    "\n",
    "# Define bounds for the weights (weights should be between 0 and 1)\n",
    "bounds = [(0, 1) for _ in range(n_assets)]\n",
    "\n",
    "cons = (\n",
    "    # sum of weights = 1\n",
    "    {'type': 'eq', 'fun': total_constraint, 'args': [1]},\n",
    "    # target return\n",
    "    {'type': 'eq', 'fun': target_return_constraint, 'args': [mean.values, 0.04]},\n",
    ")\n",
    "\n",
    "# Minimize the CVaR\n",
    "result = minimize(\n",
    "    objective, \n",
    "    w0, \n",
    "    constraints=cons, \n",
    "    args=[alpha], \n",
    "    bounds=bounds\n",
    ")\n",
    "\n",
    "# Display results\n",
    "optimal_weights = np.round(result.x, 8)\n",
    "min_CVaR = result.fun\n",
    "print(\"Optimal portfolio weights:\", optimal_weights)\n",
    "print(\"Minimum CVaR:\", min_CVaR)"
   ]
  },
  {
   "cell_type": "code",
   "execution_count": null,
   "id": "09126925-ba25-4eff-9946-fbc273618b57",
   "metadata": {},
   "outputs": [],
   "source": []
  }
 ],
 "metadata": {
  "kernelspec": {
   "display_name": "Python 3 (ipykernel)",
   "language": "python",
   "name": "python3"
  },
  "language_info": {
   "codemirror_mode": {
    "name": "ipython",
    "version": 3
   },
   "file_extension": ".py",
   "mimetype": "text/x-python",
   "name": "python",
   "nbconvert_exporter": "python",
   "pygments_lexer": "ipython3",
   "version": "3.11.7"
  }
 },
 "nbformat": 4,
 "nbformat_minor": 5
}
