{
 "cells": [
  {
   "cell_type": "markdown",
   "id": "40f42906-edf5-4649-bdb8-07b94435ae8b",
   "metadata": {},
   "source": [
    "# Revtsov HW1"
   ]
  },
  {
   "cell_type": "code",
   "execution_count": 1,
   "id": "14ffceb8-ee2a-455d-b389-b32434fbc220",
   "metadata": {},
   "outputs": [
    {
     "name": "stdout",
     "output_type": "stream",
     "text": [
      "(CVXPY) Apr 04 05:50:37 PM: Encountered unexpected exception importing solver OSQP:\n",
      "ImportError('DLL load failed while importing qdldl: The specified module could not be found.')\n"
     ]
    }
   ],
   "source": [
    "import numpy as np\n",
    "import pandas as pd\n",
    "import cvxpy as cp"
   ]
  },
  {
   "cell_type": "code",
   "execution_count": 2,
   "id": "c239a309-7fb6-4b3c-8546-f72a390f3ac0",
   "metadata": {},
   "outputs": [],
   "source": [
    "# Read the CSV data\n",
    "labels = np.loadtxt('hw1_labels.csv', dtype=str)\n",
    "mean = np.loadtxt('hw1_mean.csv', dtype=float)\n",
    "stdev = np.loadtxt('hw1_std.csv', dtype=float)\n",
    "corr = np.loadtxt('hw1_corr.csv', dtype=float)"
   ]
  },
  {
   "cell_type": "code",
   "execution_count": 3,
   "id": "77adc527-87f8-4a81-ab23-6cd93500d7f0",
   "metadata": {},
   "outputs": [],
   "source": [
    "def solve_min_var(mean, stdev, corr, w, constraints, labels=labels):\n",
    "    \"\"\"\n",
    "    Helper function that will be used throughout the homework\n",
    "    \"\"\"\n",
    "    # calculate covariance from correlations and standard deviations\n",
    "    cov = np.diag(stdev) @ corr @ np.diag(stdev)\n",
    "    \n",
    "    # minimize variance of portfolio\n",
    "    obj = cp.Minimize(cp.quad_form(w, cov))\n",
    "    \n",
    "    prob = cp.Problem(\n",
    "        objective=obj,\n",
    "        constraints=constraints,\n",
    "    )\n",
    "    \n",
    "    prob.solve(solver=cp.ECOS)\n",
    "    assert prob.status == 'optimal'\n",
    "\n",
    "    p_var = w.value @ cov @ w.value.T\n",
    "    p_risk = np.sqrt(p_var)\n",
    "    p_ret = w.value @ mean\n",
    "    print('\\nPortfolio Weights:\\n')\n",
    "    print(pd.Series(index=labels, data=np.round(w.value * 1e2, 2), name='Weight'))\n",
    "    print(f'\\nPortfolio risk: {round(p_risk * 1e2, 2)}%')\n",
    "    print(f'Portfolio return: {round(p_ret * 1e2, 2)}%')"
   ]
  },
  {
   "cell_type": "markdown",
   "id": "536fec9e-d386-473c-85e0-b52ceabec7fc",
   "metadata": {},
   "source": [
    "## Problem 1\n",
    "The constraints to problem 1 are defined below\n",
    "- Weights sum to 1\n",
    "- All weights are non-negative\n",
    "- Weight to Lottery should be zero (I'm including the Lottery asset class here so I don't need to modify the inputs later)\n",
    "- Weights to all other assets should be at least 2%\n",
    "- Expected portfolio return at least 6% (the minimum variance problem should solve to exactly 6%)"
   ]
  },
  {
   "cell_type": "code",
   "execution_count": 4,
   "id": "e364dae9-5392-4c84-b29e-79883afa6949",
   "metadata": {},
   "outputs": [],
   "source": [
    "# define the vector we're solving\n",
    "w = cp.Variable(len(mean))\n",
    "\n",
    "constraints = [\n",
    "    # sum of all weights is one\n",
    "    cp.sum(w) == 1,\n",
    "    # all weights non-negative\n",
    "    w >= 0,\n",
    "    # force Lottery to 0\n",
    "    w[-1] == 0,\n",
    "    # weight in each asset should be at least 2% (excluding Lottery)\n",
    "    w[:-1] >= 0.02,\n",
    "    # set the expected return\n",
    "    w @ mean >= 0.06,\n",
    "]"
   ]
  },
  {
   "cell_type": "markdown",
   "id": "61a1a486-6b6a-4906-b6f5-3daa1e673a4b",
   "metadata": {},
   "source": [
    "The weights, portfolio risk, and portfolio return are printed out below. You can see that the expected return is 6%. Since the objective is minimum variance it makes sense that large portion of the allocation is in the two lower risk bond asset classes. The allocation to EmMkt also makes sense since that asset class has the highest return to risk ratio from the asset classes that are least correlated to bonds."
   ]
  },
  {
   "cell_type": "code",
   "execution_count": 5,
   "id": "fa3596cf-7769-40d2-bad3-6a34100c2586",
   "metadata": {},
   "outputs": [
    {
     "name": "stdout",
     "output_type": "stream",
     "text": [
      "\n",
      "Portfolio Weights:\n",
      "\n",
      "USLC        2.00\n",
      "NUSDev      2.00\n",
      "EmMkt      19.36\n",
      "REIT        4.30\n",
      "HY         32.93\n",
      "Agg        39.41\n",
      "Lottery     0.00\n",
      "Name: Weight, dtype: float64\n",
      "\n",
      "Portfolio risk: 7.88%\n",
      "Portfolio return: 6.0%\n"
     ]
    }
   ],
   "source": [
    "solve_min_var(mean, stdev, corr, w, constraints)"
   ]
  },
  {
   "cell_type": "markdown",
   "id": "7fb89969-fefe-4f63-a222-de34d6cc2949",
   "metadata": {},
   "source": [
    "## Problem 2\n",
    "The constraints to problem 2 are defined below\n",
    "- Weights sum to 1\n",
    "- Weight to Lottery should be zero"
   ]
  },
  {
   "cell_type": "code",
   "execution_count": 6,
   "id": "65da348f-540c-4239-bba5-b9e89e3b74e7",
   "metadata": {},
   "outputs": [],
   "source": [
    "# define the vector we're solving\n",
    "w = cp.Variable(len(mean))\n",
    "\n",
    "constraints2 = [\n",
    "    # sum of all weights is one\n",
    "    cp.sum(w) == 1,\n",
    "    # force Lottery to 0\n",
    "    w[-1] == 0,\n",
    "]"
   ]
  },
  {
   "cell_type": "markdown",
   "id": "f1e5c6ab-ce7b-4aa3-9379-4f9460a21c47",
   "metadata": {},
   "source": [
    "The weights, portfolio risk, and portfolio return are printed out below. Again, large long positions in bonds. About net flat across the 3 equity assets, likely due to the high correlation between them."
   ]
  },
  {
   "cell_type": "code",
   "execution_count": 7,
   "id": "e7c20fb2-9a82-4723-9c77-f09969f6db36",
   "metadata": {},
   "outputs": [
    {
     "name": "stdout",
     "output_type": "stream",
     "text": [
      "\n",
      "Portfolio Weights:\n",
      "\n",
      "USLC      -15.02\n",
      "NUSDev     19.26\n",
      "EmMkt      -4.92\n",
      "REIT        3.33\n",
      "HY         32.28\n",
      "Agg        65.08\n",
      "Lottery     0.00\n",
      "Name: Weight, dtype: float64\n",
      "\n",
      "Portfolio risk: 5.22%\n",
      "Portfolio return: 4.46%\n"
     ]
    }
   ],
   "source": [
    "solve_min_var(mean, stdev, corr, w, constraints2)"
   ]
  },
  {
   "cell_type": "markdown",
   "id": "64b4b687-d7cc-4930-ac99-40760115ef32",
   "metadata": {},
   "source": [
    "## Problem 3\n",
    "The constraints to problem 3 are defined below\n",
    "- Weights sum to 1\n",
    "- All weights are non-negative\n",
    "- Weights non-Lottery assets should be at least 2%\n",
    "- Expected portfolio return at least 6% (the minimum variance problem should solve to exactly 6%)"
   ]
  },
  {
   "cell_type": "code",
   "execution_count": 8,
   "id": "884790f6-13eb-4a11-b4b5-b9458ee9171d",
   "metadata": {},
   "outputs": [],
   "source": [
    "# define the vector we're solving\n",
    "w = cp.Variable(len(mean))\n",
    "\n",
    "constraints3 = [\n",
    "    # sum of all weights is one\n",
    "    cp.sum(w) == 1,\n",
    "    # all weights non-negative\n",
    "    w >= 0,\n",
    "    # weight in each asset should be at least 2% (excluding Lottery)\n",
    "    w[:-1] >= 0.02,\n",
    "    # set the expected return\n",
    "    w @ mean >= 0.06,\n",
    "]"
   ]
  },
  {
   "cell_type": "markdown",
   "id": "b739321a-1bfb-469e-a175-afbf75d51160",
   "metadata": {},
   "source": [
    "The weights, portfolio risk, and portfolio return are printed out below. There's nothing allocated to Lottery and the results are identical to Problem 1."
   ]
  },
  {
   "cell_type": "code",
   "execution_count": 9,
   "id": "32acd37e-34ac-4bf6-b0c7-e0622b18bdac",
   "metadata": {},
   "outputs": [
    {
     "name": "stdout",
     "output_type": "stream",
     "text": [
      "\n",
      "Portfolio Weights:\n",
      "\n",
      "USLC        2.00\n",
      "NUSDev      2.00\n",
      "EmMkt      19.36\n",
      "REIT        4.30\n",
      "HY         32.93\n",
      "Agg        39.41\n",
      "Lottery     0.00\n",
      "Name: Weight, dtype: float64\n",
      "\n",
      "Portfolio risk: 7.88%\n",
      "Portfolio return: 6.0%\n"
     ]
    }
   ],
   "source": [
    "solve_min_var(mean, stdev, corr, w, constraints3)"
   ]
  },
  {
   "cell_type": "markdown",
   "id": "9dcd64c3-1da6-49ed-b33b-9d48eeaa5781",
   "metadata": {},
   "source": [
    "## Problem 4\n",
    "We are given log-normal statistics and need to convert them to normal distribution. Using the formalus on slide 6 of the Portfolio Calculations powerpoint we arrive at the below. "
   ]
  },
  {
   "cell_type": "code",
   "execution_count": 10,
   "id": "665be134-30b8-4f92-b0d1-1e5bb1736685",
   "metadata": {},
   "outputs": [],
   "source": [
    "stdev_norm = np.sqrt(np.log((stdev**2)/((1+mean)**2)+1))"
   ]
  },
  {
   "cell_type": "code",
   "execution_count": 11,
   "id": "d5d6e376-1558-4b2e-8138-24f238294f6a",
   "metadata": {},
   "outputs": [],
   "source": [
    "mean_norm = np.log(1+mean) - (stdev_norm**2)/2"
   ]
  },
  {
   "cell_type": "code",
   "execution_count": 12,
   "id": "9979b720-f13d-44e8-9f88-f2a400c4352b",
   "metadata": {},
   "outputs": [],
   "source": [
    "covar = np.diag(stdev) @ corr @ np.diag(stdev)"
   ]
  },
  {
   "cell_type": "code",
   "execution_count": 13,
   "id": "c21c4a67-8d50-45be-bc35-381d673cf8c8",
   "metadata": {},
   "outputs": [],
   "source": [
    "covar_norm = np.log(1 + covar / np.outer(1+mean, 1+mean))"
   ]
  },
  {
   "cell_type": "markdown",
   "id": "970a7a6e-396b-4b34-ac21-1df5ccc74ce1",
   "metadata": {},
   "source": [
    "#### Standard Deviation"
   ]
  },
  {
   "cell_type": "code",
   "execution_count": 14,
   "id": "d067c889-1e11-495c-8e70-0ecd0db174b4",
   "metadata": {},
   "outputs": [
    {
     "data": {
      "text/plain": [
       "array([0.1655, 0.1579, 0.2157, 0.1836, 0.0666, 0.0574])"
      ]
     },
     "execution_count": 14,
     "metadata": {},
     "output_type": "execute_result"
    }
   ],
   "source": [
    "np.round(stdev_norm[0:-1], 4)"
   ]
  },
  {
   "cell_type": "markdown",
   "id": "59162510-952b-4952-81bc-f7ecd849b9c1",
   "metadata": {},
   "source": [
    "#### Mean"
   ]
  },
  {
   "cell_type": "code",
   "execution_count": 15,
   "id": "6d79a9a2-7fb7-4822-bdc2-a06298422bac",
   "metadata": {},
   "outputs": [
    {
     "data": {
      "text/plain": [
       "array([0.0633, 0.0552, 0.0721, 0.0601, 0.0466, 0.0424])"
      ]
     },
     "execution_count": 15,
     "metadata": {},
     "output_type": "execute_result"
    }
   ],
   "source": [
    "np.round(mean_norm[0:-1], 4)"
   ]
  },
  {
   "cell_type": "markdown",
   "id": "e31c84fd-cd61-4e1e-bc4e-9d48de7fe159",
   "metadata": {},
   "source": [
    "#### Covariance"
   ]
  },
  {
   "cell_type": "code",
   "execution_count": 16,
   "id": "c1974c8d-0259-4cd9-9c4c-7d7d34382b21",
   "metadata": {},
   "outputs": [
    {
     "data": {
      "text/plain": [
       "array([[0.0274, 0.0236, 0.0287, 0.0244, 0.0044, 0.0019],\n",
       "       [0.0236, 0.0249, 0.0307, 0.0233, 0.0042, 0.0009],\n",
       "       [0.0287, 0.0307, 0.0465, 0.0279, 0.0044, 0.0013],\n",
       "       [0.0244, 0.0233, 0.0279, 0.0337, 0.0037, 0.0011],\n",
       "       [0.0044, 0.0042, 0.0044, 0.0037, 0.0044, 0.0015],\n",
       "       [0.0019, 0.0009, 0.0013, 0.0011, 0.0015, 0.0033]])"
      ]
     },
     "execution_count": 16,
     "metadata": {},
     "output_type": "execute_result"
    }
   ],
   "source": [
    "np.round(covar_norm[0:-1, 0:-1], 4)"
   ]
  },
  {
   "cell_type": "markdown",
   "id": "cd32c2f9-069d-475f-8c68-527e345b6d91",
   "metadata": {},
   "source": [
    "## Problem 5\n",
    "Didn't need to run an optimization but this is an interesting scenario. \n",
    "\n",
    "#### Part a\n",
    "The weights of the uncertainty-free position are below, 25% USLC and 75% Agg. Both weights are positive since the correlation of the positions is -1. \n",
    "\n",
    "#### Part b\n",
    "The uncertainty free rate of return is 5.37%."
   ]
  },
  {
   "cell_type": "code",
   "execution_count": 17,
   "id": "02931868-c3d6-41bf-8f4b-859bd6d69186",
   "metadata": {},
   "outputs": [
    {
     "name": "stdout",
     "output_type": "stream",
     "text": [
      "\n",
      "Portfolio Weights:\n",
      "\n",
      "USLC    25.0\n",
      "Agg     75.0\n",
      "Name: Weight, dtype: float64\n",
      "\n",
      "Portfolio risk: 0.0%\n",
      "Portfolio return: 5.37%\n"
     ]
    }
   ],
   "source": [
    "mask = (labels == 'USLC') | (labels == 'Agg')\n",
    "\n",
    "# define the vector we're solving\n",
    "w = cp.Variable(sum(mask))\n",
    "\n",
    "constraints5 = [\n",
    "    # sum of all weights is one\n",
    "    cp.sum(w) == 1,\n",
    "]\n",
    "\n",
    "solve_min_var(mean=mean[mask], stdev=stdev[mask], corr=np.array([[1, -1], [-1, 1]]), w=w, constraints=constraints5, labels=labels[mask])"
   ]
  },
  {
   "cell_type": "markdown",
   "id": "74f63840-d876-4be4-8f98-dff1ce6c76ed",
   "metadata": {},
   "source": [
    "## Problem 6\n",
    "The portfolio variance in this problem is given by\n",
    "\n",
    "$$\n",
    "    \\sigma_{p}^2 = w_1^2 \\sigma_1^2 + 2 w_1 w_2 \\sigma_1 \\sigma_2 \\rho_{1, 2} + 2 w_1 w_3 \\sigma_1 \\sigma_3 \\rho_{1, 3} + w_2^2 \\sigma_2^2 + 2 w_2 w_3 \\sigma_2 \\sigma_3 \\rho_{2, 3} + w_3^2 \\sigma_3^2\n",
    "$$"
   ]
  },
  {
   "cell_type": "markdown",
   "id": "a06ef2d5-2a9f-448e-a4b9-20a7c53bd6d9",
   "metadata": {},
   "source": [
    "#### Part a\n",
    "The standard deviations are below since the variances of the positions are given. "
   ]
  },
  {
   "cell_type": "code",
   "execution_count": 18,
   "id": "7a64e877-7559-4e49-9699-0abe9f13e94f",
   "metadata": {},
   "outputs": [
    {
     "name": "stdout",
     "output_type": "stream",
     "text": [
      "[0.17 0.15 0.12]\n"
     ]
    }
   ],
   "source": [
    "stdev6 = np.sqrt([0.0289, 0.0225, 0.0144])\n",
    "print(stdev6)"
   ]
  },
  {
   "cell_type": "markdown",
   "id": "28c475c1-53c3-4a30-844e-6ec0a5225bdb",
   "metadata": {},
   "source": [
    "#### Part b\n",
    "The term XXX has a range of values because we don't know the correlations of the assets. The term will be largest when correlation is 1 and smallest when it is -1. The term is calculated with\n",
    "\n",
    "$$2 \\sigma_2 \\sigma_3 \\rho_{2, 3}$$"
   ]
  },
  {
   "cell_type": "code",
   "execution_count": 19,
   "id": "b445cb3d-c9f4-4f0a-8571-72e3fc344b85",
   "metadata": {},
   "outputs": [
    {
     "name": "stdout",
     "output_type": "stream",
     "text": [
      "XXX min: 0.036\n",
      "XXX max: -0.036\n"
     ]
    }
   ],
   "source": [
    "xxx_range = [\n",
    "    2 * stdev6[1] * stdev6[2] * 1,\n",
    "    2 * stdev6[1] * stdev6[2] * -1\n",
    "]\n",
    "print(f'XXX min: {xxx_range[0]}')\n",
    "print(f'XXX max: {xxx_range[1]}')"
   ]
  },
  {
   "cell_type": "code",
   "execution_count": null,
   "id": "1bae24a5-4b60-4fa7-b7b3-245811314cbe",
   "metadata": {},
   "outputs": [],
   "source": []
  }
 ],
 "metadata": {
  "kernelspec": {
   "display_name": "Python 3 (ipykernel)",
   "language": "python",
   "name": "python3"
  },
  "language_info": {
   "codemirror_mode": {
    "name": "ipython",
    "version": 3
   },
   "file_extension": ".py",
   "mimetype": "text/x-python",
   "name": "python",
   "nbconvert_exporter": "python",
   "pygments_lexer": "ipython3",
   "version": "3.11.4"
  }
 },
 "nbformat": 4,
 "nbformat_minor": 5
}
