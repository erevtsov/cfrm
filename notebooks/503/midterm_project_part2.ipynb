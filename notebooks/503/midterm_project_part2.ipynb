{
 "cells": [
  {
   "cell_type": "markdown",
   "id": "bfd2bce2-0ab8-43fb-961c-8f91db47313f",
   "metadata": {
    "editable": true,
    "slideshow": {
     "slide_type": ""
    },
    "tags": []
   },
   "source": [
    "## Revtsov Midterm Project (Part 2)"
   ]
  },
  {
   "cell_type": "markdown",
   "id": "d86959f2-16f1-4355-b22a-992ac3181466",
   "metadata": {
    "editable": true,
    "slideshow": {
     "slide_type": ""
    },
    "tags": []
   },
   "source": [
    "### Code to Retrieve, Process Data"
   ]
  },
  {
   "cell_type": "code",
   "execution_count": 1,
   "id": "6a822f05-c026-4a44-aef1-bc8ef758878f",
   "metadata": {
    "editable": true,
    "slideshow": {
     "slide_type": ""
    },
    "tags": [
     "hide_code"
    ]
   },
   "outputs": [
    {
     "name": "stdout",
     "output_type": "stream",
     "text": [
      "(CVXPY) May 01 08:31:51 AM: Encountered unexpected exception importing solver OSQP:\n",
      "ImportError('DLL load failed while importing qdldl: The specified module could not be found.')\n"
     ]
    }
   ],
   "source": [
    "import numpy as np\n",
    "import pandas as pd\n",
    "import seaborn as sns\n",
    "import cvxpy as cp\n",
    "import matplotlib.pyplot as plt\n",
    "from scipy.optimize import minimize\n",
    "import itertools\n",
    "import portfolio_optimization as opt"
   ]
  },
  {
   "cell_type": "markdown",
   "id": "219facc4-2642-4254-b353-fbfef212778f",
   "metadata": {
    "editable": true,
    "slideshow": {
     "slide_type": ""
    },
    "tags": []
   },
   "source": [
    "<style>\n",
    "    .hide_code {\n",
    "        display: none;\n",
    "    }\n",
    "</style>"
   ]
  },
  {
   "cell_type": "code",
   "execution_count": 2,
   "id": "149f7765-d81a-4b32-a5ba-37390fa5a77f",
   "metadata": {
    "editable": true,
    "slideshow": {
     "slide_type": ""
    },
    "tags": [
     "hide-code",
     "hide_code"
    ]
   },
   "outputs": [],
   "source": [
    "universe = pd.DataFrame(\n",
    "    data=[\n",
    "        ['Large Cap US Equity', 'IWB'],\n",
    "        ['Small Cap US Equity', 'IWM'],\n",
    "        ['Dev Mkts non-US Equity', 'EFA'],\n",
    "        ['Emerg Mkts Equity', 'EEM'],\n",
    "        ['Global REIT', 'VNQ'],\n",
    "        ['Corp Bonds', 'LQD'],\n",
    "        ['Short-Term Treasury', 'SHY'],\n",
    "    ],\n",
    "    columns=['Segment', 'Ticker']\n",
    ")"
   ]
  },
  {
   "cell_type": "code",
   "execution_count": 3,
   "id": "173f16bb-5856-4765-bf23-1e7e9c42f22c",
   "metadata": {
    "editable": true,
    "slideshow": {
     "slide_type": ""
    },
    "tags": []
   },
   "outputs": [],
   "source": [
    "# load the data\n",
    "frames = []\n",
    "for _, row in universe.iterrows():\n",
    "    ticker = row.Ticker\n",
    "    frames.append(pd.read_csv(f'{ticker}_daily.csv').set_index('Date')['Adj Close'].rename(ticker))\n",
    "\n",
    "prices = pd.concat(frames, axis=1)\n",
    "n_obs = prices.shape[0]"
   ]
  },
  {
   "cell_type": "code",
   "execution_count": 4,
   "id": "ae4249a9-9dcf-4aa6-a934-a2004de907df",
   "metadata": {},
   "outputs": [],
   "source": [
    "# define frequencies we want to analyze\n",
    "freqs = {\n",
    "    # 'daily': 1,\n",
    "    # 'weekly': 5,\n",
    "    # 'monthly': 21,\n",
    "    # 'quarterly': 62,\n",
    "    'yearly': 252\n",
    "}"
   ]
  },
  {
   "cell_type": "code",
   "execution_count": 5,
   "id": "877e17e8-7da2-464d-a881-c06b081b6d41",
   "metadata": {},
   "outputs": [],
   "source": [
    "# calculate the simple price change for each period\n",
    "returns = {k: prices.iloc[0:n_obs:v, :].pct_change().dropna(axis=0, thresh=prices.shape[1]) for k,v in freqs.items()}"
   ]
  },
  {
   "cell_type": "code",
   "execution_count": 6,
   "id": "8b2d6532-26cb-424f-a4a6-14d6fbdd6b2a",
   "metadata": {},
   "outputs": [],
   "source": [
    "portfolio_return_targets = [0.02, 0.04, 0.06]\n",
    "portfolio_return_targets = [0.06]"
   ]
  },
  {
   "cell_type": "code",
   "execution_count": 7,
   "id": "5261dac0-60b5-4f39-93f4-65fc0b97a36a",
   "metadata": {},
   "outputs": [
    {
     "name": "stderr",
     "output_type": "stream",
     "text": [
      "Running opts: 100%|██████████| 1/1 [00:00<00:00, 100.01it/s]\n"
     ]
    },
    {
     "name": "stdout",
     "output_type": "stream",
     "text": [
      "[     Mean-Var  Mean-MAD  Mean-CVaR\n",
      "IWB  0.448528  0.440350   0.384636\n",
      "IWM  0.000000 -0.000000   0.000000\n",
      "EFA  0.000000 -0.000000   0.000000\n",
      "EEM  0.000000  0.000000   0.000000\n",
      "VNQ  0.000000  0.000000   0.000000\n",
      "LQD  0.050982  0.081996   0.293290\n",
      "SHY  0.500490  0.477654   0.322074]\n"
     ]
    }
   ],
   "source": [
    "import portfolio_optimization as opt\n",
    "frames = opt.run_opts(returns, portfolio_return_targets)"
   ]
  },
  {
   "cell_type": "code",
   "execution_count": 8,
   "id": "0cd25167-59f9-429c-a98c-8ae1a4fc8e74",
   "metadata": {},
   "outputs": [
    {
     "ename": "SyntaxError",
     "evalue": "invalid syntax (1986969183.py, line 1)",
     "output_type": "error",
     "traceback": [
      "\u001b[1;36m  Cell \u001b[1;32mIn[8], line 1\u001b[1;36m\u001b[0m\n\u001b[1;33m    ```\u001b[0m\n\u001b[1;37m    ^\u001b[0m\n\u001b[1;31mSyntaxError\u001b[0m\u001b[1;31m:\u001b[0m invalid syntax\n"
     ]
    }
   ],
   "source": [
    "```"
   ]
  },
  {
   "cell_type": "code",
   "execution_count": null,
   "id": "59caea1d-32e5-4e3f-8bc1-199c7a2a0d31",
   "metadata": {},
   "outputs": [],
   "source": [
    "list(itertools.product(list(returns.keys()), portfolio_return_targets))"
   ]
  },
  {
   "cell_type": "code",
   "execution_count": null,
   "id": "a7df7f4b-18a0-46a6-a0ed-37d0a6d4e2e4",
   "metadata": {},
   "outputs": [],
   "source": []
  },
  {
   "cell_type": "code",
   "execution_count": null,
   "id": "ab739e74-5fff-465b-8bad-fdca593a649c",
   "metadata": {},
   "outputs": [],
   "source": [
    "# for freq, rts in returns.items():\n",
    "freq = 'monthly'\n",
    "def calc_stats(freq, returns):\n",
    "    rts = returns[freq]\n",
    "    period_stats = pd.DataFrame(index=None, columns=rts.columns)\n",
    "    period_stats.loc['Avg Return', :] = rts.mean()\n",
    "    period_stats.loc['Std Dev', :] = rts.std()\n",
    "    period_stats.loc['Return/Risk', :] = period_stats.loc['Avg Return', :] / period_stats.loc['Std Dev', :]\n",
    "    period_stats.loc['Skewness', :] = rts.skew()\n",
    "    period_stats.loc['Kurtosis', :] = rts.kurt()\n",
    "    period_stats.loc['10th Pct', :] = rts.apply(np.percentile, axis=0, q=10)\n",
    "    period_stats.loc['25th Pct', :] = rts.apply(np.percentile, axis=0, q=25)\n",
    "    period_stats.loc['50th Pct', :] = rts.apply(np.percentile, axis=0, q=50)\n",
    "    period_stats.loc['75th Pct', :] = rts.apply(np.percentile, axis=0, q=75)\n",
    "    period_stats.loc['90th Pct', :] = rts.apply(np.percentile, axis=0, q=90)\n",
    "    \n",
    "    stats_styled = period_stats.T.style.format({\n",
    "        'Avg Return': '{:,.2%}',\n",
    "        'Std Dev': '{:,.2%}',\n",
    "        'Return/Risk': '{:,.2}',\n",
    "        'Skewness': '{:,.2}',\n",
    "        'Kurtosis': '{:,.2}',\n",
    "        '10th Pct': '{:,.2%}',\n",
    "        '25th Pct': '{:,.2%}',\n",
    "        '50th Pct': '{:,.2%}',\n",
    "        '75th Pct': '{:,.2%}',\n",
    "        '90th Pct': '{:,.2%}',\n",
    "    })\n",
    "    return stats_styled\n",
    "\n",
    "\n",
    "def plot_corr(freq, returns, lower_only=True):\n",
    "    rts = returns[freq]\n",
    "    cor = rts.corr()\n",
    "    if lower_only:\n",
    "        # create mask to only show bottom triangle of matrix\n",
    "        mask = np.triu(np.ones_like(cor, dtype=bool))\n",
    "        # exclude diagonal (we want to see it)\n",
    "        mask[np.diag_indices_from(mask)] = False\n",
    "    else:\n",
    "        mask = np.zeros_like(rts.corr())\n",
    "    hm = sns.heatmap(cor, mask=mask, cmap='coolwarm', center=0, annot=True)\n",
    "    _ = hm.set_title(f'{freq.capitalize()} Retun Correlations')\n",
    "\n",
    "def plot_time_series(freq, returns):\n",
    "    rts = returns[freq]\n",
    "    rts.add(1).cumprod().add(-1).plot(kind='line', title=f'{freq.capitalize()} Cumulative Returns')\n",
    "\n",
    "def plot_hist(freq, returns, alpha=0.5):\n",
    "    rts = returns[freq]\n",
    "    fig, ax = plt.subplots()\n",
    "\n",
    "    for col in rts.columns:\n",
    "      ax.hist(rts[col], alpha=alpha, bins=50)  # Adjust alpha as needed\n",
    "\n",
    "    ax.legend(rts.columns, loc='best', prop={'size':10}, handletextpad=0.2)  # Adjust legend options \n",
    "    \n",
    "    # Add labels and title\n",
    "    plt.xlabel(\"Return\")\n",
    "    plt.ylabel(\"Frequency\")\n",
    "    plt.title(f\"{freq.capitalize()} Return Distribution\")\n",
    "    \n",
    "    # Show the plot\n",
    "    plt.show()"
   ]
  },
  {
   "cell_type": "markdown",
   "id": "aac9e7b5-b35c-417b-9bd8-a6c1aff5b02b",
   "metadata": {},
   "source": [
    "### Yearly Stats"
   ]
  },
  {
   "cell_type": "code",
   "execution_count": null,
   "id": "457799d7-8dad-486a-b834-37416fe77d09",
   "metadata": {},
   "outputs": [],
   "source": [
    "calc_stats('yearly', returns)"
   ]
  },
  {
   "cell_type": "code",
   "execution_count": null,
   "id": "04ba4128-4483-4d6d-9674-1498d500be35",
   "metadata": {},
   "outputs": [],
   "source": [
    "plot_corr('yearly', returns, lower_only=False)"
   ]
  },
  {
   "cell_type": "code",
   "execution_count": null,
   "id": "aab04d28-0aae-43cd-a022-5a65eb697dff",
   "metadata": {},
   "outputs": [],
   "source": [
    "def solve_problem(mean, cov, w, obj, constraints, labels):\n",
    "    prob = cp.Problem(\n",
    "        objective=obj,\n",
    "        constraints=constraints,\n",
    "    )\n",
    "    \n",
    "    prob.solve(solver=cp.ECOS)\n",
    "    assert prob.status == 'optimal'\n",
    "    \n",
    "    p_var = w.value @ cov @ w.value.T\n",
    "    p_risk = np.sqrt(p_var)\n",
    "    p_ret = w.value @ mean\n",
    "    print('\\nPortfolio Weights:\\n')\n",
    "    print(pd.Series(index=labels, data=np.round(w.value * 1e2, 2), name='Weight'))\n",
    "    print(f'\\nPortfolio risk: {round(p_risk * 1e2, 2)}%')\n",
    "    print(f'Portfolio return: {round(p_ret * 1e2, 2)}%')"
   ]
  },
  {
   "cell_type": "markdown",
   "id": "b10edaee-aecf-4280-acba-9d871f4bf773",
   "metadata": {},
   "source": [
    "### MV"
   ]
  },
  {
   "cell_type": "code",
   "execution_count": null,
   "id": "120b39ca-a649-47dd-bf69-6001a4a6ec1a",
   "metadata": {},
   "outputs": [],
   "source": [
    "rts = returns['yearly'].dropna()\n",
    "ann_factor = freqs['yearly']\n",
    "n_assets = rts.shape[1]\n",
    "mean = rts.mean()\n",
    "mean"
   ]
  },
  {
   "cell_type": "code",
   "execution_count": null,
   "id": "73db7599-2701-4bf3-be56-2b5f6f98ea94",
   "metadata": {},
   "outputs": [],
   "source": [
    "# define the vector we're solving\n",
    "w = cp.Variable(n_assets)\n",
    "\n",
    "constraints = [\n",
    "    # sum of all weights is one\n",
    "    cp.sum(w) == 1,\n",
    "    # all weights non-negative\n",
    "    w >= 0,\n",
    "    # set the expected return\n",
    "    w @ mean >= 0.06 * (ann_factor / 252),\n",
    "]\n",
    "\n",
    "solve_min_var(mean=mean, cov=rts.cov(), w=w, constraints=constraints, labels=list(mean.index))"
   ]
  },
  {
   "cell_type": "code",
   "execution_count": null,
   "id": "8a8ca8b3-1699-4a2b-9458-6a27bc93f863",
   "metadata": {},
   "outputs": [],
   "source": [
    "def solve_min_var(mean, cov, w, constraints, labels):\n",
    "    \"\"\"\n",
    "    Helper function that will be used throughout the homework\n",
    "    \"\"\"\n",
    "    # minimize variance of portfolio\n",
    "    obj = cp.Minimize(cp.quad_form(w, cov))\n",
    "    \n",
    "    prob = cp.Problem(\n",
    "        objective=obj,\n",
    "        constraints=constraints,\n",
    "    )\n",
    "    \n",
    "    prob.solve(solver=cp.ECOS)\n",
    "    assert prob.status == 'optimal'\n",
    "\n",
    "    p_var = w.value @ cov @ w.value.T\n",
    "    p_risk = np.sqrt(p_var)\n",
    "    p_ret = w.value @ mean\n",
    "    print('\\nPortfolio Weights:\\n')\n",
    "    print(pd.Series(index=labels, data=np.round(w.value * 1e2, 2), name='Weight'))\n",
    "    print(f'\\nPortfolio risk: {round(p_risk * 1e2, 2)}%')\n",
    "    print(f'Portfolio return: {round(p_ret * 1e2, 2)}%')"
   ]
  },
  {
   "cell_type": "markdown",
   "id": "a01b659a-7756-45ec-a65c-95e74e7283b7",
   "metadata": {},
   "source": [
    "### Mean-MAD"
   ]
  },
  {
   "cell_type": "code",
   "execution_count": null,
   "id": "3447892a-7036-4fd9-ad56-00bbc5b64a24",
   "metadata": {},
   "outputs": [],
   "source": [
    "w = cp.Variable(n_assets)"
   ]
  },
  {
   "cell_type": "code",
   "execution_count": null,
   "id": "49afed55-56b8-403b-8f52-f25ee8d7a8d9",
   "metadata": {},
   "outputs": [],
   "source": [
    "obj = cp.Minimize(cp.sum(cp.abs((rts.values @ w) - (mean.values @ w))))\n",
    "\n",
    "constraints = [\n",
    "    # sum of all weights is one\n",
    "    cp.sum(w) == 1,\n",
    "    # all weights non-negative\n",
    "    w >= 0,\n",
    "    # set the expected return\n",
    "    w @ mean >= 0.04 * (ann_factor / 252),\n",
    "]\n",
    "\n",
    "solve_problem(mean=mean, cov=rts.cov(), w=w, obj=obj, constraints=constraints, labels=mean.index) "
   ]
  },
  {
   "cell_type": "markdown",
   "id": "612f6be6-0b7b-4775-81ae-594d622acd57",
   "metadata": {},
   "source": [
    "### Mean-CVaR"
   ]
  },
  {
   "cell_type": "code",
   "execution_count": null,
   "id": "7457c82e-af43-47a6-9a8f-8394a05d1ea4",
   "metadata": {},
   "outputs": [],
   "source": [
    "alpha = 10  # Confidence level for CVaR"
   ]
  },
  {
   "cell_type": "code",
   "execution_count": null,
   "id": "a75e8b43-b575-49c6-872b-d9e7dffa87c9",
   "metadata": {},
   "outputs": [],
   "source": [
    "def var(xs, alpha):\n",
    "    return np.percentile(xs, alpha, method='interpolated_inverted_cdf')\n",
    "    # var_index = int(np.floor(len(xs) * alpha))\n",
    "    # return xs.sort_values(ascending=True).iloc[var_index-1]\n",
    "\n",
    "def cvar(xs, alpha):\n",
    "    return xs[xs < var(xs, alpha)].mean()\n",
    "    # var_index = int(np.floor(len(xs) * alpha))\n",
    "    # return xs.sort_values(ascending=True).iloc[:var_index-1].mean()\n",
    "\n",
    "def objective(weights, pars):\n",
    "    alpha = pars[0]\n",
    "    portfolio_rts = (rts @ weights)\n",
    "    return cvar(portfolio_rts, alpha) * -1\n",
    "\n",
    "# function to be used for total weight constraint\n",
    "def total_constraint(x, total_weight):\n",
    "    return np.sum(x) - total_weight\n",
    "\n",
    "def target_return_constraint(x, mean, target_return):\n",
    "    return (x @ mean) - target_return\n",
    "\n",
    "# Initial guess for the weights\n",
    "w0 = np.ones(n_assets) / n_assets\n",
    "\n",
    "# Define bounds for the weights (weights should be between 0 and 1)\n",
    "bounds = [(0, 1) for _ in range(n_assets)]\n",
    "\n",
    "cons = (\n",
    "    # sum of weights = 1\n",
    "    {'type': 'eq', 'fun': total_constraint, 'args': [1]},\n",
    "    # target return\n",
    "    {'type': 'eq', 'fun': target_return_constraint, 'args': [mean.values, 0.04]},\n",
    ")\n",
    "\n",
    "# Minimize the CVaR\n",
    "result = minimize(\n",
    "    objective, \n",
    "    w0, \n",
    "    constraints=cons, \n",
    "    args=[alpha], \n",
    "    bounds=bounds\n",
    ")\n",
    "\n",
    "# Display results\n",
    "optimal_weights = np.round(result.x, 8)\n",
    "min_CVaR = result.fun\n",
    "print(\"Optimal portfolio weights:\", optimal_weights)\n",
    "print(\"Minimum CVaR:\", min_CVaR)"
   ]
  },
  {
   "cell_type": "code",
   "execution_count": null,
   "id": "09126925-ba25-4eff-9946-fbc273618b57",
   "metadata": {},
   "outputs": [],
   "source": [
    "import multiprocessing"
   ]
  },
  {
   "cell_type": "code",
   "execution_count": null,
   "id": "d4d287ee-6e5b-4216-a5d4-195156348fe0",
   "metadata": {},
   "outputs": [],
   "source": []
  }
 ],
 "metadata": {
  "kernelspec": {
   "display_name": "Python 3 (ipykernel)",
   "language": "python",
   "name": "python3"
  },
  "language_info": {
   "codemirror_mode": {
    "name": "ipython",
    "version": 3
   },
   "file_extension": ".py",
   "mimetype": "text/x-python",
   "name": "python",
   "nbconvert_exporter": "python",
   "pygments_lexer": "ipython3",
   "version": "3.11.7"
  }
 },
 "nbformat": 4,
 "nbformat_minor": 5
}
