{
 "cells": [
  {
   "cell_type": "markdown",
   "id": "cad14003-4f29-4d9c-96e7-c9983e9ac459",
   "metadata": {},
   "source": [
    "## Revtsov HW1"
   ]
  },
  {
   "cell_type": "code",
   "execution_count": 2,
   "id": "0c32eb0a-6e51-4b26-8d3f-ac115022bf2f",
   "metadata": {},
   "outputs": [
    {
     "name": "stderr",
     "output_type": "stream",
     "text": [
      "Loading required package: xts\n",
      "\n",
      "Loading required package: zoo\n",
      "\n",
      "\n",
      "Attaching package: 'zoo'\n",
      "\n",
      "\n",
      "The following objects are masked from 'package:base':\n",
      "\n",
      "    as.Date, as.Date.numeric\n",
      "\n",
      "\n",
      "\n",
      "Attaching package: 'PerformanceAnalytics'\n",
      "\n",
      "\n",
      "The following object is masked from 'package:graphics':\n",
      "\n",
      "    legend\n",
      "\n",
      "\n",
      "Loading required package: TTR\n",
      "\n",
      "Registered S3 method overwritten by 'quantmod':\n",
      "  method            from\n",
      "  as.zoo.data.frame zoo \n",
      "\n"
     ]
    }
   ],
   "source": [
    "library(PerformanceAnalytics)\n",
    "library(quantmod)"
   ]
  },
  {
   "cell_type": "markdown",
   "id": "c13e7429-7b59-4af5-b729-aca00fa8bf6e",
   "metadata": {},
   "source": [
    "## Problem 1"
   ]
  },
  {
   "cell_type": "code",
   "execution_count": 3,
   "id": "c4635f5c-252e-4d6a-8175-b82454028b0c",
   "metadata": {},
   "outputs": [],
   "source": [
    "nvda <- getSymbols(\"NVDA\", from=\"2023-01-01\", to=\"2024-01-01\", auto.assign=FALSE)\n",
    "nvda.prices <- nvda$NVDA.Close"
   ]
  },
  {
   "cell_type": "code",
   "execution_count": 4,
   "id": "9a8f758f-f2ba-402a-a9ff-d0a18a85d0b1",
   "metadata": {},
   "outputs": [
    {
     "data": {
      "text/plain": [
       "           NVDA.Open NVDA.High NVDA.Low NVDA.Close NVDA.Volume NVDA.Adjusted\n",
       "2023-01-03    148.51    149.96   140.96     143.15    40127700      143.0865\n",
       "2023-01-04    145.67    148.53   142.41     147.49    43132400      147.4246\n",
       "2023-01-05    144.91    145.64   141.48     142.65    38916800      142.5867\n",
       "2023-01-06    144.74    150.10   140.34     148.59    40504400      148.5241\n",
       "2023-01-09    152.84    160.56   151.41     156.28    50423100      156.2107\n",
       "2023-01-10    155.07    159.62   154.72     159.09    38410100      159.0194"
      ]
     },
     "metadata": {},
     "output_type": "display_data"
    }
   ],
   "source": [
    "head(nvda)"
   ]
  },
  {
   "cell_type": "markdown",
   "id": "2045f313-2782-4bb8-b052-c3d88661f671",
   "metadata": {},
   "source": [
    "#### Part a"
   ]
  },
  {
   "cell_type": "code",
   "execution_count": 5,
   "id": "4b66f920-cce8-4885-9553-a05f14cd1dc5",
   "metadata": {},
   "outputs": [
    {
     "data": {
      "text/plain": [
       "           NVDA.Open NVDA.High NVDA.Low NVDA.Close NVDA.Volume NVDA.Adjusted\n",
       "2023-12-05    454.66    466.00   452.71     465.66    37171800        465.66\n",
       "2023-12-06    472.15    473.87   454.12     455.03    38059000        455.03\n",
       "2023-12-07    457.00    466.29   456.04     465.96    35082300        465.96\n",
       "2023-12-08    465.95    477.41   465.50     475.06    35880300        475.06\n",
       "2023-12-11    474.91    475.31   458.30     466.27    50972800        466.27\n",
       "2023-12-12    460.46    476.66   460.46     476.57    37238700        476.57"
      ]
     },
     "metadata": {},
     "output_type": "display_data"
    }
   ],
   "source": [
    "head(nvda[nvda$NVDA.Close == nvda$NVDA.Adjusted])"
   ]
  },
  {
   "cell_type": "markdown",
   "id": "f7cb7d63-6e3e-407e-8800-742977b4bd5b",
   "metadata": {},
   "source": [
    "2012-12-05 is the earliest date at which closing and adjusted prices are equal. This is the ex-date of the most recent dividend and therefore this is the first date the cumulative adjustment factor is 1."
   ]
  },
  {
   "cell_type": "markdown",
   "id": "836fea14-da9c-4c7b-a362-0afe18a2d73a",
   "metadata": {},
   "source": [
    "#### Part b"
   ]
  },
  {
   "cell_type": "code",
   "execution_count": 6,
   "id": "cc8fe829-4fe3-473b-b0ee-ab4b77028f45",
   "metadata": {},
   "outputs": [],
   "source": [
    "# get dividend data\n",
    "nvda_divs <- getDividends(\"NVDA\", from=\"2023-01-01\", to=\"2024-01-01\", auto.assign=FALSE)\n",
    "# merge with close prices and fill NA dividends with zeros (that means no divs that day)\n",
    "nvda_divs <- na.fill(merge(nvda.prices, nvda_divs), fill=0)"
   ]
  },
  {
   "cell_type": "code",
   "execution_count": 7,
   "id": "682476c8-ef00-40ff-8db1-3dd253383dae",
   "metadata": {},
   "outputs": [],
   "source": [
    "# calculate the cumulative adjustment factor\n",
    "adj_factor <- ((nvda_divs$NVDA.Close - na.fill(lag(nvda_divs$NVDA.div, k=-1), fill=0)) / nvda_divs$NVDA.Close)\n",
    "# reversing the array x2 may not be the most computationally efficient approach...\n",
    "adj_factor <- rev(cumprod(rev(adj_factor)))"
   ]
  },
  {
   "cell_type": "code",
   "execution_count": 8,
   "id": "5dba4a82-d8e8-4ef6-845b-f98faa51a782",
   "metadata": {},
   "outputs": [],
   "source": [
    "# calculate adjusted prices\n",
    "adj_prices <- adj_factor * as.zoo(nvda_divs$NVDA.Close)"
   ]
  },
  {
   "cell_type": "markdown",
   "id": "f91a77a7-9dba-45a9-a5a9-c027bcf8349e",
   "metadata": {},
   "source": [
    "Compare recomputed adjusted prices and the ones pulled from yahoo. Pretty close."
   ]
  },
  {
   "cell_type": "markdown",
   "id": "4a7c6ec9-c86a-466f-b6a2-22424637b7c9",
   "metadata": {},
   "source": [
    "## Prof Method"
   ]
  },
  {
   "cell_type": "code",
   "execution_count": 12,
   "id": "a73345b6-f757-4576-adb6-a482f51c5760",
   "metadata": {},
   "outputs": [],
   "source": [
    "# Adjust for December 5 dividend\n",
    "m <- (coredata(nvda.prices[\"2023-12-04\"]) - 0.04) / coredata(nvda.prices[\"2023-12-04\"])\n",
    "coredata(nvda.prices[\"2023-01-01::2023-12-04\"]) <-\n",
    "coredata(nvda.prices[\"2023-01-01::2023-12-04\"]) * as.numeric(m)\n",
    "#Adjust for September 6 dividend\n",
    "m <- (coredata(nvda.prices[\"2023-09-05\"]) - 0.04) / coredata(nvda.prices[\"2023-09-05\"])\n",
    "coredata(nvda.prices[\"2023-01-01::2023-09-05\"]) <-\n",
    "coredata(nvda.prices[\"2023-01-01::2023-09-05\"]) * as.numeric(m)\n",
    "# Adjust for June 7 dividend\n",
    "m <- (coredata(nvda.prices[\"2023-06-06\"]) - 0.04) / coredata(nvda.prices[\"2023-06-06\"])\n",
    "coredata(nvda.prices[\"2023-01-01::2023-06-06\"]) <-\n",
    "coredata(nvda.prices[\"2023-01-01::2023-06-06\"]) * as.numeric(m)\n",
    "# Adjust for March 7 dividend\n",
    "m <- (coredata(nvda.prices[\"2023-03-06\"]) - 0.04) / coredata(nvda.prices[\"2023-03-06\"])\n",
    "coredata(nvda.prices[\"2023-01-01::2023-03-06\"]) <-\n",
    "coredata(nvda.prices[\"2023-01-01::2023-03-06\"]) * as.numeric(m)"
   ]
  },
  {
   "cell_type": "markdown",
   "id": "c3d00583-cc5f-4256-9009-d031dc2937c7",
   "metadata": {},
   "source": [
    "<html>\n",
    "    <br></br>\n",
    "    <br></br>\n",
    "    <br></br>\n",
    "    <br></br>\n",
    "    <br></br>\n",
    "    <br></br>\n",
    "    <br></br>\n",
    "    <br></br>\n",
    "    <br></br>\n",
    "    <br></br>\n",
    "    <br></br>\n",
    "    <br></br>\n",
    "    <br></br>\n",
    "    <br></br>\n",
    "    <br></br>\n",
    "    <br></br>\n",
    "</html>"
   ]
  },
  {
   "cell_type": "markdown",
   "id": "167d97c8-46ce-41a9-95d6-61f5a2800318",
   "metadata": {},
   "source": [
    "## Problem 2"
   ]
  },
  {
   "cell_type": "code",
   "execution_count": 9,
   "id": "d6700c8b-3b83-4f01-9880-b57b1432dffe",
   "metadata": {},
   "outputs": [],
   "source": [
    "mortgage <- getSymbols(\"MORTGAGE30US\", from=\"1975-01-01\", to=\"2024-01-01\", src='FRED', auto.assign=FALSE)"
   ]
  },
  {
   "cell_type": "markdown",
   "id": "a4601399-6b63-4cfa-a612-bb671064400a",
   "metadata": {},
   "source": [
    "#### Part a"
   ]
  },
  {
   "cell_type": "code",
   "execution_count": 10,
   "id": "bf1c6d11-a859-4bea-b4e2-1d93bce2e2a2",
   "metadata": {},
   "outputs": [
    {
     "data": {
      "image/png": "[encoded data removed]",
      "text/plain": [
       "Plot with title \"[1975-01-03/2023-12-28]\""
      ]
     },
     "metadata": {
      "image/png": {
       "height": 420,
       "width": 420
      }
     },
     "output_type": "display_data"
    }
   ],
   "source": [
    "chartSeries(mortgage, theme='white')"
   ]
  },
  {
   "cell_type": "markdown",
   "id": "8d30be93-440e-4d24-b66d-87bee3334124",
   "metadata": {},
   "source": [
    "##### lowest mortgage rate:"
   ]
  },
  {
   "cell_type": "code",
   "execution_count": 11,
   "id": "9c78264d-20e4-4a3a-96c1-0b27bf5fe8f2",
   "metadata": {},
   "outputs": [
    {
     "data": {
      "text/plain": [
       "           MORTGAGE30US\n",
       "2021-01-07         2.65"
      ]
     },
     "metadata": {},
     "output_type": "display_data"
    }
   ],
   "source": [
    "mortgage[which.min(mortgage)]"
   ]
  },
  {
   "cell_type": "markdown",
   "id": "9b84cdbb-9e9c-4815-a0ca-6688db1ef3f3",
   "metadata": {},
   "source": [
    "##### highest mortgage rate:"
   ]
  },
  {
   "cell_type": "code",
   "execution_count": 12,
   "id": "37e1db67-5263-4984-86e9-4499b46eaa88",
   "metadata": {},
   "outputs": [
    {
     "data": {
      "text/plain": [
       "           MORTGAGE30US\n",
       "1981-10-09        18.63"
      ]
     },
     "metadata": {},
     "output_type": "display_data"
    }
   ],
   "source": [
    "mortgage[which.max(mortgage)]"
   ]
  },
  {
   "cell_type": "markdown",
   "id": "a6b34e07-f42d-416e-b212-af1105212e8e",
   "metadata": {},
   "source": [
    "#### Part b"
   ]
  },
  {
   "cell_type": "code",
   "execution_count": 13,
   "id": "8f2d0931-ec1c-4368-b774-b8a4d74a8038",
   "metadata": {},
   "outputs": [],
   "source": [
    "change <- diff(mortgage) / lag(mortgage) "
   ]
  },
  {
   "cell_type": "code",
   "execution_count": 14,
   "id": "5258ee1a-bb7b-40d4-a316-aaae51c491a2",
   "metadata": {},
   "outputs": [
    {
     "data": {
      "image/png": "[encoded data removed]",
      "text/plain": [
       "Plot with title \"[1975-01-10/2023-12-28]\""
      ]
     },
     "metadata": {
      "image/png": {
       "height": 420,
       "width": 420
      }
     },
     "output_type": "display_data"
    }
   ],
   "source": [
    "chartSeries(change, theme='white')"
   ]
  },
  {
   "cell_type": "markdown",
   "id": "261a4475-541b-48a7-a9ac-3412ea745d26",
   "metadata": {},
   "source": [
    "##### lowest mortgage rate change:"
   ]
  },
  {
   "cell_type": "code",
   "execution_count": 15,
   "id": "7caa614e-fd5a-4676-82df-d4ce39ee645a",
   "metadata": {},
   "outputs": [
    {
     "data": {
      "text/plain": [
       "           MORTGAGE30US\n",
       "1980-05-09  -0.07672956"
      ]
     },
     "metadata": {},
     "output_type": "display_data"
    }
   ],
   "source": [
    "change[which.min(change)]"
   ]
  },
  {
   "cell_type": "markdown",
   "id": "d1c926b6-1837-4634-a191-43a53828825a",
   "metadata": {},
   "source": [
    "##### highest mortgage rate change:"
   ]
  },
  {
   "cell_type": "code",
   "execution_count": 16,
   "id": "669aad7c-214a-44b3-a292-29d54b1ff7ab",
   "metadata": {},
   "outputs": [
    {
     "data": {
      "text/plain": [
       "           MORTGAGE30US\n",
       "2013-06-27    0.1348601"
      ]
     },
     "metadata": {},
     "output_type": "display_data"
    }
   ],
   "source": [
    "change[which.max(change)]"
   ]
  },
  {
   "cell_type": "markdown",
   "id": "0c78388d-17e4-4311-97e7-20c2b9eb2ae5",
   "metadata": {},
   "source": [
    "## Problem 3"
   ]
  },
  {
   "cell_type": "code",
   "execution_count": 17,
   "id": "5bf379f5-f46f-4ba9-950c-bab865163acf",
   "metadata": {},
   "outputs": [],
   "source": [
    "cost <- getSymbols(\"COST\", from=\"2023-01-31\", to=\"2023-03-02\", auto.assign=FALSE)\n",
    "cost_adjusted <- cost[, c('COST.Adjusted')]"
   ]
  },
  {
   "cell_type": "markdown",
   "id": "5932857e-3256-42f2-a301-1c100aab1d5d",
   "metadata": {},
   "source": [
    "#### Part a\n",
    "Last Trading Day"
   ]
  },
  {
   "cell_type": "code",
   "execution_count": 18,
   "id": "2156940f-63fe-4952-a3d4-f311bbdc5415",
   "metadata": {},
   "outputs": [],
   "source": [
    "p0 = coredata(as.vector(cost[\"2023-01-31\", \"COST.Adjusted\"]))\n",
    "p1 = coredata(as.vector(cost[\"2023-02-28\", \"COST.Adjusted\"]))"
   ]
  },
  {
   "cell_type": "markdown",
   "id": "45772fcb-74ca-43bb-bcb5-af968f602cde",
   "metadata": {},
   "source": [
    "arithmetic return"
   ]
  },
  {
   "cell_type": "code",
   "execution_count": 19,
   "id": "edb21e7f-0c2b-49e8-bc9c-97ef3f54a441",
   "metadata": {},
   "outputs": [
    {
     "data": {
      "text/html": [
       "-0.0510958717680279"
      ],
      "text/latex": [
       "-0.0510958717680279"
      ],
      "text/markdown": [
       "-0.0510958717680279"
      ],
      "text/plain": [
       "[1] -0.05109587"
      ]
     },
     "metadata": {},
     "output_type": "display_data"
    }
   ],
   "source": [
    "(p1 - p0) / p0"
   ]
  },
  {
   "cell_type": "markdown",
   "id": "69fe3428-75ea-4383-8dd4-5b2778f03add",
   "metadata": {},
   "source": [
    "log return"
   ]
  },
  {
   "cell_type": "code",
   "execution_count": 20,
   "id": "f5d1f2d9-cc11-496f-ac74-3aafd54add68",
   "metadata": {},
   "outputs": [
    {
     "data": {
      "text/html": [
       "-0.0524475094670759"
      ],
      "text/latex": [
       "-0.0524475094670759"
      ],
      "text/markdown": [
       "-0.0524475094670759"
      ],
      "text/plain": [
       "[1] -0.05244751"
      ]
     },
     "metadata": {},
     "output_type": "display_data"
    }
   ],
   "source": [
    "log(p1/p0)"
   ]
  },
  {
   "cell_type": "markdown",
   "id": "4d96e2eb-daab-4763-893a-81dd17e99b50",
   "metadata": {},
   "source": [
    "#### Part b\n",
    "First Trading Day"
   ]
  },
  {
   "cell_type": "code",
   "execution_count": 21,
   "id": "8addf0f0-f7be-4b3d-a161-688f0d58d54f",
   "metadata": {},
   "outputs": [],
   "source": [
    "p0 = coredata(as.vector(cost[\"2023-02-01\", \"COST.Adjusted\"]))\n",
    "p1 = coredata(as.vector(cost[\"2023-03-01\", \"COST.Adjusted\"]))"
   ]
  },
  {
   "cell_type": "markdown",
   "id": "967c1273-65dc-4a28-be45-16811920fe25",
   "metadata": {},
   "source": [
    "arithmetic return"
   ]
  },
  {
   "cell_type": "code",
   "execution_count": 22,
   "id": "31bd0f5a-fa11-4278-acc0-b7a1ed841499",
   "metadata": {},
   "outputs": [
    {
     "data": {
      "text/html": [
       "-0.0741570479340383"
      ],
      "text/latex": [
       "-0.0741570479340383"
      ],
      "text/markdown": [
       "-0.0741570479340383"
      ],
      "text/plain": [
       "[1] -0.07415705"
      ]
     },
     "metadata": {},
     "output_type": "display_data"
    }
   ],
   "source": [
    "(p1 - p0) / p0"
   ]
  },
  {
   "cell_type": "markdown",
   "id": "1dcccd05-62fd-4a4d-a0db-5cf52f8e94e4",
   "metadata": {},
   "source": [
    "log return"
   ]
  },
  {
   "cell_type": "code",
   "execution_count": 23,
   "id": "d7e7ad25-1a12-4eec-a9bd-a8bce91162f5",
   "metadata": {},
   "outputs": [
    {
     "data": {
      "text/html": [
       "-0.077050656920264"
      ],
      "text/latex": [
       "-0.077050656920264"
      ],
      "text/markdown": [
       "-0.077050656920264"
      ],
      "text/plain": [
       "[1] -0.07705066"
      ]
     },
     "metadata": {},
     "output_type": "display_data"
    }
   ],
   "source": [
    "log(p1/p0)"
   ]
  },
  {
   "cell_type": "markdown",
   "id": "29689422-e441-4431-ac09-f1f6d6bb2bab",
   "metadata": {},
   "source": [
    "#### Part c\n",
    "End of month pries are used in the below approach. This makes sense, since the return of a stock for the month begins when the month closes. The approach in part b (first day of the month) effectively ignores the return on the first day, but includes return on the first day of the following month."
   ]
  },
  {
   "cell_type": "code",
   "execution_count": 24,
   "id": "4b2a84fa-31f9-4792-911c-cda4b675e016",
   "metadata": {},
   "outputs": [
    {
     "data": {
      "text/plain": [
       "         cost.Adjusted\n",
       "Feb 2023   -0.05109587"
      ]
     },
     "metadata": {},
     "output_type": "display_data"
    }
   ],
   "source": [
    "na.omit(Return.calculate(to.monthly(cost)))$cost.Adjusted[\"2023-02\"]"
   ]
  }
 ],
 "metadata": {
  "kernelspec": {
   "display_name": "R",
   "language": "R",
   "name": "ir"
  },
  "language_info": {
   "codemirror_mode": "r",
   "file_extension": ".r",
   "mimetype": "text/x-r-source",
   "name": "R",
   "pygments_lexer": "r",
   "version": "4.1.3"
  }
 },
 "nbformat": 4,
 "nbformat_minor": 5
}
