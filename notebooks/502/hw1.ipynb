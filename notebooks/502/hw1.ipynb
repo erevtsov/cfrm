{
 "cells": [
  {
   "cell_type": "markdown",
   "id": "cad14003-4f29-4d9c-96e7-c9983e9ac459",
   "metadata": {},
   "source": [
    "## Revtsov HW1"
   ]
  },
  {
   "cell_type": "code",
   "execution_count": 122,
   "id": "0c32eb0a-6e51-4b26-8d3f-ac115022bf2f",
   "metadata": {},
   "outputs": [],
   "source": [
    "library(PerformanceAnalytics)\n",
    "library(quantmod)"
   ]
  },
  {
   "cell_type": "markdown",
   "id": "c13e7429-7b59-4af5-b729-aca00fa8bf6e",
   "metadata": {},
   "source": [
    "## Problem 1"
   ]
  },
  {
   "cell_type": "code",
   "execution_count": 145,
   "id": "c4635f5c-252e-4d6a-8175-b82454028b0c",
   "metadata": {},
   "outputs": [],
   "source": [
    "nvda <- getSymbols(\"PEP\", from=\"2023-01-01\", to=\"2024-01-01\", auto.assign=FALSE)\n",
    "nvda.prices <- nvda$PEP.Close"
   ]
  },
  {
   "cell_type": "code",
   "execution_count": 146,
   "id": "9a8f758f-f2ba-402a-a9ff-d0a18a85d0b1",
   "metadata": {},
   "outputs": [
    {
     "data": {
      "text/plain": [
       "           PEP.Open PEP.High PEP.Low PEP.Close PEP.Volume PEP.Adjusted\n",
       "2023-01-03   180.59   180.75  176.57    179.41    5137400     174.4034\n",
       "2023-01-04   179.41   180.54  177.55    178.97    4771300     173.9756\n",
       "2023-01-05   177.96   178.77  176.86    177.10    3647100     172.1578\n",
       "2023-01-06   178.81   181.83  178.80    181.10    3713200     176.0462\n",
       "2023-01-09   180.44   182.77  178.81    179.33    3319200     174.3256\n",
       "2023-01-10   178.79   179.53  177.09    177.85    3817300     172.8869"
      ]
     },
     "metadata": {},
     "output_type": "display_data"
    }
   ],
   "source": [
    "head(nvda)"
   ]
  },
  {
   "cell_type": "markdown",
   "id": "2045f313-2782-4bb8-b052-c3d88661f671",
   "metadata": {},
   "source": [
    "#### Part a"
   ]
  },
  {
   "cell_type": "code",
   "execution_count": 147,
   "id": "4b66f920-cce8-4885-9553-a05f14cd1dc5",
   "metadata": {},
   "outputs": [
    {
     "data": {
      "text/plain": [
       "           PEP.Open PEP.High PEP.Low PEP.Close PEP.Volume PEP.Adjusted\n",
       "2023-11-30   166.11   168.36  164.82    168.29    7346700       168.29\n",
       "2023-12-01   168.37   168.85  167.38    168.69    4893900       168.69\n",
       "2023-12-04   168.40   169.92  168.19    169.14    5323300       169.14\n",
       "2023-12-05   169.15   169.57  167.71    167.94    4553800       167.94\n",
       "2023-12-06   167.98   168.32  166.73    167.51    4726600       167.51\n",
       "2023-12-07   168.00   168.30  166.70    167.46    4934800       167.46"
      ]
     },
     "metadata": {},
     "output_type": "display_data"
    }
   ],
   "source": [
    "head(nvda[nvda$PEP.Close == nvda$PEP.Adjusted])"
   ]
  },
  {
   "cell_type": "markdown",
   "id": "f7cb7d63-6e3e-407e-8800-742977b4bd5b",
   "metadata": {},
   "source": [
    "2012-12-05 is the earliest date at which closing and adjusted prices are equal. This is the ex-date of the most recent dividend and therefore this is the first date the cumulative adjustment factor is 1."
   ]
  },
  {
   "cell_type": "markdown",
   "id": "836fea14-da9c-4c7b-a362-0afe18a2d73a",
   "metadata": {},
   "source": [
    "#### Part b"
   ]
  },
  {
   "cell_type": "code",
   "execution_count": 148,
   "id": "cc8fe829-4fe3-473b-b0ee-ab4b77028f45",
   "metadata": {},
   "outputs": [
    {
     "data": {
      "text/plain": [
       "           PEP.div\n",
       "2023-03-02   1.150\n",
       "2023-06-01   1.265\n",
       "2023-08-31   1.265\n",
       "2023-11-30   1.265"
      ]
     },
     "metadata": {},
     "output_type": "display_data"
    }
   ],
   "source": [
    "# get dividend data\n",
    "(nvda_divs <- getDividends(\"PEP\", from=\"2023-01-01\", to=\"2024-01-01\", auto.assign=FALSE))\n",
    "# merge with close prices and fill NA dividends with zeros (that means no divs that day)\n",
    "nvda_divs <- na.fill(merge(nvda.prices, nvda_divs), fill=0)"
   ]
  },
  {
   "cell_type": "code",
   "execution_count": 149,
   "id": "682476c8-ef00-40ff-8db1-3dd253383dae",
   "metadata": {},
   "outputs": [],
   "source": [
    "# calculate the cumulative adjustment factor\n",
    "adj_factor <- ((nvda_divs$PEP.Close - na.fill(lag(nvda_divs$PEP.div, k=-1), fill=0)) / nvda_divs$PEP.Close)\n",
    "# reversing the array x2 may not be the most computationally efficient approach...\n",
    "adj_factor <- rev(cumprod(rev(adj_factor)))"
   ]
  },
  {
   "cell_type": "code",
   "execution_count": 150,
   "id": "5dba4a82-d8e8-4ef6-845b-f98faa51a782",
   "metadata": {},
   "outputs": [],
   "source": [
    "# calculate adjusted prices\n",
    "adj_prices <- adj_factor * as.zoo(nvda_divs$PEP.Close)"
   ]
  },
  {
   "cell_type": "markdown",
   "id": "f91a77a7-9dba-45a9-a5a9-c027bcf8349e",
   "metadata": {},
   "source": [
    "Compare recomputed adjusted prices and the ones pulled from yahoo. Pretty close."
   ]
  },
  {
   "cell_type": "code",
   "execution_count": 151,
   "id": "c94d8fdf-bf66-41db-92b0-2eb6333720f1",
   "metadata": {},
   "outputs": [
    {
     "data": {
      "text/html": [
       "250"
      ],
      "text/latex": [
       "250"
      ],
      "text/markdown": [
       "250"
      ],
      "text/plain": [
       "[1] 250"
      ]
     },
     "metadata": {},
     "output_type": "display_data"
    }
   ],
   "source": [
    "length(nvda$PEP.Adjusted)"
   ]
  },
  {
   "cell_type": "code",
   "execution_count": 152,
   "id": "b79c5fbe-4b28-48a4-839d-7c9122da88fe",
   "metadata": {},
   "outputs": [
    {
     "name": "stderr",
     "output_type": "stream",
     "text": [
      "Warning message in eval(expr, envir, enclos):\n",
      "\"Incompatible methods (\"Ops.zoo\", \"Ops.xts\") for \"-\"\"\n"
     ]
    },
    {
     "data": {
      "text/html": [
       "3.25214956262698e-05"
      ],
      "text/latex": [
       "3.25214956262698e-05"
      ],
      "text/markdown": [
       "3.25214956262698e-05"
      ],
      "text/plain": [
       "[1] 3.25215e-05"
      ]
     },
     "metadata": {},
     "output_type": "display_data"
    }
   ],
   "source": [
    "max(abs(adj_prices - nvda$PEP.Adjusted))"
   ]
  },
  {
   "cell_type": "markdown",
   "id": "4a7c6ec9-c86a-466f-b6a2-22424637b7c9",
   "metadata": {},
   "source": [
    "## Prof Method"
   ]
  },
  {
   "cell_type": "code",
   "execution_count": 154,
   "id": "a73345b6-f757-4576-adb6-a482f51c5760",
   "metadata": {},
   "outputs": [],
   "source": [
    "# Adjust for December 5 dividend\n",
    "m <- (coredata(nvda.prices[\"2023-11-29\"]) - 1.265) / coredata(nvda.prices[\"2023-11-29\"])\n",
    "coredata(nvda.prices[\"2023-01-01::2023-11-29\"]) <-\n",
    "coredata(nvda.prices[\"2023-01-01::2023-11-29\"]) * as.numeric(m)\n",
    "#Adjust for September 6 dividend\n",
    "m <- (coredata(nvda.prices[\"2023-08-30\"]) - 1.265) / coredata(nvda.prices[\"2023-08-30\"])\n",
    "coredata(nvda.prices[\"2023-01-01::2023-08-30\"]) <-\n",
    "coredata(nvda.prices[\"2023-01-01::2023-08-30\"]) * as.numeric(m)\n",
    "# Adjust for June 7 dividend\n",
    "m <- (coredata(nvda.prices[\"2023-05-31\"]) - 1.265) / coredata(nvda.prices[\"2023-05-31\"])\n",
    "coredata(nvda.prices[\"2023-01-01::2023-05-31\"]) <-\n",
    "coredata(nvda.prices[\"2023-01-01::2023-05-31\"]) * as.numeric(m)\n",
    "# Adjust for March 7 dividend\n",
    "m <- (coredata(nvda.prices[\"2023-03-01\"]) -  1.15) / coredata(nvda.prices[\"2023-03-01\"])\n",
    "coredata(nvda.prices[\"2023-01-01::2023-03-01\"]) <-\n",
    "coredata(nvda.prices[\"2023-01-01::2023-03-01\"]) * as.numeric(m)"
   ]
  },
  {
   "cell_type": "code",
   "execution_count": 155,
   "id": "bd2b972f-c123-40ec-ae91-d0e5e9a6d2fb",
   "metadata": {},
   "outputs": [
    {
     "data": {
      "text/plain": [
       "2023-01-03 2023-01-04 2023-01-05 2023-01-06 2023-01-09 2023-01-10 2023-01-11 \n",
       "        NA         NA         NA         NA         NA         NA         NA \n",
       "2023-01-12 2023-01-13 2023-01-17 2023-01-18 2023-01-19 2023-01-20 2023-01-23 \n",
       "        NA         NA         NA         NA         NA         NA         NA \n",
       "2023-01-24 2023-01-25 2023-01-26 2023-01-27 2023-01-30 2023-01-31 2023-02-01 \n",
       "        NA         NA         NA         NA         NA         NA         NA \n",
       "2023-02-02 2023-02-03 2023-02-06 2023-02-07 2023-02-08 2023-02-09 2023-02-10 \n",
       "        NA         NA         NA         NA         NA         NA         NA \n",
       "2023-02-13 2023-02-14 2023-02-15 2023-02-16 2023-02-17 2023-02-21 2023-02-22 \n",
       "        NA         NA         NA         NA         NA         NA         NA \n",
       "2023-02-23 2023-02-24 2023-02-27 2023-02-28 2023-03-01 2023-03-02 2023-03-03 \n",
       "        NA         NA         NA         NA         NA         NA         NA \n",
       "2023-03-06 2023-03-07 2023-03-08 2023-03-09 2023-03-10 2023-03-13 2023-03-14 \n",
       "        NA         NA         NA         NA         NA         NA         NA \n",
       "2023-03-15 2023-03-16 2023-03-17 2023-03-20 2023-03-21 2023-03-22 2023-03-23 \n",
       "        NA         NA         NA         NA         NA         NA         NA \n",
       "2023-03-24 2023-03-27 2023-03-28 2023-03-29 2023-03-30 2023-03-31 2023-04-03 \n",
       "        NA         NA         NA         NA         NA         NA         NA \n",
       "2023-04-04 2023-04-05 2023-04-06 2023-04-10 2023-04-11 2023-04-12 2023-04-13 \n",
       "        NA         NA         NA         NA         NA         NA         NA \n",
       "2023-04-14 2023-04-17 2023-04-18 2023-04-19 2023-04-20 2023-04-21 2023-04-24 \n",
       "        NA         NA         NA         NA         NA         NA         NA \n",
       "2023-04-25 2023-04-26 2023-04-27 2023-04-28 2023-05-01 2023-05-02 2023-05-03 \n",
       "        NA         NA         NA         NA         NA         NA         NA \n",
       "2023-05-04 2023-05-05 2023-05-08 2023-05-09 2023-05-10 2023-05-11 2023-05-12 \n",
       "        NA         NA         NA         NA         NA         NA         NA \n",
       "2023-05-15 2023-05-16 2023-05-17 2023-05-18 2023-05-19 2023-05-22 2023-05-23 \n",
       "        NA         NA         NA         NA         NA         NA         NA \n",
       "2023-05-24 2023-05-25 2023-05-26 2023-05-30 2023-05-31 2023-06-01 2023-06-02 \n",
       "        NA         NA         NA         NA         NA         NA         NA \n",
       "2023-06-05 2023-06-06 2023-06-07 2023-06-08 2023-06-09 2023-06-12 2023-06-13 \n",
       "        NA         NA         NA         NA         NA         NA         NA \n",
       "2023-06-14 2023-06-15 2023-06-16 2023-06-20 2023-06-21 2023-06-22 2023-06-23 \n",
       "        NA         NA         NA         NA         NA         NA         NA \n",
       "2023-06-26 2023-06-27 2023-06-28 2023-06-29 2023-06-30 2023-07-03 2023-07-05 \n",
       "        NA         NA         NA         NA         NA         NA         NA \n",
       "2023-07-06 2023-07-07 2023-07-10 2023-07-11 2023-07-12 2023-07-13 2023-07-14 \n",
       "        NA         NA         NA         NA         NA         NA         NA \n",
       "2023-07-17 2023-07-18 2023-07-19 2023-07-20 2023-07-21 2023-07-24 2023-07-25 \n",
       "        NA         NA         NA         NA         NA         NA         NA \n",
       "2023-07-26 2023-07-27 2023-07-28 2023-07-31 2023-08-01 2023-08-02 2023-08-03 \n",
       "        NA         NA         NA         NA         NA         NA         NA \n",
       "2023-08-04 2023-08-07 2023-08-08 2023-08-09 2023-08-10 2023-08-11 2023-08-14 \n",
       "        NA         NA         NA         NA         NA         NA         NA \n",
       "2023-08-15 2023-08-16 2023-08-17 2023-08-18 2023-08-21 2023-08-22 2023-08-23 \n",
       "        NA         NA         NA         NA         NA         NA         NA \n",
       "2023-08-24 2023-08-25 2023-08-28 2023-08-29 2023-08-30 2023-08-31 2023-09-01 \n",
       "        NA         NA         NA         NA         NA         NA         NA \n",
       "2023-09-05 2023-09-06 2023-09-07 2023-09-08 2023-09-11 2023-09-12 2023-09-13 \n",
       "        NA         NA         NA         NA         NA         NA         NA \n",
       "2023-09-14 2023-09-15 2023-09-18 2023-09-19 2023-09-20 2023-09-21 2023-09-22 \n",
       "        NA         NA         NA         NA         NA         NA         NA \n",
       "2023-09-25 2023-09-26 2023-09-27 2023-09-28 2023-09-29 2023-10-02 2023-10-03 \n",
       "        NA         NA         NA         NA         NA         NA         NA \n",
       "2023-10-04 2023-10-05 2023-10-06 2023-10-09 2023-10-10 2023-10-11 2023-10-12 \n",
       "        NA         NA         NA         NA         NA         NA         NA \n",
       "2023-10-13 2023-10-16 2023-10-17 2023-10-18 2023-10-19 2023-10-20 2023-10-23 \n",
       "        NA         NA         NA         NA         NA         NA         NA \n",
       "2023-10-24 2023-10-25 2023-10-26 2023-10-27 2023-10-30 2023-10-31 2023-11-01 \n",
       "        NA         NA         NA         NA         NA         NA         NA \n",
       "2023-11-02 2023-11-03 2023-11-06 2023-11-07 2023-11-08 2023-11-09 2023-11-10 \n",
       "        NA         NA         NA         NA         NA         NA         NA \n",
       "2023-11-13 2023-11-14 2023-11-15 2023-11-16 2023-11-17 2023-11-20 2023-11-21 \n",
       "        NA         NA         NA         NA         NA         NA         NA \n",
       "2023-11-22 2023-11-24 2023-11-27 2023-11-28 2023-11-29 2023-11-30 2023-12-01 \n",
       "        NA         NA         NA         NA         NA         NA         NA \n",
       "2023-12-04 2023-12-05 2023-12-06 2023-12-07 2023-12-08 2023-12-11 2023-12-12 \n",
       "        NA         NA         NA         NA         NA         NA         NA \n",
       "2023-12-13 2023-12-14 2023-12-15 2023-12-18 2023-12-19 2023-12-20 2023-12-21 \n",
       "        NA         NA         NA         NA         NA         NA         NA \n",
       "2023-12-22 2023-12-26 2023-12-27 2023-12-28 2023-12-29 \n",
       "        NA         NA         NA         NA         NA "
      ]
     },
     "metadata": {},
     "output_type": "display_data"
    }
   ],
   "source": [
    "abs(adj_prices - nvda$NVDA.Adjusted)"
   ]
  },
  {
   "cell_type": "code",
   "execution_count": null,
   "id": "deb40478-c3be-4c9f-94bf-c63c01ad5064",
   "metadata": {},
   "outputs": [],
   "source": []
  },
  {
   "cell_type": "code",
   "execution_count": 156,
   "id": "e350f7f3-04d6-4a43-b5ff-fd92b6603a5a",
   "metadata": {},
   "outputs": [
    {
     "name": "stderr",
     "output_type": "stream",
     "text": [
      "Warning message in head(abs(adj_prices - nvda.prices), 50):\n",
      "\"Incompatible methods (\"Ops.zoo\", \"Ops.xts\") for \"-\"\"\n"
     ]
    },
    {
     "data": {
      "text/plain": [
       "            PEP.Close\n",
       "2023-01-03 0.05322724\n",
       "2023-01-04 0.05309670\n",
       "2023-01-05 0.05254191\n",
       "2023-01-06 0.05372863\n",
       "2023-01-09 0.05320351\n",
       "2023-01-10 0.05276442\n",
       "2023-01-11 0.05282376\n",
       "2023-01-12 0.05215029\n",
       "2023-01-13 0.05199009\n",
       "2023-01-17 0.05223336\n",
       "2023-01-18 0.05091611\n",
       "2023-01-19 0.05032572\n",
       "2023-01-20 0.05039989\n",
       "2023-01-23 0.05017441\n",
       "2023-01-24 0.05064020\n",
       "2023-01-25 0.05100808\n",
       "2023-01-26 0.05050076\n",
       "2023-01-27 0.05032275\n",
       "2023-01-30 0.05028121\n",
       "2023-01-31 0.05073810\n",
       "2023-02-01 0.05089831\n",
       "2023-02-02 0.05042659\n",
       "2023-02-03 0.05017441\n",
       "2023-02-06 0.05097545\n",
       "2023-02-07 0.05089831\n",
       "2023-02-08 0.05077964\n",
       "2023-02-09 0.05126026\n",
       "2023-02-10 0.05227490\n",
       "2023-02-13 0.05274069\n",
       "2023-02-14 0.05214733\n",
       "2023-02-15 0.05221853\n",
       "2023-02-16 0.05207019\n",
       "2023-02-17 0.05229863\n",
       "2023-02-21 0.05226896\n",
       "2023-02-22 0.05225116\n",
       "2023-02-23 0.05230753\n",
       "2023-02-24 0.05220370\n",
       "2023-02-27 0.05218886\n",
       "2023-02-28 0.05148277\n",
       "2023-03-01 0.05083007\n",
       "2023-03-02 0.02659767\n",
       "2023-03-03 0.02657158\n",
       "2023-03-06 0.02662529\n",
       "2023-03-07 0.02649331\n",
       "2023-03-08 0.02656544\n",
       "2023-03-09 0.02636441\n",
       "2023-03-10 0.02639970\n",
       "2023-03-13 0.02665751\n",
       "2023-03-14 0.02662989\n",
       "2023-03-15 0.02710562"
      ]
     },
     "metadata": {},
     "output_type": "display_data"
    }
   ],
   "source": [
    "head(abs(adj_prices - nvda.prices), 50)"
   ]
  },
  {
   "cell_type": "markdown",
   "id": "c3d00583-cc5f-4256-9009-d031dc2937c7",
   "metadata": {},
   "source": [
    "<html>\n",
    "    <br></br>\n",
    "    <br></br>\n",
    "    <br></br>\n",
    "    <br></br>\n",
    "    <br></br>\n",
    "    <br></br>\n",
    "    <br></br>\n",
    "    <br></br>\n",
    "    <br></br>\n",
    "    <br></br>\n",
    "    <br></br>\n",
    "    <br></br>\n",
    "    <br></br>\n",
    "    <br></br>\n",
    "    <br></br>\n",
    "    <br></br>\n",
    "</html>"
   ]
  },
  {
   "cell_type": "markdown",
   "id": "167d97c8-46ce-41a9-95d6-61f5a2800318",
   "metadata": {},
   "source": [
    "## Problem 2"
   ]
  },
  {
   "cell_type": "code",
   "execution_count": 112,
   "id": "d6700c8b-3b83-4f01-9880-b57b1432dffe",
   "metadata": {},
   "outputs": [],
   "source": [
    "mortgage <- getSymbols(\"MORTGAGE30US\", from=\"1975-01-01\", to=\"2024-01-01\", src='FRED', auto.assign=FALSE)"
   ]
  },
  {
   "cell_type": "markdown",
   "id": "a4601399-6b63-4cfa-a612-bb671064400a",
   "metadata": {},
   "source": [
    "#### Part a"
   ]
  },
  {
   "cell_type": "code",
   "execution_count": 113,
   "id": "bf1c6d11-a859-4bea-b4e2-1d93bce2e2a2",
   "metadata": {},
   "outputs": [
    {
     "data": {
      "image/png": "[encoded data removed]",
      "text/plain": [
       "Plot with title \"[1975-01-03/2023-12-28]\""
      ]
     },
     "metadata": {
      "image/png": {
       "height": 420,
       "width": 420
      }
     },
     "output_type": "display_data"
    }
   ],
   "source": [
    "chartSeries(mortgage, theme='white')"
   ]
  },
  {
   "cell_type": "markdown",
   "id": "8d30be93-440e-4d24-b66d-87bee3334124",
   "metadata": {},
   "source": [
    "##### lowest mortgage rate:"
   ]
  },
  {
   "cell_type": "code",
   "execution_count": 114,
   "id": "9c78264d-20e4-4a3a-96c1-0b27bf5fe8f2",
   "metadata": {},
   "outputs": [
    {
     "data": {
      "text/plain": [
       "           MORTGAGE30US\n",
       "2021-01-07         2.65"
      ]
     },
     "metadata": {},
     "output_type": "display_data"
    }
   ],
   "source": [
    "mortgage[which.min(mortgage)]"
   ]
  },
  {
   "cell_type": "markdown",
   "id": "9b84cdbb-9e9c-4815-a0ca-6688db1ef3f3",
   "metadata": {},
   "source": [
    "##### highest mortgage rate:"
   ]
  },
  {
   "cell_type": "code",
   "execution_count": 115,
   "id": "37e1db67-5263-4984-86e9-4499b46eaa88",
   "metadata": {},
   "outputs": [
    {
     "data": {
      "text/plain": [
       "           MORTGAGE30US\n",
       "1981-10-09        18.63"
      ]
     },
     "metadata": {},
     "output_type": "display_data"
    }
   ],
   "source": [
    "mortgage[which.max(mortgage)]"
   ]
  },
  {
   "cell_type": "markdown",
   "id": "a6b34e07-f42d-416e-b212-af1105212e8e",
   "metadata": {},
   "source": [
    "#### Part b"
   ]
  },
  {
   "cell_type": "code",
   "execution_count": 116,
   "id": "8f2d0931-ec1c-4368-b774-b8a4d74a8038",
   "metadata": {},
   "outputs": [],
   "source": [
    "change <- diff(mortgage)"
   ]
  },
  {
   "cell_type": "code",
   "execution_count": 117,
   "id": "5258ee1a-bb7b-40d4-a316-aaae51c491a2",
   "metadata": {},
   "outputs": [
    {
     "data": {
      "image/png": "[encoded data removed]",
      "text/plain": [
       "Plot with title \"[1975-01-10/2023-12-28]\""
      ]
     },
     "metadata": {
      "image/png": {
       "height": 420,
       "width": 420
      }
     },
     "output_type": "display_data"
    }
   ],
   "source": [
    "chartSeries(change, theme='white')"
   ]
  },
  {
   "cell_type": "markdown",
   "id": "261a4475-541b-48a7-a9ac-3412ea745d26",
   "metadata": {},
   "source": [
    "##### lowest mortgage rate change:"
   ]
  },
  {
   "cell_type": "code",
   "execution_count": 118,
   "id": "7caa614e-fd5a-4676-82df-d4ce39ee645a",
   "metadata": {},
   "outputs": [
    {
     "data": {
      "text/plain": [
       "           MORTGAGE30US\n",
       "1980-05-09        -1.22"
      ]
     },
     "metadata": {},
     "output_type": "display_data"
    }
   ],
   "source": [
    "change[which.min(change)]"
   ]
  },
  {
   "cell_type": "markdown",
   "id": "d1c926b6-1837-4634-a191-43a53828825a",
   "metadata": {},
   "source": [
    "##### highest mortgage rate change:"
   ]
  },
  {
   "cell_type": "code",
   "execution_count": 119,
   "id": "669aad7c-214a-44b3-a292-29d54b1ff7ab",
   "metadata": {},
   "outputs": [
    {
     "data": {
      "text/plain": [
       "           MORTGAGE30US\n",
       "1980-03-14          1.4"
      ]
     },
     "metadata": {},
     "output_type": "display_data"
    }
   ],
   "source": [
    "change[which.max(change)]"
   ]
  },
  {
   "cell_type": "markdown",
   "id": "0c78388d-17e4-4311-97e7-20c2b9eb2ae5",
   "metadata": {},
   "source": [
    "## Problem 3"
   ]
  },
  {
   "cell_type": "code",
   "execution_count": 17,
   "id": "5bf379f5-f46f-4ba9-950c-bab865163acf",
   "metadata": {},
   "outputs": [],
   "source": [
    "cost <- getSymbols(\"COST\", from=\"2023-01-31\", to=\"2023-03-02\", auto.assign=FALSE)\n",
    "cost_adjusted <- cost[, c('COST.Adjusted')]"
   ]
  },
  {
   "cell_type": "markdown",
   "id": "5932857e-3256-42f2-a301-1c100aab1d5d",
   "metadata": {},
   "source": [
    "#### Part a\n",
    "Last Trading Day"
   ]
  },
  {
   "cell_type": "code",
   "execution_count": 18,
   "id": "2156940f-63fe-4952-a3d4-f311bbdc5415",
   "metadata": {},
   "outputs": [],
   "source": [
    "p0 = coredata(as.vector(cost[\"2023-01-31\", \"COST.Adjusted\"]))\n",
    "p1 = coredata(as.vector(cost[\"2023-02-28\", \"COST.Adjusted\"]))"
   ]
  },
  {
   "cell_type": "markdown",
   "id": "45772fcb-74ca-43bb-bcb5-af968f602cde",
   "metadata": {},
   "source": [
    "arithmetic return"
   ]
  },
  {
   "cell_type": "code",
   "execution_count": 19,
   "id": "edb21e7f-0c2b-49e8-bc9c-97ef3f54a441",
   "metadata": {},
   "outputs": [
    {
     "data": {
      "text/html": [
       "-0.0510958717680279"
      ],
      "text/latex": [
       "-0.0510958717680279"
      ],
      "text/markdown": [
       "-0.0510958717680279"
      ],
      "text/plain": [
       "[1] -0.05109587"
      ]
     },
     "metadata": {},
     "output_type": "display_data"
    }
   ],
   "source": [
    "(p1 - p0) / p0"
   ]
  },
  {
   "cell_type": "markdown",
   "id": "69fe3428-75ea-4383-8dd4-5b2778f03add",
   "metadata": {},
   "source": [
    "log return"
   ]
  },
  {
   "cell_type": "code",
   "execution_count": 20,
   "id": "f5d1f2d9-cc11-496f-ac74-3aafd54add68",
   "metadata": {},
   "outputs": [
    {
     "data": {
      "text/html": [
       "-0.0524475094670759"
      ],
      "text/latex": [
       "-0.0524475094670759"
      ],
      "text/markdown": [
       "-0.0524475094670759"
      ],
      "text/plain": [
       "[1] -0.05244751"
      ]
     },
     "metadata": {},
     "output_type": "display_data"
    }
   ],
   "source": [
    "log(p1/p0)"
   ]
  },
  {
   "cell_type": "markdown",
   "id": "4d96e2eb-daab-4763-893a-81dd17e99b50",
   "metadata": {},
   "source": [
    "#### Part b\n",
    "First Trading Day"
   ]
  },
  {
   "cell_type": "code",
   "execution_count": 21,
   "id": "8addf0f0-f7be-4b3d-a161-688f0d58d54f",
   "metadata": {},
   "outputs": [],
   "source": [
    "p0 = coredata(as.vector(cost[\"2023-02-01\", \"COST.Adjusted\"]))\n",
    "p1 = coredata(as.vector(cost[\"2023-03-01\", \"COST.Adjusted\"]))"
   ]
  },
  {
   "cell_type": "markdown",
   "id": "967c1273-65dc-4a28-be45-16811920fe25",
   "metadata": {},
   "source": [
    "arithmetic return"
   ]
  },
  {
   "cell_type": "code",
   "execution_count": 22,
   "id": "31bd0f5a-fa11-4278-acc0-b7a1ed841499",
   "metadata": {},
   "outputs": [
    {
     "data": {
      "text/html": [
       "-0.0741570479340383"
      ],
      "text/latex": [
       "-0.0741570479340383"
      ],
      "text/markdown": [
       "-0.0741570479340383"
      ],
      "text/plain": [
       "[1] -0.07415705"
      ]
     },
     "metadata": {},
     "output_type": "display_data"
    }
   ],
   "source": [
    "(p1 - p0) / p0"
   ]
  },
  {
   "cell_type": "markdown",
   "id": "1dcccd05-62fd-4a4d-a0db-5cf52f8e94e4",
   "metadata": {},
   "source": [
    "log return"
   ]
  },
  {
   "cell_type": "code",
   "execution_count": 23,
   "id": "d7e7ad25-1a12-4eec-a9bd-a8bce91162f5",
   "metadata": {},
   "outputs": [
    {
     "data": {
      "text/html": [
       "-0.077050656920264"
      ],
      "text/latex": [
       "-0.077050656920264"
      ],
      "text/markdown": [
       "-0.077050656920264"
      ],
      "text/plain": [
       "[1] -0.07705066"
      ]
     },
     "metadata": {},
     "output_type": "display_data"
    }
   ],
   "source": [
    "log(p1/p0)"
   ]
  },
  {
   "cell_type": "markdown",
   "id": "29689422-e441-4431-ac09-f1f6d6bb2bab",
   "metadata": {},
   "source": [
    "#### Part c\n",
    "End of month pries are used in the below approach. This makes sense, since the return of a stock for the month begins when the month closes. The approach in part b (first day of the month) effectively ignores the return on the first day, but includes return on the first day of the following month."
   ]
  },
  {
   "cell_type": "code",
   "execution_count": 24,
   "id": "4b2a84fa-31f9-4792-911c-cda4b675e016",
   "metadata": {},
   "outputs": [
    {
     "data": {
      "text/plain": [
       "         cost.Adjusted\n",
       "Feb 2023   -0.05109587"
      ]
     },
     "metadata": {},
     "output_type": "display_data"
    }
   ],
   "source": [
    "na.omit(Return.calculate(to.monthly(cost)))$cost.Adjusted[\"2023-02\"]"
   ]
  }
 ],
 "metadata": {
  "kernelspec": {
   "display_name": "R",
   "language": "R",
   "name": "ir"
  },
  "language_info": {
   "codemirror_mode": "r",
   "file_extension": ".r",
   "mimetype": "text/x-r-source",
   "name": "R",
   "pygments_lexer": "r",
   "version": "4.1.3"
  }
 },
 "nbformat": 4,
 "nbformat_minor": 5
}
