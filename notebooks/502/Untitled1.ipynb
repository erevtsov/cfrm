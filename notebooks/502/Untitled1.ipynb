{
 "cells": [
  {
   "cell_type": "code",
   "execution_count": 1,
   "id": "dc480b54-39d2-4bb3-941f-ad44f3b3bc7c",
   "metadata": {},
   "outputs": [
    {
     "ename": "ModuleNotFoundError",
     "evalue": "No module named 'numpy'",
     "output_type": "error",
     "traceback": [
      "\u001b[1;31m---------------------------------------------------------------------------\u001b[0m",
      "\u001b[1;31mModuleNotFoundError\u001b[0m                       Traceback (most recent call last)",
      "Cell \u001b[1;32mIn[1], line 1\u001b[0m\n\u001b[1;32m----> 1\u001b[0m \u001b[38;5;28;01mimport\u001b[39;00m \u001b[38;5;21;01mnumpy\u001b[39;00m \u001b[38;5;28;01mas\u001b[39;00m \u001b[38;5;21;01mnp\u001b[39;00m\n\u001b[0;32m      3\u001b[0m \u001b[38;5;28;01mdef\u001b[39;00m \u001b[38;5;21mgenerate_uncorrelated_time_series\u001b[39m(N, length, expected_value, std_dev):\n\u001b[0;32m      4\u001b[0m     \u001b[38;5;66;03m# Generate N uncorrelated time series\u001b[39;00m\n\u001b[0;32m      5\u001b[0m     time_series \u001b[38;5;241m=\u001b[39m np\u001b[38;5;241m.\u001b[39mrandom\u001b[38;5;241m.\u001b[39mnormal(loc\u001b[38;5;241m=\u001b[39mexpected_value, scale\u001b[38;5;241m=\u001b[39mstd_dev, size\u001b[38;5;241m=\u001b[39m(N, length))\n",
      "\u001b[1;31mModuleNotFoundError\u001b[0m: No module named 'numpy'"
     ]
    }
   ],
   "source": [
    "import numpy as np\n",
    "\n",
    "def generate_uncorrelated_time_series(N, length, expected_value, std_dev):\n",
    "    # Generate N uncorrelated time series\n",
    "    time_series = np.random.normal(loc=expected_value, scale=std_dev, size=(N, length))\n",
    "    \n",
    "    return time_series\n",
    "\n",
    "# Parameters\n",
    "N = 5          # Number of time series\n",
    "length = 250   # Length of each time series\n",
    "expected_value = 0.06\n",
    "std_dev = 0.12\n",
    "\n",
    "# Generate uncorrelated time series\n",
    "uncorrelated_time_series = generate_uncorrelated_time_series(N, length, expected_value, std_dev)"
   ]
  },
  {
   "cell_type": "code",
   "execution_count": null,
   "id": "55f0bce1-ee0a-4493-ad03-02808a8322c2",
   "metadata": {},
   "outputs": [],
   "source": []
  }
 ],
 "metadata": {
  "kernelspec": {
   "display_name": "Python 3 (ipykernel)",
   "language": "python",
   "name": "python3"
  },
  "language_info": {
   "codemirror_mode": {
    "name": "ipython",
    "version": 3
   },
   "file_extension": ".py",
   "mimetype": "text/x-python",
   "name": "python",
   "nbconvert_exporter": "python",
   "pygments_lexer": "ipython3",
   "version": "3.11.7"
  }
 },
 "nbformat": 4,
 "nbformat_minor": 5
}
