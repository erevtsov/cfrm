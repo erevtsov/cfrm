{
 "cells": [
  {
   "cell_type": "code",
   "execution_count": 20,
   "id": "1d15ae6c-671d-4b0e-9f44-2e62f0a4fdf8",
   "metadata": {
    "tags": []
   },
   "outputs": [],
   "source": [
    "import logging\n",
    "import numpy as np\n",
    "import pandas as pd\n",
    "\n",
    "logging.basicConfig()\n",
    "\n",
    "logger = logging.getLogger('revtsov.hw3')\n",
    "logger.setLevel(logging.INFO)"
   ]
  },
  {
   "cell_type": "markdown",
   "id": "32381db1-1cb3-4018-a27e-da7bbca5581a",
   "metadata": {},
   "source": [
    "#### Please Note: You can use the same function to calculate results for problems 3.4 and 3.5. "
   ]
  },
  {
   "cell_type": "code",
   "execution_count": 26,
   "id": "ad65c413-08dc-4030-804d-05bedfcad2f7",
   "metadata": {
    "tags": []
   },
   "outputs": [],
   "source": [
    "def _portfolio_value(X, S, S0, k, p, q, u, d, r, n, expiry_type, option_type):\n",
    "    \"\"\"\n",
    "    Helper recursive function\n",
    "    \"\"\"\n",
    "    # calculate portfolio value\n",
    "    Xn_m1 = (1/(1+r)) * (p * X[:-1] + q * X[1:])\n",
    "    # calculate shares\n",
    "    Dn_m1 = (X[:-1] - X[1:]) / (S[:-1] - S[1:])\n",
    "    i = np.array(range(n+1))\n",
    "    # price\n",
    "    Sn_m1 = S0 * u**(n - i) * d**i\n",
    "    # option payoff\n",
    "    psi_S_m1 = np.maximum(Sn_m1 - k, 0) if option_type == 'call' else np.maximum(k - Sn_m1, 0)\n",
    "    Vn_m1 = np.maximum(Xn_m1, psi_S_m1) if expiry_type == 'american' else Xn_m1.copy()\n",
    "\n",
    "    logger.info(f'X({n}): {Xn_m1}')\n",
    "    logger.info(f'S({n}): {Sn_m1}')\n",
    "    logger.info(f'psi({n}): {psi_S_m1}')\n",
    "    logger.info(f'V({n}): {Vn_m1}')\n",
    "\n",
    "    if Vn_m1.shape[0] == 1:\n",
    "        return Vn_m1, Dn_m1\n",
    "    else:\n",
    "        return _portfolio_value(Vn_m1, Sn_m1, S0, k, p, q, u, d, r, n-1, expiry_type, option_type)\n",
    "\n",
    "    \n",
    "def binomial_pricing(S0: float, T: int, K: float, r: float, sigma: float, N: int, option_type: str, expiry_type: str):\n",
    "    \"\"\"\n",
    "    Price and hedge European and American put and call options\n",
    "    \n",
    "    :param S0: Initial stock price\n",
    "    :param T: Maturity date\n",
    "    :param K: Strike price\n",
    "    :param r: Risk free rate of interest\n",
    "    :param sigma: Volatility\n",
    "    :param N: Steps in binomial tree\n",
    "    :param option_type: Option type: call or put option\n",
    "    :param expiry_type: Option expiry type: american or european\n",
    "    \n",
    "    :return X0: Value of option/replicating portfolio\n",
    "    :return delta: Number of shares to hedge\n",
    "    \"\"\"\n",
    "    \n",
    "    # assert inputs\n",
    "    assert option_type in ['call', 'put']\n",
    "    assert expiry_type in ['american', 'european']    \n",
    "\n",
    "    # calculate u/d values\n",
    "    u = 1.2#np.exp(sigma*np.sqrt(T/N))\n",
    "    d = 0.8#np.exp(-1*sigma*np.sqrt(T/N))\n",
    "    # find p and q\n",
    "    p  = ((1 + r) - d) / (u - d)\n",
    "    q = (1 - p)\n",
    "\n",
    "    # determine the starting condition with leafs of the binomal tree\n",
    "    i = np.array(range(N+1))\n",
    "    # price at N\n",
    "    Sn = S0 * u**(N - i) * d**i\n",
    "    # portfolio value = option payoff\n",
    "    Xn = np.maximum(Sn - K, 0) if option_type == 'call' else np.maximum(K - Sn, 0)\n",
    "\n",
    "    logger.info(f'Starting X: {Xn}')\n",
    "    logger.info(f'Starting S: {Sn}')\n",
    "    \n",
    "    # call recursive function to find portfolio value and number of shares level by level\n",
    "    X0, d0 = _portfolio_value(Xn, Sn, S0, K, p, q, u, d, r, N-1, expiry_type, option_type)\n",
    "    logger.info(f'Value: {X0}, shares: {d0}')\n",
    "    return X0, d0"
   ]
  },
  {
   "cell_type": "markdown",
   "id": "56f7e257-ac96-4a99-b389-193a707d6e48",
   "metadata": {},
   "source": [
    "### Example Call:"
   ]
  },
  {
   "cell_type": "code",
   "execution_count": 27,
   "id": "5c8e70d8-724b-41fe-83bb-5e7851684624",
   "metadata": {
    "tags": []
   },
   "outputs": [
    {
     "name": "stderr",
     "output_type": "stream",
     "text": [
      "INFO:revtsov.hw3:Starting X: [ 0.  4. 20.]\n",
      "INFO:revtsov.hw3:Starting S: [72. 48. 32.]\n",
      "INFO:revtsov.hw3:X(1): [1.41769743 9.47668887]\n",
      "INFO:revtsov.hw3:S(1): [60. 40.]\n",
      "INFO:revtsov.hw3:psi(1): [ 0. 12.]\n",
      "INFO:revtsov.hw3:V(1): [ 1.41769743 12.        ]\n",
      "INFO:revtsov.hw3:X(0): [5.09952915]\n",
      "INFO:revtsov.hw3:S(0): [50.]\n",
      "INFO:revtsov.hw3:psi(0): [2.]\n",
      "INFO:revtsov.hw3:V(0): [5.09952915]\n",
      "INFO:revtsov.hw3:Value: [5.09952915], shares: [-0.52911513]\n"
     ]
    }
   ],
   "source": [
    "X0, d0 = binomial_pricing(S0=50, T=1, K=52, r=0.051, sigma=0.1, N=2, option_type='put', expiry_type='american')"
   ]
  },
  {
   "cell_type": "code",
   "execution_count": 28,
   "id": "0b7865a8-5506-4805-b38f-f95f6e0fc6a1",
   "metadata": {
    "tags": []
   },
   "outputs": [
    {
     "name": "stdout",
     "output_type": "stream",
     "text": [
      "[5.09952915], [-0.52911513]\n"
     ]
    }
   ],
   "source": [
    "print(f'{X0}, {d0}')"
   ]
  },
  {
   "cell_type": "code",
   "execution_count": null,
   "id": "374399ce-8fb1-447a-a028-b39f3ef9b27b",
   "metadata": {},
   "outputs": [],
   "source": []
  }
 ],
 "metadata": {
  "kernelspec": {
   "display_name": "Python 3 (ipykernel)",
   "language": "python",
   "name": "python3"
  },
  "language_info": {
   "codemirror_mode": {
    "name": "ipython",
    "version": 3
   },
   "file_extension": ".py",
   "mimetype": "text/x-python",
   "name": "python",
   "nbconvert_exporter": "python",
   "pygments_lexer": "ipython3",
   "version": "3.11.4"
  }
 },
 "nbformat": 4,
 "nbformat_minor": 5
}
