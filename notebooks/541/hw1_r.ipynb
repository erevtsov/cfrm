{
 "cells": [
  {
   "cell_type": "code",
   "execution_count": 5,
   "id": "21a1e0fd-04bc-413c-87c7-68490e6c7071",
   "metadata": {},
   "outputs": [],
   "source": [
    "library(\"MASS\")\n",
    "library(\"Ecdat\")"
   ]
  },
  {
   "cell_type": "markdown",
   "id": "4f15162e-f7c8-4bb5-a253-bac3ed59254c",
   "metadata": {},
   "source": [
    "#### Question 5.1\n",
    "In the first part we are calculating VaR and ES by using the historical return data of the S&P returns. Worth noting that VaR and ES values will be positive, even though they signify a loss to the investment. A negative VaR/ES number signifies a theoretical gain."
   ]
  },
  {
   "cell_type": "code",
   "execution_count": 11,
   "id": "6b41aeae-eb91-48c2-af82-5ea4802220c2",
   "metadata": {},
   "outputs": [],
   "source": [
    "data(\"SP500\")\n",
    "alpha = 0.95\n",
    "position_value = 1000000"
   ]
  },
  {
   "cell_type": "code",
   "execution_count": 12,
   "id": "4630f4b9-0b9c-4250-805b-0dd2aa2b019c",
   "metadata": {},
   "outputs": [
    {
     "data": {
      "text/html": [
       "'The dollar VaR of holding a $1m position in S&amp;P500 over the given time period is 16263.13 and the ES is 22560.86'"
      ],
      "text/latex": [
       "'The dollar VaR of holding a \\$1m position in S\\&P500 over the given time period is 16263.13 and the ES is 22560.86'"
      ],
      "text/markdown": [
       "'The dollar VaR of holding a $1m position in S&amp;P500 over the given time period is 16263.13 and the ES is 22560.86'"
      ],
      "text/plain": [
       "[1] \"The dollar VaR of holding a $1m position in S&P500 over the given time period is 16263.13 and the ES is 22560.86\""
      ]
     },
     "metadata": {},
     "output_type": "display_data"
    }
   ],
   "source": [
    "# calculate VaR using quantile function\n",
    "var = as.numeric(quantile(SP500$r500, probs = alpha))\n",
    "\n",
    "# ES is the expected value of the tail, i.e. all values less than or equal to VaR\n",
    "es = mean(SP500$r500[SP500$r500 >= var])\n",
    "\n",
    "# convert from percent to dollars\n",
    "dollar_var = var * position_value\n",
    "dollar_es = es * position_value\n",
    "\n",
    "sprintf('The dollar VaR of holding a $1m position in S&P500 over the given time period is %.2f and the ES is %.2f', dollar_var, dollar_es)"
   ]
  },
  {
   "cell_type": "markdown",
   "id": "635acc2e-0970-4444-a333-35f90779706c",
   "metadata": {},
   "source": [
    "#### Question 5.2\n",
    "Now we fit the return data to a T distribution. After this, we use the t-distribution quantile to calculate VaR and ES."
   ]
  },
  {
   "cell_type": "code",
   "execution_count": 13,
   "id": "12882d67-f660-4cca-bd04-6d9715024874",
   "metadata": {},
   "outputs": [
    {
     "data": {
      "text/html": [
       "'The parameters of the fitted t-distribution are: loc=0.000047, scale=0.007290, df=4.00'"
      ],
      "text/latex": [
       "'The parameters of the fitted t-distribution are: loc=0.000047, scale=0.007290, df=4.00'"
      ],
      "text/markdown": [
       "'The parameters of the fitted t-distribution are: loc=0.000047, scale=0.007290, df=4.00'"
      ],
      "text/plain": [
       "[1] \"The parameters of the fitted t-distribution are: loc=0.000047, scale=0.007290, df=4.00\""
      ]
     },
     "metadata": {},
     "output_type": "display_data"
    },
    {
     "data": {
      "text/html": [
       "'The dollar VaR of holding a $1m position in S&amp;P500 over the given time period is 15587.51 and the ES is 23395.18'"
      ],
      "text/latex": [
       "'The dollar VaR of holding a \\$1m position in S\\&P500 over the given time period is 15587.51 and the ES is 23395.18'"
      ],
      "text/markdown": [
       "'The dollar VaR of holding a $1m position in S&amp;P500 over the given time period is 15587.51 and the ES is 23395.18'"
      ],
      "text/plain": [
       "[1] \"The dollar VaR of holding a $1m position in S&P500 over the given time period is 15587.51 and the ES is 23395.18\""
      ]
     },
     "metadata": {},
     "output_type": "display_data"
    }
   ],
   "source": [
    "fit = fitdistr(SP500$r500, densfun=\"t\", lower=c(0, 0.001), start=list(m=0, s=sd(SP500$r500)**2, df = 4))\n",
    "\n",
    "# extract the distribution parameters\n",
    "mu = as.numeric(fit$estimate['m'])\n",
    "sigma = as.numeric(fit$estimate['s'])\n",
    "df = as.numeric(fit$estimate['df'])\n",
    "sprintf('The parameters of the fitted t-distribution are: loc=%.6f, scale=%.6f, df=%.2f', mu, sigma, df)\n",
    "\n",
    "# using the same formulas as Q4 to compute the analytic VaR/ES\n",
    "# but in R form\n",
    "quantile = qt(alpha, df=df)\n",
    "\n",
    "var_t = mu + sigma * quantile\n",
    "dollar_var_t = var_t * position_value\n",
    "\n",
    "es_tilda = mu + dt(quantile, df=df) / (1 - alpha) * (df + quantile**2) / (df - 1)\n",
    "es_t = mu + sigma * es_tilda\n",
    "dollar_es_t = es_t * position_value\n",
    "\n",
    "sprintf('The dollar VaR of holding a $1m position in S&P500 over the given time period is %.2f and the ES is %.2f', dollar_var_t, dollar_es_t)"
   ]
  },
  {
   "cell_type": "code",
   "execution_count": null,
   "id": "260c436f-fd15-4c02-94d4-06ee32265a61",
   "metadata": {},
   "outputs": [],
   "source": []
  }
 ],
 "metadata": {
  "kernelspec": {
   "display_name": "R",
   "language": "R",
   "name": "ir"
  },
  "language_info": {
   "codemirror_mode": "r",
   "file_extension": ".r",
   "mimetype": "text/x-r-source",
   "name": "R",
   "pygments_lexer": "r",
   "version": "4.3.3"
  }
 },
 "nbformat": 4,
 "nbformat_minor": 5
}
