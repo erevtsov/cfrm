{
 "cells": [
  {
   "cell_type": "markdown",
   "id": "0edb416e-9279-447d-bc7a-07e99c1fad37",
   "metadata": {},
   "source": [
    "## Question 2.3"
   ]
  },
  {
   "cell_type": "code",
   "execution_count": 1,
   "id": "d4b847af-773c-47e2-afd9-9436423df308",
   "metadata": {},
   "outputs": [],
   "source": [
    "library('fBasics')\n",
    "library(ggplot2)\n",
    "\n",
    "data(\"DowJones30\")\n",
    "x <- DowJones30[,2:31]"
   ]
  },
  {
   "cell_type": "code",
   "execution_count": 2,
   "id": "b5ad6841-5e9c-4226-ae71-fdd608052340",
   "metadata": {},
   "outputs": [
    {
     "name": "stdout",
     "output_type": "stream",
     "text": [
      "   Epsilon Mean_Correlation Correlations_Increased\n",
      "1  -0.0015        0.8149055                    851\n",
      "2  -0.0012        0.8146608                    854\n",
      "3  -0.0009        0.8144161                    858\n",
      "4  -0.0006        0.8141717                    844\n",
      "5  -0.0003        0.8139273                    847\n",
      "6   0.0003        0.8134391                    -30\n",
      "7   0.0006        0.8131952                    -30\n",
      "8   0.0009        0.8129515                    -30\n",
      "9   0.0012        0.8127079                    -12\n",
      "10  0.0015        0.8124645                    -30\n"
     ]
    },
    {
     "data": {
      "image/png": "[encoded data removed]",
      "text/plain": [
       "plot without title"
      ]
     },
     "metadata": {
      "image/png": {
       "height": 420,
       "width": 420
      }
     },
     "output_type": "display_data"
    },
    {
     "data": {
      "image/png": "[encoded data removed]",
      "text/plain": [
       "plot without title"
      ]
     },
     "metadata": {
      "image/png": {
       "height": 420,
       "width": 420
      }
     },
     "output_type": "display_data"
    }
   ],
   "source": [
    "# Calculate the Pearson correlation matrix\n",
    "R <- cor(x, method = \"pearson\")\n",
    "\n",
    "# Perform spectral (eigen) decomposition\n",
    "res <- eigen(R, symmetric = TRUE)\n",
    "lambda <- res$values    # Eigenvalues\n",
    "gamma <- res$vectors    # Eigenvectors\n",
    "\n",
    "# Define epsilon values: 5 negative and 5 positive\n",
    "epsilon_negatives <- seq(-0.0015, -0.0003, by = 0.0003)\n",
    "epsilon_positives <- seq(0.0003, 0.0015, by = 0.0003)\n",
    "epsilon_values <- c(epsilon_negatives, epsilon_positives)\n",
    "\n",
    "# Initialize vectors to store results\n",
    "mean_corr_original <- mean(R[upper.tri(R)])  # Exclude diagonal for mean correlation\n",
    "mean_corr_new <- numeric(length(epsilon_values))\n",
    "num_corr_increased <- numeric(length(epsilon_values))\n",
    "\n",
    "# Loop over each epsilon value\n",
    "for (i in seq_along(epsilon_values)) {\n",
    "  epsilon <- epsilon_values[i]\n",
    "  \n",
    "  # Perturb the eigenvalues\n",
    "  lambda_star <- lambda + epsilon\n",
    "  \n",
    "  # Ensure that all perturbed eigenvalues are positive\n",
    "  if (any(lambda_star <= 0)) {\n",
    "    warning(paste(\"Eigenvalues not all positive for epsilon =\", epsilon, \n",
    "                  \"- Skipping this epsilon value.\"))\n",
    "    mean_corr_new[i] <- NA\n",
    "    num_corr_increased[i] <- NA\n",
    "    next\n",
    "  }\n",
    "  \n",
    "  # Reconstruct the perturbed correlation matrix\n",
    "  R_star <- gamma %*% diag(lambda_star) %*% t(gamma)\n",
    "  \n",
    "  # Normalize to get R_bar\n",
    "  D <- diag(sqrt(diag(R_star)))\n",
    "  D_inv <- solve(D)\n",
    "  R_bar <- D_inv %*% R_star %*% D_inv\n",
    "  \n",
    "  # Calculate the mean correlation (excluding diagonal)\n",
    "  mean_corr_new[i] <- mean(R_bar[upper.tri(R_bar)])\n",
    "  \n",
    "  # Calculate the number of pairwise correlations that increased (excluding diagonal)\n",
    "  num_corr_increased[i] <- sum(R_bar > R, na.rm = TRUE) - nrow(R)\n",
    "}\n",
    "\n",
    "# Create a data frame to hold the results\n",
    "results <- data.frame(\n",
    "  Epsilon = epsilon_values,\n",
    "  Mean_Correlation = mean_corr_new,\n",
    "  Correlations_Increased = num_corr_increased\n",
    ")\n",
    "\n",
    "# Display the results\n",
    "print(results)\n",
    "\n",
    "\n",
    "# Plot for Average Correlation\n",
    "ggplot(results, aes(x = Epsilon, y = Mean_Correlation)) +\n",
    "  geom_line(color = \"blue\") +\n",
    "  geom_point(color = \"blue\") +\n",
    "  geom_hline(yintercept = mean_corr_original, linetype = \"dashed\", color = \"red\") +\n",
    "  labs(title = \"Average Correlation vs Epsilon\",\n",
    "       x = \"Epsilon\",\n",
    "       y = \"Average Correlation\") +\n",
    "  theme_minimal()\n",
    "\n",
    "# Plot for Number of Correlations Increased\n",
    "ggplot(results, aes(x = Epsilon, y = Correlations_Increased)) +\n",
    "  geom_line(color = \"green\") +\n",
    "  geom_point(color = \"green\") +\n",
    "  labs(title = \"Pairwise Correlations Increased vs Epsilon\",\n",
    "       x = \"Epsilon\",\n",
    "       y = \"Number of Correlations Increased\") +\n",
    "  theme_minimal()"
   ]
  },
  {
   "attachments": {},
   "cell_type": "markdown",
   "id": "d1dec1e5-5a70-4f53-afa5-3858b44c32d7",
   "metadata": {},
   "source": [
    "First and foremost, let's discuss why $\\lambda_1^*=\\lambda_1+\\epsilon$ may not yield a correlation matrix. Since $\\epsilon$ is a real number, it can be negative. Adding a negative number can yield negative eigen values which would mean the resulting matrix $R^*=\\Gamma \\Delta^* \\Gamma^T$ is not positive semi-definite. A valid correlation matrix must be positive semi-definite.\n",
    "\n",
    "Regarding the results of eiven value changes. A positive $\\epsilon$ decreases the average correlation. This makes sense since $\\lambda_1=1+rho(n-1)$ and $\\lambda_i=1-\\rho$, so a larger $\\lambda$ means smaller $\\rho$. A negative $\\epsilon$ yields larger average $\\rho$. Of course, we need to be careful about the size of $\\epsilon$ to keep all $\\lambda$ positive after perturbation."
   ]
  }
 ],
 "metadata": {
  "kernelspec": {
   "display_name": "R",
   "language": "R",
   "name": "ir"
  },
  "language_info": {
   "codemirror_mode": "r",
   "file_extension": ".r",
   "mimetype": "text/x-r-source",
   "name": "R",
   "pygments_lexer": "r",
   "version": "4.3.3"
  }
 },
 "nbformat": 4,
 "nbformat_minor": 5
}
