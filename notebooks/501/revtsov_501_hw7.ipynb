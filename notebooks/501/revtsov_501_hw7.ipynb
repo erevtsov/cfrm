{
 "cells": [
  {
   "cell_type": "code",
   "execution_count": 1,
   "id": "53321370-b637-4df2-bf71-709a3f3c3b58",
   "metadata": {
    "tags": []
   },
   "outputs": [],
   "source": [
    "import numpy as np\n",
    "import pandas as pd\n",
    "import scipy\n",
    "\n",
    "from sklearn.decomposition import PCA"
   ]
  },
  {
   "cell_type": "code",
   "execution_count": 2,
   "id": "604cd267-6c14-4fa1-a709-1e3d6dec76d3",
   "metadata": {
    "tags": []
   },
   "outputs": [],
   "source": [
    "data = pd.read_csv('hw7_data.csv')\n",
    "data = data.set_index('date')"
   ]
  },
  {
   "cell_type": "code",
   "execution_count": 3,
   "id": "f011eb40-7be0-4f94-9aa9-6540ff96263b",
   "metadata": {
    "tags": []
   },
   "outputs": [],
   "source": [
    "asset_cols = ['gm', 'adbe', 'ora', 'flo']\n",
    "factor_cols = ['mkt_rf', 'smb', 'hml']\n",
    "rf_col = ['rf']"
   ]
  },
  {
   "cell_type": "code",
   "execution_count": 4,
   "id": "f4d3742e-a5a3-4bde-a1e9-c9b13f311e8e",
   "metadata": {
    "tags": []
   },
   "outputs": [
    {
     "name": "stderr",
     "output_type": "stream",
     "text": [
      "C:\\Users\\yrevtsov\\AppData\\Local\\Temp\\ipykernel_40740\\3028590262.py:8: SettingWithCopyWarning: \n",
      "A value is trying to be set on a copy of a slice from a DataFrame.\n",
      "Try using .loc[row_indexer,col_indexer] = value instead\n",
      "\n",
      "See the caveats in the documentation: https://pandas.pydata.org/pandas-docs/stable/user_guide/indexing.html#returning-a-view-versus-a-copy\n",
      "  f.loc[:, 'intercept'] = 1\n"
     ]
    }
   ],
   "source": [
    "f = data[factor_cols]\n",
    "r = data[asset_cols]\n",
    "rfr = data[rf_col]\n",
    "# subtract rfr from returns based on FFC formula\n",
    "r_e = r.subtract(rfr.values)\n",
    "x = f.copy(deep=True)\n",
    "# add col of ones to F\n",
    "f.loc[:, 'intercept'] = 1\n",
    "f = f[['intercept'] + factor_cols]"
   ]
  },
  {
   "cell_type": "code",
   "execution_count": 5,
   "id": "e985843a-8ea3-47fa-b9e7-585e1e0ff6dd",
   "metadata": {
    "tags": []
   },
   "outputs": [],
   "source": [
    "b = np.linalg.inv(f.T @ f) @ f.T @ r_e\n",
    "b.index = f.columns"
   ]
  },
  {
   "cell_type": "code",
   "execution_count": 6,
   "id": "e404fab5-4e30-4151-8c4c-c20d622658a2",
   "metadata": {
    "tags": []
   },
   "outputs": [],
   "source": [
    "e = r - f @ b"
   ]
  },
  {
   "cell_type": "code",
   "execution_count": 7,
   "id": "5310b3df-1d13-4d83-8476-21df7aef6ccd",
   "metadata": {
    "tags": []
   },
   "outputs": [
    {
     "data": {
      "text/plain": [
       "gm      8.673617e-17\n",
       "adbe    1.008308e-16\n",
       "ora     8.977194e-17\n",
       "flo     9.844556e-17\n",
       "dtype: float64"
      ]
     },
     "execution_count": 7,
     "metadata": {},
     "output_type": "execute_result"
    }
   ],
   "source": [
    "(f @ b + e - r).abs().sum()"
   ]
  },
  {
   "cell_type": "markdown",
   "id": "25eae8dd-b918-4d73-abcf-fd0524bf2a17",
   "metadata": {},
   "source": [
    "### Q 1.1"
   ]
  },
  {
   "cell_type": "code",
   "execution_count": 8,
   "id": "d9c2c9dc-fce8-42f2-ada8-27f31e1ea8bd",
   "metadata": {
    "tags": []
   },
   "outputs": [
    {
     "data": {
      "text/html": [
       "<div>\n",
       "<style scoped>\n",
       "    .dataframe tbody tr th:only-of-type {\n",
       "        vertical-align: middle;\n",
       "    }\n",
       "\n",
       "    .dataframe tbody tr th {\n",
       "        vertical-align: top;\n",
       "    }\n",
       "\n",
       "    .dataframe thead th {\n",
       "        text-align: right;\n",
       "    }\n",
       "</style>\n",
       "<table border=\"1\" class=\"dataframe\">\n",
       "  <thead>\n",
       "    <tr style=\"text-align: right;\">\n",
       "      <th></th>\n",
       "      <th>gm</th>\n",
       "      <th>adbe</th>\n",
       "      <th>ora</th>\n",
       "      <th>flo</th>\n",
       "    </tr>\n",
       "  </thead>\n",
       "  <tbody>\n",
       "    <tr>\n",
       "      <th>intercept</th>\n",
       "      <td>-0.002409</td>\n",
       "      <td>0.008293</td>\n",
       "      <td>0.010312</td>\n",
       "      <td>0.004895</td>\n",
       "    </tr>\n",
       "    <tr>\n",
       "      <th>mkt_rf</th>\n",
       "      <td>1.190780</td>\n",
       "      <td>1.201222</td>\n",
       "      <td>0.590398</td>\n",
       "      <td>0.480240</td>\n",
       "    </tr>\n",
       "    <tr>\n",
       "      <th>smb</th>\n",
       "      <td>0.729088</td>\n",
       "      <td>-0.253283</td>\n",
       "      <td>0.419412</td>\n",
       "      <td>-0.273027</td>\n",
       "    </tr>\n",
       "    <tr>\n",
       "      <th>hml</th>\n",
       "      <td>0.671768</td>\n",
       "      <td>-0.557792</td>\n",
       "      <td>-0.224427</td>\n",
       "      <td>0.256518</td>\n",
       "    </tr>\n",
       "  </tbody>\n",
       "</table>\n",
       "</div>"
      ],
      "text/plain": [
       "                 gm      adbe       ora       flo\n",
       "intercept -0.002409  0.008293  0.010312  0.004895\n",
       "mkt_rf     1.190780  1.201222  0.590398  0.480240\n",
       "smb        0.729088 -0.253283  0.419412 -0.273027\n",
       "hml        0.671768 -0.557792 -0.224427  0.256518"
      ]
     },
     "execution_count": 8,
     "metadata": {},
     "output_type": "execute_result"
    }
   ],
   "source": [
    "b"
   ]
  },
  {
   "cell_type": "markdown",
   "id": "2f5a225a-56d8-46bd-b6fd-a2911fa160bd",
   "metadata": {},
   "source": [
    "### Q 1.2"
   ]
  },
  {
   "cell_type": "markdown",
   "id": "9a8cec73-edc6-4b2f-acce-57c16be3ac7b",
   "metadata": {},
   "source": [
    "As seen below, correlations of residual returns are lower than that of excess returns. This aligns with intuition. Parts of returns that correlated should also be explained by the factors of the model. Therefore, the parts that are not explained by the factors are also less correlated."
   ]
  },
  {
   "cell_type": "markdown",
   "id": "cc88d8e7-1090-427b-ac9d-f730eefe6423",
   "metadata": {},
   "source": [
    "##### excess return correlation"
   ]
  },
  {
   "cell_type": "code",
   "execution_count": 9,
   "id": "cd137726-0a14-470a-b1eb-f9f6ad4c0bc7",
   "metadata": {},
   "outputs": [
    {
     "data": {
      "text/html": [
       "<div>\n",
       "<style scoped>\n",
       "    .dataframe tbody tr th:only-of-type {\n",
       "        vertical-align: middle;\n",
       "    }\n",
       "\n",
       "    .dataframe tbody tr th {\n",
       "        vertical-align: top;\n",
       "    }\n",
       "\n",
       "    .dataframe thead th {\n",
       "        text-align: right;\n",
       "    }\n",
       "</style>\n",
       "<table border=\"1\" class=\"dataframe\">\n",
       "  <thead>\n",
       "    <tr style=\"text-align: right;\">\n",
       "      <th></th>\n",
       "      <th>gm</th>\n",
       "      <th>adbe</th>\n",
       "      <th>ora</th>\n",
       "      <th>flo</th>\n",
       "    </tr>\n",
       "  </thead>\n",
       "  <tbody>\n",
       "    <tr>\n",
       "      <th>gm</th>\n",
       "      <td>1.000000</td>\n",
       "      <td>0.409751</td>\n",
       "      <td>0.379564</td>\n",
       "      <td>0.200341</td>\n",
       "    </tr>\n",
       "    <tr>\n",
       "      <th>adbe</th>\n",
       "      <td>0.409751</td>\n",
       "      <td>1.000000</td>\n",
       "      <td>0.163720</td>\n",
       "      <td>0.195851</td>\n",
       "    </tr>\n",
       "    <tr>\n",
       "      <th>ora</th>\n",
       "      <td>0.379564</td>\n",
       "      <td>0.163720</td>\n",
       "      <td>1.000000</td>\n",
       "      <td>0.169515</td>\n",
       "    </tr>\n",
       "    <tr>\n",
       "      <th>flo</th>\n",
       "      <td>0.200341</td>\n",
       "      <td>0.195851</td>\n",
       "      <td>0.169515</td>\n",
       "      <td>1.000000</td>\n",
       "    </tr>\n",
       "  </tbody>\n",
       "</table>\n",
       "</div>"
      ],
      "text/plain": [
       "            gm      adbe       ora       flo\n",
       "gm    1.000000  0.409751  0.379564  0.200341\n",
       "adbe  0.409751  1.000000  0.163720  0.195851\n",
       "ora   0.379564  0.163720  1.000000  0.169515\n",
       "flo   0.200341  0.195851  0.169515  1.000000"
      ]
     },
     "execution_count": 9,
     "metadata": {},
     "output_type": "execute_result"
    }
   ],
   "source": [
    "r_e.corr()"
   ]
  },
  {
   "cell_type": "markdown",
   "id": "6f726994-7ac7-4dd1-9f8c-fa1c241b9219",
   "metadata": {},
   "source": [
    "##### residual return correlation"
   ]
  },
  {
   "cell_type": "code",
   "execution_count": 10,
   "id": "5090c2ed-b7ac-4759-8642-93711c875ad9",
   "metadata": {
    "tags": []
   },
   "outputs": [
    {
     "data": {
      "text/html": [
       "<div>\n",
       "<style scoped>\n",
       "    .dataframe tbody tr th:only-of-type {\n",
       "        vertical-align: middle;\n",
       "    }\n",
       "\n",
       "    .dataframe tbody tr th {\n",
       "        vertical-align: top;\n",
       "    }\n",
       "\n",
       "    .dataframe thead th {\n",
       "        text-align: right;\n",
       "    }\n",
       "</style>\n",
       "<table border=\"1\" class=\"dataframe\">\n",
       "  <thead>\n",
       "    <tr style=\"text-align: right;\">\n",
       "      <th></th>\n",
       "      <th>gm</th>\n",
       "      <th>adbe</th>\n",
       "      <th>ora</th>\n",
       "      <th>flo</th>\n",
       "    </tr>\n",
       "  </thead>\n",
       "  <tbody>\n",
       "    <tr>\n",
       "      <th>gm</th>\n",
       "      <td>1.000000</td>\n",
       "      <td>0.130282</td>\n",
       "      <td>0.238472</td>\n",
       "      <td>0.009456</td>\n",
       "    </tr>\n",
       "    <tr>\n",
       "      <th>adbe</th>\n",
       "      <td>0.130282</td>\n",
       "      <td>1.000000</td>\n",
       "      <td>-0.141852</td>\n",
       "      <td>0.051144</td>\n",
       "    </tr>\n",
       "    <tr>\n",
       "      <th>ora</th>\n",
       "      <td>0.238472</td>\n",
       "      <td>-0.141852</td>\n",
       "      <td>1.000000</td>\n",
       "      <td>0.109211</td>\n",
       "    </tr>\n",
       "    <tr>\n",
       "      <th>flo</th>\n",
       "      <td>0.009456</td>\n",
       "      <td>0.051144</td>\n",
       "      <td>0.109211</td>\n",
       "      <td>1.000000</td>\n",
       "    </tr>\n",
       "  </tbody>\n",
       "</table>\n",
       "</div>"
      ],
      "text/plain": [
       "            gm      adbe       ora       flo\n",
       "gm    1.000000  0.130282  0.238472  0.009456\n",
       "adbe  0.130282  1.000000 -0.141852  0.051144\n",
       "ora   0.238472 -0.141852  1.000000  0.109211\n",
       "flo   0.009456  0.051144  0.109211  1.000000"
      ]
     },
     "execution_count": 10,
     "metadata": {},
     "output_type": "execute_result"
    }
   ],
   "source": [
    "e.corr()"
   ]
  },
  {
   "cell_type": "markdown",
   "id": "96521e07-be67-4986-9499-bbdaad0e8824",
   "metadata": {},
   "source": [
    "### Q 1.3"
   ]
  },
  {
   "cell_type": "code",
   "execution_count": 11,
   "id": "836235cd-c1b7-42a1-bdf8-777468ed7dbf",
   "metadata": {
    "tags": []
   },
   "outputs": [],
   "source": [
    "sigma = r.cov()\n",
    "\n",
    "mu = r.mean()\n",
    "\n",
    "eigval, eigvec = scipy.linalg.eig(sigma)\n",
    "\n",
    "y = np.matmul((r - mu), eigvec.T)\n",
    "\n",
    "# get top 2 eigen vectors\n",
    "gamma = eigvec[:, 0:2]\n",
    "\n",
    "# get top 2 PCs\n",
    "e_pca = r - (y[[0, 1]] @ gamma.T + mu.values).values"
   ]
  },
  {
   "cell_type": "markdown",
   "id": "bc8f08f9-bb1a-4793-803c-2f2b7bdb6d90",
   "metadata": {},
   "source": [
    "##### mean (mu)"
   ]
  },
  {
   "cell_type": "code",
   "execution_count": 12,
   "id": "576c507b-1973-43ab-b607-18a6a8f2e652",
   "metadata": {
    "tags": []
   },
   "outputs": [
    {
     "data": {
      "text/plain": [
       "gm      0.008983\n",
       "adbe    0.020731\n",
       "ora     0.016583\n",
       "flo     0.009865\n",
       "dtype: float64"
      ]
     },
     "execution_count": 12,
     "metadata": {},
     "output_type": "execute_result"
    }
   ],
   "source": [
    "mu"
   ]
  },
  {
   "cell_type": "markdown",
   "id": "0965a770-dc51-4388-9b71-d292daec4fb7",
   "metadata": {},
   "source": [
    "##### gamma (eigenvectors/principal components)"
   ]
  },
  {
   "cell_type": "code",
   "execution_count": 13,
   "id": "b1e808c0-88c1-4ccb-809e-55192e2b48f9",
   "metadata": {
    "tags": []
   },
   "outputs": [
    {
     "data": {
      "text/plain": [
       "array([[ 0.71899768,  0.55471646],\n",
       "       [ 0.42234415, -0.69509997],\n",
       "       [ 0.49612657, -0.35359037],\n",
       "       [ 0.24192184,  0.28999919]])"
      ]
     },
     "execution_count": 13,
     "metadata": {},
     "output_type": "execute_result"
    }
   ],
   "source": [
    "gamma"
   ]
  },
  {
   "cell_type": "markdown",
   "id": "749f7f27-2639-4700-9755-1ceff0efeac9",
   "metadata": {},
   "source": [
    "##### covariance matrix of error term"
   ]
  },
  {
   "cell_type": "code",
   "execution_count": 14,
   "id": "5adacb9e-3619-4920-9a18-98e4f018aa38",
   "metadata": {
    "tags": []
   },
   "outputs": [
    {
     "data": {
      "text/html": [
       "<div>\n",
       "<style scoped>\n",
       "    .dataframe tbody tr th:only-of-type {\n",
       "        vertical-align: middle;\n",
       "    }\n",
       "\n",
       "    .dataframe tbody tr th {\n",
       "        vertical-align: top;\n",
       "    }\n",
       "\n",
       "    .dataframe thead th {\n",
       "        text-align: right;\n",
       "    }\n",
       "</style>\n",
       "<table border=\"1\" class=\"dataframe\">\n",
       "  <thead>\n",
       "    <tr style=\"text-align: right;\">\n",
       "      <th></th>\n",
       "      <th>gm</th>\n",
       "      <th>adbe</th>\n",
       "      <th>ora</th>\n",
       "      <th>flo</th>\n",
       "    </tr>\n",
       "  </thead>\n",
       "  <tbody>\n",
       "    <tr>\n",
       "      <th>gm</th>\n",
       "      <td>0.001402</td>\n",
       "      <td>-0.000420</td>\n",
       "      <td>-0.001406</td>\n",
       "      <td>-0.001692</td>\n",
       "    </tr>\n",
       "    <tr>\n",
       "      <th>adbe</th>\n",
       "      <td>-0.000420</td>\n",
       "      <td>0.001125</td>\n",
       "      <td>-0.001365</td>\n",
       "      <td>0.001260</td>\n",
       "    </tr>\n",
       "    <tr>\n",
       "      <th>ora</th>\n",
       "      <td>-0.001406</td>\n",
       "      <td>-0.001365</td>\n",
       "      <td>0.004860</td>\n",
       "      <td>0.000133</td>\n",
       "    </tr>\n",
       "    <tr>\n",
       "      <th>flo</th>\n",
       "      <td>-0.001692</td>\n",
       "      <td>0.001260</td>\n",
       "      <td>0.000133</td>\n",
       "      <td>0.003050</td>\n",
       "    </tr>\n",
       "  </tbody>\n",
       "</table>\n",
       "</div>"
      ],
      "text/plain": [
       "            gm      adbe       ora       flo\n",
       "gm    0.001402 -0.000420 -0.001406 -0.001692\n",
       "adbe -0.000420  0.001125 -0.001365  0.001260\n",
       "ora  -0.001406 -0.001365  0.004860  0.000133\n",
       "flo  -0.001692  0.001260  0.000133  0.003050"
      ]
     },
     "execution_count": 14,
     "metadata": {},
     "output_type": "execute_result"
    }
   ],
   "source": [
    "e_pca.cov()"
   ]
  },
  {
   "cell_type": "markdown",
   "id": "12746ce0-5e86-464d-9eeb-916b3414cc62",
   "metadata": {},
   "source": [
    "### Q 1.4"
   ]
  },
  {
   "cell_type": "markdown",
   "id": "cc4bc077-050a-45dc-8feb-30f68e43f42f",
   "metadata": {},
   "source": [
    "As seen below, there's a -.75 correlation between the first principal component and market return. The scatter plot also shows a linear relationship. At first this seemed unintuitive to me as I expected a positive correlation. However, taking the eigen vectors and regression coefficients into account, the results make more sense. The first eigen vector is negative while the market factor coefficients from the regression are positive. \n",
    "\n",
    "Even though principal components do not have direct real-world explanations, this analysis shows that the first principal components can be thought of a market exposure of the assets."
   ]
  },
  {
   "cell_type": "code",
   "execution_count": 15,
   "id": "2f41a67a-70de-4e1d-abe8-f85edbecbbf6",
   "metadata": {
    "tags": []
   },
   "outputs": [],
   "source": [
    "# create df from the first PC and market factor + risk free rate\n",
    "mkt = y[0].rename('First PC').to_frame().join((f.mkt_rf + rfr.squeeze()).rename('Market'), how='inner')"
   ]
  },
  {
   "cell_type": "code",
   "execution_count": 16,
   "id": "b3db757f-3f7f-444d-a36d-b7b22b720b49",
   "metadata": {
    "tags": []
   },
   "outputs": [
    {
     "data": {
      "text/html": [
       "<div>\n",
       "<style scoped>\n",
       "    .dataframe tbody tr th:only-of-type {\n",
       "        vertical-align: middle;\n",
       "    }\n",
       "\n",
       "    .dataframe tbody tr th {\n",
       "        vertical-align: top;\n",
       "    }\n",
       "\n",
       "    .dataframe thead th {\n",
       "        text-align: right;\n",
       "    }\n",
       "</style>\n",
       "<table border=\"1\" class=\"dataframe\">\n",
       "  <thead>\n",
       "    <tr style=\"text-align: right;\">\n",
       "      <th></th>\n",
       "      <th>First PC</th>\n",
       "      <th>Market</th>\n",
       "    </tr>\n",
       "  </thead>\n",
       "  <tbody>\n",
       "    <tr>\n",
       "      <th>First PC</th>\n",
       "      <td>1.000000</td>\n",
       "      <td>0.773353</td>\n",
       "    </tr>\n",
       "    <tr>\n",
       "      <th>Market</th>\n",
       "      <td>0.773353</td>\n",
       "      <td>1.000000</td>\n",
       "    </tr>\n",
       "  </tbody>\n",
       "</table>\n",
       "</div>"
      ],
      "text/plain": [
       "          First PC    Market\n",
       "First PC  1.000000  0.773353\n",
       "Market    0.773353  1.000000"
      ]
     },
     "execution_count": 16,
     "metadata": {},
     "output_type": "execute_result"
    }
   ],
   "source": [
    "mkt.corr()"
   ]
  },
  {
   "cell_type": "code",
   "execution_count": 17,
   "id": "a72c74f3-17a9-4815-8522-2bc9e2c00c0c",
   "metadata": {
    "tags": []
   },
   "outputs": [
    {
     "data": {
      "text/plain": [
       "<Axes: title={'center': 'First PC vs Market'}, xlabel='First PC', ylabel='Market'>"
      ]
     },
     "execution_count": 17,
     "metadata": {},
     "output_type": "execute_result"
    },
    {
     "data": {
      "image/png": "[encoded data removed]",
      "text/plain": [
       "<Figure size 640x480 with 1 Axes>"
      ]
     },
     "metadata": {},
     "output_type": "display_data"
    }
   ],
   "source": [
    "mkt.plot.scatter(x='First PC', y='Market', title='First PC vs Market')"
   ]
  },
  {
   "cell_type": "markdown",
   "id": "610eff3f-d548-4f76-9daf-566bb9adc395",
   "metadata": {},
   "source": [
    "### Q 1.5"
   ]
  },
  {
   "cell_type": "markdown",
   "id": "a9179d53-505c-4b84-b0cb-5ded24a3a848",
   "metadata": {},
   "source": [
    "Principal components are uncorrelated by definition of the transformation. The residuals are made up of the remaining principal components. Therefore, the residuals will be uncorrelated with other principal components. This is empirically shown below."
   ]
  },
  {
   "cell_type": "code",
   "execution_count": 18,
   "id": "96228be2-f31d-4ae1-8893-45bfaebceb61",
   "metadata": {
    "tags": []
   },
   "outputs": [
    {
     "data": {
      "text/html": [
       "<div>\n",
       "<style scoped>\n",
       "    .dataframe tbody tr th:only-of-type {\n",
       "        vertical-align: middle;\n",
       "    }\n",
       "\n",
       "    .dataframe tbody tr th {\n",
       "        vertical-align: top;\n",
       "    }\n",
       "\n",
       "    .dataframe thead th {\n",
       "        text-align: right;\n",
       "    }\n",
       "</style>\n",
       "<table border=\"1\" class=\"dataframe\">\n",
       "  <thead>\n",
       "    <tr style=\"text-align: right;\">\n",
       "      <th></th>\n",
       "      <th>0</th>\n",
       "      <th>1</th>\n",
       "    </tr>\n",
       "  </thead>\n",
       "  <tbody>\n",
       "    <tr>\n",
       "      <th>gm</th>\n",
       "      <td>-0.094880</td>\n",
       "      <td>-0.316398</td>\n",
       "    </tr>\n",
       "    <tr>\n",
       "      <th>adbe</th>\n",
       "      <td>0.360774</td>\n",
       "      <td>0.019762</td>\n",
       "    </tr>\n",
       "    <tr>\n",
       "      <th>ora</th>\n",
       "      <td>-0.032065</td>\n",
       "      <td>0.355887</td>\n",
       "    </tr>\n",
       "    <tr>\n",
       "      <th>flo</th>\n",
       "      <td>-0.082955</td>\n",
       "      <td>0.335408</td>\n",
       "    </tr>\n",
       "    <tr>\n",
       "      <th>0</th>\n",
       "      <td>1.000000</td>\n",
       "      <td>0.142470</td>\n",
       "    </tr>\n",
       "    <tr>\n",
       "      <th>1</th>\n",
       "      <td>0.142470</td>\n",
       "      <td>1.000000</td>\n",
       "    </tr>\n",
       "    <tr>\n",
       "      <th>2</th>\n",
       "      <td>-0.013048</td>\n",
       "      <td>-0.051766</td>\n",
       "    </tr>\n",
       "    <tr>\n",
       "      <th>3</th>\n",
       "      <td>-0.114979</td>\n",
       "      <td>-0.122577</td>\n",
       "    </tr>\n",
       "  </tbody>\n",
       "</table>\n",
       "</div>"
      ],
      "text/plain": [
       "             0         1\n",
       "gm   -0.094880 -0.316398\n",
       "adbe  0.360774  0.019762\n",
       "ora  -0.032065  0.355887\n",
       "flo  -0.082955  0.335408\n",
       "0     1.000000  0.142470\n",
       "1     0.142470  1.000000\n",
       "2    -0.013048 -0.051766\n",
       "3    -0.114979 -0.122577"
      ]
     },
     "execution_count": 18,
     "metadata": {},
     "output_type": "execute_result"
    }
   ],
   "source": [
    "e_pca.join(y, how='inner').corr()[[0, 1]].round(10)"
   ]
  },
  {
   "cell_type": "code",
   "execution_count": null,
   "id": "282ec162-2976-489a-886c-007930714e86",
   "metadata": {},
   "outputs": [],
   "source": []
  }
 ],
 "metadata": {
  "kernelspec": {
   "display_name": "Python 3 (ipykernel)",
   "language": "python",
   "name": "python3"
  },
  "language_info": {
   "codemirror_mode": {
    "name": "ipython",
    "version": 3
   },
   "file_extension": ".py",
   "mimetype": "text/x-python",
   "name": "python",
   "nbconvert_exporter": "python",
   "pygments_lexer": "ipython3",
   "version": "3.11.4"
  }
 },
 "nbformat": 4,
 "nbformat_minor": 5
}
