{
 "cells": [
  {
   "cell_type": "code",
   "execution_count": 235,
   "id": "e9559b9d-91b6-4494-8feb-df17f0fd84d0",
   "metadata": {
    "tags": []
   },
   "outputs": [],
   "source": [
    "import scipy\n",
    "import numpy as np\n",
    "import pandas as pd"
   ]
  },
  {
   "cell_type": "code",
   "execution_count": 236,
   "id": "f70781d1-25ad-4d00-8132-c214252c4580",
   "metadata": {
    "tags": []
   },
   "outputs": [],
   "source": [
    "X = np.array([[1.03, 1.03, 1.03, 1.03], [3, 4, 2, 5], [2, 1, 4, 2]])\n",
    "\n",
    "p = np.array([1.0194, 3.4045, 2.4917])"
   ]
  },
  {
   "cell_type": "markdown",
   "id": "fe448128-abf8-4095-8ea0-2af1ff3bd9dc",
   "metadata": {
    "tags": []
   },
   "source": [
    "#### Question 1.1"
   ]
  },
  {
   "cell_type": "markdown",
   "id": "ffe869d6-a2cd-4660-9ccc-3c161e70af15",
   "metadata": {},
   "source": [
    "The risk free rate r is:"
   ]
  },
  {
   "cell_type": "code",
   "execution_count": 237,
   "id": "403e9b0d-2692-455e-9345-25a34081effa",
   "metadata": {
    "tags": []
   },
   "outputs": [
    {
     "data": {
      "text/plain": [
       "0.0106"
      ]
     },
     "execution_count": 237,
     "metadata": {},
     "output_type": "execute_result"
    }
   ],
   "source": [
    "r = X[0, 0] - p[0]\n",
    "r = round(r, 4)\n",
    "r"
   ]
  },
  {
   "cell_type": "markdown",
   "id": "4f409cdb-e251-4fe5-be50-5a1311f9193d",
   "metadata": {},
   "source": [
    "#### Queston 1.4"
   ]
  },
  {
   "cell_type": "code",
   "execution_count": 238,
   "id": "f01fb788-a5a3-4d7d-8b47-c46075e920b4",
   "metadata": {
    "tags": []
   },
   "outputs": [
    {
     "name": "stderr",
     "output_type": "stream",
     "text": [
      "C:\\Users\\yrevtsov\\AppData\\Local\\Temp\\ipykernel_25700\\3935164208.py:1: FutureWarning: `rcond` parameter will change to the default of machine precision times ``max(M, N)`` where M and N are the input matrix dimensions.\n",
      "To use the future default and silence this warning we advise to pass `rcond=None`, to keep using the old, explicitly pass `rcond=-1`.\n",
      "  soln = np.linalg.lstsq(X, p)\n"
     ]
    },
    {
     "data": {
      "text/plain": [
       "(array([0.19514422, 0.15413259, 0.33320756, 0.30722438]),\n",
       " array([], dtype=float64),\n",
       " 3,\n",
       " array([8.67020663, 2.82663493, 0.28504733]))"
      ]
     },
     "execution_count": 238,
     "metadata": {},
     "output_type": "execute_result"
    }
   ],
   "source": [
    "soln = np.linalg.lstsq(X, p)\n",
    "soln"
   ]
  },
  {
   "cell_type": "code",
   "execution_count": 239,
   "id": "b6c6eade-fd95-4738-92c8-962c41f471e1",
   "metadata": {
    "tags": []
   },
   "outputs": [
    {
     "data": {
      "text/plain": [
       "array([0.19514422, 0.15413259, 0.33320756, 0.30722438])"
      ]
     },
     "execution_count": 239,
     "metadata": {},
     "output_type": "execute_result"
    }
   ],
   "source": [
    "pi = soln[0]\n",
    "pi"
   ]
  },
  {
   "cell_type": "code",
   "execution_count": 240,
   "id": "99e90737-6962-497f-a528-a11172a07230",
   "metadata": {
    "tags": []
   },
   "outputs": [],
   "source": [
    "m = scipy.linalg.null_space(X).flatten()\n",
    "\n",
    "m = m / np.abs(m).min()"
   ]
  },
  {
   "cell_type": "code",
   "execution_count": 241,
   "id": "9e0aa267-c9f4-49a2-8b2c-8c31f37e1047",
   "metadata": {
    "tags": []
   },
   "outputs": [
    {
     "data": {
      "text/plain": [
       "array([-5.,  4.,  2., -1.])"
      ]
     },
     "execution_count": 241,
     "metadata": {},
     "output_type": "execute_result"
    }
   ],
   "source": [
    "m"
   ]
  },
  {
   "cell_type": "code",
   "execution_count": 242,
   "id": "06a8ad38-dfc5-46ad-bf91-5895642d6b74",
   "metadata": {
    "tags": []
   },
   "outputs": [
    {
     "data": {
      "text/plain": [
       "array([ 0.03902884, -0.03853315, -0.16660378,  0.30722438])"
      ]
     },
     "execution_count": 242,
     "metadata": {},
     "output_type": "execute_result"
    }
   ],
   "source": [
    "res = (pi / (m*-1))\n",
    "res"
   ]
  },
  {
   "cell_type": "code",
   "execution_count": 243,
   "id": "6e553214-24cd-4ca9-bf2e-77fa171f6631",
   "metadata": {
    "tags": []
   },
   "outputs": [],
   "source": [
    "a_min = res[1]\n",
    "a_max = res[0]"
   ]
  },
  {
   "cell_type": "code",
   "execution_count": 244,
   "id": "aa3e1526-925e-48cf-aa4f-84216e7a754a",
   "metadata": {
    "tags": []
   },
   "outputs": [
    {
     "data": {
      "text/plain": [
       "-0.0385331468974251"
      ]
     },
     "execution_count": 244,
     "metadata": {},
     "output_type": "execute_result"
    }
   ],
   "source": [
    "a_min"
   ]
  },
  {
   "cell_type": "code",
   "execution_count": 245,
   "id": "0edefb67-af78-4802-b03c-42079ae90ddc",
   "metadata": {
    "tags": []
   },
   "outputs": [
    {
     "data": {
      "text/plain": [
       "0.03902884339383697"
      ]
     },
     "execution_count": 245,
     "metadata": {},
     "output_type": "execute_result"
    }
   ],
   "source": [
    "a_max"
   ]
  },
  {
   "cell_type": "markdown",
   "id": "3c00bc8b-0936-4ba8-9093-518a79d44f4f",
   "metadata": {},
   "source": [
    "#### 1.7"
   ]
  },
  {
   "cell_type": "code",
   "execution_count": 246,
   "id": "53f67757-82a4-409a-bc8b-70ed933679e1",
   "metadata": {
    "tags": []
   },
   "outputs": [],
   "source": [
    "K = 4.5"
   ]
  },
  {
   "cell_type": "code",
   "execution_count": 247,
   "id": "f0cc9461-7cd1-448e-905d-b31b7b7f0403",
   "metadata": {
    "tags": []
   },
   "outputs": [
    {
     "data": {
      "text/plain": [
       "array([0. , 0. , 0. , 0.5])"
      ]
     },
     "execution_count": 247,
     "metadata": {},
     "output_type": "execute_result"
    }
   ],
   "source": [
    "c = np.maximum(X[1, :] - K, 0)\n",
    "c"
   ]
  },
  {
   "cell_type": "code",
   "execution_count": 248,
   "id": "b282e22e-9245-419a-8fd4-3fe5b1fb6ea9",
   "metadata": {
    "tags": []
   },
   "outputs": [
    {
     "data": {
      "text/plain": [
       "0.1728787621359219"
      ]
     },
     "execution_count": 248,
     "metadata": {},
     "output_type": "execute_result"
    }
   ],
   "source": [
    "ask = c @ (pi + m*a_min)\n",
    "ask"
   ]
  },
  {
   "cell_type": "code",
   "execution_count": 249,
   "id": "27e90be9-5eea-44b1-8488-750cac236093",
   "metadata": {
    "tags": []
   },
   "outputs": [
    {
     "data": {
      "text/plain": [
       "array([0.        , 0.31024796, 0.41126524, 0.26819553])"
      ]
     },
     "execution_count": 249,
     "metadata": {},
     "output_type": "execute_result"
    }
   ],
   "source": [
    "(pi + m*a_max)"
   ]
  },
  {
   "cell_type": "code",
   "execution_count": 250,
   "id": "53aa7067-a828-4a25-b305-9c9d73427cac",
   "metadata": {
    "tags": []
   },
   "outputs": [
    {
     "data": {
      "text/plain": [
       "0.15361218868720936"
      ]
     },
     "execution_count": 250,
     "metadata": {},
     "output_type": "execute_result"
    }
   ],
   "source": [
    "c @ (pi + m*0)"
   ]
  },
  {
   "cell_type": "code",
   "execution_count": 251,
   "id": "8ed88911-048f-49bb-83c6-8575d62f14a1",
   "metadata": {
    "tags": []
   },
   "outputs": [
    {
     "data": {
      "text/plain": [
       "0.13409776699029086"
      ]
     },
     "execution_count": 251,
     "metadata": {},
     "output_type": "execute_result"
    }
   ],
   "source": [
    "bid = c @ (pi + m*a_max)\n",
    "bid"
   ]
  },
  {
   "cell_type": "code",
   "execution_count": 252,
   "id": "1c3465aa-c3d0-4e6f-8954-47515167c592",
   "metadata": {
    "tags": []
   },
   "outputs": [
    {
     "data": {
      "text/plain": [
       "0.25266423629206075"
      ]
     },
     "execution_count": 252,
     "metadata": {},
     "output_type": "execute_result"
    }
   ],
   "source": [
    "(ask-bid)/np.average([bid, ask])"
   ]
  },
  {
   "cell_type": "code",
   "execution_count": 253,
   "id": "f7cc8eef-ccd1-4830-8366-ab702143d5d8",
   "metadata": {
    "tags": []
   },
   "outputs": [
    {
     "data": {
      "text/plain": [
       "array([0.09514422, 0.23413259, 0.37320756, 0.28722438])"
      ]
     },
     "execution_count": 253,
     "metadata": {},
     "output_type": "execute_result"
    }
   ],
   "source": [
    "pi + m * a"
   ]
  },
  {
   "cell_type": "code",
   "execution_count": 254,
   "id": "e71c504c-ec37-42ab-8dc7-683dd619ed93",
   "metadata": {
    "tags": []
   },
   "outputs": [
    {
     "data": {
      "text/plain": [
       "array([-1.55431223e-15,  0.00000000e+00,  8.88178420e-16])"
      ]
     },
     "execution_count": 254,
     "metadata": {},
     "output_type": "execute_result"
    }
   ],
   "source": [
    "X @ m"
   ]
  },
  {
   "cell_type": "code",
   "execution_count": 255,
   "id": "b7373cae-3f31-4a33-8cc9-f84b14f56e43",
   "metadata": {
    "tags": []
   },
   "outputs": [
    {
     "data": {
      "text/plain": [
       "array([0.1951, 0.1541, 0.3332, 0.3072])"
      ]
     },
     "execution_count": 255,
     "metadata": {},
     "output_type": "execute_result"
    }
   ],
   "source": [
    "pi.round(4)"
   ]
  },
  {
   "cell_type": "code",
   "execution_count": 256,
   "id": "9ccff890-c08f-4847-a241-9d7034de0d0f",
   "metadata": {
    "tags": []
   },
   "outputs": [
    {
     "data": {
      "text/plain": [
       "array([-5.,  4.,  2., -1.])"
      ]
     },
     "execution_count": 256,
     "metadata": {},
     "output_type": "execute_result"
    }
   ],
   "source": [
    "m"
   ]
  },
  {
   "cell_type": "code",
   "execution_count": 257,
   "id": "ef1df5d4-d905-4182-b41d-de2665ba84f2",
   "metadata": {
    "tags": []
   },
   "outputs": [
    {
     "data": {
      "text/plain": [
       "array([1.0194, 3.4045, 2.4917])"
      ]
     },
     "execution_count": 257,
     "metadata": {},
     "output_type": "execute_result"
    }
   ],
   "source": [
    "X @ (pi+m*0.22)"
   ]
  },
  {
   "cell_type": "markdown",
   "id": "eee5f89f-f363-4619-96ea-f288a944fe5f",
   "metadata": {},
   "source": [
    "### Test"
   ]
  },
  {
   "cell_type": "markdown",
   "id": "d24c5690-0391-4247-811c-f88f10497b18",
   "metadata": {},
   "source": [
    "### Misc"
   ]
  },
  {
   "cell_type": "markdown",
   "id": "79d06ce3-e8ea-468c-b507-c374b0319271",
   "metadata": {},
   "source": [
    "payoff of portfolio at t1 for different states based on a set of weights"
   ]
  },
  {
   "cell_type": "code",
   "execution_count": 258,
   "id": "7ee0ed45-f735-43c2-8a2f-cea6e5d83daf",
   "metadata": {
    "tags": []
   },
   "outputs": [],
   "source": [
    "theta = np.array([1.77, -0.28, -0.26])"
   ]
  },
  {
   "cell_type": "code",
   "execution_count": 259,
   "id": "d6b05147-08b2-47de-b198-8106cf4934bb",
   "metadata": {
    "tags": []
   },
   "outputs": [
    {
     "data": {
      "text/plain": [
       "array([ 0.4631,  0.4431,  0.2231, -0.0969])"
      ]
     },
     "execution_count": 259,
     "metadata": {},
     "output_type": "execute_result"
    }
   ],
   "source": [
    "theta.T @ X"
   ]
  },
  {
   "cell_type": "markdown",
   "id": "191c59e3-8fdc-4f93-b2d2-23c36c4501c9",
   "metadata": {},
   "source": [
    "value/price of portfolio at t0"
   ]
  },
  {
   "cell_type": "code",
   "execution_count": 260,
   "id": "5e031182-6df7-4613-b393-c7b30f3a74ec",
   "metadata": {
    "tags": []
   },
   "outputs": [
    {
     "data": {
      "text/plain": [
       "0.20323600000000008"
      ]
     },
     "execution_count": 260,
     "metadata": {},
     "output_type": "execute_result"
    }
   ],
   "source": [
    "theta.T @ p"
   ]
  },
  {
   "cell_type": "code",
   "execution_count": 261,
   "id": "db3a4270-2a4f-42a2-a91f-a937f1c49620",
   "metadata": {
    "tags": []
   },
   "outputs": [
    {
     "data": {
      "text/plain": [
       "0.20323600000000075"
      ]
     },
     "execution_count": 261,
     "metadata": {},
     "output_type": "execute_result"
    }
   ],
   "source": [
    "theta.T @ X @ pi"
   ]
  },
  {
   "cell_type": "code",
   "execution_count": 263,
   "id": "00df5d4e-f154-4eab-a8ef-d8ac55ffb101",
   "metadata": {
    "tags": []
   },
   "outputs": [
    {
     "data": {
      "text/plain": [
       "array([ 0.2577097,  0.2377097,  0.0177097, -0.3022903])"
      ]
     },
     "execution_count": 263,
     "metadata": {},
     "output_type": "execute_result"
    }
   ],
   "source": [
    "# \n",
    "theta.T @ (X - (np.array([p]).T*(1+r)))"
   ]
  },
  {
   "cell_type": "code",
   "execution_count": 264,
   "id": "74a253f4-bdc4-4685-b4f0-29695c28eec4",
   "metadata": {},
   "outputs": [
    {
     "data": {
      "text/plain": [
       "array([ 0.4631,  0.4431,  0.2231, -0.0969])"
      ]
     },
     "execution_count": 264,
     "metadata": {},
     "output_type": "execute_result"
    }
   ],
   "source": [
    "theta.T @ X"
   ]
  },
  {
   "cell_type": "code",
   "execution_count": 265,
   "id": "e359a5be-7b80-4984-93fc-20b8a067ab45",
   "metadata": {
    "tags": []
   },
   "outputs": [
    {
     "data": {
      "text/plain": [
       "array([ 1.77, -0.28, -0.26])"
      ]
     },
     "execution_count": 265,
     "metadata": {},
     "output_type": "execute_result"
    }
   ],
   "source": [
    "theta"
   ]
  },
  {
   "cell_type": "code",
   "execution_count": 266,
   "id": "d165824c-b1c1-4fd7-863d-d401d729d009",
   "metadata": {
    "tags": []
   },
   "outputs": [
    {
     "data": {
      "text/plain": [
       "array([[ 1.82346398, -0.28845758, -0.26785347],\n",
       "       [ 6.08984023, -0.96336456, -0.8945528 ],\n",
       "       [ 4.45705828, -0.70507137, -0.65470913]])"
      ]
     },
     "execution_count": 266,
     "metadata": {},
     "output_type": "execute_result"
    }
   ],
   "source": [
    "theta * (np.array([p]).T*(1+r))"
   ]
  },
  {
   "cell_type": "code",
   "execution_count": 267,
   "id": "467a692b-9df8-4713-8bf5-ac53722bf8e4",
   "metadata": {
    "tags": []
   },
   "outputs": [
    {
     "data": {
      "text/plain": [
       "(3,)"
      ]
     },
     "execution_count": 267,
     "metadata": {},
     "output_type": "execute_result"
    }
   ],
   "source": [
    "theta.shape"
   ]
  },
  {
   "cell_type": "code",
   "execution_count": 268,
   "id": "c8585792-820c-44b7-91d5-dacc70482fa1",
   "metadata": {
    "tags": []
   },
   "outputs": [
    {
     "data": {
      "text/plain": [
       "array([[1.0194, 1.0194, 1.0194, 1.0194],\n",
       "       [3.4045, 3.4045, 3.4045, 3.4045],\n",
       "       [2.4917, 2.4917, 2.4917, 2.4917]])"
      ]
     },
     "execution_count": 268,
     "metadata": {},
     "output_type": "execute_result"
    }
   ],
   "source": [
    "np.array([p]).T * np.ones([1, 4])"
   ]
  },
  {
   "cell_type": "code",
   "execution_count": 269,
   "id": "e681d448-dbb1-48ca-a0d5-83e09b355ca7",
   "metadata": {
    "tags": []
   },
   "outputs": [
    {
     "data": {
      "text/plain": [
       "array([ 0.4631,  0.4431,  0.2231, -0.0969])"
      ]
     },
     "execution_count": 269,
     "metadata": {},
     "output_type": "execute_result"
    }
   ],
   "source": [
    "theta @ X"
   ]
  },
  {
   "cell_type": "code",
   "execution_count": 270,
   "id": "6f1bd789-bec4-4025-922b-e7bef1ae740b",
   "metadata": {
    "tags": []
   },
   "outputs": [
    {
     "data": {
      "text/plain": [
       "array([0.203236, 0.203236, 0.203236, 0.203236])"
      ]
     },
     "execution_count": 270,
     "metadata": {},
     "output_type": "execute_result"
    }
   ],
   "source": [
    "theta @ (np.array([p]).T * np.ones([1, 4]))"
   ]
  },
  {
   "cell_type": "code",
   "execution_count": 271,
   "id": "aa381556-75d6-41bd-a5ab-93b5013a2154",
   "metadata": {
    "tags": []
   },
   "outputs": [
    {
     "data": {
      "text/plain": [
       "array([ 0.05029056,  0.03663881,  0.00590101, -0.09287095])"
      ]
     },
     "execution_count": 271,
     "metadata": {},
     "output_type": "execute_result"
    }
   ],
   "source": [
    "((theta @ X) - (theta.T @ (np.array([p*(1+r)]).T * np.ones([1, 4])))) * pi"
   ]
  },
  {
   "cell_type": "code",
   "execution_count": 272,
   "id": "253909d9-9664-4251-b05f-a3bda3b14d04",
   "metadata": {
    "tags": []
   },
   "outputs": [
    {
     "data": {
      "text/plain": [
       "array([1.0194, 3.4045, 2.4917])"
      ]
     },
     "execution_count": 272,
     "metadata": {},
     "output_type": "execute_result"
    }
   ],
   "source": [
    "X @ pi"
   ]
  },
  {
   "cell_type": "code",
   "execution_count": 274,
   "id": "4ca892a3-3fb3-4b40-b391-cd9bdc701dc8",
   "metadata": {
    "tags": []
   },
   "outputs": [
    {
     "data": {
      "text/plain": [
       "array([ 1.77, -0.28, -0.26])"
      ]
     },
     "execution_count": 274,
     "metadata": {},
     "output_type": "execute_result"
    }
   ],
   "source": [
    "theta"
   ]
  },
  {
   "cell_type": "code",
   "execution_count": 276,
   "id": "90107a50-8f6a-4421-b917-eb8bb9e9e56e",
   "metadata": {
    "tags": []
   },
   "outputs": [
    {
     "data": {
      "text/plain": [
       "array([ 0.2577097,  0.2377097,  0.0177097, -0.3022903])"
      ]
     },
     "execution_count": 276,
     "metadata": {},
     "output_type": "execute_result"
    }
   ],
   "source": [
    "(theta @ X) - (theta @ p*(1+r)) "
   ]
  },
  {
   "cell_type": "code",
   "execution_count": 277,
   "id": "dc7601b9-b26f-4a6f-993c-63e7f5ef97d9",
   "metadata": {
    "tags": []
   },
   "outputs": [
    {
     "data": {
      "text/plain": [
       "0.20323600000000075"
      ]
     },
     "execution_count": 277,
     "metadata": {},
     "output_type": "execute_result"
    }
   ],
   "source": [
    "theta.T @ X @ pi"
   ]
  },
  {
   "cell_type": "code",
   "execution_count": 278,
   "id": "7fe83323-7a1b-4e0a-a4e4-9cfee57a44a8",
   "metadata": {},
   "outputs": [
    {
     "data": {
      "text/plain": [
       "0.20323600000000008"
      ]
     },
     "execution_count": 278,
     "metadata": {},
     "output_type": "execute_result"
    }
   ],
   "source": [
    "theta @ p"
   ]
  },
  {
   "cell_type": "code",
   "execution_count": 279,
   "id": "801b2a70-630a-4bf1-bdfc-5ecce4ecc5c8",
   "metadata": {
    "tags": []
   },
   "outputs": [
    {
     "data": {
      "text/plain": [
       "1.0001996504854374"
      ]
     },
     "execution_count": 279,
     "metadata": {},
     "output_type": "execute_result"
    }
   ],
   "source": [
    "np.sum((pi+m*0) * (1+r))"
   ]
  },
  {
   "cell_type": "code",
   "execution_count": 280,
   "id": "3fb3ba57-a5f6-47e2-a17b-86bc7c1ae9ee",
   "metadata": {
    "tags": []
   },
   "outputs": [
    {
     "data": {
      "text/plain": [
       "0.9897087378640781"
      ]
     },
     "execution_count": 280,
     "metadata": {},
     "output_type": "execute_result"
    }
   ],
   "source": [
    "np.sum(pi)"
   ]
  },
  {
   "cell_type": "code",
   "execution_count": null,
   "id": "ab914c8c-482a-45b8-b755-99f0d9ae20b5",
   "metadata": {
    "tags": []
   },
   "outputs": [],
   "source": [
    "1/(1+r)"
   ]
  },
  {
   "cell_type": "code",
   "execution_count": null,
   "id": "953c9dad-6356-4718-b0a6-f2f938274ae6",
   "metadata": {},
   "outputs": [],
   "source": []
  }
 ],
 "metadata": {
  "kernelspec": {
   "display_name": "Python 3 (ipykernel)",
   "language": "python",
   "name": "python3"
  },
  "language_info": {
   "codemirror_mode": {
    "name": "ipython",
    "version": 3
   },
   "file_extension": ".py",
   "mimetype": "text/x-python",
   "name": "python",
   "nbconvert_exporter": "python",
   "pygments_lexer": "ipython3",
   "version": "3.11.4"
  }
 },
 "nbformat": 4,
 "nbformat_minor": 5
}
