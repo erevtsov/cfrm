{
 "cells": [
  {
   "cell_type": "code",
   "execution_count": 47,
   "id": "19757085-17ff-4f9e-b5c2-54ee0cbb4b8c",
   "metadata": {},
   "outputs": [],
   "source": [
    "import numpy as np\n",
    "import pandas as pd"
   ]
  },
  {
   "cell_type": "code",
   "execution_count": 110,
   "id": "1a60a436-d9c3-4ce2-96e3-c2a2fc4894ca",
   "metadata": {},
   "outputs": [],
   "source": [
    "data = pd.read_csv('hw4_data.csv')\n",
    "\n",
    "data = data.set_index('date')\n",
    "\n",
    "rts = data.pct_change().dropna()"
   ]
  },
  {
   "cell_type": "code",
   "execution_count": 111,
   "id": "fbb4cac8-829f-4768-ac3d-26ab6eebe79d",
   "metadata": {
    "tags": []
   },
   "outputs": [],
   "source": [
    "n = 252"
   ]
  },
  {
   "cell_type": "markdown",
   "id": "761be396-e4fd-4cf8-b4f3-6eae94f3066a",
   "metadata": {},
   "source": [
    "#### sample"
   ]
  },
  {
   "cell_type": "code",
   "execution_count": 112,
   "id": "ea07d4f4-5a9d-4660-a936-7a903ea33a9e",
   "metadata": {
    "tags": []
   },
   "outputs": [],
   "source": [
    "mean = rts.mean()\n",
    "std = rts.std()\n",
    "cov = (1/rts.shape[0]) * ((rts - mean).T @ (rts - mean))"
   ]
  },
  {
   "cell_type": "markdown",
   "id": "108f4cf3-3e05-4eca-9435-7aaba7ea823c",
   "metadata": {
    "tags": []
   },
   "source": [
    "#### annualized"
   ]
  },
  {
   "cell_type": "code",
   "execution_count": 119,
   "id": "7f5bd640-54db-4235-96a9-c37563143c13",
   "metadata": {
    "tags": []
   },
   "outputs": [],
   "source": [
    "rts_a = (mean + 1)**n-1\n",
    "var_a = (std**2 + (mean+1)**2)**n - (mean+1)**(2*n)\n",
    "std_a = var_a**(1/2)\n",
    "sigma = std_a.T * rts.corr() * std_a"
   ]
  },
  {
   "cell_type": "code",
   "execution_count": 124,
   "id": "74e15327-3ac3-4ad7-a681-e537802eeac0",
   "metadata": {
    "tags": []
   },
   "outputs": [],
   "source": [
    "ones = np.ones(std_a.shape)"
   ]
  },
  {
   "cell_type": "code",
   "execution_count": 129,
   "id": "7695bc33-8da3-4b2a-a715-27c451e0cd38",
   "metadata": {
    "tags": []
   },
   "outputs": [],
   "source": [
    "sigma_inv = np.linalg.inv(cov_a)"
   ]
  },
  {
   "cell_type": "markdown",
   "id": "a2428ee8-6c65-48ec-b8c2-445632c81bee",
   "metadata": {},
   "source": [
    "#### global minimum variance"
   ]
  },
  {
   "cell_type": "code",
   "execution_count": 138,
   "id": "1ee81dd3-abfb-49b5-a987-629a7638fe68",
   "metadata": {
    "tags": []
   },
   "outputs": [],
   "source": [
    "w_gm = (sigma_inv @ ones) / (ones.T @ sigma_inv @ ones)"
   ]
  },
  {
   "cell_type": "code",
   "execution_count": 142,
   "id": "f6a93e49-b932-444b-862f-b34bfe96e95c",
   "metadata": {
    "tags": []
   },
   "outputs": [],
   "source": [
    "mu_gm = w_gm @ rts_a"
   ]
  },
  {
   "cell_type": "code",
   "execution_count": null,
   "id": "1c3aec4d-5baa-41ad-a9f3-f24b0d6b42c5",
   "metadata": {},
   "outputs": [],
   "source": []
  }
 ],
 "metadata": {
  "kernelspec": {
   "display_name": "Python 3 (ipykernel)",
   "language": "python",
   "name": "python3"
  },
  "language_info": {
   "codemirror_mode": {
    "name": "ipython",
    "version": 3
   },
   "file_extension": ".py",
   "mimetype": "text/x-python",
   "name": "python",
   "nbconvert_exporter": "python",
   "pygments_lexer": "ipython3",
   "version": "3.11.4"
  }
 },
 "nbformat": 4,
 "nbformat_minor": 5
}
