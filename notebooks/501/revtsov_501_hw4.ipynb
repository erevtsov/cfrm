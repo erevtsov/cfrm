{
 "cells": [
  {
   "cell_type": "code",
   "execution_count": 47,
   "id": "19757085-17ff-4f9e-b5c2-54ee0cbb4b8c",
   "metadata": {},
   "outputs": [],
   "source": [
    "import numpy as np\n",
    "import pandas as pd"
   ]
  },
  {
   "cell_type": "code",
   "execution_count": 110,
   "id": "1a60a436-d9c3-4ce2-96e3-c2a2fc4894ca",
   "metadata": {},
   "outputs": [],
   "source": [
    "data = pd.read_csv('hw4_data.csv')\n",
    "\n",
    "data = data.set_index('date')\n",
    "\n",
    "rts = data.pct_change().dropna()"
   ]
  },
  {
   "cell_type": "markdown",
   "id": "761be396-e4fd-4cf8-b4f3-6eae94f3066a",
   "metadata": {},
   "source": [
    "#### sample"
   ]
  },
  {
   "cell_type": "code",
   "execution_count": 112,
   "id": "ea07d4f4-5a9d-4660-a936-7a903ea33a9e",
   "metadata": {
    "tags": []
   },
   "outputs": [],
   "source": [
    "mean = rts.mean()\n",
    "std = rts.std()\n",
    "cov = (1/rts.shape[0]) * ((rts - mean).T @ (rts - mean))"
   ]
  },
  {
   "cell_type": "markdown",
   "id": "108f4cf3-3e05-4eca-9435-7aaba7ea823c",
   "metadata": {
    "tags": []
   },
   "source": [
    "#### annualized"
   ]
  },
  {
   "cell_type": "code",
   "execution_count": 111,
   "id": "fbb4cac8-829f-4768-ac3d-26ab6eebe79d",
   "metadata": {
    "tags": []
   },
   "outputs": [],
   "source": [
    "n = 252"
   ]
  },
  {
   "cell_type": "code",
   "execution_count": 268,
   "id": "7f5bd640-54db-4235-96a9-c37563143c13",
   "metadata": {
    "tags": []
   },
   "outputs": [],
   "source": [
    "mu = (mean + 1)**n-1\n",
    "var_a = (std**2 + (mean+1)**2)**n - (mean+1)**(2*n)\n",
    "std_a = var_a**(1/2)\n",
    "sigma = std_a * rts.corr() * std_a"
   ]
  },
  {
   "cell_type": "code",
   "execution_count": 270,
   "id": "b24a1b6a-a98b-44c4-9ef7-22da7876bee4",
   "metadata": {
    "tags": []
   },
   "outputs": [
    {
     "data": {
      "text/html": [
       "<div>\n",
       "<style scoped>\n",
       "    .dataframe tbody tr th:only-of-type {\n",
       "        vertical-align: middle;\n",
       "    }\n",
       "\n",
       "    .dataframe tbody tr th {\n",
       "        vertical-align: top;\n",
       "    }\n",
       "\n",
       "    .dataframe thead th {\n",
       "        text-align: right;\n",
       "    }\n",
       "</style>\n",
       "<table border=\"1\" class=\"dataframe\">\n",
       "  <thead>\n",
       "    <tr style=\"text-align: right;\">\n",
       "      <th></th>\n",
       "      <th>gnk</th>\n",
       "      <th>bbby</th>\n",
       "      <th>hcci</th>\n",
       "      <th>skm</th>\n",
       "      <th>cs</th>\n",
       "      <th>azn</th>\n",
       "      <th>nvda</th>\n",
       "      <th>epac</th>\n",
       "    </tr>\n",
       "  </thead>\n",
       "  <tbody>\n",
       "    <tr>\n",
       "      <th>gnk</th>\n",
       "      <td>1.000000</td>\n",
       "      <td>0.143774</td>\n",
       "      <td>0.335126</td>\n",
       "      <td>0.154859</td>\n",
       "      <td>0.398503</td>\n",
       "      <td>0.194425</td>\n",
       "      <td>0.267417</td>\n",
       "      <td>0.366859</td>\n",
       "    </tr>\n",
       "    <tr>\n",
       "      <th>bbby</th>\n",
       "      <td>0.143774</td>\n",
       "      <td>1.000000</td>\n",
       "      <td>0.228128</td>\n",
       "      <td>0.140678</td>\n",
       "      <td>0.260854</td>\n",
       "      <td>0.072005</td>\n",
       "      <td>0.223917</td>\n",
       "      <td>0.269887</td>\n",
       "    </tr>\n",
       "    <tr>\n",
       "      <th>hcci</th>\n",
       "      <td>0.335126</td>\n",
       "      <td>0.228128</td>\n",
       "      <td>1.000000</td>\n",
       "      <td>0.223341</td>\n",
       "      <td>0.514990</td>\n",
       "      <td>0.236256</td>\n",
       "      <td>0.321087</td>\n",
       "      <td>0.497233</td>\n",
       "    </tr>\n",
       "    <tr>\n",
       "      <th>skm</th>\n",
       "      <td>0.154859</td>\n",
       "      <td>0.140678</td>\n",
       "      <td>0.223341</td>\n",
       "      <td>1.000000</td>\n",
       "      <td>0.326674</td>\n",
       "      <td>0.199538</td>\n",
       "      <td>0.238067</td>\n",
       "      <td>0.262061</td>\n",
       "    </tr>\n",
       "    <tr>\n",
       "      <th>cs</th>\n",
       "      <td>0.398503</td>\n",
       "      <td>0.260854</td>\n",
       "      <td>0.514990</td>\n",
       "      <td>0.326674</td>\n",
       "      <td>1.000000</td>\n",
       "      <td>0.289900</td>\n",
       "      <td>0.441271</td>\n",
       "      <td>0.536134</td>\n",
       "    </tr>\n",
       "    <tr>\n",
       "      <th>azn</th>\n",
       "      <td>0.194425</td>\n",
       "      <td>0.072005</td>\n",
       "      <td>0.236256</td>\n",
       "      <td>0.199538</td>\n",
       "      <td>0.289900</td>\n",
       "      <td>1.000000</td>\n",
       "      <td>0.318483</td>\n",
       "      <td>0.234022</td>\n",
       "    </tr>\n",
       "    <tr>\n",
       "      <th>nvda</th>\n",
       "      <td>0.267417</td>\n",
       "      <td>0.223917</td>\n",
       "      <td>0.321087</td>\n",
       "      <td>0.238067</td>\n",
       "      <td>0.441271</td>\n",
       "      <td>0.318483</td>\n",
       "      <td>1.000000</td>\n",
       "      <td>0.368772</td>\n",
       "    </tr>\n",
       "    <tr>\n",
       "      <th>epac</th>\n",
       "      <td>0.366859</td>\n",
       "      <td>0.269887</td>\n",
       "      <td>0.497233</td>\n",
       "      <td>0.262061</td>\n",
       "      <td>0.536134</td>\n",
       "      <td>0.234022</td>\n",
       "      <td>0.368772</td>\n",
       "      <td>1.000000</td>\n",
       "    </tr>\n",
       "  </tbody>\n",
       "</table>\n",
       "</div>"
      ],
      "text/plain": [
       "           gnk      bbby      hcci       skm        cs       azn      nvda  \\\n",
       "gnk   1.000000  0.143774  0.335126  0.154859  0.398503  0.194425  0.267417   \n",
       "bbby  0.143774  1.000000  0.228128  0.140678  0.260854  0.072005  0.223917   \n",
       "hcci  0.335126  0.228128  1.000000  0.223341  0.514990  0.236256  0.321087   \n",
       "skm   0.154859  0.140678  0.223341  1.000000  0.326674  0.199538  0.238067   \n",
       "cs    0.398503  0.260854  0.514990  0.326674  1.000000  0.289900  0.441271   \n",
       "azn   0.194425  0.072005  0.236256  0.199538  0.289900  1.000000  0.318483   \n",
       "nvda  0.267417  0.223917  0.321087  0.238067  0.441271  0.318483  1.000000   \n",
       "epac  0.366859  0.269887  0.497233  0.262061  0.536134  0.234022  0.368772   \n",
       "\n",
       "          epac  \n",
       "gnk   0.366859  \n",
       "bbby  0.269887  \n",
       "hcci  0.497233  \n",
       "skm   0.262061  \n",
       "cs    0.536134  \n",
       "azn   0.234022  \n",
       "nvda  0.368772  \n",
       "epac  1.000000  "
      ]
     },
     "execution_count": 270,
     "metadata": {},
     "output_type": "execute_result"
    }
   ],
   "source": [
    "rts.corr()"
   ]
  },
  {
   "cell_type": "code",
   "execution_count": 273,
   "id": "ba676d71-2e18-4815-a992-cc3c1bd6c449",
   "metadata": {
    "tags": []
   },
   "outputs": [
    {
     "data": {
      "text/plain": [
       "gnk     0.830681\n",
       "bbby    1.610613\n",
       "hcci    0.642194\n",
       "skm     0.298325\n",
       "cs      0.316412\n",
       "azn     0.304551\n",
       "nvda    0.747883\n",
       "epac    0.398939\n",
       "dtype: float64"
      ]
     },
     "execution_count": 273,
     "metadata": {},
     "output_type": "execute_result"
    }
   ],
   "source": [
    "std_a"
   ]
  },
  {
   "cell_type": "code",
   "execution_count": 275,
   "id": "597c3f74-8978-4935-b75f-7d1c51ec093a",
   "metadata": {
    "tags": []
   },
   "outputs": [
    {
     "data": {
      "text/plain": [
       "0.19235604224368763"
      ]
     },
     "execution_count": 275,
     "metadata": {},
     "output_type": "execute_result"
    }
   ],
   "source": [
    "0.830681*1.610613*0.143774"
   ]
  },
  {
   "cell_type": "code",
   "execution_count": null,
   "id": "cedecae5-b3d7-4306-9189-ff489b8a8202",
   "metadata": {},
   "outputs": [],
   "source": []
  },
  {
   "cell_type": "code",
   "execution_count": null,
   "id": "5443924e-ea3f-484d-9641-812e1e135cad",
   "metadata": {},
   "outputs": [],
   "source": []
  },
  {
   "cell_type": "code",
   "execution_count": 250,
   "id": "aae80156-04e8-48db-b6d9-a777dae1d5d7",
   "metadata": {
    "tags": []
   },
   "outputs": [],
   "source": [
    "#### inputs"
   ]
  },
  {
   "cell_type": "code",
   "execution_count": 172,
   "id": "74e15327-3ac3-4ad7-a681-e537802eeac0",
   "metadata": {
    "tags": []
   },
   "outputs": [],
   "source": [
    "ones = np.ones(std_a.shape)"
   ]
  },
  {
   "cell_type": "code",
   "execution_count": 173,
   "id": "7695bc33-8da3-4b2a-a715-27c451e0cd38",
   "metadata": {
    "tags": []
   },
   "outputs": [],
   "source": [
    "sigma_inv = np.linalg.inv(sigma)"
   ]
  },
  {
   "cell_type": "markdown",
   "id": "a2428ee8-6c65-48ec-b8c2-445632c81bee",
   "metadata": {},
   "source": [
    "#### global minimum variance"
   ]
  },
  {
   "cell_type": "code",
   "execution_count": 174,
   "id": "1ee81dd3-abfb-49b5-a987-629a7638fe68",
   "metadata": {
    "tags": []
   },
   "outputs": [],
   "source": [
    "w_gm = (sigma_inv @ ones) / (ones.T @ sigma_inv @ ones)"
   ]
  },
  {
   "cell_type": "code",
   "execution_count": 175,
   "id": "f6a93e49-b932-444b-862f-b34bfe96e95c",
   "metadata": {
    "tags": []
   },
   "outputs": [],
   "source": [
    "mu_gm = w_gm @ mu"
   ]
  },
  {
   "cell_type": "code",
   "execution_count": 225,
   "id": "16ffc922-d106-4650-82bb-94af13ad9d1f",
   "metadata": {
    "tags": []
   },
   "outputs": [],
   "source": [
    "var_gm = w_gm.T @ sigma @ w_gm"
   ]
  },
  {
   "cell_type": "code",
   "execution_count": 226,
   "id": "df38ae1f-34fa-49cb-b2b5-00b67bbb024d",
   "metadata": {
    "tags": []
   },
   "outputs": [
    {
     "data": {
      "text/plain": [
       "0.25961373077920297"
      ]
     },
     "execution_count": 226,
     "metadata": {},
     "output_type": "execute_result"
    }
   ],
   "source": [
    "np.sqrt(var_gm)"
   ]
  },
  {
   "cell_type": "markdown",
   "id": "6218f267-62c5-49d0-b682-fb0595167c52",
   "metadata": {},
   "source": [
    "#### target return"
   ]
  },
  {
   "cell_type": "code",
   "execution_count": null,
   "id": "2da6021b-85dd-4def-8e28-e9ad05ceafad",
   "metadata": {},
   "outputs": [],
   "source": [
    "def mv_var(mu_target):\n",
    "    psi = (ones.T @ sigma_inv @ ones) * (mu.T @ sigma_inv @ mu) - (ones.T @ sigma_inv @ mu) ** 2\n",
    "    sigma_t = var_gm + ((mu_target - mu_gm) ** 2) / (psi * var_gm)\n",
    "    return sigma_t"
   ]
  },
  {
   "cell_type": "code",
   "execution_count": null,
   "id": "d7f3d4d2-7926-43b9-a7bc-088fe0ca656d",
   "metadata": {},
   "outputs": [],
   "source": [
    "def mv_portfolio(mu_target):\n",
    "    a = mu.T @ sigma_inv @ mu\n",
    "    b = mu.T @ sigma_inv @ ones\n",
    "    c = ones.T @ sigma_inv @ ones\n",
    "    #\n",
    "    w_mu = (1/b) * sigma_inv @ mu\n",
    "    #\n",
    "    l = (b*c*mu_target - (b**2)) / (a*c - (b**2))\n",
    "    #\n",
    "    w = l*w_mu + (1-l)*w_gm\n",
    "    #\n",
    "    return pd.Series(index=mu.index, data=w)"
   ]
  },
  {
   "cell_type": "code",
   "execution_count": 241,
   "id": "bdcf05ea-894f-46da-8134-33dc0a3d8fda",
   "metadata": {
    "tags": []
   },
   "outputs": [],
   "source": [
    "w = mv_portfolio(0.12)"
   ]
  },
  {
   "cell_type": "code",
   "execution_count": 242,
   "id": "c6df1932-bcac-4c3b-9098-cc551e0df5e3",
   "metadata": {
    "tags": []
   },
   "outputs": [
    {
     "data": {
      "text/plain": [
       "0.12000000000000002"
      ]
     },
     "execution_count": 242,
     "metadata": {},
     "output_type": "execute_result"
    }
   ],
   "source": [
    "w @ mu"
   ]
  },
  {
   "cell_type": "code",
   "execution_count": 243,
   "id": "4c8e90bf-14f0-402d-a4b7-e180a5331ff6",
   "metadata": {
    "tags": []
   },
   "outputs": [
    {
     "data": {
      "text/plain": [
       "0.05981116349811591"
      ]
     },
     "execution_count": 243,
     "metadata": {},
     "output_type": "execute_result"
    }
   ],
   "source": [
    "w.T @ sigma @ w"
   ]
  },
  {
   "cell_type": "code",
   "execution_count": 247,
   "id": "39121465-d4be-476c-87e4-4673c5fe78c1",
   "metadata": {
    "tags": []
   },
   "outputs": [
    {
     "data": {
      "text/plain": [
       "0.4077888819145278"
      ]
     },
     "execution_count": 247,
     "metadata": {},
     "output_type": "execute_result"
    }
   ],
   "source": [
    "mv_var(0.25)"
   ]
  },
  {
   "cell_type": "code",
   "execution_count": 210,
   "id": "763fc540-a845-4410-b975-2b6e2ac2d605",
   "metadata": {
    "tags": []
   },
   "outputs": [
    {
     "data": {
      "text/plain": [
       "0.8740386249459117"
      ]
     },
     "execution_count": 210,
     "metadata": {},
     "output_type": "execute_result"
    }
   ],
   "source": [
    "np.sum(w)"
   ]
  },
  {
   "cell_type": "code",
   "execution_count": 216,
   "id": "723a3951-9405-4a7f-877d-d14db1b73fb3",
   "metadata": {
    "tags": []
   },
   "outputs": [],
   "source": [
    "frontier = pd.Series(data=[0.04, 0.06, 0.08, 0.1, 0.12, 0.14, 0.16, 0.18, 0.2])"
   ]
  },
  {
   "cell_type": "code",
   "execution_count": 218,
   "id": "cfcba76e-76ff-4b09-b187-5519844e136e",
   "metadata": {
    "tags": []
   },
   "outputs": [
    {
     "data": {
      "text/plain": [
       "0    0.04\n",
       "1    0.06\n",
       "2    0.08\n",
       "3    0.10\n",
       "4    0.12\n",
       "5    0.14\n",
       "6    0.16\n",
       "7    0.18\n",
       "8    0.20\n",
       "dtype: float64"
      ]
     },
     "execution_count": 218,
     "metadata": {},
     "output_type": "execute_result"
    }
   ],
   "source": [
    "frontier"
   ]
  },
  {
   "cell_type": "code",
   "execution_count": 220,
   "id": "c1b6205a-5b1b-4c4f-9503-9d1393712827",
   "metadata": {
    "tags": []
   },
   "outputs": [
    {
     "data": {
      "text/html": [
       "<div>\n",
       "<style scoped>\n",
       "    .dataframe tbody tr th:only-of-type {\n",
       "        vertical-align: middle;\n",
       "    }\n",
       "\n",
       "    .dataframe tbody tr th {\n",
       "        vertical-align: top;\n",
       "    }\n",
       "\n",
       "    .dataframe thead th {\n",
       "        text-align: right;\n",
       "    }\n",
       "</style>\n",
       "<table border=\"1\" class=\"dataframe\">\n",
       "  <thead>\n",
       "    <tr style=\"text-align: right;\">\n",
       "      <th></th>\n",
       "      <th>gnk</th>\n",
       "      <th>bbby</th>\n",
       "      <th>hcci</th>\n",
       "      <th>skm</th>\n",
       "      <th>cs</th>\n",
       "      <th>azn</th>\n",
       "      <th>nvda</th>\n",
       "      <th>epac</th>\n",
       "    </tr>\n",
       "  </thead>\n",
       "  <tbody>\n",
       "    <tr>\n",
       "      <th>0.04</th>\n",
       "      <td>0.041475</td>\n",
       "      <td>0.015375</td>\n",
       "      <td>0.034328</td>\n",
       "      <td>0.474098</td>\n",
       "      <td>0.081335</td>\n",
       "      <td>0.397367</td>\n",
       "      <td>0.016549</td>\n",
       "      <td>0.084120</td>\n",
       "    </tr>\n",
       "    <tr>\n",
       "      <th>0.06</th>\n",
       "      <td>0.045407</td>\n",
       "      <td>0.016157</td>\n",
       "      <td>0.040893</td>\n",
       "      <td>0.454137</td>\n",
       "      <td>0.017406</td>\n",
       "      <td>0.404652</td>\n",
       "      <td>0.025044</td>\n",
       "      <td>0.073298</td>\n",
       "    </tr>\n",
       "    <tr>\n",
       "      <th>0.08</th>\n",
       "      <td>0.049339</td>\n",
       "      <td>0.016938</td>\n",
       "      <td>0.047458</td>\n",
       "      <td>0.434177</td>\n",
       "      <td>-0.046524</td>\n",
       "      <td>0.411937</td>\n",
       "      <td>0.033540</td>\n",
       "      <td>0.062477</td>\n",
       "    </tr>\n",
       "    <tr>\n",
       "      <th>0.10</th>\n",
       "      <td>0.053271</td>\n",
       "      <td>0.017720</td>\n",
       "      <td>0.054023</td>\n",
       "      <td>0.414217</td>\n",
       "      <td>-0.110453</td>\n",
       "      <td>0.419222</td>\n",
       "      <td>0.042036</td>\n",
       "      <td>0.051655</td>\n",
       "    </tr>\n",
       "    <tr>\n",
       "      <th>0.12</th>\n",
       "      <td>0.057204</td>\n",
       "      <td>0.018501</td>\n",
       "      <td>0.060587</td>\n",
       "      <td>0.394256</td>\n",
       "      <td>-0.174382</td>\n",
       "      <td>0.426507</td>\n",
       "      <td>0.050531</td>\n",
       "      <td>0.040833</td>\n",
       "    </tr>\n",
       "    <tr>\n",
       "      <th>0.14</th>\n",
       "      <td>0.061136</td>\n",
       "      <td>0.019283</td>\n",
       "      <td>0.067152</td>\n",
       "      <td>0.374296</td>\n",
       "      <td>-0.238311</td>\n",
       "      <td>0.433792</td>\n",
       "      <td>0.059027</td>\n",
       "      <td>0.030012</td>\n",
       "    </tr>\n",
       "    <tr>\n",
       "      <th>0.16</th>\n",
       "      <td>0.065068</td>\n",
       "      <td>0.020064</td>\n",
       "      <td>0.073717</td>\n",
       "      <td>0.354336</td>\n",
       "      <td>-0.302240</td>\n",
       "      <td>0.441077</td>\n",
       "      <td>0.067523</td>\n",
       "      <td>0.019190</td>\n",
       "    </tr>\n",
       "    <tr>\n",
       "      <th>0.18</th>\n",
       "      <td>0.069000</td>\n",
       "      <td>0.020846</td>\n",
       "      <td>0.080282</td>\n",
       "      <td>0.334375</td>\n",
       "      <td>-0.366169</td>\n",
       "      <td>0.448362</td>\n",
       "      <td>0.076018</td>\n",
       "      <td>0.008368</td>\n",
       "    </tr>\n",
       "    <tr>\n",
       "      <th>0.20</th>\n",
       "      <td>0.072933</td>\n",
       "      <td>0.021627</td>\n",
       "      <td>0.086847</td>\n",
       "      <td>0.314415</td>\n",
       "      <td>-0.430098</td>\n",
       "      <td>0.455646</td>\n",
       "      <td>0.084514</td>\n",
       "      <td>-0.002453</td>\n",
       "    </tr>\n",
       "  </tbody>\n",
       "</table>\n",
       "</div>"
      ],
      "text/plain": [
       "           gnk      bbby      hcci       skm        cs       azn      nvda  \\\n",
       "0.04  0.041475  0.015375  0.034328  0.474098  0.081335  0.397367  0.016549   \n",
       "0.06  0.045407  0.016157  0.040893  0.454137  0.017406  0.404652  0.025044   \n",
       "0.08  0.049339  0.016938  0.047458  0.434177 -0.046524  0.411937  0.033540   \n",
       "0.10  0.053271  0.017720  0.054023  0.414217 -0.110453  0.419222  0.042036   \n",
       "0.12  0.057204  0.018501  0.060587  0.394256 -0.174382  0.426507  0.050531   \n",
       "0.14  0.061136  0.019283  0.067152  0.374296 -0.238311  0.433792  0.059027   \n",
       "0.16  0.065068  0.020064  0.073717  0.354336 -0.302240  0.441077  0.067523   \n",
       "0.18  0.069000  0.020846  0.080282  0.334375 -0.366169  0.448362  0.076018   \n",
       "0.20  0.072933  0.021627  0.086847  0.314415 -0.430098  0.455646  0.084514   \n",
       "\n",
       "          epac  \n",
       "0.04  0.084120  \n",
       "0.06  0.073298  \n",
       "0.08  0.062477  \n",
       "0.10  0.051655  \n",
       "0.12  0.040833  \n",
       "0.14  0.030012  \n",
       "0.16  0.019190  \n",
       "0.18  0.008368  \n",
       "0.20 -0.002453  "
      ]
     },
     "execution_count": 220,
     "metadata": {},
     "output_type": "execute_result"
    }
   ],
   "source": [
    "wts = frontier.apply(mv_portfolio)\n",
    "wts.index = frontier\n",
    "wts"
   ]
  },
  {
   "cell_type": "code",
   "execution_count": 222,
   "id": "7676daf5-a68b-4c11-8148-b584e0ffbcab",
   "metadata": {
    "tags": []
   },
   "outputs": [
    {
     "data": {
      "text/plain": [
       "0.04    0.078337\n",
       "0.06    0.072926\n",
       "0.08    0.068034\n",
       "0.10    0.063662\n",
       "0.12    0.059811\n",
       "0.14    0.056480\n",
       "0.16    0.053669\n",
       "0.18    0.051378\n",
       "0.20    0.049607\n",
       "dtype: float64"
      ]
     },
     "execution_count": 222,
     "metadata": {},
     "output_type": "execute_result"
    }
   ],
   "source": [
    "wts.apply(lambda x: x.T @ sigma @ x, axis=1)"
   ]
  },
  {
   "cell_type": "code",
   "execution_count": 223,
   "id": "eaa885ae-af34-4409-94f4-18c1689dae41",
   "metadata": {
    "tags": []
   },
   "outputs": [
    {
     "data": {
      "text/plain": [
       "gnk     0.514833\n",
       "bbby    0.166513\n",
       "hcci    0.545286\n",
       "skm     3.548308\n",
       "cs     -1.569435\n",
       "azn     3.838560\n",
       "nvda    0.454782\n",
       "epac    0.367500\n",
       "dtype: float64"
      ]
     },
     "execution_count": 223,
     "metadata": {},
     "output_type": "execute_result"
    }
   ],
   "source": [
    "wts.sum()"
   ]
  },
  {
   "cell_type": "code",
   "execution_count": null,
   "id": "20305d2b-c375-4ce4-8b86-199d0c6b348a",
   "metadata": {},
   "outputs": [],
   "source": []
  }
 ],
 "metadata": {
  "kernelspec": {
   "display_name": "Python 3 (ipykernel)",
   "language": "python",
   "name": "python3"
  },
  "language_info": {
   "codemirror_mode": {
    "name": "ipython",
    "version": 3
   },
   "file_extension": ".py",
   "mimetype": "text/x-python",
   "name": "python",
   "nbconvert_exporter": "python",
   "pygments_lexer": "ipython3",
   "version": "3.11.4"
  }
 },
 "nbformat": 4,
 "nbformat_minor": 5
}
