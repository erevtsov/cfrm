{
 "cells": [
  {
   "cell_type": "code",
   "execution_count": 2,
   "id": "53321370-b637-4df2-bf71-709a3f3c3b58",
   "metadata": {
    "tags": []
   },
   "outputs": [],
   "source": [
    "import numpy as np\n",
    "import pandas as pd\n",
    "import scipy\n",
    "\n",
    "from sklearn.decomposition import PCA"
   ]
  },
  {
   "cell_type": "code",
   "execution_count": 3,
   "id": "604cd267-6c14-4fa1-a709-1e3d6dec76d3",
   "metadata": {
    "tags": []
   },
   "outputs": [],
   "source": [
    "data = pd.read_csv('hw7_data.csv')\n",
    "data = data.set_index('date')"
   ]
  },
  {
   "cell_type": "code",
   "execution_count": 4,
   "id": "84c8c243-3c99-40bb-95ee-d93b0b8ed6bd",
   "metadata": {
    "tags": []
   },
   "outputs": [
    {
     "data": {
      "text/html": [
       "<div>\n",
       "<style scoped>\n",
       "    .dataframe tbody tr th:only-of-type {\n",
       "        vertical-align: middle;\n",
       "    }\n",
       "\n",
       "    .dataframe tbody tr th {\n",
       "        vertical-align: top;\n",
       "    }\n",
       "\n",
       "    .dataframe thead th {\n",
       "        text-align: right;\n",
       "    }\n",
       "</style>\n",
       "<table border=\"1\" class=\"dataframe\">\n",
       "  <thead>\n",
       "    <tr style=\"text-align: right;\">\n",
       "      <th></th>\n",
       "      <th>gm</th>\n",
       "      <th>adbe</th>\n",
       "      <th>ora</th>\n",
       "      <th>flo</th>\n",
       "      <th>mkt_rf</th>\n",
       "      <th>smb</th>\n",
       "      <th>hml</th>\n",
       "      <th>rf</th>\n",
       "    </tr>\n",
       "    <tr>\n",
       "      <th>date</th>\n",
       "      <th></th>\n",
       "      <th></th>\n",
       "      <th></th>\n",
       "      <th></th>\n",
       "      <th></th>\n",
       "      <th></th>\n",
       "      <th></th>\n",
       "      <th></th>\n",
       "    </tr>\n",
       "  </thead>\n",
       "  <tbody>\n",
       "    <tr>\n",
       "      <th>2012-10-01</th>\n",
       "      <td>0.120879</td>\n",
       "      <td>0.049014</td>\n",
       "      <td>0.014934</td>\n",
       "      <td>-0.024281</td>\n",
       "      <td>-0.0176</td>\n",
       "      <td>-0.0116</td>\n",
       "      <td>0.0359</td>\n",
       "      <td>0.0001</td>\n",
       "    </tr>\n",
       "    <tr>\n",
       "      <th>2012-11-01</th>\n",
       "      <td>0.014902</td>\n",
       "      <td>0.017044</td>\n",
       "      <td>-0.032055</td>\n",
       "      <td>0.195531</td>\n",
       "      <td>0.0078</td>\n",
       "      <td>0.0064</td>\n",
       "      <td>-0.0084</td>\n",
       "      <td>0.0001</td>\n",
       "    </tr>\n",
       "    <tr>\n",
       "      <th>2012-12-01</th>\n",
       "      <td>0.113988</td>\n",
       "      <td>0.088703</td>\n",
       "      <td>0.046689</td>\n",
       "      <td>-0.004530</td>\n",
       "      <td>0.0118</td>\n",
       "      <td>0.0150</td>\n",
       "      <td>0.0351</td>\n",
       "      <td>0.0001</td>\n",
       "    </tr>\n",
       "    <tr>\n",
       "      <th>2013-01-01</th>\n",
       "      <td>-0.025668</td>\n",
       "      <td>0.003981</td>\n",
       "      <td>0.102697</td>\n",
       "      <td>0.155135</td>\n",
       "      <td>0.0557</td>\n",
       "      <td>0.0033</td>\n",
       "      <td>0.0096</td>\n",
       "      <td>0.0000</td>\n",
       "    </tr>\n",
       "    <tr>\n",
       "      <th>2013-02-01</th>\n",
       "      <td>-0.033464</td>\n",
       "      <td>0.039122</td>\n",
       "      <td>-0.038570</td>\n",
       "      <td>0.048363</td>\n",
       "      <td>0.0129</td>\n",
       "      <td>-0.0028</td>\n",
       "      <td>0.0011</td>\n",
       "      <td>0.0000</td>\n",
       "    </tr>\n",
       "  </tbody>\n",
       "</table>\n",
       "</div>"
      ],
      "text/plain": [
       "                  gm      adbe       ora       flo  mkt_rf     smb     hml  \\\n",
       "date                                                                         \n",
       "2012-10-01  0.120879  0.049014  0.014934 -0.024281 -0.0176 -0.0116  0.0359   \n",
       "2012-11-01  0.014902  0.017044 -0.032055  0.195531  0.0078  0.0064 -0.0084   \n",
       "2012-12-01  0.113988  0.088703  0.046689 -0.004530  0.0118  0.0150  0.0351   \n",
       "2013-01-01 -0.025668  0.003981  0.102697  0.155135  0.0557  0.0033  0.0096   \n",
       "2013-02-01 -0.033464  0.039122 -0.038570  0.048363  0.0129 -0.0028  0.0011   \n",
       "\n",
       "                rf  \n",
       "date                \n",
       "2012-10-01  0.0001  \n",
       "2012-11-01  0.0001  \n",
       "2012-12-01  0.0001  \n",
       "2013-01-01  0.0000  \n",
       "2013-02-01  0.0000  "
      ]
     },
     "execution_count": 4,
     "metadata": {},
     "output_type": "execute_result"
    }
   ],
   "source": [
    "data.head()"
   ]
  },
  {
   "cell_type": "code",
   "execution_count": 5,
   "id": "f011eb40-7be0-4f94-9aa9-6540ff96263b",
   "metadata": {
    "tags": []
   },
   "outputs": [],
   "source": [
    "asset_cols = ['gm', 'adbe', 'ora', 'flo']\n",
    "factor_cols = ['mkt_rf', 'smb', 'hml']\n",
    "rf_col = ['rf']"
   ]
  },
  {
   "cell_type": "code",
   "execution_count": 6,
   "id": "f4d3742e-a5a3-4bde-a1e9-c9b13f311e8e",
   "metadata": {
    "tags": []
   },
   "outputs": [
    {
     "name": "stderr",
     "output_type": "stream",
     "text": [
      "C:\\Users\\yrevtsov\\AppData\\Local\\Temp\\ipykernel_37612\\3667321889.py:11: SettingWithCopyWarning: \n",
      "A value is trying to be set on a copy of a slice from a DataFrame.\n",
      "Try using .loc[row_indexer,col_indexer] = value instead\n",
      "\n",
      "See the caveats in the documentation: https://pandas.pydata.org/pandas-docs/stable/user_guide/indexing.html#returning-a-view-versus-a-copy\n",
      "  f.loc[:, 'intercept'] = 1\n"
     ]
    }
   ],
   "source": [
    "f = data[factor_cols]\n",
    "r = data[asset_cols]\n",
    "rfr = data[rf_col]\n",
    "# subtract rfr from returns based on FFC formula\n",
    "r_e = r.subtract(rfr.values)\n",
    "# subtract rfr from returns based on FFC formula\n",
    "# don't need to do this - data is already excess return\n",
    "# f['mkt_rf'] = f['mkt_rf'].subtract(rfr.squeeze().values)\n",
    "x = f.copy(deep=True)\n",
    "# add col of ones to F\n",
    "f.loc[:, 'intercept'] = 1\n",
    "f = f[['intercept'] + factor_cols]"
   ]
  },
  {
   "cell_type": "code",
   "execution_count": 7,
   "id": "e985843a-8ea3-47fa-b9e7-585e1e0ff6dd",
   "metadata": {
    "tags": []
   },
   "outputs": [],
   "source": [
    "b = np.linalg.inv(f.T @ f) @ f.T @ r_e\n",
    "b.index = f.columns"
   ]
  },
  {
   "cell_type": "code",
   "execution_count": 8,
   "id": "e404fab5-4e30-4151-8c4c-c20d622658a2",
   "metadata": {
    "tags": []
   },
   "outputs": [],
   "source": [
    "e = r - f @ b"
   ]
  },
  {
   "cell_type": "code",
   "execution_count": 9,
   "id": "5310b3df-1d13-4d83-8476-21df7aef6ccd",
   "metadata": {
    "tags": []
   },
   "outputs": [
    {
     "data": {
      "text/plain": [
       "gm      8.673617e-17\n",
       "adbe    1.008308e-16\n",
       "ora     8.977194e-17\n",
       "flo     9.844556e-17\n",
       "dtype: float64"
      ]
     },
     "execution_count": 9,
     "metadata": {},
     "output_type": "execute_result"
    }
   ],
   "source": [
    "(f @ b + e - r).abs().sum()"
   ]
  },
  {
   "cell_type": "code",
   "execution_count": 10,
   "id": "25029d5c-a112-4a2f-af7d-0685f0e7f21a",
   "metadata": {
    "tags": []
   },
   "outputs": [
    {
     "data": {
      "text/html": [
       "<div>\n",
       "<style scoped>\n",
       "    .dataframe tbody tr th:only-of-type {\n",
       "        vertical-align: middle;\n",
       "    }\n",
       "\n",
       "    .dataframe tbody tr th {\n",
       "        vertical-align: top;\n",
       "    }\n",
       "\n",
       "    .dataframe thead th {\n",
       "        text-align: right;\n",
       "    }\n",
       "</style>\n",
       "<table border=\"1\" class=\"dataframe\">\n",
       "  <thead>\n",
       "    <tr style=\"text-align: right;\">\n",
       "      <th></th>\n",
       "      <th>gm</th>\n",
       "      <th>adbe</th>\n",
       "      <th>ora</th>\n",
       "      <th>flo</th>\n",
       "    </tr>\n",
       "  </thead>\n",
       "  <tbody>\n",
       "    <tr>\n",
       "      <th>intercept</th>\n",
       "      <td>-0.002409</td>\n",
       "      <td>0.008293</td>\n",
       "      <td>0.010312</td>\n",
       "      <td>0.004895</td>\n",
       "    </tr>\n",
       "    <tr>\n",
       "      <th>mkt_rf</th>\n",
       "      <td>1.190780</td>\n",
       "      <td>1.201222</td>\n",
       "      <td>0.590398</td>\n",
       "      <td>0.480240</td>\n",
       "    </tr>\n",
       "    <tr>\n",
       "      <th>smb</th>\n",
       "      <td>0.729088</td>\n",
       "      <td>-0.253283</td>\n",
       "      <td>0.419412</td>\n",
       "      <td>-0.273027</td>\n",
       "    </tr>\n",
       "    <tr>\n",
       "      <th>hml</th>\n",
       "      <td>0.671768</td>\n",
       "      <td>-0.557792</td>\n",
       "      <td>-0.224427</td>\n",
       "      <td>0.256518</td>\n",
       "    </tr>\n",
       "  </tbody>\n",
       "</table>\n",
       "</div>"
      ],
      "text/plain": [
       "                 gm      adbe       ora       flo\n",
       "intercept -0.002409  0.008293  0.010312  0.004895\n",
       "mkt_rf     1.190780  1.201222  0.590398  0.480240\n",
       "smb        0.729088 -0.253283  0.419412 -0.273027\n",
       "hml        0.671768 -0.557792 -0.224427  0.256518"
      ]
     },
     "execution_count": 10,
     "metadata": {},
     "output_type": "execute_result"
    }
   ],
   "source": [
    "b"
   ]
  },
  {
   "cell_type": "markdown",
   "id": "25eae8dd-b918-4d73-abcf-fd0524bf2a17",
   "metadata": {},
   "source": [
    "### Q 1.1"
   ]
  },
  {
   "cell_type": "code",
   "execution_count": 315,
   "id": "d9c2c9dc-fce8-42f2-ada8-27f31e1ea8bd",
   "metadata": {
    "tags": []
   },
   "outputs": [
    {
     "data": {
      "text/html": [
       "<div>\n",
       "<style scoped>\n",
       "    .dataframe tbody tr th:only-of-type {\n",
       "        vertical-align: middle;\n",
       "    }\n",
       "\n",
       "    .dataframe tbody tr th {\n",
       "        vertical-align: top;\n",
       "    }\n",
       "\n",
       "    .dataframe thead th {\n",
       "        text-align: right;\n",
       "    }\n",
       "</style>\n",
       "<table border=\"1\" class=\"dataframe\">\n",
       "  <thead>\n",
       "    <tr style=\"text-align: right;\">\n",
       "      <th></th>\n",
       "      <th>gm</th>\n",
       "      <th>adbe</th>\n",
       "      <th>ora</th>\n",
       "      <th>flo</th>\n",
       "    </tr>\n",
       "  </thead>\n",
       "  <tbody>\n",
       "    <tr>\n",
       "      <th>intercept</th>\n",
       "      <td>-0.001771</td>\n",
       "      <td>0.008907</td>\n",
       "      <td>0.010622</td>\n",
       "      <td>0.005143</td>\n",
       "    </tr>\n",
       "    <tr>\n",
       "      <th>mkt_rf</th>\n",
       "      <td>1.185912</td>\n",
       "      <td>1.199609</td>\n",
       "      <td>0.588666</td>\n",
       "      <td>0.479216</td>\n",
       "    </tr>\n",
       "    <tr>\n",
       "      <th>smb</th>\n",
       "      <td>0.728364</td>\n",
       "      <td>-0.255666</td>\n",
       "      <td>0.418711</td>\n",
       "      <td>-0.273790</td>\n",
       "    </tr>\n",
       "    <tr>\n",
       "      <th>hml</th>\n",
       "      <td>0.666975</td>\n",
       "      <td>-0.562666</td>\n",
       "      <td>-0.226812</td>\n",
       "      <td>0.254574</td>\n",
       "    </tr>\n",
       "  </tbody>\n",
       "</table>\n",
       "</div>"
      ],
      "text/plain": [
       "                 gm      adbe       ora       flo\n",
       "intercept -0.001771  0.008907  0.010622  0.005143\n",
       "mkt_rf     1.185912  1.199609  0.588666  0.479216\n",
       "smb        0.728364 -0.255666  0.418711 -0.273790\n",
       "hml        0.666975 -0.562666 -0.226812  0.254574"
      ]
     },
     "execution_count": 315,
     "metadata": {},
     "output_type": "execute_result"
    }
   ],
   "source": [
    "b"
   ]
  },
  {
   "cell_type": "markdown",
   "id": "2f5a225a-56d8-46bd-b6fd-a2911fa160bd",
   "metadata": {},
   "source": [
    "### Q 1.2"
   ]
  },
  {
   "cell_type": "markdown",
   "id": "9a8cec73-edc6-4b2f-acce-57c16be3ac7b",
   "metadata": {},
   "source": [
    "As seen below, correlations of residual returns are lower than that of excess returns. This aligns with intuition. Parts of returns that correlated should also be explained by the factors of the model. Therefore, the parts that are not explained by the factors are also less correlated."
   ]
  },
  {
   "cell_type": "markdown",
   "id": "cc88d8e7-1090-427b-ac9d-f730eefe6423",
   "metadata": {},
   "source": [
    "##### excess return correlation"
   ]
  },
  {
   "cell_type": "code",
   "execution_count": 13,
   "id": "cd137726-0a14-470a-b1eb-f9f6ad4c0bc7",
   "metadata": {},
   "outputs": [
    {
     "data": {
      "text/html": [
       "<div>\n",
       "<style scoped>\n",
       "    .dataframe tbody tr th:only-of-type {\n",
       "        vertical-align: middle;\n",
       "    }\n",
       "\n",
       "    .dataframe tbody tr th {\n",
       "        vertical-align: top;\n",
       "    }\n",
       "\n",
       "    .dataframe thead th {\n",
       "        text-align: right;\n",
       "    }\n",
       "</style>\n",
       "<table border=\"1\" class=\"dataframe\">\n",
       "  <thead>\n",
       "    <tr style=\"text-align: right;\">\n",
       "      <th></th>\n",
       "      <th>gm</th>\n",
       "      <th>adbe</th>\n",
       "      <th>ora</th>\n",
       "      <th>flo</th>\n",
       "    </tr>\n",
       "  </thead>\n",
       "  <tbody>\n",
       "    <tr>\n",
       "      <th>gm</th>\n",
       "      <td>1.000000</td>\n",
       "      <td>0.409751</td>\n",
       "      <td>0.379564</td>\n",
       "      <td>0.200341</td>\n",
       "    </tr>\n",
       "    <tr>\n",
       "      <th>adbe</th>\n",
       "      <td>0.409751</td>\n",
       "      <td>1.000000</td>\n",
       "      <td>0.163720</td>\n",
       "      <td>0.195851</td>\n",
       "    </tr>\n",
       "    <tr>\n",
       "      <th>ora</th>\n",
       "      <td>0.379564</td>\n",
       "      <td>0.163720</td>\n",
       "      <td>1.000000</td>\n",
       "      <td>0.169515</td>\n",
       "    </tr>\n",
       "    <tr>\n",
       "      <th>flo</th>\n",
       "      <td>0.200341</td>\n",
       "      <td>0.195851</td>\n",
       "      <td>0.169515</td>\n",
       "      <td>1.000000</td>\n",
       "    </tr>\n",
       "  </tbody>\n",
       "</table>\n",
       "</div>"
      ],
      "text/plain": [
       "            gm      adbe       ora       flo\n",
       "gm    1.000000  0.409751  0.379564  0.200341\n",
       "adbe  0.409751  1.000000  0.163720  0.195851\n",
       "ora   0.379564  0.163720  1.000000  0.169515\n",
       "flo   0.200341  0.195851  0.169515  1.000000"
      ]
     },
     "execution_count": 13,
     "metadata": {},
     "output_type": "execute_result"
    }
   ],
   "source": [
    "r_e.corr()"
   ]
  },
  {
   "cell_type": "markdown",
   "id": "6f726994-7ac7-4dd1-9f8c-fa1c241b9219",
   "metadata": {},
   "source": [
    "##### residual return correlation"
   ]
  },
  {
   "cell_type": "code",
   "execution_count": 14,
   "id": "5090c2ed-b7ac-4759-8642-93711c875ad9",
   "metadata": {
    "tags": []
   },
   "outputs": [
    {
     "data": {
      "text/html": [
       "<div>\n",
       "<style scoped>\n",
       "    .dataframe tbody tr th:only-of-type {\n",
       "        vertical-align: middle;\n",
       "    }\n",
       "\n",
       "    .dataframe tbody tr th {\n",
       "        vertical-align: top;\n",
       "    }\n",
       "\n",
       "    .dataframe thead th {\n",
       "        text-align: right;\n",
       "    }\n",
       "</style>\n",
       "<table border=\"1\" class=\"dataframe\">\n",
       "  <thead>\n",
       "    <tr style=\"text-align: right;\">\n",
       "      <th></th>\n",
       "      <th>gm</th>\n",
       "      <th>adbe</th>\n",
       "      <th>ora</th>\n",
       "      <th>flo</th>\n",
       "    </tr>\n",
       "  </thead>\n",
       "  <tbody>\n",
       "    <tr>\n",
       "      <th>gm</th>\n",
       "      <td>1.000000</td>\n",
       "      <td>0.130935</td>\n",
       "      <td>0.238876</td>\n",
       "      <td>0.009936</td>\n",
       "    </tr>\n",
       "    <tr>\n",
       "      <th>adbe</th>\n",
       "      <td>0.130935</td>\n",
       "      <td>1.000000</td>\n",
       "      <td>-0.141991</td>\n",
       "      <td>0.050953</td>\n",
       "    </tr>\n",
       "    <tr>\n",
       "      <th>ora</th>\n",
       "      <td>0.238876</td>\n",
       "      <td>-0.141991</td>\n",
       "      <td>1.000000</td>\n",
       "      <td>0.109304</td>\n",
       "    </tr>\n",
       "    <tr>\n",
       "      <th>flo</th>\n",
       "      <td>0.009936</td>\n",
       "      <td>0.050953</td>\n",
       "      <td>0.109304</td>\n",
       "      <td>1.000000</td>\n",
       "    </tr>\n",
       "  </tbody>\n",
       "</table>\n",
       "</div>"
      ],
      "text/plain": [
       "            gm      adbe       ora       flo\n",
       "gm    1.000000  0.130935  0.238876  0.009936\n",
       "adbe  0.130935  1.000000 -0.141991  0.050953\n",
       "ora   0.238876 -0.141991  1.000000  0.109304\n",
       "flo   0.009936  0.050953  0.109304  1.000000"
      ]
     },
     "execution_count": 14,
     "metadata": {},
     "output_type": "execute_result"
    }
   ],
   "source": [
    "e.corr()"
   ]
  },
  {
   "cell_type": "markdown",
   "id": "96521e07-be67-4986-9499-bbdaad0e8824",
   "metadata": {},
   "source": [
    "### Q 1.3"
   ]
  },
  {
   "cell_type": "code",
   "execution_count": 12,
   "id": "311043bd-8af2-4ee5-912f-2785c6bc91ac",
   "metadata": {
    "tags": []
   },
   "outputs": [],
   "source": [
    "sigma = r.cov()"
   ]
  },
  {
   "cell_type": "code",
   "execution_count": 13,
   "id": "d7cd615a-ce64-4ac9-b600-9a6606a64234",
   "metadata": {
    "tags": []
   },
   "outputs": [],
   "source": [
    "mu = r.mean()"
   ]
  },
  {
   "cell_type": "code",
   "execution_count": 350,
   "id": "a68cb0f5-ecde-4d2b-b98e-69247aebaaa8",
   "metadata": {
    "tags": []
   },
   "outputs": [],
   "source": [
    "# PCA with 2 components\n",
    "pca = PCA(n_components=2)\n",
    "y_sk = pca.fit_transform(r)\n",
    "y_sk = pd.DataFrame(y_sk)\n",
    "y_sk.index = r.index"
   ]
  },
  {
   "cell_type": "code",
   "execution_count": 328,
   "id": "556db4b8-9357-441b-99a2-9c043bf6a181",
   "metadata": {
    "tags": []
   },
   "outputs": [],
   "source": [
    "# principal components\n",
    "gamma = pca.components_"
   ]
  },
  {
   "cell_type": "code",
   "execution_count": 346,
   "id": "b63c8cbc-fc55-40b2-8a7d-c5b6bcb7afda",
   "metadata": {
    "tags": []
   },
   "outputs": [],
   "source": [
    "# calculate the residuals\n",
    "e_pca = r - (y_sk.values @ gamma + mu.values)"
   ]
  },
  {
   "cell_type": "markdown",
   "id": "bc8f08f9-bb1a-4793-803c-2f2b7bdb6d90",
   "metadata": {},
   "source": [
    "##### mean (mu)"
   ]
  },
  {
   "cell_type": "code",
   "execution_count": 333,
   "id": "576c507b-1973-43ab-b607-18a6a8f2e652",
   "metadata": {
    "tags": []
   },
   "outputs": [
    {
     "data": {
      "text/plain": [
       "gm      0.008983\n",
       "adbe    0.020731\n",
       "ora     0.016583\n",
       "flo     0.009865\n",
       "dtype: float64"
      ]
     },
     "execution_count": 333,
     "metadata": {},
     "output_type": "execute_result"
    }
   ],
   "source": [
    "mu"
   ]
  },
  {
   "cell_type": "markdown",
   "id": "0965a770-dc51-4388-9b71-d292daec4fb7",
   "metadata": {},
   "source": [
    "##### gamma (eigenvectors/principal components)"
   ]
  },
  {
   "cell_type": "code",
   "execution_count": 348,
   "id": "b1e808c0-88c1-4ccb-809e-55192e2b48f9",
   "metadata": {
    "tags": []
   },
   "outputs": [
    {
     "data": {
      "text/plain": [
       "array([[-0.71899768, -0.42234415, -0.49612657, -0.24192184],\n",
       "       [-0.17616857, -0.57935232,  0.79101965, -0.08719764]])"
      ]
     },
     "execution_count": 348,
     "metadata": {},
     "output_type": "execute_result"
    }
   ],
   "source": [
    "gamma"
   ]
  },
  {
   "cell_type": "markdown",
   "id": "749f7f27-2639-4700-9755-1ceff0efeac9",
   "metadata": {},
   "source": [
    "##### covariance matrix of error term"
   ]
  },
  {
   "cell_type": "code",
   "execution_count": 347,
   "id": "5adacb9e-3619-4920-9a18-98e4f018aa38",
   "metadata": {
    "tags": []
   },
   "outputs": [
    {
     "data": {
      "text/html": [
       "<div>\n",
       "<style scoped>\n",
       "    .dataframe tbody tr th:only-of-type {\n",
       "        vertical-align: middle;\n",
       "    }\n",
       "\n",
       "    .dataframe tbody tr th {\n",
       "        vertical-align: top;\n",
       "    }\n",
       "\n",
       "    .dataframe thead th {\n",
       "        text-align: right;\n",
       "    }\n",
       "</style>\n",
       "<table border=\"1\" class=\"dataframe\">\n",
       "  <thead>\n",
       "    <tr style=\"text-align: right;\">\n",
       "      <th></th>\n",
       "      <th>gm</th>\n",
       "      <th>adbe</th>\n",
       "      <th>ora</th>\n",
       "      <th>flo</th>\n",
       "    </tr>\n",
       "  </thead>\n",
       "  <tbody>\n",
       "    <tr>\n",
       "      <th>gm</th>\n",
       "      <td>0.001657</td>\n",
       "      <td>-0.001401</td>\n",
       "      <td>-0.000759</td>\n",
       "      <td>-0.000923</td>\n",
       "    </tr>\n",
       "    <tr>\n",
       "      <th>adbe</th>\n",
       "      <td>-0.001401</td>\n",
       "      <td>0.001661</td>\n",
       "      <td>0.000851</td>\n",
       "      <td>-0.000482</td>\n",
       "    </tr>\n",
       "    <tr>\n",
       "      <th>ora</th>\n",
       "      <td>-0.000759</td>\n",
       "      <td>0.000851</td>\n",
       "      <td>0.000440</td>\n",
       "      <td>-0.000134</td>\n",
       "    </tr>\n",
       "    <tr>\n",
       "      <th>flo</th>\n",
       "      <td>-0.000923</td>\n",
       "      <td>-0.000482</td>\n",
       "      <td>-0.000134</td>\n",
       "      <td>0.003859</td>\n",
       "    </tr>\n",
       "  </tbody>\n",
       "</table>\n",
       "</div>"
      ],
      "text/plain": [
       "            gm      adbe       ora       flo\n",
       "gm    0.001657 -0.001401 -0.000759 -0.000923\n",
       "adbe -0.001401  0.001661  0.000851 -0.000482\n",
       "ora  -0.000759  0.000851  0.000440 -0.000134\n",
       "flo  -0.000923 -0.000482 -0.000134  0.003859"
      ]
     },
     "execution_count": 347,
     "metadata": {},
     "output_type": "execute_result"
    }
   ],
   "source": [
    "e_pca.cov()"
   ]
  },
  {
   "cell_type": "markdown",
   "id": "12746ce0-5e86-464d-9eeb-916b3414cc62",
   "metadata": {},
   "source": [
    "### Q 1.4"
   ]
  },
  {
   "cell_type": "markdown",
   "id": "b69b504a-9717-417d-a209-217b6337dae4",
   "metadata": {},
   "source": [
    "As seen below, there's a .77 correlation between the first principal component and market return. The scatter plot also shows a linear relationship. Even though principal components do not have direct real-world explanations, this analysis shows that the first principal components can be thought of a market exposure of the assets."
   ]
  },
  {
   "cell_type": "code",
   "execution_count": 373,
   "id": "2f41a67a-70de-4e1d-abe8-f85edbecbbf6",
   "metadata": {
    "tags": []
   },
   "outputs": [],
   "source": [
    "# create df from the first PC and market factor + risk free rate\n",
    "mkt = y[0].rename('First PC').to_frame().join((f.mkt_rf + rfr.squeeze()).rename('Market'), how='inner')"
   ]
  },
  {
   "cell_type": "code",
   "execution_count": 372,
   "id": "b3db757f-3f7f-444d-a36d-b7b22b720b49",
   "metadata": {
    "tags": []
   },
   "outputs": [
    {
     "data": {
      "text/html": [
       "<div>\n",
       "<style scoped>\n",
       "    .dataframe tbody tr th:only-of-type {\n",
       "        vertical-align: middle;\n",
       "    }\n",
       "\n",
       "    .dataframe tbody tr th {\n",
       "        vertical-align: top;\n",
       "    }\n",
       "\n",
       "    .dataframe thead th {\n",
       "        text-align: right;\n",
       "    }\n",
       "</style>\n",
       "<table border=\"1\" class=\"dataframe\">\n",
       "  <thead>\n",
       "    <tr style=\"text-align: right;\">\n",
       "      <th></th>\n",
       "      <th>First PC</th>\n",
       "      <th>Market</th>\n",
       "    </tr>\n",
       "  </thead>\n",
       "  <tbody>\n",
       "    <tr>\n",
       "      <th>First PC</th>\n",
       "      <td>1.000000</td>\n",
       "      <td>0.773348</td>\n",
       "    </tr>\n",
       "    <tr>\n",
       "      <th>Market</th>\n",
       "      <td>0.773348</td>\n",
       "      <td>1.000000</td>\n",
       "    </tr>\n",
       "  </tbody>\n",
       "</table>\n",
       "</div>"
      ],
      "text/plain": [
       "          First PC    Market\n",
       "First PC  1.000000  0.773348\n",
       "Market    0.773348  1.000000"
      ]
     },
     "execution_count": 372,
     "metadata": {},
     "output_type": "execute_result"
    }
   ],
   "source": [
    "mkt.corr()"
   ]
  },
  {
   "cell_type": "code",
   "execution_count": 371,
   "id": "a72c74f3-17a9-4815-8522-2bc9e2c00c0c",
   "metadata": {
    "tags": []
   },
   "outputs": [
    {
     "data": {
      "text/plain": [
       "<Axes: title={'center': 'First PC vs Market'}, xlabel='First PC', ylabel='Market'>"
      ]
     },
     "execution_count": 371,
     "metadata": {},
     "output_type": "execute_result"
    },
    {
     "data": {
      "image/png": "[encoded data removed]",
      "text/plain": [
       "<Figure size 640x480 with 1 Axes>"
      ]
     },
     "metadata": {},
     "output_type": "display_data"
    }
   ],
   "source": [
    "mkt.plot.scatter(x='First PC', y='Market', title='First PC vs Market')"
   ]
  },
  {
   "cell_type": "markdown",
   "id": "610eff3f-d548-4f76-9daf-566bb9adc395",
   "metadata": {},
   "source": [
    "### Q 1.5"
   ]
  },
  {
   "cell_type": "markdown",
   "id": "a9179d53-505c-4b84-b0cb-5ded24a3a848",
   "metadata": {},
   "source": [
    "Principal components are uncorrelated by definition of the transformation. The residuals are made up of the remaining principal components. Therefore, the residuals will be uncorrelated with other principal components. This is empirically shown below."
   ]
  },
  {
   "cell_type": "code",
   "execution_count": 379,
   "id": "96228be2-f31d-4ae1-8893-45bfaebceb61",
   "metadata": {
    "tags": []
   },
   "outputs": [
    {
     "data": {
      "text/html": [
       "<div>\n",
       "<style scoped>\n",
       "    .dataframe tbody tr th:only-of-type {\n",
       "        vertical-align: middle;\n",
       "    }\n",
       "\n",
       "    .dataframe tbody tr th {\n",
       "        vertical-align: top;\n",
       "    }\n",
       "\n",
       "    .dataframe thead th {\n",
       "        text-align: right;\n",
       "    }\n",
       "</style>\n",
       "<table border=\"1\" class=\"dataframe\">\n",
       "  <thead>\n",
       "    <tr style=\"text-align: right;\">\n",
       "      <th></th>\n",
       "      <th>0</th>\n",
       "      <th>1</th>\n",
       "    </tr>\n",
       "  </thead>\n",
       "  <tbody>\n",
       "    <tr>\n",
       "      <th>gm</th>\n",
       "      <td>0.0</td>\n",
       "      <td>0.0</td>\n",
       "    </tr>\n",
       "    <tr>\n",
       "      <th>adbe</th>\n",
       "      <td>-0.0</td>\n",
       "      <td>0.0</td>\n",
       "    </tr>\n",
       "    <tr>\n",
       "      <th>ora</th>\n",
       "      <td>-0.0</td>\n",
       "      <td>-0.0</td>\n",
       "    </tr>\n",
       "    <tr>\n",
       "      <th>flo</th>\n",
       "      <td>-0.0</td>\n",
       "      <td>0.0</td>\n",
       "    </tr>\n",
       "    <tr>\n",
       "      <th>0</th>\n",
       "      <td>1.0</td>\n",
       "      <td>-0.0</td>\n",
       "    </tr>\n",
       "    <tr>\n",
       "      <th>1</th>\n",
       "      <td>-0.0</td>\n",
       "      <td>1.0</td>\n",
       "    </tr>\n",
       "  </tbody>\n",
       "</table>\n",
       "</div>"
      ],
      "text/plain": [
       "        0    1\n",
       "gm    0.0  0.0\n",
       "adbe -0.0  0.0\n",
       "ora  -0.0 -0.0\n",
       "flo  -0.0  0.0\n",
       "0     1.0 -0.0\n",
       "1    -0.0  1.0"
      ]
     },
     "execution_count": 379,
     "metadata": {},
     "output_type": "execute_result"
    }
   ],
   "source": [
    "e_pca.join(y_sk, how='inner').corr()[[0, 1]].round(10)"
   ]
  },
  {
   "cell_type": "code",
   "execution_count": null,
   "id": "f5552847-0cfc-4f29-83d6-6c4f634f52fe",
   "metadata": {},
   "outputs": [],
   "source": []
  },
  {
   "cell_type": "code",
   "execution_count": null,
   "id": "684bf830-900f-4d25-9076-6e55ad407999",
   "metadata": {},
   "outputs": [],
   "source": []
  },
  {
   "cell_type": "code",
   "execution_count": null,
   "id": "75d81f28-7f7c-47f7-afe5-52415909c13f",
   "metadata": {},
   "outputs": [],
   "source": []
  },
  {
   "cell_type": "code",
   "execution_count": null,
   "id": "afe93ec0-e10a-4dbc-b9d6-7e022f177207",
   "metadata": {},
   "outputs": [],
   "source": []
  },
  {
   "cell_type": "code",
   "execution_count": null,
   "id": "775e540c-9bc7-4398-98fb-4099874f705f",
   "metadata": {},
   "outputs": [],
   "source": []
  },
  {
   "cell_type": "code",
   "execution_count": null,
   "id": "0e75fb9c-b747-40d7-bb7e-ed42aadc97b9",
   "metadata": {},
   "outputs": [],
   "source": []
  },
  {
   "cell_type": "markdown",
   "id": "69f03e16-698d-4e11-97ed-2eb225e14920",
   "metadata": {},
   "source": [
    "## PCA sklearn"
   ]
  },
  {
   "cell_type": "code",
   "execution_count": 296,
   "id": "c5cd3bca-bdca-4e6c-ac80-342f5a53cbc8",
   "metadata": {
    "tags": []
   },
   "outputs": [
    {
     "data": {
      "text/plain": [
       "array([0.00898283, 0.0207307 , 0.01658256, 0.00986473])"
      ]
     },
     "execution_count": 296,
     "metadata": {},
     "output_type": "execute_result"
    }
   ],
   "source": [
    "pca.mean_"
   ]
  },
  {
   "cell_type": "code",
   "execution_count": 297,
   "id": "f2ede678-61da-4242-8c0d-6c62e2679c8e",
   "metadata": {
    "tags": []
   },
   "outputs": [
    {
     "data": {
      "text/plain": [
       "0.6884032277509733"
      ]
     },
     "execution_count": 297,
     "metadata": {},
     "output_type": "execute_result"
    }
   ],
   "source": [
    "pca.explained_variance_ratio_.sum()"
   ]
  },
  {
   "cell_type": "markdown",
   "id": "445752c4-b15e-4f6e-acc4-f478cd1f042c",
   "metadata": {},
   "source": [
    "## PCA"
   ]
  },
  {
   "cell_type": "code",
   "execution_count": 36,
   "id": "c078d4a1-89b3-4805-95da-132c07cb7283",
   "metadata": {
    "tags": []
   },
   "outputs": [],
   "source": [
    "eigval, eigvec = scipy.linalg.eig(sigma)"
   ]
  },
  {
   "cell_type": "code",
   "execution_count": 37,
   "id": "d80e2dd8-532d-4cc6-83d7-a77e041911c7",
   "metadata": {
    "tags": []
   },
   "outputs": [
    {
     "data": {
      "text/plain": [
       "array([[ 0.71899768,  0.55471646,  0.37986395,  0.17616857],\n",
       "       [ 0.42234415, -0.69509997, -0.05303146,  0.57935232],\n",
       "       [ 0.49612657, -0.35359037, -0.05585857, -0.79101965],\n",
       "       [ 0.24192184,  0.28999919, -0.92183017,  0.08719764]])"
      ]
     },
     "execution_count": 37,
     "metadata": {},
     "output_type": "execute_result"
    }
   ],
   "source": [
    "eigvec"
   ]
  },
  {
   "cell_type": "code",
   "execution_count": 34,
   "id": "5bde5fc1-5beb-42b3-8160-408a635ea401",
   "metadata": {
    "tags": []
   },
   "outputs": [],
   "source": [
    "y = np.matmul((r - mu), eigvec.T)\n",
    "\n",
    "gamma = eigvec[:, 0:2]\n",
    "\n",
    "e_pca = r - (y[[0, 1]] @ gamma.T + mu.values).values"
   ]
  },
  {
   "cell_type": "code",
   "execution_count": 35,
   "id": "a3ebd3f7-77ba-4289-8333-df157528f420",
   "metadata": {
    "tags": []
   },
   "outputs": [
    {
     "data": {
      "text/html": [
       "<div>\n",
       "<style scoped>\n",
       "    .dataframe tbody tr th:only-of-type {\n",
       "        vertical-align: middle;\n",
       "    }\n",
       "\n",
       "    .dataframe tbody tr th {\n",
       "        vertical-align: top;\n",
       "    }\n",
       "\n",
       "    .dataframe thead th {\n",
       "        text-align: right;\n",
       "    }\n",
       "</style>\n",
       "<table border=\"1\" class=\"dataframe\">\n",
       "  <thead>\n",
       "    <tr style=\"text-align: right;\">\n",
       "      <th></th>\n",
       "      <th>gm</th>\n",
       "      <th>adbe</th>\n",
       "      <th>ora</th>\n",
       "      <th>flo</th>\n",
       "    </tr>\n",
       "  </thead>\n",
       "  <tbody>\n",
       "    <tr>\n",
       "      <th>gm</th>\n",
       "      <td>0.001402</td>\n",
       "      <td>-0.000420</td>\n",
       "      <td>-0.001406</td>\n",
       "      <td>-0.001692</td>\n",
       "    </tr>\n",
       "    <tr>\n",
       "      <th>adbe</th>\n",
       "      <td>-0.000420</td>\n",
       "      <td>0.001125</td>\n",
       "      <td>-0.001365</td>\n",
       "      <td>0.001260</td>\n",
       "    </tr>\n",
       "    <tr>\n",
       "      <th>ora</th>\n",
       "      <td>-0.001406</td>\n",
       "      <td>-0.001365</td>\n",
       "      <td>0.004860</td>\n",
       "      <td>0.000133</td>\n",
       "    </tr>\n",
       "    <tr>\n",
       "      <th>flo</th>\n",
       "      <td>-0.001692</td>\n",
       "      <td>0.001260</td>\n",
       "      <td>0.000133</td>\n",
       "      <td>0.003050</td>\n",
       "    </tr>\n",
       "  </tbody>\n",
       "</table>\n",
       "</div>"
      ],
      "text/plain": [
       "            gm      adbe       ora       flo\n",
       "gm    0.001402 -0.000420 -0.001406 -0.001692\n",
       "adbe -0.000420  0.001125 -0.001365  0.001260\n",
       "ora  -0.001406 -0.001365  0.004860  0.000133\n",
       "flo  -0.001692  0.001260  0.000133  0.003050"
      ]
     },
     "execution_count": 35,
     "metadata": {},
     "output_type": "execute_result"
    }
   ],
   "source": [
    "e_pca.cov()"
   ]
  },
  {
   "cell_type": "code",
   "execution_count": 305,
   "id": "fe6728b1-6f26-44b6-98ca-dfcc5d479f3b",
   "metadata": {
    "tags": []
   },
   "outputs": [],
   "source": [
    "# first two principal components\n",
    "f_pca = y_sk.copy()\n",
    "# intercept\n",
    "f_cols = ['intercept'] + f_pca.columns.tolist()\n",
    "f_pca['intercept'] = 1\n",
    "f_pca = f_pca[f_cols]"
   ]
  },
  {
   "cell_type": "code",
   "execution_count": 306,
   "id": "7434cded-ef28-4ecd-80db-db02d46ef776",
   "metadata": {
    "tags": []
   },
   "outputs": [
    {
     "data": {
      "text/plain": [
       "gm      0.008983\n",
       "adbe    0.020731\n",
       "ora     0.016583\n",
       "flo     0.009865\n",
       "dtype: float64"
      ]
     },
     "execution_count": 306,
     "metadata": {},
     "output_type": "execute_result"
    }
   ],
   "source": [
    "mu"
   ]
  },
  {
   "cell_type": "code",
   "execution_count": null,
   "id": "98af00e9-42ed-4618-94f3-d668d360b1bb",
   "metadata": {},
   "outputs": [],
   "source": []
  },
  {
   "cell_type": "code",
   "execution_count": 307,
   "id": "b7e7cf4e-e607-40b0-a54e-ddfae8d34529",
   "metadata": {
    "tags": []
   },
   "outputs": [],
   "source": [
    "b_pca = np.linalg.inv(f_pca.T @ f_pca) @ f_pca.T @ r\n",
    "b_pca.index = f_pca.columns\n",
    "\n",
    "e_pca = r - f_pca @ b_pca"
   ]
  },
  {
   "cell_type": "code",
   "execution_count": 308,
   "id": "707c9c04-7d89-4227-8c98-c728344f7cfd",
   "metadata": {
    "tags": []
   },
   "outputs": [
    {
     "data": {
      "text/html": [
       "<div>\n",
       "<style scoped>\n",
       "    .dataframe tbody tr th:only-of-type {\n",
       "        vertical-align: middle;\n",
       "    }\n",
       "\n",
       "    .dataframe tbody tr th {\n",
       "        vertical-align: top;\n",
       "    }\n",
       "\n",
       "    .dataframe thead th {\n",
       "        text-align: right;\n",
       "    }\n",
       "</style>\n",
       "<table border=\"1\" class=\"dataframe\">\n",
       "  <thead>\n",
       "    <tr style=\"text-align: right;\">\n",
       "      <th></th>\n",
       "      <th>gm</th>\n",
       "      <th>adbe</th>\n",
       "      <th>ora</th>\n",
       "      <th>flo</th>\n",
       "    </tr>\n",
       "  </thead>\n",
       "  <tbody>\n",
       "    <tr>\n",
       "      <th>intercept</th>\n",
       "      <td>0.008983</td>\n",
       "      <td>0.020731</td>\n",
       "      <td>0.016583</td>\n",
       "      <td>0.009865</td>\n",
       "    </tr>\n",
       "    <tr>\n",
       "      <th>0</th>\n",
       "      <td>-0.718998</td>\n",
       "      <td>-0.422344</td>\n",
       "      <td>-0.496127</td>\n",
       "      <td>-0.241922</td>\n",
       "    </tr>\n",
       "    <tr>\n",
       "      <th>1</th>\n",
       "      <td>-0.176169</td>\n",
       "      <td>-0.579352</td>\n",
       "      <td>0.791020</td>\n",
       "      <td>-0.087198</td>\n",
       "    </tr>\n",
       "  </tbody>\n",
       "</table>\n",
       "</div>"
      ],
      "text/plain": [
       "                 gm      adbe       ora       flo\n",
       "intercept  0.008983  0.020731  0.016583  0.009865\n",
       "0         -0.718998 -0.422344 -0.496127 -0.241922\n",
       "1         -0.176169 -0.579352  0.791020 -0.087198"
      ]
     },
     "execution_count": 308,
     "metadata": {},
     "output_type": "execute_result"
    }
   ],
   "source": [
    "b_pca"
   ]
  },
  {
   "cell_type": "code",
   "execution_count": 309,
   "id": "d14024c5-39a7-4d4f-ba44-79ef06c6be66",
   "metadata": {
    "tags": []
   },
   "outputs": [
    {
     "data": {
      "text/html": [
       "<div>\n",
       "<style scoped>\n",
       "    .dataframe tbody tr th:only-of-type {\n",
       "        vertical-align: middle;\n",
       "    }\n",
       "\n",
       "    .dataframe tbody tr th {\n",
       "        vertical-align: top;\n",
       "    }\n",
       "\n",
       "    .dataframe thead th {\n",
       "        text-align: right;\n",
       "    }\n",
       "</style>\n",
       "<table border=\"1\" class=\"dataframe\">\n",
       "  <thead>\n",
       "    <tr style=\"text-align: right;\">\n",
       "      <th></th>\n",
       "      <th>gm</th>\n",
       "      <th>adbe</th>\n",
       "      <th>ora</th>\n",
       "      <th>flo</th>\n",
       "    </tr>\n",
       "  </thead>\n",
       "  <tbody>\n",
       "    <tr>\n",
       "      <th>gm</th>\n",
       "      <td>0.001657</td>\n",
       "      <td>-0.001401</td>\n",
       "      <td>-0.000759</td>\n",
       "      <td>-0.000923</td>\n",
       "    </tr>\n",
       "    <tr>\n",
       "      <th>adbe</th>\n",
       "      <td>-0.001401</td>\n",
       "      <td>0.001661</td>\n",
       "      <td>0.000851</td>\n",
       "      <td>-0.000482</td>\n",
       "    </tr>\n",
       "    <tr>\n",
       "      <th>ora</th>\n",
       "      <td>-0.000759</td>\n",
       "      <td>0.000851</td>\n",
       "      <td>0.000440</td>\n",
       "      <td>-0.000134</td>\n",
       "    </tr>\n",
       "    <tr>\n",
       "      <th>flo</th>\n",
       "      <td>-0.000923</td>\n",
       "      <td>-0.000482</td>\n",
       "      <td>-0.000134</td>\n",
       "      <td>0.003859</td>\n",
       "    </tr>\n",
       "  </tbody>\n",
       "</table>\n",
       "</div>"
      ],
      "text/plain": [
       "            gm      adbe       ora       flo\n",
       "gm    0.001657 -0.001401 -0.000759 -0.000923\n",
       "adbe -0.001401  0.001661  0.000851 -0.000482\n",
       "ora  -0.000759  0.000851  0.000440 -0.000134\n",
       "flo  -0.000923 -0.000482 -0.000134  0.003859"
      ]
     },
     "execution_count": 309,
     "metadata": {},
     "output_type": "execute_result"
    }
   ],
   "source": [
    "e_pca.cov()"
   ]
  },
  {
   "cell_type": "code",
   "execution_count": 310,
   "id": "8747998e-cacc-4383-b3ec-a8e24e05adbc",
   "metadata": {
    "tags": []
   },
   "outputs": [
    {
     "data": {
      "text/html": [
       "<div>\n",
       "<style scoped>\n",
       "    .dataframe tbody tr th:only-of-type {\n",
       "        vertical-align: middle;\n",
       "    }\n",
       "\n",
       "    .dataframe tbody tr th {\n",
       "        vertical-align: top;\n",
       "    }\n",
       "\n",
       "    .dataframe thead th {\n",
       "        text-align: right;\n",
       "    }\n",
       "</style>\n",
       "<table border=\"1\" class=\"dataframe\">\n",
       "  <thead>\n",
       "    <tr style=\"text-align: right;\">\n",
       "      <th></th>\n",
       "      <th>gm</th>\n",
       "      <th>adbe</th>\n",
       "      <th>ora</th>\n",
       "      <th>flo</th>\n",
       "    </tr>\n",
       "  </thead>\n",
       "  <tbody>\n",
       "    <tr>\n",
       "      <th>gm</th>\n",
       "      <td>1.000000</td>\n",
       "      <td>-0.844384</td>\n",
       "      <td>-0.888700</td>\n",
       "      <td>-0.364994</td>\n",
       "    </tr>\n",
       "    <tr>\n",
       "      <th>adbe</th>\n",
       "      <td>-0.844384</td>\n",
       "      <td>1.000000</td>\n",
       "      <td>0.996034</td>\n",
       "      <td>-0.190583</td>\n",
       "    </tr>\n",
       "    <tr>\n",
       "      <th>ora</th>\n",
       "      <td>-0.888700</td>\n",
       "      <td>0.996034</td>\n",
       "      <td>1.000000</td>\n",
       "      <td>-0.102489</td>\n",
       "    </tr>\n",
       "    <tr>\n",
       "      <th>flo</th>\n",
       "      <td>-0.364994</td>\n",
       "      <td>-0.190583</td>\n",
       "      <td>-0.102489</td>\n",
       "      <td>1.000000</td>\n",
       "    </tr>\n",
       "  </tbody>\n",
       "</table>\n",
       "</div>"
      ],
      "text/plain": [
       "            gm      adbe       ora       flo\n",
       "gm    1.000000 -0.844384 -0.888700 -0.364994\n",
       "adbe -0.844384  1.000000  0.996034 -0.190583\n",
       "ora  -0.888700  0.996034  1.000000 -0.102489\n",
       "flo  -0.364994 -0.190583 -0.102489  1.000000"
      ]
     },
     "execution_count": 310,
     "metadata": {},
     "output_type": "execute_result"
    }
   ],
   "source": [
    "e_pca.corr()"
   ]
  },
  {
   "cell_type": "code",
   "execution_count": 311,
   "id": "4b94770b-75e3-4eca-a3ea-59086a452782",
   "metadata": {
    "tags": []
   },
   "outputs": [
    {
     "data": {
      "text/plain": [
       "gm      4.250073e-17\n",
       "adbe    2.883978e-17\n",
       "ora     2.710505e-17\n",
       "flo     5.854692e-17\n",
       "dtype: float64"
      ]
     },
     "execution_count": 311,
     "metadata": {},
     "output_type": "execute_result"
    }
   ],
   "source": [
    "((f_pca @ b_pca + e_pca) - r).abs().sum()"
   ]
  },
  {
   "cell_type": "code",
   "execution_count": 312,
   "id": "0e75243f-8d77-43e0-81bd-c0baa7927177",
   "metadata": {
    "tags": []
   },
   "outputs": [
    {
     "data": {
      "text/plain": [
       "array([0.0117254 +0.j, 0.00341266+0.j, 0.00420309+0.j, 0.00509989+0.j])"
      ]
     },
     "execution_count": 312,
     "metadata": {},
     "output_type": "execute_result"
    }
   ],
   "source": [
    "eigval"
   ]
  },
  {
   "cell_type": "code",
   "execution_count": 313,
   "id": "ed77d120-f553-480c-9848-019f84bc50f3",
   "metadata": {
    "tags": []
   },
   "outputs": [
    {
     "data": {
      "text/html": [
       "<div>\n",
       "<style scoped>\n",
       "    .dataframe tbody tr th:only-of-type {\n",
       "        vertical-align: middle;\n",
       "    }\n",
       "\n",
       "    .dataframe tbody tr th {\n",
       "        vertical-align: top;\n",
       "    }\n",
       "\n",
       "    .dataframe thead th {\n",
       "        text-align: right;\n",
       "    }\n",
       "</style>\n",
       "<table border=\"1\" class=\"dataframe\">\n",
       "  <thead>\n",
       "    <tr style=\"text-align: right;\">\n",
       "      <th></th>\n",
       "      <th>0</th>\n",
       "      <th>1</th>\n",
       "    </tr>\n",
       "  </thead>\n",
       "  <tbody>\n",
       "    <tr>\n",
       "      <th>0</th>\n",
       "      <td>1.000000e+00</td>\n",
       "      <td>-1.055667e-16</td>\n",
       "    </tr>\n",
       "    <tr>\n",
       "      <th>1</th>\n",
       "      <td>-1.055667e-16</td>\n",
       "      <td>1.000000e+00</td>\n",
       "    </tr>\n",
       "  </tbody>\n",
       "</table>\n",
       "</div>"
      ],
      "text/plain": [
       "              0             1\n",
       "0  1.000000e+00 -1.055667e-16\n",
       "1 -1.055667e-16  1.000000e+00"
      ]
     },
     "execution_count": 313,
     "metadata": {},
     "output_type": "execute_result"
    }
   ],
   "source": [
    "y_sk.corr()"
   ]
  },
  {
   "cell_type": "code",
   "execution_count": 314,
   "id": "f5df8650-d904-4fed-b93b-80a7f8c852ad",
   "metadata": {
    "tags": []
   },
   "outputs": [
    {
     "data": {
      "text/html": [
       "<div>\n",
       "<style scoped>\n",
       "    .dataframe tbody tr th:only-of-type {\n",
       "        vertical-align: middle;\n",
       "    }\n",
       "\n",
       "    .dataframe tbody tr th {\n",
       "        vertical-align: top;\n",
       "    }\n",
       "\n",
       "    .dataframe thead th {\n",
       "        text-align: right;\n",
       "    }\n",
       "</style>\n",
       "<table border=\"1\" class=\"dataframe\">\n",
       "  <thead>\n",
       "    <tr style=\"text-align: right;\">\n",
       "      <th></th>\n",
       "      <th>gm</th>\n",
       "      <th>adbe</th>\n",
       "      <th>ora</th>\n",
       "      <th>flo</th>\n",
       "    </tr>\n",
       "    <tr>\n",
       "      <th>date</th>\n",
       "      <th></th>\n",
       "      <th></th>\n",
       "      <th></th>\n",
       "      <th></th>\n",
       "    </tr>\n",
       "  </thead>\n",
       "  <tbody>\n",
       "    <tr>\n",
       "      <th>2012-10-01</th>\n",
       "      <td>0.045925</td>\n",
       "      <td>-0.026851</td>\n",
       "      <td>-0.015755</td>\n",
       "      <td>-0.057305</td>\n",
       "    </tr>\n",
       "    <tr>\n",
       "      <th>2012-11-01</th>\n",
       "      <td>-0.020404</td>\n",
       "      <td>-0.044641</td>\n",
       "      <td>-0.017914</td>\n",
       "      <td>0.175313</td>\n",
       "    </tr>\n",
       "    <tr>\n",
       "      <th>2012-12-01</th>\n",
       "      <td>0.016066</td>\n",
       "      <td>0.000116</td>\n",
       "      <td>-0.001324</td>\n",
       "      <td>-0.045236</td>\n",
       "    </tr>\n",
       "    <tr>\n",
       "      <th>2013-01-01</th>\n",
       "      <td>-0.055084</td>\n",
       "      <td>0.005157</td>\n",
       "      <td>0.006985</td>\n",
       "      <td>0.140385</td>\n",
       "    </tr>\n",
       "    <tr>\n",
       "      <th>2013-02-01</th>\n",
       "      <td>-0.021948</td>\n",
       "      <td>0.006563</td>\n",
       "      <td>0.004768</td>\n",
       "      <td>0.043995</td>\n",
       "    </tr>\n",
       "    <tr>\n",
       "      <th>...</th>\n",
       "      <td>...</td>\n",
       "      <td>...</td>\n",
       "      <td>...</td>\n",
       "      <td>...</td>\n",
       "    </tr>\n",
       "    <tr>\n",
       "      <th>2022-05-01</th>\n",
       "      <td>-0.027255</td>\n",
       "      <td>0.021730</td>\n",
       "      <td>0.011902</td>\n",
       "      <td>0.018656</td>\n",
       "    </tr>\n",
       "    <tr>\n",
       "      <th>2022-06-01</th>\n",
       "      <td>0.001038</td>\n",
       "      <td>-0.004445</td>\n",
       "      <td>-0.002046</td>\n",
       "      <td>0.008873</td>\n",
       "    </tr>\n",
       "    <tr>\n",
       "      <th>2022-07-01</th>\n",
       "      <td>-0.014458</td>\n",
       "      <td>0.004434</td>\n",
       "      <td>0.003190</td>\n",
       "      <td>0.028689</td>\n",
       "    </tr>\n",
       "    <tr>\n",
       "      <th>2022-08-01</th>\n",
       "      <td>0.060383</td>\n",
       "      <td>-0.048419</td>\n",
       "      <td>-0.026491</td>\n",
       "      <td>-0.040605</td>\n",
       "    </tr>\n",
       "    <tr>\n",
       "      <th>2022-09-01</th>\n",
       "      <td>0.079804</td>\n",
       "      <td>-0.077177</td>\n",
       "      <td>-0.040817</td>\n",
       "      <td>-0.018739</td>\n",
       "    </tr>\n",
       "  </tbody>\n",
       "</table>\n",
       "<p>120 rows × 4 columns</p>\n",
       "</div>"
      ],
      "text/plain": [
       "                  gm      adbe       ora       flo\n",
       "date                                              \n",
       "2012-10-01  0.045925 -0.026851 -0.015755 -0.057305\n",
       "2012-11-01 -0.020404 -0.044641 -0.017914  0.175313\n",
       "2012-12-01  0.016066  0.000116 -0.001324 -0.045236\n",
       "2013-01-01 -0.055084  0.005157  0.006985  0.140385\n",
       "2013-02-01 -0.021948  0.006563  0.004768  0.043995\n",
       "...              ...       ...       ...       ...\n",
       "2022-05-01 -0.027255  0.021730  0.011902  0.018656\n",
       "2022-06-01  0.001038 -0.004445 -0.002046  0.008873\n",
       "2022-07-01 -0.014458  0.004434  0.003190  0.028689\n",
       "2022-08-01  0.060383 -0.048419 -0.026491 -0.040605\n",
       "2022-09-01  0.079804 -0.077177 -0.040817 -0.018739\n",
       "\n",
       "[120 rows x 4 columns]"
      ]
     },
     "execution_count": 314,
     "metadata": {},
     "output_type": "execute_result"
    }
   ],
   "source": [
    "e_pca"
   ]
  },
  {
   "cell_type": "code",
   "execution_count": null,
   "id": "b0558fdc-c51a-4e01-b8a6-983cec5a2411",
   "metadata": {},
   "outputs": [],
   "source": []
  },
  {
   "cell_type": "code",
   "execution_count": null,
   "id": "d27fe1a3-3a5e-4027-b806-ba69975fcc13",
   "metadata": {},
   "outputs": [],
   "source": []
  },
  {
   "cell_type": "code",
   "execution_count": null,
   "id": "664b1381-db11-4a66-8b80-2c7ff3c86384",
   "metadata": {},
   "outputs": [],
   "source": []
  },
  {
   "cell_type": "code",
   "execution_count": null,
   "id": "819593a2-f28d-43b3-a960-16d688bc569e",
   "metadata": {},
   "outputs": [],
   "source": []
  },
  {
   "cell_type": "code",
   "execution_count": null,
   "id": "8312920f-0207-47e4-a944-d00754984a66",
   "metadata": {},
   "outputs": [],
   "source": []
  },
  {
   "cell_type": "code",
   "execution_count": null,
   "id": "de53537b-43d8-4e32-bb8f-7cc5c3897964",
   "metadata": {},
   "outputs": [],
   "source": []
  },
  {
   "cell_type": "code",
   "execution_count": null,
   "id": "4f062f06-1196-4d5b-96e0-fb0d2e07405f",
   "metadata": {},
   "outputs": [],
   "source": []
  },
  {
   "cell_type": "code",
   "execution_count": null,
   "id": "85bc26df-825b-458f-8bb9-4488d1b0a50f",
   "metadata": {},
   "outputs": [],
   "source": []
  },
  {
   "cell_type": "code",
   "execution_count": null,
   "id": "a948d429-ac5b-4edc-9c7b-626fcc4eadfb",
   "metadata": {},
   "outputs": [],
   "source": []
  },
  {
   "cell_type": "code",
   "execution_count": null,
   "id": "b06f1a17-7414-4018-9824-20a4497b00d4",
   "metadata": {},
   "outputs": [],
   "source": []
  },
  {
   "cell_type": "code",
   "execution_count": null,
   "id": "05191c57-8638-4ff5-a869-99736cf15eff",
   "metadata": {},
   "outputs": [],
   "source": []
  }
 ],
 "metadata": {
  "kernelspec": {
   "display_name": "Python 3 (ipykernel)",
   "language": "python",
   "name": "python3"
  },
  "language_info": {
   "codemirror_mode": {
    "name": "ipython",
    "version": 3
   },
   "file_extension": ".py",
   "mimetype": "text/x-python",
   "name": "python",
   "nbconvert_exporter": "python",
   "pygments_lexer": "ipython3",
   "version": "3.11.4"
  }
 },
 "nbformat": 4,
 "nbformat_minor": 5
}
